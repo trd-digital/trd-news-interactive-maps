{
 "cells": [
  {
   "cell_type": "markdown",
   "id": "e405349f",
   "metadata": {},
   "source": [
    "# Export to GeoJSON for Mapbox GL (v2, robust IDs)\n",
    "Fixes:\n",
    "- Feature `id` now accepts **strings** (no int() cast), avoiding ValueError on non-numeric IDs.\n",
    "- You can **exclude large/text columns** from properties to keep files small.\n",
    "- Safer JSON serialization for pandas/numpy types.\n"
   ]
  },
  {
   "cell_type": "markdown",
   "id": "ed4f6b8b",
   "metadata": {},
   "source": [
    "## 1) Setup"
   ]
  },
  {
   "cell_type": "code",
   "execution_count": 3,
   "id": "2f394759",
   "metadata": {},
   "outputs": [],
   "source": [
    "# %pip install pandas shapely\n",
    "import json\n",
    "from pathlib import Path\n",
    "\n",
    "import pandas as pd\n",
    "from shapely.geometry import MultiPoint\n",
    "\n",
    "try:\n",
    "    import numpy as np\n",
    "except Exception:\n",
    "    np = None\n",
    "\n",
    "try:\n",
    "    import geopandas as gpd\n",
    "except Exception:\n",
    "    gpd = None\n"
   ]
  },
  {
   "cell_type": "markdown",
   "id": "5b61d1f0",
   "metadata": {},
   "source": [
    "## 2) Load data"
   ]
  },
  {
   "cell_type": "code",
   "execution_count": 4,
   "id": "d002df09",
   "metadata": {},
   "outputs": [
    {
     "name": "stdout",
     "output_type": "stream",
     "text": [
      "Rows after cleaning: 26844\n"
     ]
    }
   ],
   "source": [
    "# Option A: Load from CSV (set csv_path). If df exists already, skip this.\n",
    "csv_path = 'Adam F. - 2025 Miami Brokerage and Broker Rankings - Agents_Brokers.csv'  # e.g., 'data/listings.csv'\n",
    "if csv_path:\n",
    "    df = pd.read_csv(csv_path)\n",
    "\n",
    "# Basic validation\n",
    "required_cols = ['latitude','longitude','Agent_Name','Brokerage_Firm']\n",
    "missing = [c for c in required_cols if c not in df.columns]\n",
    "if missing:\n",
    "    raise ValueError(f\"Missing required columns: {missing}\")\n",
    "\n",
    "df = df.dropna(subset=['latitude','longitude']).copy()\n",
    "df['latitude'] = pd.to_numeric(df['latitude'], errors='coerce')\n",
    "df['longitude'] = pd.to_numeric(df['longitude'], errors='coerce')\n",
    "df = df.dropna(subset=['latitude','longitude'])\n",
    "df = df[(df['latitude'].between(-90,90)) & (df['longitude'].between(-180,180))].copy()\n",
    "\n",
    "print(\"Rows after cleaning:\", len(df))"
   ]
  },
  {
   "cell_type": "markdown",
   "id": "5ccdccce",
   "metadata": {},
   "source": [
    "## 3) Helper functions (robust IDs & optional property filtering)"
   ]
  },
  {
   "cell_type": "code",
   "execution_count": 5,
   "id": "af628f32",
   "metadata": {},
   "outputs": [],
   "source": [
    "# Exclude properties you don't want to ship in the GeoJSON (helps keep files small).\n",
    "# Example: large text columns like notes/descriptions.\n",
    "EXCLUDE_PROPS = set(['TRD_note'])  # add or remove as needed\n",
    "\n",
    "def _to_native(v):\n",
    "    \"\"\"Convert numpy/pandas scalars to native Python types; fallback to str for unknowns.\"\"\"\n",
    "    try:\n",
    "        # Handle pandas NA\n",
    "        import pandas as pd\n",
    "        if pd.isna(v):\n",
    "            return None\n",
    "    except Exception:\n",
    "        pass\n",
    "    if 'numpy' in str(type(v)).lower():\n",
    "        try:\n",
    "            return v.item()\n",
    "        except Exception:\n",
    "            return str(v)\n",
    "    return v\n",
    "\n",
    "def to_point_feature(row, id_field='Unique_ID', use_id=True):\n",
    "    # [lon, lat]\n",
    "    coords = [float(row['longitude']), float(row['latitude'])]\n",
    "\n",
    "    # Build properties excluding lat/lon and optional EXCLUDE_PROPS\n",
    "    props_cols = [c for c in row.index if c not in ('latitude','longitude') and c not in EXCLUDE_PROPS]\n",
    "    props = {c: _to_native(row[c]) for c in props_cols}\n",
    "\n",
    "    feature = {\n",
    "        \"type\": \"Feature\",\n",
    "        \"properties\": props,\n",
    "        \"geometry\": {\"type\": \"Point\", \"coordinates\": coords}\n",
    "    }\n",
    "\n",
    "    # Use string-safe IDs (optional)\n",
    "    if use_id and id_field in row and pd.notna(row[id_field]):\n",
    "        feature[\"id\"] = str(row[id_field])\n",
    "\n",
    "    return feature\n",
    "\n",
    "def export_points_geojson(df, out_path, id_field='Unique_ID', use_id=True):\n",
    "    features = [to_point_feature(r, id_field=id_field, use_id=use_id) for _, r in df.iterrows()]\n",
    "    fc = {\"type\": \"FeatureCollection\", \"features\": features}\n",
    "    Path(out_path).write_text(json.dumps(fc, ensure_ascii=False))\n",
    "    print(\"Wrote\", out_path, f\"({len(features)} features)\")\n",
    "\n",
    "def convex_hull_feature(key, df_group, group_label, simplify_tol=None):\n",
    "    pts = list(zip(df_group['longitude'].astype(float), df_group['latitude'].astype(float)))\n",
    "    if len(pts) < 3:\n",
    "        return None\n",
    "    mp = MultiPoint(pts)\n",
    "    hull = mp.convex_hull\n",
    "    if hull.geom_type != 'Polygon':\n",
    "        return None\n",
    "    if simplify_tol:\n",
    "        hull = hull.simplify(simplify_tol, preserve_topology=True)\n",
    "        if hull.geom_type != 'Polygon':\n",
    "            return None\n",
    "    coords = list(hull.exterior.coords)  # (lon, lat)\n",
    "    if coords[0] != coords[-1]:\n",
    "        coords.append(coords[0])\n",
    "    props = {group_label: key, \"count\": int(len(df_group))}\n",
    "    return {\n",
    "        \"type\": \"Feature\",\n",
    "        \"properties\": props,\n",
    "        \"geometry\": {\"type\": \"Polygon\", \"coordinates\": [coords]}\n",
    "    }\n",
    "\n",
    "def export_hulls_geojson(df, group_col, out_path, simplify_tol=None, min_points=3):\n",
    "    features = []\n",
    "    for key, g in df.groupby(group_col):\n",
    "        if len(g) < min_points:\n",
    "            continue\n",
    "        f = convex_hull_feature(key, g, group_label=group_col, simplify_tol=simplify_tol)\n",
    "        if f:\n",
    "            features.append(f)\n",
    "    fc = {\"type\": \"FeatureCollection\", \"features\": features}\n",
    "    Path(out_path).write_text(json.dumps(fc, ensure_ascii=False))\n",
    "    print(\"Wrote\", out_path, f\"({len(features)} hulls)\")"
   ]
  },
  {
   "cell_type": "markdown",
   "id": "7ba1332e",
   "metadata": {},
   "source": [
    "## 4) Export GeoJSON files"
   ]
  },
  {
   "cell_type": "code",
   "execution_count": 6,
   "id": "1d6f0927",
   "metadata": {},
   "outputs": [
    {
     "name": "stdout",
     "output_type": "stream",
     "text": [
      "Wrote agents_points.geojson (26844 features)\n",
      "Wrote brokerages_points.geojson (26844 features)\n",
      "Wrote agents_hulls.geojson (1156 hulls)\n",
      "Wrote brokerages_hulls.geojson (715 hulls)\n"
     ]
    }
   ],
   "source": [
    "# Tune for very large datasets\n",
    "SIMPLIFY_TOL = 0.0008   # ~80m at equator\n",
    "MIN_GROUP_POINTS = 5\n",
    "\n",
    "# Points\n",
    "export_points_geojson(df, 'agents_points.geojson', id_field='Unique_ID', use_id=True)\n",
    "# Optionally rename Brokerage for clarity in downstream tools\n",
    "df_b = df.rename(columns={'Brokerage_Firm':'Brokerage'})\n",
    "export_points_geojson(df_b, 'brokerages_points.geojson', id_field='Unique_ID', use_id=True)\n",
    "\n",
    "# Hulls\n",
    "export_hulls_geojson(df, 'Agent_Name', 'agents_hulls.geojson', simplify_tol=SIMPLIFY_TOL, min_points=MIN_GROUP_POINTS)\n",
    "export_hulls_geojson(df, 'Brokerage_Firm', 'brokerages_hulls.geojson', simplify_tol=SIMPLIFY_TOL, min_points=MIN_GROUP_POINTS)"
   ]
  },
  {
   "cell_type": "markdown",
   "id": "11f0b795",
   "metadata": {},
   "source": [
    "## 5) Minimal Mapbox GL JS template (same as before)"
   ]
  },
  {
   "cell_type": "code",
   "execution_count": 7,
   "id": "1c16a417",
   "metadata": {},
   "outputs": [
    {
     "name": "stdout",
     "output_type": "stream",
     "text": [
      "index.html\n"
     ]
    }
   ],
   "source": [
    "from pathlib import Path\n",
    "\n",
    "html = '''<!doctype html>\n",
    "<html>\n",
    "<head>\n",
    "  <meta charset=\"utf-8\" />\n",
    "  <title>Zones of Prevalence — Mapbox</title>\n",
    "  <meta name=\"viewport\" content=\"initial-scale=1,maximum-scale=1,user-scalable=no\" />\n",
    "  <script src=\"https://api.mapbox.com/mapbox-gl-js/v2.15.0/mapbox-gl.js\"></script>\n",
    "  <link href=\"https://api.mapbox.com/mapbox-gl-js/v2.15.0/mapbox-gl.css\" rel=\"stylesheet\" />\n",
    "  <style>\n",
    "    body { margin: 0; padding: 0; }\n",
    "    #map { position: absolute; top: 0; bottom: 0; width: 100%; }\n",
    "    .map-overlay {\n",
    "      position: absolute; top: 10px; left: 10px; background: white; padding: 8px 10px;\n",
    "      font: 12px/1.4 system-ui, -apple-system, Segoe UI, Roboto, Helvetica, Arial;\n",
    "      border-radius: 6px; box-shadow: 0 1px 6px rgba(0,0,0,0.2);\n",
    "    }\n",
    "    .toggle { display: block; margin: 4px 0; }\n",
    "  </style>\n",
    "</head>\n",
    "<body>\n",
    "<div id=\"map\"></div>\n",
    "<div class=\"map-overlay\">\n",
    "  <strong>Layers</strong>\n",
    "  <label class=\"toggle\"><input id=\"agents-hulls\" type=\"checkbox\" checked> Agent Zones</label>\n",
    "  <label class=\"toggle\"><input id=\"brokerages-hulls\" type=\"checkbox\" checked> Brokerage Zones</label>\n",
    "  <label class=\"toggle\"><input id=\"agents-points\" type=\"checkbox\" checked> Agent Points</label>\n",
    "  <label class=\"toggle\"><input id=\"brokerages-points\" type=\"checkbox\" checked> Brokerage Points</label>\n",
    "</div>\n",
    "\n",
    "<script>\n",
    "  mapboxgl.accessToken = 'YOUR_MAPBOX_ACCESS_TOKEN_HERE';\n",
    "\n",
    "  const map = new mapboxgl.Map({\n",
    "    container: 'map',\n",
    "    style: 'mapbox://styles/mapbox/light-v11',\n",
    "    center: [-73.98, 40.75],\n",
    "    zoom: 10\n",
    "  });\n",
    "\n",
    "  map.on('load', () => {\n",
    "    map.addSource('agents-hulls', { type: 'geojson', data: 'agents_hulls.geojson' });\n",
    "    map.addSource('brokerages-hulls', { type: 'geojson', data: 'brokerages_hulls.geojson' });\n",
    "    map.addSource('agents-points', { type: 'geojson', data: 'agents_points.geojson' });\n",
    "    map.addSource('brokerages-points', { type: 'geojson', data: 'brokerages_points.geojson' });\n",
    "\n",
    "    map.addLayer({ id: 'agents-hulls-fill', type: 'fill', source: 'agents-hulls', paint: { 'fill-opacity': 0.25 } });\n",
    "    map.addLayer({ id: 'agents-hulls-outline', type: 'line', source: 'agents-hulls', paint: { 'line-width': 1 } });\n",
    "\n",
    "    map.addLayer({ id: 'brokerages-hulls-fill', type: 'fill', source: 'brokerages-hulls', paint: { 'fill-opacity': 0.25 } });\n",
    "    map.addLayer({ id: 'brokerages-hulls-outline', type: 'line', source: 'brokerages-hulls', paint: { 'line-width': 1 } });\n",
    "\n",
    "    map.addLayer({ id: 'agents-points-layer', type: 'circle', source: 'agents-points', paint: { 'circle-radius': 3 } });\n",
    "    map.addLayer({ id: 'brokerages-points-layer', type: 'circle', source: 'brokerages-points', paint: { 'circle-radius': 3 } });\n",
    "\n",
    "    const toggles = [\n",
    "      ['agents-hulls', ['agents-hulls-fill','agents-hulls-outline']],\n",
    "      ['brokerages-hulls', ['brokerages-hulls-fill','brokerages-hulls-outline']],\n",
    "      ['agents-points', ['agents-points-layer']],\n",
    "      ['brokerages-points', ['brokerages-points-layer']]\n",
    "    ];\n",
    "    for (const [checkboxId, layerIds] of toggles) {\n",
    "      const el = document.getElementById(checkboxId);\n",
    "      el.addEventListener('change', () => {\n",
    "        for (const lid of layerIds) {\n",
    "          map.setLayoutProperty(lid, 'visibility', el.checked ? 'visible' : 'none');\n",
    "        }\n",
    "      });\n",
    "    }\n",
    "  });\n",
    "</script>\n",
    "</body>\n",
    "</html>'''\n",
    "Path('index.html').write_text(html)\n",
    "print(\"Wrote index.html\")"
   ]
  },
  {
   "cell_type": "code",
   "execution_count": 10,
   "id": "3e838b19-8000-4641-aa81-a76ec7614f7f",
   "metadata": {},
   "outputs": [
    {
     "name": "stdout",
     "output_type": "stream",
     "text": [
      "https://trd-digital.github.io/trd-news-interactive-maps/sofla_2025_agentBroker_zones/\n"
     ]
    }
   ],
   "source": [
    "map_url = \"https://trd-digital.github.io/trd-news-interactive-maps/sofla_2025_agentBroker_zones/\"\n",
    "print(map_url)"
   ]
  },
  {
   "cell_type": "code",
   "execution_count": null,
   "id": "1416fb92-1654-4443-9de8-6cee6c53e291",
   "metadata": {},
   "outputs": [],
   "source": []
  }
 ],
 "metadata": {
  "kernelspec": {
   "display_name": "Python 3 (ipykernel)",
   "language": "python",
   "name": "python3"
  },
  "language_info": {
   "codemirror_mode": {
    "name": "ipython",
    "version": 3
   },
   "file_extension": ".py",
   "mimetype": "text/x-python",
   "name": "python",
   "nbconvert_exporter": "python",
   "pygments_lexer": "ipython3",
   "version": "3.9.12"
  }
 },
 "nbformat": 4,
 "nbformat_minor": 5
}
