{
 "cells": [
  {
   "cell_type": "code",
   "execution_count": 1,
   "id": "6daedb66-cc3c-4b31-9900-322869afaec0",
   "metadata": {},
   "outputs": [],
   "source": [
    "SITE_ID    = \"therealdeal.com\"\n",
    "API_SECRET = \"Z5evAX56zI2htaKNk36665zSaJEcIGYiCZjeI7jpUzI\""
   ]
  },
  {
   "cell_type": "code",
   "execution_count": 5,
   "id": "54a5be3e-0e4e-4f96-9552-0b10884f1681",
   "metadata": {},
   "outputs": [
    {
     "name": "stdout",
     "output_type": "stream",
     "text": [
      "Month Jan: fetched 0 posts\n",
      "Month Feb: fetched 0 posts\n",
      "Month Mar: fetched 16049 posts\n",
      "Month Apr: fetched 17018 posts\n",
      "Month May: fetched 16976 posts\n",
      "Month Jun: fetched 16402 posts\n"
     ]
    },
    {
     "data": {
      "application/vnd.plotly.v1+json": {
       "config": {
        "plotlyServerURL": "https://plot.ly"
       },
       "data": [
        {
         "alignmentgroup": "True",
         "hovertemplate": "author_group=Brand Studio<br>classification=Commercial<br>month=%{x}<br>pageviews=%{y}<extra></extra>",
         "legendgroup": "Brand Studio",
         "marker": {
          "color": "#636efa",
          "pattern": {
           "shape": ""
          }
         },
         "name": "Brand Studio",
         "offsetgroup": "Brand Studio",
         "orientation": "v",
         "showlegend": true,
         "textposition": "auto",
         "type": "bar",
         "x": [
          "Mar",
          "Apr",
          "May",
          "Jun"
         ],
         "xaxis": "x",
         "y": {
          "bdata": "XwJABd0TBBI=",
          "dtype": "i2"
         },
         "yaxis": "y"
        },
        {
         "alignmentgroup": "True",
         "hovertemplate": "author_group=Brand Studio<br>classification=Residential<br>month=%{x}<br>pageviews=%{y}<extra></extra>",
         "legendgroup": "Brand Studio",
         "marker": {
          "color": "#636efa",
          "pattern": {
           "shape": ""
          }
         },
         "name": "Brand Studio",
         "offsetgroup": "Brand Studio",
         "orientation": "v",
         "showlegend": false,
         "textposition": "auto",
         "type": "bar",
         "x": [
          "Mar",
          "Apr",
          "May",
          "Jun"
         ],
         "xaxis": "x2",
         "y": {
          "bdata": "fwYAAEERAAD6iAEA+w8AAA==",
          "dtype": "i4"
         },
         "yaxis": "y2"
        },
        {
         "alignmentgroup": "True",
         "hovertemplate": "author_group=Other<br>classification=Commercial<br>month=%{x}<br>pageviews=%{y}<extra></extra>",
         "legendgroup": "Other",
         "marker": {
          "color": "#EF553B",
          "pattern": {
           "shape": ""
          }
         },
         "name": "Other",
         "offsetgroup": "Other",
         "orientation": "v",
         "showlegend": true,
         "textposition": "auto",
         "type": "bar",
         "x": [
          "Mar",
          "Apr",
          "May",
          "Jun"
         ],
         "xaxis": "x",
         "y": {
          "bdata": "RXEDAEXmCAC2UwcA7+4FAA==",
          "dtype": "i4"
         },
         "yaxis": "y"
        },
        {
         "alignmentgroup": "True",
         "hovertemplate": "author_group=Other<br>classification=Residential<br>month=%{x}<br>pageviews=%{y}<extra></extra>",
         "legendgroup": "Other",
         "marker": {
          "color": "#EF553B",
          "pattern": {
           "shape": ""
          }
         },
         "name": "Other",
         "offsetgroup": "Other",
         "orientation": "v",
         "showlegend": false,
         "textposition": "auto",
         "type": "bar",
         "x": [
          "Mar",
          "Apr",
          "May",
          "Jun"
         ],
         "xaxis": "x2",
         "y": {
          "bdata": "7NsDAFFhBwDI5AUA7cUGAA==",
          "dtype": "i4"
         },
         "yaxis": "y2"
        },
        {
         "alignmentgroup": "True",
         "hovertemplate": "author_group=TRD Staff<br>classification=Commercial<br>month=%{x}<br>pageviews=%{y}<extra></extra>",
         "legendgroup": "TRD Staff",
         "marker": {
          "color": "#00cc96",
          "pattern": {
           "shape": ""
          }
         },
         "name": "TRD Staff",
         "offsetgroup": "TRD Staff",
         "orientation": "v",
         "showlegend": true,
         "textposition": "auto",
         "type": "bar",
         "x": [
          "Mar",
          "Apr",
          "May",
          "Jun"
         ],
         "xaxis": "x",
         "y": {
          "bdata": "1yICAHIjBQBH8wMAh4sCAA==",
          "dtype": "i4"
         },
         "yaxis": "y"
        },
        {
         "alignmentgroup": "True",
         "hovertemplate": "author_group=TRD Staff<br>classification=Residential<br>month=%{x}<br>pageviews=%{y}<extra></extra>",
         "legendgroup": "TRD Staff",
         "marker": {
          "color": "#00cc96",
          "pattern": {
           "shape": ""
          }
         },
         "name": "TRD Staff",
         "offsetgroup": "TRD Staff",
         "orientation": "v",
         "showlegend": false,
         "textposition": "auto",
         "type": "bar",
         "x": [
          "Mar",
          "Apr",
          "May",
          "Jun"
         ],
         "xaxis": "x2",
         "y": {
          "bdata": "GnEBAJfuAgC7jAIAsXMBAA==",
          "dtype": "i4"
         },
         "yaxis": "y2"
        }
       ],
       "layout": {
        "annotations": [
         {
          "font": {},
          "showarrow": false,
          "text": "Commercial",
          "x": 0.245,
          "xanchor": "center",
          "xref": "paper",
          "y": 1,
          "yanchor": "bottom",
          "yref": "paper"
         },
         {
          "font": {},
          "showarrow": false,
          "text": "Residential",
          "x": 0.755,
          "xanchor": "center",
          "xref": "paper",
          "y": 1,
          "yanchor": "bottom",
          "yref": "paper"
         }
        ],
        "barmode": "group",
        "legend": {
         "title": {
          "text": "author_group"
         },
         "tracegroupgap": 0
        },
        "template": {
         "data": {
          "bar": [
           {
            "error_x": {
             "color": "#2a3f5f"
            },
            "error_y": {
             "color": "#2a3f5f"
            },
            "marker": {
             "line": {
              "color": "#E5ECF6",
              "width": 0.5
             },
             "pattern": {
              "fillmode": "overlay",
              "size": 10,
              "solidity": 0.2
             }
            },
            "type": "bar"
           }
          ],
          "barpolar": [
           {
            "marker": {
             "line": {
              "color": "#E5ECF6",
              "width": 0.5
             },
             "pattern": {
              "fillmode": "overlay",
              "size": 10,
              "solidity": 0.2
             }
            },
            "type": "barpolar"
           }
          ],
          "carpet": [
           {
            "aaxis": {
             "endlinecolor": "#2a3f5f",
             "gridcolor": "white",
             "linecolor": "white",
             "minorgridcolor": "white",
             "startlinecolor": "#2a3f5f"
            },
            "baxis": {
             "endlinecolor": "#2a3f5f",
             "gridcolor": "white",
             "linecolor": "white",
             "minorgridcolor": "white",
             "startlinecolor": "#2a3f5f"
            },
            "type": "carpet"
           }
          ],
          "choropleth": [
           {
            "colorbar": {
             "outlinewidth": 0,
             "ticks": ""
            },
            "type": "choropleth"
           }
          ],
          "contour": [
           {
            "colorbar": {
             "outlinewidth": 0,
             "ticks": ""
            },
            "colorscale": [
             [
              0,
              "#0d0887"
             ],
             [
              0.1111111111111111,
              "#46039f"
             ],
             [
              0.2222222222222222,
              "#7201a8"
             ],
             [
              0.3333333333333333,
              "#9c179e"
             ],
             [
              0.4444444444444444,
              "#bd3786"
             ],
             [
              0.5555555555555556,
              "#d8576b"
             ],
             [
              0.6666666666666666,
              "#ed7953"
             ],
             [
              0.7777777777777778,
              "#fb9f3a"
             ],
             [
              0.8888888888888888,
              "#fdca26"
             ],
             [
              1,
              "#f0f921"
             ]
            ],
            "type": "contour"
           }
          ],
          "contourcarpet": [
           {
            "colorbar": {
             "outlinewidth": 0,
             "ticks": ""
            },
            "type": "contourcarpet"
           }
          ],
          "heatmap": [
           {
            "colorbar": {
             "outlinewidth": 0,
             "ticks": ""
            },
            "colorscale": [
             [
              0,
              "#0d0887"
             ],
             [
              0.1111111111111111,
              "#46039f"
             ],
             [
              0.2222222222222222,
              "#7201a8"
             ],
             [
              0.3333333333333333,
              "#9c179e"
             ],
             [
              0.4444444444444444,
              "#bd3786"
             ],
             [
              0.5555555555555556,
              "#d8576b"
             ],
             [
              0.6666666666666666,
              "#ed7953"
             ],
             [
              0.7777777777777778,
              "#fb9f3a"
             ],
             [
              0.8888888888888888,
              "#fdca26"
             ],
             [
              1,
              "#f0f921"
             ]
            ],
            "type": "heatmap"
           }
          ],
          "histogram": [
           {
            "marker": {
             "pattern": {
              "fillmode": "overlay",
              "size": 10,
              "solidity": 0.2
             }
            },
            "type": "histogram"
           }
          ],
          "histogram2d": [
           {
            "colorbar": {
             "outlinewidth": 0,
             "ticks": ""
            },
            "colorscale": [
             [
              0,
              "#0d0887"
             ],
             [
              0.1111111111111111,
              "#46039f"
             ],
             [
              0.2222222222222222,
              "#7201a8"
             ],
             [
              0.3333333333333333,
              "#9c179e"
             ],
             [
              0.4444444444444444,
              "#bd3786"
             ],
             [
              0.5555555555555556,
              "#d8576b"
             ],
             [
              0.6666666666666666,
              "#ed7953"
             ],
             [
              0.7777777777777778,
              "#fb9f3a"
             ],
             [
              0.8888888888888888,
              "#fdca26"
             ],
             [
              1,
              "#f0f921"
             ]
            ],
            "type": "histogram2d"
           }
          ],
          "histogram2dcontour": [
           {
            "colorbar": {
             "outlinewidth": 0,
             "ticks": ""
            },
            "colorscale": [
             [
              0,
              "#0d0887"
             ],
             [
              0.1111111111111111,
              "#46039f"
             ],
             [
              0.2222222222222222,
              "#7201a8"
             ],
             [
              0.3333333333333333,
              "#9c179e"
             ],
             [
              0.4444444444444444,
              "#bd3786"
             ],
             [
              0.5555555555555556,
              "#d8576b"
             ],
             [
              0.6666666666666666,
              "#ed7953"
             ],
             [
              0.7777777777777778,
              "#fb9f3a"
             ],
             [
              0.8888888888888888,
              "#fdca26"
             ],
             [
              1,
              "#f0f921"
             ]
            ],
            "type": "histogram2dcontour"
           }
          ],
          "mesh3d": [
           {
            "colorbar": {
             "outlinewidth": 0,
             "ticks": ""
            },
            "type": "mesh3d"
           }
          ],
          "parcoords": [
           {
            "line": {
             "colorbar": {
              "outlinewidth": 0,
              "ticks": ""
             }
            },
            "type": "parcoords"
           }
          ],
          "pie": [
           {
            "automargin": true,
            "type": "pie"
           }
          ],
          "scatter": [
           {
            "fillpattern": {
             "fillmode": "overlay",
             "size": 10,
             "solidity": 0.2
            },
            "type": "scatter"
           }
          ],
          "scatter3d": [
           {
            "line": {
             "colorbar": {
              "outlinewidth": 0,
              "ticks": ""
             }
            },
            "marker": {
             "colorbar": {
              "outlinewidth": 0,
              "ticks": ""
             }
            },
            "type": "scatter3d"
           }
          ],
          "scattercarpet": [
           {
            "marker": {
             "colorbar": {
              "outlinewidth": 0,
              "ticks": ""
             }
            },
            "type": "scattercarpet"
           }
          ],
          "scattergeo": [
           {
            "marker": {
             "colorbar": {
              "outlinewidth": 0,
              "ticks": ""
             }
            },
            "type": "scattergeo"
           }
          ],
          "scattergl": [
           {
            "marker": {
             "colorbar": {
              "outlinewidth": 0,
              "ticks": ""
             }
            },
            "type": "scattergl"
           }
          ],
          "scattermap": [
           {
            "marker": {
             "colorbar": {
              "outlinewidth": 0,
              "ticks": ""
             }
            },
            "type": "scattermap"
           }
          ],
          "scattermapbox": [
           {
            "marker": {
             "colorbar": {
              "outlinewidth": 0,
              "ticks": ""
             }
            },
            "type": "scattermapbox"
           }
          ],
          "scatterpolar": [
           {
            "marker": {
             "colorbar": {
              "outlinewidth": 0,
              "ticks": ""
             }
            },
            "type": "scatterpolar"
           }
          ],
          "scatterpolargl": [
           {
            "marker": {
             "colorbar": {
              "outlinewidth": 0,
              "ticks": ""
             }
            },
            "type": "scatterpolargl"
           }
          ],
          "scatterternary": [
           {
            "marker": {
             "colorbar": {
              "outlinewidth": 0,
              "ticks": ""
             }
            },
            "type": "scatterternary"
           }
          ],
          "surface": [
           {
            "colorbar": {
             "outlinewidth": 0,
             "ticks": ""
            },
            "colorscale": [
             [
              0,
              "#0d0887"
             ],
             [
              0.1111111111111111,
              "#46039f"
             ],
             [
              0.2222222222222222,
              "#7201a8"
             ],
             [
              0.3333333333333333,
              "#9c179e"
             ],
             [
              0.4444444444444444,
              "#bd3786"
             ],
             [
              0.5555555555555556,
              "#d8576b"
             ],
             [
              0.6666666666666666,
              "#ed7953"
             ],
             [
              0.7777777777777778,
              "#fb9f3a"
             ],
             [
              0.8888888888888888,
              "#fdca26"
             ],
             [
              1,
              "#f0f921"
             ]
            ],
            "type": "surface"
           }
          ],
          "table": [
           {
            "cells": {
             "fill": {
              "color": "#EBF0F8"
             },
             "line": {
              "color": "white"
             }
            },
            "header": {
             "fill": {
              "color": "#C8D4E3"
             },
             "line": {
              "color": "white"
             }
            },
            "type": "table"
           }
          ]
         },
         "layout": {
          "annotationdefaults": {
           "arrowcolor": "#2a3f5f",
           "arrowhead": 0,
           "arrowwidth": 1
          },
          "autotypenumbers": "strict",
          "coloraxis": {
           "colorbar": {
            "outlinewidth": 0,
            "ticks": ""
           }
          },
          "colorscale": {
           "diverging": [
            [
             0,
             "#8e0152"
            ],
            [
             0.1,
             "#c51b7d"
            ],
            [
             0.2,
             "#de77ae"
            ],
            [
             0.3,
             "#f1b6da"
            ],
            [
             0.4,
             "#fde0ef"
            ],
            [
             0.5,
             "#f7f7f7"
            ],
            [
             0.6,
             "#e6f5d0"
            ],
            [
             0.7,
             "#b8e186"
            ],
            [
             0.8,
             "#7fbc41"
            ],
            [
             0.9,
             "#4d9221"
            ],
            [
             1,
             "#276419"
            ]
           ],
           "sequential": [
            [
             0,
             "#0d0887"
            ],
            [
             0.1111111111111111,
             "#46039f"
            ],
            [
             0.2222222222222222,
             "#7201a8"
            ],
            [
             0.3333333333333333,
             "#9c179e"
            ],
            [
             0.4444444444444444,
             "#bd3786"
            ],
            [
             0.5555555555555556,
             "#d8576b"
            ],
            [
             0.6666666666666666,
             "#ed7953"
            ],
            [
             0.7777777777777778,
             "#fb9f3a"
            ],
            [
             0.8888888888888888,
             "#fdca26"
            ],
            [
             1,
             "#f0f921"
            ]
           ],
           "sequentialminus": [
            [
             0,
             "#0d0887"
            ],
            [
             0.1111111111111111,
             "#46039f"
            ],
            [
             0.2222222222222222,
             "#7201a8"
            ],
            [
             0.3333333333333333,
             "#9c179e"
            ],
            [
             0.4444444444444444,
             "#bd3786"
            ],
            [
             0.5555555555555556,
             "#d8576b"
            ],
            [
             0.6666666666666666,
             "#ed7953"
            ],
            [
             0.7777777777777778,
             "#fb9f3a"
            ],
            [
             0.8888888888888888,
             "#fdca26"
            ],
            [
             1,
             "#f0f921"
            ]
           ]
          },
          "colorway": [
           "#636efa",
           "#EF553B",
           "#00cc96",
           "#ab63fa",
           "#FFA15A",
           "#19d3f3",
           "#FF6692",
           "#B6E880",
           "#FF97FF",
           "#FECB52"
          ],
          "font": {
           "color": "#2a3f5f"
          },
          "geo": {
           "bgcolor": "white",
           "lakecolor": "white",
           "landcolor": "#E5ECF6",
           "showlakes": true,
           "showland": true,
           "subunitcolor": "white"
          },
          "hoverlabel": {
           "align": "left"
          },
          "hovermode": "closest",
          "mapbox": {
           "style": "light"
          },
          "paper_bgcolor": "white",
          "plot_bgcolor": "#E5ECF6",
          "polar": {
           "angularaxis": {
            "gridcolor": "white",
            "linecolor": "white",
            "ticks": ""
           },
           "bgcolor": "#E5ECF6",
           "radialaxis": {
            "gridcolor": "white",
            "linecolor": "white",
            "ticks": ""
           }
          },
          "scene": {
           "xaxis": {
            "backgroundcolor": "#E5ECF6",
            "gridcolor": "white",
            "gridwidth": 2,
            "linecolor": "white",
            "showbackground": true,
            "ticks": "",
            "zerolinecolor": "white"
           },
           "yaxis": {
            "backgroundcolor": "#E5ECF6",
            "gridcolor": "white",
            "gridwidth": 2,
            "linecolor": "white",
            "showbackground": true,
            "ticks": "",
            "zerolinecolor": "white"
           },
           "zaxis": {
            "backgroundcolor": "#E5ECF6",
            "gridcolor": "white",
            "gridwidth": 2,
            "linecolor": "white",
            "showbackground": true,
            "ticks": "",
            "zerolinecolor": "white"
           }
          },
          "shapedefaults": {
           "line": {
            "color": "#2a3f5f"
           }
          },
          "ternary": {
           "aaxis": {
            "gridcolor": "white",
            "linecolor": "white",
            "ticks": ""
           },
           "baxis": {
            "gridcolor": "white",
            "linecolor": "white",
            "ticks": ""
           },
           "bgcolor": "#E5ECF6",
           "caxis": {
            "gridcolor": "white",
            "linecolor": "white",
            "ticks": ""
           }
          },
          "title": {
           "x": 0.05
          },
          "xaxis": {
           "automargin": true,
           "gridcolor": "white",
           "linecolor": "white",
           "ticks": "",
           "title": {
            "standoff": 15
           },
           "zerolinecolor": "white",
           "zerolinewidth": 2
          },
          "yaxis": {
           "automargin": true,
           "gridcolor": "white",
           "linecolor": "white",
           "ticks": "",
           "title": {
            "standoff": 15
           },
           "zerolinecolor": "white",
           "zerolinewidth": 2
          }
         }
        },
        "title": {
         "text": "Monthly Pageviews by Category & Author (YTD Jan–Jun)"
        },
        "xaxis": {
         "anchor": "y",
         "categoryarray": [
          "Jan",
          "Feb",
          "Mar",
          "Apr",
          "May",
          "Jun"
         ],
         "categoryorder": "array",
         "domain": [
          0,
          0.49
         ],
         "title": {
          "text": "Month"
         }
        },
        "xaxis2": {
         "anchor": "y2",
         "categoryarray": [
          "Jan",
          "Feb",
          "Mar",
          "Apr",
          "May",
          "Jun"
         ],
         "categoryorder": "array",
         "domain": [
          0.51,
          1
         ],
         "matches": "x",
         "title": {
          "text": "month"
         }
        },
        "yaxis": {
         "anchor": "x",
         "domain": [
          0,
          1
         ],
         "title": {
          "text": "Pageviews"
         }
        },
        "yaxis2": {
         "anchor": "x2",
         "domain": [
          0,
          1
         ],
         "matches": "y",
         "showticklabels": false
        }
       }
      },
      "image/png": "[encoded data removed]"
     },
     "metadata": {},
     "output_type": "display_data"
    }
   ],
   "source": [
    "import requests\n",
    "import pandas as pd\n",
    "from datetime import datetime, timedelta\n",
    "import calendar\n",
    "import plotly.express as px\n",
    "\n",
    "# ─── UTILITIES ──────────────────────────────────────────────────────────────\n",
    "def fetch_posts(start: datetime, end: datetime) -> pd.DataFrame:\n",
    "    \"\"\"\n",
    "    Fetch posts across all geographic sections between start and end.\n",
    "    Returns a DataFrame with columns: url, section, author, tags, metrics.views\n",
    "    \"\"\"\n",
    "    # 1) Fetch section slugs\n",
    "    secs_url = \"https://api.parsely.com/v2/analytics/sections\"\n",
    "    secs_params = {\n",
    "        \"apikey\": SITE_ID,\n",
    "        \"secret\": API_SECRET,\n",
    "        \"period_start\": start.replace(microsecond=0).isoformat(),\n",
    "        \"period_end\":   end.replace(microsecond=0).isoformat(),\n",
    "        \"limit\": 1000,\n",
    "        \"page\": 1\n",
    "    }\n",
    "    r = requests.get(secs_url, params=secs_params)\n",
    "    r.raise_for_status()\n",
    "    sections = [rec[\"section\"] for rec in r.json().get(\"data\", [])]\n",
    "\n",
    "    # 2) Pull posts for each section\n",
    "    posts_url = \"https://api.parsely.com/v2/analytics/posts\"\n",
    "    all_posts = []\n",
    "    for section in sections:\n",
    "        resp = requests.get(posts_url, params={\n",
    "            \"apikey\": SITE_ID,\n",
    "            \"secret\": API_SECRET,\n",
    "            \"section\": section,\n",
    "            \"period_start\": start.replace(microsecond=0).isoformat() + \"Z\",\n",
    "            \"period_end\":   end.replace(microsecond=0).isoformat() + \"Z\",\n",
    "            \"limit\": 2000,\n",
    "            \"sort\": \"views\"\n",
    "        })\n",
    "        resp.raise_for_status()\n",
    "        data = resp.json().get(\"data\", [])\n",
    "        for post in data:\n",
    "            post[\"section\"] = section\n",
    "            # Normalize tags\n",
    "            raw_tags = post.get(\"tags\", [])\n",
    "            norm = []\n",
    "            for t in raw_tags:\n",
    "                if isinstance(t, dict):\n",
    "                    tag = t.get(\"tag\") or t.get(\"name\")\n",
    "                    if tag:\n",
    "                        norm.append(tag)\n",
    "                elif isinstance(t, str):\n",
    "                    norm.append(t)\n",
    "            post[\"tags\"] = norm\n",
    "        all_posts.extend(data)\n",
    "\n",
    "    df = pd.json_normalize(all_posts)\n",
    "    # ensure URL column\n",
    "    if \"url\" not in df.columns and \"canonical_url\" in df.columns:\n",
    "        df.rename(columns={\"canonical_url\": \"url\"}, inplace=True)\n",
    "    # flatten views\n",
    "    df[\"views\"] = df.get(\"metrics.views\", 0)\n",
    "    # ensure tags and author columns exist\n",
    "    if \"tags\" not in df.columns:\n",
    "        df[\"tags\"] = [[] for _ in range(len(df))]\n",
    "    if \"author\" not in df.columns:\n",
    "        df[\"author\"] = None\n",
    "    return df\n",
    "\n",
    "\n",
    "def classify(tags: list) -> str:\n",
    "    tags_lower = [t.lower() for t in (tags or [])]\n",
    "    if any(\"residential\" in t for t in tags_lower): return \"Residential\"\n",
    "    if any(\"commercial\" in t for t in tags_lower):  return \"Commercial\"\n",
    "    return None\n",
    "\n",
    "# ─── DEFINE DATE RANGE ───────────────────────────────────────────────────────\n",
    "now = datetime.utcnow().replace(microsecond=0)\n",
    "year = now.year\n",
    "periods = []\n",
    "for m in range(1, now.month + 1):\n",
    "    start = datetime(year, m, 1)\n",
    "    end = datetime(year, m+1, 1) - timedelta(seconds=1) if m < now.month else now\n",
    "    label = calendar.month_abbr[m]\n",
    "    periods.append((start, end, label))\n",
    "\n",
    "# ─── AGGREGATE PAGEVIEWS BY MONTH, CATEGORY & AUTHOR GROUP ──────────────────\n",
    "summary_list = []\n",
    "for start, end, label in periods:\n",
    "    df_m = fetch_posts(start, end)\n",
    "    print(f\"Month {label}: fetched {len(df_m)} posts\")\n",
    "    df_m[\"classification\"] = df_m[\"tags\"].apply(classify)\n",
    "    df_m[\"author_group\"] = df_m[\"author\"].apply(\n",
    "        lambda a: \"TRD Staff\" if a == \"TRD Staff\" else (\n",
    "                  \"Brand Studio\" if a == \"Brand Studio\" else \"Other\"))\n",
    "    # filter only classified\n",
    "    df_m = df_m[df_m[\"classification\"].notnull()]\n",
    "    # group by classification + author_group\n",
    "    agg = (\n",
    "        df_m.groupby([\"classification\",\"author_group\"], dropna=False)\n",
    "            .agg(pageviews=(\"views\",\"sum\"))\n",
    "            .reset_index()\n",
    "    )\n",
    "    agg[\"month\"] = label\n",
    "    summary_list.append(agg)\n",
    "\n",
    "# Combine\n",
    "df_summary = pd.concat(summary_list, ignore_index=True) if summary_list else pd.DataFrame(\n",
    "    columns=[\"classification\",\"author_group\",\"pageviews\",\"month\"]\n",
    ")\n",
    "\n",
    "# ─── PLOT ───────────────────────────────────────────────────────────────────\n",
    "month_order = [label for _,_,label in periods]\n",
    "fig = px.bar(\n",
    "    df_summary,\n",
    "    x=\"month\",\n",
    "    y=\"pageviews\",\n",
    "    color=\"author_group\",\n",
    "    facet_col=\"classification\",\n",
    "    category_orders={\"month\": month_order},\n",
    "    barmode=\"group\",\n",
    "    title=f\"Monthly Pageviews by Category & Author (YTD Jan–{calendar.month_abbr[now.month]})\"\n",
    ")\n",
    "fig.update_layout(xaxis_title=\"Month\", yaxis_title=\"Pageviews\")\n",
    "# Simplify facet titles\n",
    "fig.for_each_annotation(lambda a: a.update(text=a.text.split(\"=\")[-1]))\n",
    "fig.write_html(\"index.html\")\n",
    "fig.show()\n"
   ]
  },
  {
   "cell_type": "code",
   "execution_count": 3,
   "id": "2922e3a4-96cd-4534-a902-970d00879467",
   "metadata": {},
   "outputs": [
    {
     "data": {
      "text/html": [
       "<div>\n",
       "<style scoped>\n",
       "    .dataframe tbody tr th:only-of-type {\n",
       "        vertical-align: middle;\n",
       "    }\n",
       "\n",
       "    .dataframe tbody tr th {\n",
       "        vertical-align: top;\n",
       "    }\n",
       "\n",
       "    .dataframe thead th {\n",
       "        text-align: right;\n",
       "    }\n",
       "</style>\n",
       "<table border=\"1\" class=\"dataframe\">\n",
       "  <thead>\n",
       "    <tr style=\"text-align: right;\">\n",
       "      <th></th>\n",
       "      <th>classification</th>\n",
       "      <th>author_group</th>\n",
       "      <th>pageviews</th>\n",
       "      <th>month</th>\n",
       "    </tr>\n",
       "  </thead>\n",
       "  <tbody>\n",
       "    <tr>\n",
       "      <th>0</th>\n",
       "      <td>Commercial</td>\n",
       "      <td>Brand Studio</td>\n",
       "      <td>607</td>\n",
       "      <td>Mar</td>\n",
       "    </tr>\n",
       "    <tr>\n",
       "      <th>1</th>\n",
       "      <td>Commercial</td>\n",
       "      <td>Other</td>\n",
       "      <td>225605</td>\n",
       "      <td>Mar</td>\n",
       "    </tr>\n",
       "    <tr>\n",
       "      <th>2</th>\n",
       "      <td>Commercial</td>\n",
       "      <td>TRD Staff</td>\n",
       "      <td>139991</td>\n",
       "      <td>Mar</td>\n",
       "    </tr>\n",
       "    <tr>\n",
       "      <th>3</th>\n",
       "      <td>Residential</td>\n",
       "      <td>Brand Studio</td>\n",
       "      <td>1663</td>\n",
       "      <td>Mar</td>\n",
       "    </tr>\n",
       "    <tr>\n",
       "      <th>4</th>\n",
       "      <td>Residential</td>\n",
       "      <td>Other</td>\n",
       "      <td>252908</td>\n",
       "      <td>Mar</td>\n",
       "    </tr>\n",
       "    <tr>\n",
       "      <th>5</th>\n",
       "      <td>Residential</td>\n",
       "      <td>TRD Staff</td>\n",
       "      <td>94490</td>\n",
       "      <td>Mar</td>\n",
       "    </tr>\n",
       "    <tr>\n",
       "      <th>6</th>\n",
       "      <td>Commercial</td>\n",
       "      <td>Brand Studio</td>\n",
       "      <td>1344</td>\n",
       "      <td>Apr</td>\n",
       "    </tr>\n",
       "    <tr>\n",
       "      <th>7</th>\n",
       "      <td>Commercial</td>\n",
       "      <td>Other</td>\n",
       "      <td>583237</td>\n",
       "      <td>Apr</td>\n",
       "    </tr>\n",
       "    <tr>\n",
       "      <th>8</th>\n",
       "      <td>Commercial</td>\n",
       "      <td>TRD Staff</td>\n",
       "      <td>336754</td>\n",
       "      <td>Apr</td>\n",
       "    </tr>\n",
       "    <tr>\n",
       "      <th>9</th>\n",
       "      <td>Residential</td>\n",
       "      <td>Brand Studio</td>\n",
       "      <td>4417</td>\n",
       "      <td>Apr</td>\n",
       "    </tr>\n",
       "    <tr>\n",
       "      <th>10</th>\n",
       "      <td>Residential</td>\n",
       "      <td>Other</td>\n",
       "      <td>483665</td>\n",
       "      <td>Apr</td>\n",
       "    </tr>\n",
       "    <tr>\n",
       "      <th>11</th>\n",
       "      <td>Residential</td>\n",
       "      <td>TRD Staff</td>\n",
       "      <td>192151</td>\n",
       "      <td>Apr</td>\n",
       "    </tr>\n",
       "    <tr>\n",
       "      <th>12</th>\n",
       "      <td>Commercial</td>\n",
       "      <td>Brand Studio</td>\n",
       "      <td>5085</td>\n",
       "      <td>May</td>\n",
       "    </tr>\n",
       "    <tr>\n",
       "      <th>13</th>\n",
       "      <td>Commercial</td>\n",
       "      <td>Other</td>\n",
       "      <td>480182</td>\n",
       "      <td>May</td>\n",
       "    </tr>\n",
       "    <tr>\n",
       "      <th>14</th>\n",
       "      <td>Commercial</td>\n",
       "      <td>TRD Staff</td>\n",
       "      <td>258887</td>\n",
       "      <td>May</td>\n",
       "    </tr>\n",
       "    <tr>\n",
       "      <th>15</th>\n",
       "      <td>Residential</td>\n",
       "      <td>Brand Studio</td>\n",
       "      <td>100602</td>\n",
       "      <td>May</td>\n",
       "    </tr>\n",
       "    <tr>\n",
       "      <th>16</th>\n",
       "      <td>Residential</td>\n",
       "      <td>Other</td>\n",
       "      <td>386248</td>\n",
       "      <td>May</td>\n",
       "    </tr>\n",
       "    <tr>\n",
       "      <th>17</th>\n",
       "      <td>Residential</td>\n",
       "      <td>TRD Staff</td>\n",
       "      <td>167099</td>\n",
       "      <td>May</td>\n",
       "    </tr>\n",
       "    <tr>\n",
       "      <th>18</th>\n",
       "      <td>Commercial</td>\n",
       "      <td>Brand Studio</td>\n",
       "      <td>4608</td>\n",
       "      <td>Jun</td>\n",
       "    </tr>\n",
       "    <tr>\n",
       "      <th>19</th>\n",
       "      <td>Commercial</td>\n",
       "      <td>Other</td>\n",
       "      <td>388714</td>\n",
       "      <td>Jun</td>\n",
       "    </tr>\n",
       "    <tr>\n",
       "      <th>20</th>\n",
       "      <td>Commercial</td>\n",
       "      <td>TRD Staff</td>\n",
       "      <td>166689</td>\n",
       "      <td>Jun</td>\n",
       "    </tr>\n",
       "    <tr>\n",
       "      <th>21</th>\n",
       "      <td>Residential</td>\n",
       "      <td>Brand Studio</td>\n",
       "      <td>4091</td>\n",
       "      <td>Jun</td>\n",
       "    </tr>\n",
       "    <tr>\n",
       "      <th>22</th>\n",
       "      <td>Residential</td>\n",
       "      <td>Other</td>\n",
       "      <td>443682</td>\n",
       "      <td>Jun</td>\n",
       "    </tr>\n",
       "    <tr>\n",
       "      <th>23</th>\n",
       "      <td>Residential</td>\n",
       "      <td>TRD Staff</td>\n",
       "      <td>95135</td>\n",
       "      <td>Jun</td>\n",
       "    </tr>\n",
       "  </tbody>\n",
       "</table>\n",
       "</div>"
      ],
      "text/plain": [
       "   classification  author_group  pageviews month\n",
       "0      Commercial  Brand Studio        607   Mar\n",
       "1      Commercial         Other     225605   Mar\n",
       "2      Commercial     TRD Staff     139991   Mar\n",
       "3     Residential  Brand Studio       1663   Mar\n",
       "4     Residential         Other     252908   Mar\n",
       "5     Residential     TRD Staff      94490   Mar\n",
       "6      Commercial  Brand Studio       1344   Apr\n",
       "7      Commercial         Other     583237   Apr\n",
       "8      Commercial     TRD Staff     336754   Apr\n",
       "9     Residential  Brand Studio       4417   Apr\n",
       "10    Residential         Other     483665   Apr\n",
       "11    Residential     TRD Staff     192151   Apr\n",
       "12     Commercial  Brand Studio       5085   May\n",
       "13     Commercial         Other     480182   May\n",
       "14     Commercial     TRD Staff     258887   May\n",
       "15    Residential  Brand Studio     100602   May\n",
       "16    Residential         Other     386248   May\n",
       "17    Residential     TRD Staff     167099   May\n",
       "18     Commercial  Brand Studio       4608   Jun\n",
       "19     Commercial         Other     388714   Jun\n",
       "20     Commercial     TRD Staff     166689   Jun\n",
       "21    Residential  Brand Studio       4091   Jun\n",
       "22    Residential         Other     443682   Jun\n",
       "23    Residential     TRD Staff      95135   Jun"
      ]
     },
     "execution_count": 3,
     "metadata": {},
     "output_type": "execute_result"
    }
   ],
   "source": [
    "df_summary"
   ]
  },
  {
   "cell_type": "code",
   "execution_count": 7,
   "id": "a4f27e44-06d9-4883-adeb-0dffedcb2e5a",
   "metadata": {},
   "outputs": [
    {
     "name": "stdout",
     "output_type": "stream",
     "text": [
      "https://trd-digital.github.io/trd-news-interactive-maps/TRD_Parsely_Dataviz_timeseries\n"
     ]
    }
   ],
   "source": [
    "import os\n",
    "\n",
    "base_name = 'https://trd-digital.github.io/trd-news-interactive-maps/'\n",
    "\n",
    "cwd = os.getcwd()\n",
    "\n",
    "cwd = cwd.split('/')\n",
    "\n",
    "final_name = base_name + cwd[-1]\n",
    "print(final_name)"
   ]
  },
  {
   "cell_type": "code",
   "execution_count": 8,
   "id": "0f0c566a-fb6c-4678-a32a-f90ef43cc436",
   "metadata": {},
   "outputs": [],
   "source": [
    "# # Ensure consistent month order\n",
    "# month_order = [label for _, _, label in periods]\n",
    "\n",
    "# # ─── PLOT ───────────────────────────────────────────────────────────────────\n",
    "# fig = px.bar(\n",
    "#     df_summary,\n",
    "#     x=\"month\",\n",
    "#     y=\"pageviews\",\n",
    "#     color=\"classification\",\n",
    "#     barmode=\"group\",\n",
    "#     category_orders={\"month\": month_order},\n",
    "#     title=f\"Pageviews by Residential vs Commercial (Year-to-Date: Jan–{calendar.month_abbr[now.month]})\"\n",
    "# )\n",
    "# fig.update_layout(xaxis_title=\"Month\", yaxis_title=\"Pageviews\")\n",
    "# fig.show()"
   ]
  }
 ],
 "metadata": {
  "kernelspec": {
   "display_name": "Python 3 (ipykernel)",
   "language": "python",
   "name": "python3"
  },
  "language_info": {
   "codemirror_mode": {
    "name": "ipython",
    "version": 3
   },
   "file_extension": ".py",
   "mimetype": "text/x-python",
   "name": "python",
   "nbconvert_exporter": "python",
   "pygments_lexer": "ipython3",
   "version": "3.9.12"
  }
 },
 "nbformat": 4,
 "nbformat_minor": 5
}
