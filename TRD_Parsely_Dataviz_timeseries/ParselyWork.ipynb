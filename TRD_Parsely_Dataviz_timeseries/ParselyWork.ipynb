{
 "cells": [
  {
   "cell_type": "code",
   "execution_count": 1,
   "id": "6daedb66-cc3c-4b31-9900-322869afaec0",
   "metadata": {},
   "outputs": [],
   "source": [
    "SITE_ID    = \"therealdeal.com\"\n",
    "API_SECRET = \"Z5evAX56zI2htaKNk36665zSaJEcIGYiCZjeI7jpUzI\""
   ]
  },
  {
   "cell_type": "code",
   "execution_count": 11,
   "id": "54a5be3e-0e4e-4f96-9552-0b10884f1681",
   "metadata": {},
   "outputs": [
    {
     "name": "stdout",
     "output_type": "stream",
     "text": [
      "Month Jan: fetched 0 posts\n",
      "Month Feb: fetched 0 posts\n",
      "Month Mar: fetched 16049 posts\n",
      "Month Apr: fetched 17018 posts\n",
      "Month May: fetched 16976 posts\n",
      "Month Jun: fetched 16415 posts\n"
     ]
    }
   ],
   "source": [
    "import requests\n",
    "import pandas as pd\n",
    "from datetime import datetime, timedelta\n",
    "import calendar\n",
    "import plotly.express as px\n",
    "\n",
    "# ─── UTILITIES ──────────────────────────────────────────────────────────────\n",
    "def fetch_posts(start: datetime, end: datetime) -> pd.DataFrame:\n",
    "    \"\"\"\n",
    "    Fetch posts across all geographic sections between start and end.\n",
    "    Returns a DataFrame with columns: url, section, author, tags, metrics.views\n",
    "    \"\"\"\n",
    "    # 1) Fetch section slugs\n",
    "    secs_url = \"https://api.parsely.com/v2/analytics/sections\"\n",
    "    secs_params = {\n",
    "        \"apikey\": SITE_ID,\n",
    "        \"secret\": API_SECRET,\n",
    "        \"period_start\": start.replace(microsecond=0).isoformat(),\n",
    "        \"period_end\":   end.replace(microsecond=0).isoformat(),\n",
    "        \"limit\": 1000,\n",
    "        \"page\": 1\n",
    "    }\n",
    "    r = requests.get(secs_url, params=secs_params)\n",
    "    r.raise_for_status()\n",
    "    sections = [rec[\"section\"] for rec in r.json().get(\"data\", [])]\n",
    "\n",
    "    # 2) Pull posts for each section\n",
    "    posts_url = \"https://api.parsely.com/v2/analytics/posts\"\n",
    "    all_posts = []\n",
    "    for section in sections:\n",
    "        resp = requests.get(posts_url, params={\n",
    "            \"apikey\": SITE_ID,\n",
    "            \"secret\": API_SECRET,\n",
    "            \"section\": section,\n",
    "            \"period_start\": start.replace(microsecond=0).isoformat() + \"Z\",\n",
    "            \"period_end\":   end.replace(microsecond=0).isoformat() + \"Z\",\n",
    "            \"limit\": 2000,\n",
    "            \"sort\": \"views\"\n",
    "        })\n",
    "        resp.raise_for_status()\n",
    "        data = resp.json().get(\"data\", [])\n",
    "        for post in data:\n",
    "            post[\"section\"] = section\n",
    "            # Normalize tags\n",
    "            raw_tags = post.get(\"tags\", [])\n",
    "            norm = []\n",
    "            for t in raw_tags:\n",
    "                if isinstance(t, dict):\n",
    "                    tag = t.get(\"tag\") or t.get(\"name\")\n",
    "                    if tag:\n",
    "                        norm.append(tag)\n",
    "                elif isinstance(t, str):\n",
    "                    norm.append(t)\n",
    "            post[\"tags\"] = norm\n",
    "        all_posts.extend(data)\n",
    "\n",
    "    df = pd.json_normalize(all_posts)\n",
    "    # ensure URL column\n",
    "    if \"url\" not in df.columns and \"canonical_url\" in df.columns:\n",
    "        df.rename(columns={\"canonical_url\": \"url\"}, inplace=True)\n",
    "    # flatten views\n",
    "    df[\"views\"] = df.get(\"metrics.views\", 0)\n",
    "    # ensure tags and author columns exist\n",
    "    if \"tags\" not in df.columns:\n",
    "        df[\"tags\"] = [[] for _ in range(len(df))]\n",
    "    if \"author\" not in df.columns:\n",
    "        df[\"author\"] = None\n",
    "    return df\n",
    "\n",
    "\n",
    "def classify(tags: list) -> str:\n",
    "    tags_lower = [t.lower() for t in (tags or [])]\n",
    "    if any(\"residential\" in t for t in tags_lower): return \"Residential\"\n",
    "    if any(\"commercial\" in t for t in tags_lower):  return \"Commercial\"\n",
    "    return None\n",
    "\n",
    "# ─── DEFINE DATE RANGE ───────────────────────────────────────────────────────\n",
    "now = datetime.utcnow().replace(microsecond=0)\n",
    "year = now.year\n",
    "periods = []\n",
    "for m in range(1, now.month + 1):\n",
    "    start = datetime(year, m, 1)\n",
    "    end = datetime(year, m+1, 1) - timedelta(seconds=1) if m < now.month else now\n",
    "    label = calendar.month_abbr[m]\n",
    "    periods.append((start, end, label))\n",
    "\n",
    "# ─── AGGREGATE PAGEVIEWS BY MONTH, CATEGORY & AUTHOR GROUP ──────────────────\n",
    "summary_list = []\n",
    "for start, end, label in periods:\n",
    "    df_m = fetch_posts(start, end)\n",
    "    print(f\"Month {label}: fetched {len(df_m)} posts\")\n",
    "    df_m[\"classification\"] = df_m[\"tags\"].apply(classify)\n",
    "    df_m[\"author_group\"] = df_m[\"author\"].apply(\n",
    "        lambda a: \"TRD Staff\" if a == \"TRD Staff\" else (\n",
    "                  \"Brand Studio\" if a == \"Brand Studio\" else \"Bylined Article\"))\n",
    "    # filter only classified\n",
    "    df_m = df_m[df_m[\"classification\"].notnull()]\n",
    "    # group by classification + author_group\n",
    "    agg = (\n",
    "        df_m.groupby([\"classification\",\"author_group\"], dropna=False)\n",
    "            .agg(pageviews=(\"views\",\"sum\"))\n",
    "            .reset_index()\n",
    "    )\n",
    "    agg[\"month\"] = label\n",
    "    summary_list.append(agg)\n",
    "\n",
    "# Combine\n",
    "df_summary = pd.concat(summary_list, ignore_index=True) if summary_list else pd.DataFrame(\n",
    "    columns=[\"classification\",\"author_group\",\"pageviews\",\"month\"]\n",
    ")\n"
   ]
  },
  {
   "cell_type": "code",
   "execution_count": 12,
   "id": "2922e3a4-96cd-4534-a902-970d00879467",
   "metadata": {},
   "outputs": [
    {
     "data": {
      "application/vnd.plotly.v1+json": {
       "config": {
        "plotlyServerURL": "https://plot.ly"
       },
       "data": [
        {
         "alignmentgroup": "True",
         "hovertemplate": "author_group=Brand Studio<br>classification=Commercial<br>month=%{x}<br>pageviews=%{y}<extra></extra>",
         "legendgroup": "Brand Studio",
         "marker": {
          "color": "#636efa",
          "pattern": {
           "shape": ""
          }
         },
         "name": "Brand Studio",
         "offsetgroup": "Brand Studio",
         "orientation": "v",
         "showlegend": true,
         "textposition": "auto",
         "type": "bar",
         "x": [
          "Mar",
          "Apr",
          "May",
          "Jun"
         ],
         "xaxis": "x",
         "y": {
          "bdata": "XwJABd0TQhI=",
          "dtype": "i2"
         },
         "yaxis": "y"
        },
        {
         "alignmentgroup": "True",
         "hovertemplate": "author_group=Brand Studio<br>classification=Residential<br>month=%{x}<br>pageviews=%{y}<extra></extra>",
         "legendgroup": "Brand Studio",
         "marker": {
          "color": "#636efa",
          "pattern": {
           "shape": ""
          }
         },
         "name": "Brand Studio",
         "offsetgroup": "Brand Studio",
         "orientation": "v",
         "showlegend": false,
         "textposition": "auto",
         "type": "bar",
         "x": [
          "Mar",
          "Apr",
          "May",
          "Jun"
         ],
         "xaxis": "x2",
         "y": {
          "bdata": "fwYAAEERAAD6iAEAIRAAAA==",
          "dtype": "i4"
         },
         "yaxis": "y2"
        },
        {
         "alignmentgroup": "True",
         "hovertemplate": "author_group=Bylined Article<br>classification=Commercial<br>month=%{x}<br>pageviews=%{y}<extra></extra>",
         "legendgroup": "Bylined Article",
         "marker": {
          "color": "#EF553B",
          "pattern": {
           "shape": ""
          }
         },
         "name": "Bylined Article",
         "offsetgroup": "Bylined Article",
         "orientation": "v",
         "showlegend": true,
         "textposition": "auto",
         "type": "bar",
         "x": [
          "Mar",
          "Apr",
          "May",
          "Jun"
         ],
         "xaxis": "x",
         "y": {
          "bdata": "RXEDAEXmCAC2UwcAMPsFAA==",
          "dtype": "i4"
         },
         "yaxis": "y"
        },
        {
         "alignmentgroup": "True",
         "hovertemplate": "author_group=Bylined Article<br>classification=Residential<br>month=%{x}<br>pageviews=%{y}<extra></extra>",
         "legendgroup": "Bylined Article",
         "marker": {
          "color": "#EF553B",
          "pattern": {
           "shape": ""
          }
         },
         "name": "Bylined Article",
         "offsetgroup": "Bylined Article",
         "orientation": "v",
         "showlegend": false,
         "textposition": "auto",
         "type": "bar",
         "x": [
          "Mar",
          "Apr",
          "May",
          "Jun"
         ],
         "xaxis": "x2",
         "y": {
          "bdata": "7NsDAFFhBwDI5AUA59AGAA==",
          "dtype": "i4"
         },
         "yaxis": "y2"
        },
        {
         "alignmentgroup": "True",
         "hovertemplate": "author_group=TRD Staff<br>classification=Commercial<br>month=%{x}<br>pageviews=%{y}<extra></extra>",
         "legendgroup": "TRD Staff",
         "marker": {
          "color": "#00cc96",
          "pattern": {
           "shape": ""
          }
         },
         "name": "TRD Staff",
         "offsetgroup": "TRD Staff",
         "orientation": "v",
         "showlegend": true,
         "textposition": "auto",
         "type": "bar",
         "x": [
          "Mar",
          "Apr",
          "May",
          "Jun"
         ],
         "xaxis": "x",
         "y": {
          "bdata": "1yICAHIjBQBH8wMAB5MCAA==",
          "dtype": "i4"
         },
         "yaxis": "y"
        },
        {
         "alignmentgroup": "True",
         "hovertemplate": "author_group=TRD Staff<br>classification=Residential<br>month=%{x}<br>pageviews=%{y}<extra></extra>",
         "legendgroup": "TRD Staff",
         "marker": {
          "color": "#00cc96",
          "pattern": {
           "shape": ""
          }
         },
         "name": "TRD Staff",
         "offsetgroup": "TRD Staff",
         "orientation": "v",
         "showlegend": false,
         "textposition": "auto",
         "type": "bar",
         "x": [
          "Mar",
          "Apr",
          "May",
          "Jun"
         ],
         "xaxis": "x2",
         "y": {
          "bdata": "GnEBAJfuAgC7jAIA0XUBAA==",
          "dtype": "i4"
         },
         "yaxis": "y2"
        }
       ],
       "layout": {
        "annotations": [
         {
          "font": {},
          "showarrow": false,
          "text": "Commercial",
          "x": 0.245,
          "xanchor": "center",
          "xref": "paper",
          "y": 1,
          "yanchor": "bottom",
          "yref": "paper"
         },
         {
          "font": {},
          "showarrow": false,
          "text": "Residential",
          "x": 0.755,
          "xanchor": "center",
          "xref": "paper",
          "y": 1,
          "yanchor": "bottom",
          "yref": "paper"
         }
        ],
        "barmode": "group",
        "legend": {
         "title": {
          "text": "author_group"
         },
         "tracegroupgap": 0
        },
        "template": {
         "data": {
          "bar": [
           {
            "error_x": {
             "color": "#2a3f5f"
            },
            "error_y": {
             "color": "#2a3f5f"
            },
            "marker": {
             "line": {
              "color": "#E5ECF6",
              "width": 0.5
             },
             "pattern": {
              "fillmode": "overlay",
              "size": 10,
              "solidity": 0.2
             }
            },
            "type": "bar"
           }
          ],
          "barpolar": [
           {
            "marker": {
             "line": {
              "color": "#E5ECF6",
              "width": 0.5
             },
             "pattern": {
              "fillmode": "overlay",
              "size": 10,
              "solidity": 0.2
             }
            },
            "type": "barpolar"
           }
          ],
          "carpet": [
           {
            "aaxis": {
             "endlinecolor": "#2a3f5f",
             "gridcolor": "white",
             "linecolor": "white",
             "minorgridcolor": "white",
             "startlinecolor": "#2a3f5f"
            },
            "baxis": {
             "endlinecolor": "#2a3f5f",
             "gridcolor": "white",
             "linecolor": "white",
             "minorgridcolor": "white",
             "startlinecolor": "#2a3f5f"
            },
            "type": "carpet"
           }
          ],
          "choropleth": [
           {
            "colorbar": {
             "outlinewidth": 0,
             "ticks": ""
            },
            "type": "choropleth"
           }
          ],
          "contour": [
           {
            "colorbar": {
             "outlinewidth": 0,
             "ticks": ""
            },
            "colorscale": [
             [
              0,
              "#0d0887"
             ],
             [
              0.1111111111111111,
              "#46039f"
             ],
             [
              0.2222222222222222,
              "#7201a8"
             ],
             [
              0.3333333333333333,
              "#9c179e"
             ],
             [
              0.4444444444444444,
              "#bd3786"
             ],
             [
              0.5555555555555556,
              "#d8576b"
             ],
             [
              0.6666666666666666,
              "#ed7953"
             ],
             [
              0.7777777777777778,
              "#fb9f3a"
             ],
             [
              0.8888888888888888,
              "#fdca26"
             ],
             [
              1,
              "#f0f921"
             ]
            ],
            "type": "contour"
           }
          ],
          "contourcarpet": [
           {
            "colorbar": {
             "outlinewidth": 0,
             "ticks": ""
            },
            "type": "contourcarpet"
           }
          ],
          "heatmap": [
           {
            "colorbar": {
             "outlinewidth": 0,
             "ticks": ""
            },
            "colorscale": [
             [
              0,
              "#0d0887"
             ],
             [
              0.1111111111111111,
              "#46039f"
             ],
             [
              0.2222222222222222,
              "#7201a8"
             ],
             [
              0.3333333333333333,
              "#9c179e"
             ],
             [
              0.4444444444444444,
              "#bd3786"
             ],
             [
              0.5555555555555556,
              "#d8576b"
             ],
             [
              0.6666666666666666,
              "#ed7953"
             ],
             [
              0.7777777777777778,
              "#fb9f3a"
             ],
             [
              0.8888888888888888,
              "#fdca26"
             ],
             [
              1,
              "#f0f921"
             ]
            ],
            "type": "heatmap"
           }
          ],
          "histogram": [
           {
            "marker": {
             "pattern": {
              "fillmode": "overlay",
              "size": 10,
              "solidity": 0.2
             }
            },
            "type": "histogram"
           }
          ],
          "histogram2d": [
           {
            "colorbar": {
             "outlinewidth": 0,
             "ticks": ""
            },
            "colorscale": [
             [
              0,
              "#0d0887"
             ],
             [
              0.1111111111111111,
              "#46039f"
             ],
             [
              0.2222222222222222,
              "#7201a8"
             ],
             [
              0.3333333333333333,
              "#9c179e"
             ],
             [
              0.4444444444444444,
              "#bd3786"
             ],
             [
              0.5555555555555556,
              "#d8576b"
             ],
             [
              0.6666666666666666,
              "#ed7953"
             ],
             [
              0.7777777777777778,
              "#fb9f3a"
             ],
             [
              0.8888888888888888,
              "#fdca26"
             ],
             [
              1,
              "#f0f921"
             ]
            ],
            "type": "histogram2d"
           }
          ],
          "histogram2dcontour": [
           {
            "colorbar": {
             "outlinewidth": 0,
             "ticks": ""
            },
            "colorscale": [
             [
              0,
              "#0d0887"
             ],
             [
              0.1111111111111111,
              "#46039f"
             ],
             [
              0.2222222222222222,
              "#7201a8"
             ],
             [
              0.3333333333333333,
              "#9c179e"
             ],
             [
              0.4444444444444444,
              "#bd3786"
             ],
             [
              0.5555555555555556,
              "#d8576b"
             ],
             [
              0.6666666666666666,
              "#ed7953"
             ],
             [
              0.7777777777777778,
              "#fb9f3a"
             ],
             [
              0.8888888888888888,
              "#fdca26"
             ],
             [
              1,
              "#f0f921"
             ]
            ],
            "type": "histogram2dcontour"
           }
          ],
          "mesh3d": [
           {
            "colorbar": {
             "outlinewidth": 0,
             "ticks": ""
            },
            "type": "mesh3d"
           }
          ],
          "parcoords": [
           {
            "line": {
             "colorbar": {
              "outlinewidth": 0,
              "ticks": ""
             }
            },
            "type": "parcoords"
           }
          ],
          "pie": [
           {
            "automargin": true,
            "type": "pie"
           }
          ],
          "scatter": [
           {
            "fillpattern": {
             "fillmode": "overlay",
             "size": 10,
             "solidity": 0.2
            },
            "type": "scatter"
           }
          ],
          "scatter3d": [
           {
            "line": {
             "colorbar": {
              "outlinewidth": 0,
              "ticks": ""
             }
            },
            "marker": {
             "colorbar": {
              "outlinewidth": 0,
              "ticks": ""
             }
            },
            "type": "scatter3d"
           }
          ],
          "scattercarpet": [
           {
            "marker": {
             "colorbar": {
              "outlinewidth": 0,
              "ticks": ""
             }
            },
            "type": "scattercarpet"
           }
          ],
          "scattergeo": [
           {
            "marker": {
             "colorbar": {
              "outlinewidth": 0,
              "ticks": ""
             }
            },
            "type": "scattergeo"
           }
          ],
          "scattergl": [
           {
            "marker": {
             "colorbar": {
              "outlinewidth": 0,
              "ticks": ""
             }
            },
            "type": "scattergl"
           }
          ],
          "scattermap": [
           {
            "marker": {
             "colorbar": {
              "outlinewidth": 0,
              "ticks": ""
             }
            },
            "type": "scattermap"
           }
          ],
          "scattermapbox": [
           {
            "marker": {
             "colorbar": {
              "outlinewidth": 0,
              "ticks": ""
             }
            },
            "type": "scattermapbox"
           }
          ],
          "scatterpolar": [
           {
            "marker": {
             "colorbar": {
              "outlinewidth": 0,
              "ticks": ""
             }
            },
            "type": "scatterpolar"
           }
          ],
          "scatterpolargl": [
           {
            "marker": {
             "colorbar": {
              "outlinewidth": 0,
              "ticks": ""
             }
            },
            "type": "scatterpolargl"
           }
          ],
          "scatterternary": [
           {
            "marker": {
             "colorbar": {
              "outlinewidth": 0,
              "ticks": ""
             }
            },
            "type": "scatterternary"
           }
          ],
          "surface": [
           {
            "colorbar": {
             "outlinewidth": 0,
             "ticks": ""
            },
            "colorscale": [
             [
              0,
              "#0d0887"
             ],
             [
              0.1111111111111111,
              "#46039f"
             ],
             [
              0.2222222222222222,
              "#7201a8"
             ],
             [
              0.3333333333333333,
              "#9c179e"
             ],
             [
              0.4444444444444444,
              "#bd3786"
             ],
             [
              0.5555555555555556,
              "#d8576b"
             ],
             [
              0.6666666666666666,
              "#ed7953"
             ],
             [
              0.7777777777777778,
              "#fb9f3a"
             ],
             [
              0.8888888888888888,
              "#fdca26"
             ],
             [
              1,
              "#f0f921"
             ]
            ],
            "type": "surface"
           }
          ],
          "table": [
           {
            "cells": {
             "fill": {
              "color": "#EBF0F8"
             },
             "line": {
              "color": "white"
             }
            },
            "header": {
             "fill": {
              "color": "#C8D4E3"
             },
             "line": {
              "color": "white"
             }
            },
            "type": "table"
           }
          ]
         },
         "layout": {
          "annotationdefaults": {
           "arrowcolor": "#2a3f5f",
           "arrowhead": 0,
           "arrowwidth": 1
          },
          "autotypenumbers": "strict",
          "coloraxis": {
           "colorbar": {
            "outlinewidth": 0,
            "ticks": ""
           }
          },
          "colorscale": {
           "diverging": [
            [
             0,
             "#8e0152"
            ],
            [
             0.1,
             "#c51b7d"
            ],
            [
             0.2,
             "#de77ae"
            ],
            [
             0.3,
             "#f1b6da"
            ],
            [
             0.4,
             "#fde0ef"
            ],
            [
             0.5,
             "#f7f7f7"
            ],
            [
             0.6,
             "#e6f5d0"
            ],
            [
             0.7,
             "#b8e186"
            ],
            [
             0.8,
             "#7fbc41"
            ],
            [
             0.9,
             "#4d9221"
            ],
            [
             1,
             "#276419"
            ]
           ],
           "sequential": [
            [
             0,
             "#0d0887"
            ],
            [
             0.1111111111111111,
             "#46039f"
            ],
            [
             0.2222222222222222,
             "#7201a8"
            ],
            [
             0.3333333333333333,
             "#9c179e"
            ],
            [
             0.4444444444444444,
             "#bd3786"
            ],
            [
             0.5555555555555556,
             "#d8576b"
            ],
            [
             0.6666666666666666,
             "#ed7953"
            ],
            [
             0.7777777777777778,
             "#fb9f3a"
            ],
            [
             0.8888888888888888,
             "#fdca26"
            ],
            [
             1,
             "#f0f921"
            ]
           ],
           "sequentialminus": [
            [
             0,
             "#0d0887"
            ],
            [
             0.1111111111111111,
             "#46039f"
            ],
            [
             0.2222222222222222,
             "#7201a8"
            ],
            [
             0.3333333333333333,
             "#9c179e"
            ],
            [
             0.4444444444444444,
             "#bd3786"
            ],
            [
             0.5555555555555556,
             "#d8576b"
            ],
            [
             0.6666666666666666,
             "#ed7953"
            ],
            [
             0.7777777777777778,
             "#fb9f3a"
            ],
            [
             0.8888888888888888,
             "#fdca26"
            ],
            [
             1,
             "#f0f921"
            ]
           ]
          },
          "colorway": [
           "#636efa",
           "#EF553B",
           "#00cc96",
           "#ab63fa",
           "#FFA15A",
           "#19d3f3",
           "#FF6692",
           "#B6E880",
           "#FF97FF",
           "#FECB52"
          ],
          "font": {
           "color": "#2a3f5f"
          },
          "geo": {
           "bgcolor": "white",
           "lakecolor": "white",
           "landcolor": "#E5ECF6",
           "showlakes": true,
           "showland": true,
           "subunitcolor": "white"
          },
          "hoverlabel": {
           "align": "left"
          },
          "hovermode": "closest",
          "mapbox": {
           "style": "light"
          },
          "paper_bgcolor": "white",
          "plot_bgcolor": "#E5ECF6",
          "polar": {
           "angularaxis": {
            "gridcolor": "white",
            "linecolor": "white",
            "ticks": ""
           },
           "bgcolor": "#E5ECF6",
           "radialaxis": {
            "gridcolor": "white",
            "linecolor": "white",
            "ticks": ""
           }
          },
          "scene": {
           "xaxis": {
            "backgroundcolor": "#E5ECF6",
            "gridcolor": "white",
            "gridwidth": 2,
            "linecolor": "white",
            "showbackground": true,
            "ticks": "",
            "zerolinecolor": "white"
           },
           "yaxis": {
            "backgroundcolor": "#E5ECF6",
            "gridcolor": "white",
            "gridwidth": 2,
            "linecolor": "white",
            "showbackground": true,
            "ticks": "",
            "zerolinecolor": "white"
           },
           "zaxis": {
            "backgroundcolor": "#E5ECF6",
            "gridcolor": "white",
            "gridwidth": 2,
            "linecolor": "white",
            "showbackground": true,
            "ticks": "",
            "zerolinecolor": "white"
           }
          },
          "shapedefaults": {
           "line": {
            "color": "#2a3f5f"
           }
          },
          "ternary": {
           "aaxis": {
            "gridcolor": "white",
            "linecolor": "white",
            "ticks": ""
           },
           "baxis": {
            "gridcolor": "white",
            "linecolor": "white",
            "ticks": ""
           },
           "bgcolor": "#E5ECF6",
           "caxis": {
            "gridcolor": "white",
            "linecolor": "white",
            "ticks": ""
           }
          },
          "title": {
           "x": 0.05
          },
          "xaxis": {
           "automargin": true,
           "gridcolor": "white",
           "linecolor": "white",
           "ticks": "",
           "title": {
            "standoff": 15
           },
           "zerolinecolor": "white",
           "zerolinewidth": 2
          },
          "yaxis": {
           "automargin": true,
           "gridcolor": "white",
           "linecolor": "white",
           "ticks": "",
           "title": {
            "standoff": 15
           },
           "zerolinecolor": "white",
           "zerolinewidth": 2
          }
         }
        },
        "title": {
         "text": "Monthly Pageviews by Category & Author (YTD Mar–Jun)"
        },
        "xaxis": {
         "anchor": "y",
         "categoryarray": [
          "Jan",
          "Feb",
          "Mar",
          "Apr",
          "May",
          "Jun"
         ],
         "categoryorder": "array",
         "domain": [
          0,
          0.49
         ],
         "title": {
          "text": "Month"
         }
        },
        "xaxis2": {
         "anchor": "y2",
         "categoryarray": [
          "Jan",
          "Feb",
          "Mar",
          "Apr",
          "May",
          "Jun"
         ],
         "categoryorder": "array",
         "domain": [
          0.51,
          1
         ],
         "matches": "x",
         "title": {
          "text": "month"
         }
        },
        "yaxis": {
         "anchor": "x",
         "domain": [
          0,
          1
         ],
         "title": {
          "text": "Pageviews"
         }
        },
        "yaxis2": {
         "anchor": "x2",
         "domain": [
          0,
          1
         ],
         "matches": "y",
         "showticklabels": false
        }
       }
      },
      "image/png": "[encoded data removed]"
     },
     "metadata": {},
     "output_type": "display_data"
    }
   ],
   "source": [
    "# ─── PLOT ───────────────────────────────────────────────────────────────────\n",
    "month_order = [label for _,_,label in periods]\n",
    "fig = px.bar(\n",
    "    df_summary,\n",
    "    x=\"month\",\n",
    "    y=\"pageviews\",\n",
    "    color=\"author_group\",\n",
    "    facet_col=\"classification\",\n",
    "    category_orders={\"month\": month_order},\n",
    "    barmode=\"group\",\n",
    "    title=f\"Monthly Pageviews by Category & Author (YTD Mar–{calendar.month_abbr[now.month]})\"\n",
    ")\n",
    "fig.update_layout(xaxis_title=\"Month\", yaxis_title=\"Pageviews\")\n",
    "# Simplify facet titles\n",
    "fig.for_each_annotation(lambda a: a.update(text=a.text.split(\"=\")[-1]))\n",
    "fig.write_html(\"index.html\")\n",
    "fig.show()"
   ]
  },
  {
   "cell_type": "code",
   "execution_count": 13,
   "id": "a4f27e44-06d9-4883-adeb-0dffedcb2e5a",
   "metadata": {},
   "outputs": [
    {
     "name": "stdout",
     "output_type": "stream",
     "text": [
      "https://trd-digital.github.io/trd-news-interactive-maps/TRD_Parsely_Dataviz_timeseries\n"
     ]
    }
   ],
   "source": [
    "import os\n",
    "\n",
    "base_name = 'https://trd-digital.github.io/trd-news-interactive-maps/'\n",
    "\n",
    "cwd = os.getcwd()\n",
    "\n",
    "cwd = cwd.split('/')\n",
    "\n",
    "final_name = base_name + cwd[-1]\n",
    "print(final_name)"
   ]
  }
 ],
 "metadata": {
  "kernelspec": {
   "display_name": "Python 3 (ipykernel)",
   "language": "python",
   "name": "python3"
  },
  "language_info": {
   "codemirror_mode": {
    "name": "ipython",
    "version": 3
   },
   "file_extension": ".py",
   "mimetype": "text/x-python",
   "name": "python",
   "nbconvert_exporter": "python",
   "pygments_lexer": "ipython3",
   "version": "3.9.12"
  }
 },
 "nbformat": 4,
 "nbformat_minor": 5
}
