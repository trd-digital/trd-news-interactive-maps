{
 "cells": [
  {
   "cell_type": "code",
   "execution_count": 8,
   "id": "2ac6685f-7632-4647-8afa-85658d27bec8",
   "metadata": {},
   "outputs": [],
   "source": [
    "import os\n",
    "import re\n",
    "import pandas as pd\n",
    "import geopandas as gpd\n",
    "import requests\n",
    "import googlemaps\n",
    "import gspread\n",
    "from googleapiclient.discovery import build\n",
    "from oauth2client.service_account import ServiceAccountCredentials# Define the scope of the application\n",
    "from googleapiclient.discovery import build\n",
    "from shapely.geometry import Point\n",
    "from dotenv import load_dotenv"
   ]
  },
  {
   "cell_type": "code",
   "execution_count": 10,
   "id": "52ef755c-cf40-4ecd-9d9e-f0740fafce5c",
   "metadata": {},
   "outputs": [],
   "source": [
    "# # Load environment variables from .env file if present\n",
    "# load_dotenv()\n",
    "\n",
    "# # Try to get the API key from environment variables\n",
    "# GOOGLE_MAPS_API_KEY = os.environ.get(\"GOOGLE_MAPS_API_KEY\")\n",
    "# if not GOOGLE_MAPS_API_KEY:\n",
    "#   raise RuntimeError(\"GOOGLE_MAPS_API_KEY not found in environment or .env file.\")"
   ]
  },
  {
   "cell_type": "code",
   "execution_count": 12,
   "id": "aead3e48-4ef8-4802-8ee8-b5b287de0074",
   "metadata": {},
   "outputs": [],
   "source": [
    "scope = ['https://spreadsheets.google.com/feeds','https://www.googleapis.com/auth/drive']\n",
    "\n",
    "# Add credentials to the account\n",
    "creds = ServiceAccountCredentials.from_json_keyfile_name('autoscraper-380600-0d0c84856d6b.json', scope)\n",
    "\n",
    "# Authorize the clientsheet \n",
    "client = gspread.authorize(creds)\n",
    "\n",
    "sheet = client.open_by_key('1vxMnPSQyDxTy16mE2Oq2a1rH3vrBSruTU74f5xEWCB0')\n",
    "\n",
    "# Drive client\n",
    "drivesvc = build(\"drive\", \"v3\", credentials=creds)\n",
    "\n",
    "range_name = 'A1:AO200'"
   ]
  },
  {
   "cell_type": "code",
   "execution_count": 13,
   "id": "10bdd4e6-fb5e-4721-95b6-d3c9bdb52898",
   "metadata": {},
   "outputs": [],
   "source": [
    "def fetch_data(sheet, worksheet_name, range_name, df_name=None):\n",
    "    print('Fetching data from Google Sheets...')\n",
    "    worksheet = sheet.worksheet(worksheet_name)\n",
    "    data = worksheet.get(range_name)\n",
    "    df = pd.DataFrame(data)\n",
    "    df.columns = df.iloc[0]  # Set first row as column headers\n",
    "    df = df.drop(0).reset_index(drop=True)  # Drop the header row from the dataframe and reset index\n",
    "\n",
    "    df.drop_duplicates(inplace=True)  # Drop duplicate rows\n",
    "    print(f'Number of rows in {worksheet_name} worksheet: {len(df)}')\n",
    "    return df"
   ]
  },
  {
   "cell_type": "code",
   "execution_count": 14,
   "id": "f8343fd2-2de5-432d-83d1-fd5d22d97038",
   "metadata": {},
   "outputs": [
    {
     "name": "stdout",
     "output_type": "stream",
     "text": [
      "Fetching data from Google Sheets...\n",
      "Number of rows in Sheet1 worksheet: 7\n"
     ]
    }
   ],
   "source": [
    "df = fetch_data(sheet, 'Sheet1', range_name, 'df')"
   ]
  },
  {
   "cell_type": "code",
   "execution_count": 19,
   "id": "8eddfbbe-8ecd-4580-9085-6b4cf09b2b15",
   "metadata": {},
   "outputs": [
    {
     "name": "stdout",
     "output_type": "stream",
     "text": [
      "Wrote 7 features\n"
     ]
    }
   ],
   "source": [
    "def parse_coords(val):\n",
    "    \"\"\"Return (lat, lon) as floats or None if not parseable.\"\"\"\n",
    "    if pd.isna(val):\n",
    "        return None\n",
    "    if isinstance(val, (list, tuple)) and len(val) == 2:\n",
    "        lat, lon = val\n",
    "        return float(lat), float(lon)\n",
    "    if isinstance(val, str):\n",
    "        s = val.strip().replace(\"(\", \"\").replace(\")\", \"\")\n",
    "        parts = [p.strip() for p in s.split(\",\")]\n",
    "        if len(parts) == 2:\n",
    "            try:\n",
    "                return float(parts[0]), float(parts[1])\n",
    "            except ValueError:\n",
    "                return None\n",
    "    return None\n",
    "\n",
    "records = []\n",
    "\n",
    "for _, row in df.iterrows():\n",
    "    coords = parse_coords(row.get(\"Coordinates\"))\n",
    "    if not coords:\n",
    "        print(f\"Skipping (no coords): {row.get('full_address')}\")\n",
    "        continue\n",
    "\n",
    "    lat, lon = coords\n",
    "\n",
    "    records.append({\n",
    "        \"Address\":       row.get(\"full_address\"),\n",
    "        \"Developers\":    row.get(\"developers\"),\n",
    "        \"Description\":   (row.get(\"description\") if pd.notna(row.get(\"description\")) and str(row.get(\"description\")).strip() else None),\n",
    "        \"Landing Page\":  (row.get(\"story_link\") if pd.notna(row.get(\"story_link\")) and str(row.get(\"story_link\")).strip() else None),\n",
    "        \"geometry\":      Point(lon, lat) \n",
    "    })\n",
    "\n",
    "if not records:\n",
    "    raise RuntimeError(\"No records parsed into features!\")\n",
    "\n",
    "gdf = gpd.GeoDataFrame(records, crs=\"EPSG:4326\")\n",
    "gdf.to_file(\"live_local.geojson\", driver=\"GeoJSON\")\n",
    "print(f\"Wrote {len(gdf)} features\")\n"
   ]
  }
 ],
 "metadata": {
  "kernelspec": {
   "display_name": "Python 3 (ipykernel)",
   "language": "python",
   "name": "python3"
  },
  "language_info": {
   "codemirror_mode": {
    "name": "ipython",
    "version": 3
   },
   "file_extension": ".py",
   "mimetype": "text/x-python",
   "name": "python",
   "nbconvert_exporter": "python",
   "pygments_lexer": "ipython3",
   "version": "3.9.12"
  }
 },
 "nbformat": 4,
 "nbformat_minor": 5
}
