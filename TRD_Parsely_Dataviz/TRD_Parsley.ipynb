{
 "cells": [
  {
   "cell_type": "code",
   "execution_count": 59,
   "id": "e2156eb8-65da-4962-9019-0adcc73128b4",
   "metadata": {},
   "outputs": [],
   "source": [
    "SITE_ID    = \"therealdeal.com\"\n",
    "API_SECRET = \"Z5evAX56zI2htaKNk36665zSaJEcIGYiCZjeI7jpUzI\""
   ]
  },
  {
   "cell_type": "code",
   "execution_count": 54,
   "id": "e6e27cae-2223-4b3d-b746-d976d4da31e7",
   "metadata": {},
   "outputs": [
    {
     "data": {
      "text/html": [
       "<div>\n",
       "<style scoped>\n",
       "    .dataframe tbody tr th:only-of-type {\n",
       "        vertical-align: middle;\n",
       "    }\n",
       "\n",
       "    .dataframe tbody tr th {\n",
       "        vertical-align: top;\n",
       "    }\n",
       "\n",
       "    .dataframe thead th {\n",
       "        text-align: right;\n",
       "    }\n",
       "</style>\n",
       "<table border=\"1\" class=\"dataframe\">\n",
       "  <thead>\n",
       "    <tr style=\"text-align: right;\">\n",
       "      <th></th>\n",
       "      <th>_hits</th>\n",
       "      <th>author</th>\n",
       "      <th>section</th>\n",
       "      <th>metrics.views</th>\n",
       "    </tr>\n",
       "  </thead>\n",
       "  <tbody>\n",
       "    <tr>\n",
       "      <th>0</th>\n",
       "      <td>625158</td>\n",
       "      <td>TRD Staff</td>\n",
       "      <td>new-york</td>\n",
       "      <td>625158</td>\n",
       "    </tr>\n",
       "    <tr>\n",
       "      <th>1</th>\n",
       "      <td>112608</td>\n",
       "      <td>Katherine Kallergis</td>\n",
       "      <td>new-york</td>\n",
       "      <td>112608</td>\n",
       "    </tr>\n",
       "    <tr>\n",
       "      <th>2</th>\n",
       "      <td>109080</td>\n",
       "      <td>Brand Studio</td>\n",
       "      <td>new-york</td>\n",
       "      <td>109080</td>\n",
       "    </tr>\n",
       "    <tr>\n",
       "      <th>3</th>\n",
       "      <td>95979</td>\n",
       "      <td>Rich Bockmann</td>\n",
       "      <td>new-york</td>\n",
       "      <td>95979</td>\n",
       "    </tr>\n",
       "    <tr>\n",
       "      <th>4</th>\n",
       "      <td>78010</td>\n",
       "      <td>Francisco Alvarado</td>\n",
       "      <td>new-york</td>\n",
       "      <td>78010</td>\n",
       "    </tr>\n",
       "    <tr>\n",
       "      <th>...</th>\n",
       "      <td>...</td>\n",
       "      <td>...</td>\n",
       "      <td>...</td>\n",
       "      <td>...</td>\n",
       "    </tr>\n",
       "    <tr>\n",
       "      <th>3107</th>\n",
       "      <td>1</td>\n",
       "      <td>Robin Shear</td>\n",
       "      <td>houston</td>\n",
       "      <td>1</td>\n",
       "    </tr>\n",
       "    <tr>\n",
       "      <th>3108</th>\n",
       "      <td>1</td>\n",
       "      <td>Roger Drouin</td>\n",
       "      <td>houston</td>\n",
       "      <td>1</td>\n",
       "    </tr>\n",
       "    <tr>\n",
       "      <th>3109</th>\n",
       "      <td>1</td>\n",
       "      <td>Steven Cirvello</td>\n",
       "      <td>houston</td>\n",
       "      <td>1</td>\n",
       "    </tr>\n",
       "    <tr>\n",
       "      <th>3110</th>\n",
       "      <td>1</td>\n",
       "      <td>Sydnee Bursik</td>\n",
       "      <td>houston</td>\n",
       "      <td>1</td>\n",
       "    </tr>\n",
       "    <tr>\n",
       "      <th>3111</th>\n",
       "      <td>1</td>\n",
       "      <td>Therese Fitzgerald</td>\n",
       "      <td>houston</td>\n",
       "      <td>1</td>\n",
       "    </tr>\n",
       "  </tbody>\n",
       "</table>\n",
       "<p>3112 rows × 4 columns</p>\n",
       "</div>"
      ],
      "text/plain": [
       "       _hits               author   section  metrics.views\n",
       "0     625158            TRD Staff  new-york         625158\n",
       "1     112608  Katherine Kallergis  new-york         112608\n",
       "2     109080         Brand Studio  new-york         109080\n",
       "3      95979        Rich Bockmann  new-york          95979\n",
       "4      78010   Francisco Alvarado  new-york          78010\n",
       "...      ...                  ...       ...            ...\n",
       "3107       1          Robin Shear   houston              1\n",
       "3108       1         Roger Drouin   houston              1\n",
       "3109       1      Steven Cirvello   houston              1\n",
       "3110       1        Sydnee Bursik   houston              1\n",
       "3111       1   Therese Fitzgerald   houston              1\n",
       "\n",
       "[3112 rows x 4 columns]"
      ]
     },
     "execution_count": 54,
     "metadata": {},
     "output_type": "execute_result"
    }
   ],
   "source": [
    "import requests\n",
    "import pandas as pd\n",
    "from datetime import datetime, timedelta\n",
    "\n",
    "SITE_ID    = \"therealdeal.com\"\n",
    "API_SECRET = \"Z5evAX56zI2htaKNk36665zSaJEcIGYiCZjeI7jpUzI\"\n",
    "AUTH_URL    = \"https://api.parsely.com/v2/analytics/authors\"\n",
    "\n",
    "# 30-day window\n",
    "now          = datetime.utcnow()\n",
    "period_end   = now.isoformat()\n",
    "period_start = (now - timedelta(days=30)).isoformat()\n",
    "\n",
    "# ── 4) Fetch each section’s authors ──────────────────────────────────────────\n",
    "all_rows = []\n",
    "\n",
    "sections = [\"new-york\", \"los-angeles\", \"las-vegas\", \"south-florida\", \"chicago\", \"national\", \"fort-worth\", \"houston\"]\n",
    "\n",
    "for section in sections:\n",
    "    page = 1\n",
    "    while True:\n",
    "        resp = requests.get(\n",
    "            AUTH_URL,\n",
    "            params={\n",
    "                \"apikey\":       SITE_ID,\n",
    "                \"secret\":       API_SECRET,\n",
    "                \"section\":      section,\n",
    "                \"period_start\": period_start,\n",
    "                \"period_end\":   period_end,\n",
    "                \"sort\":         \"views\",   # or \"visitors\"\n",
    "                \"limit\":        100,       # authors per page (max 100)\n",
    "                \"page\":         page\n",
    "            }\n",
    "        )\n",
    "        resp.raise_for_status()\n",
    "        batch = resp.json().get(\"data\", [])\n",
    "        if not batch:\n",
    "            break\n",
    "\n",
    "        # tag with section and collect\n",
    "        for rec in batch:\n",
    "            rec[\"section\"] = section\n",
    "        all_rows.extend(batch)\n",
    "        page += 1\n",
    "\n",
    "# ── 5) Normalize and clean up ─────────────────────────────────────────────────\n",
    "df = pd.json_normalize(all_rows)\n",
    "\n",
    "df"
   ]
  },
  {
   "cell_type": "code",
   "execution_count": 55,
   "id": "66098136-91ca-4a95-abee-c86ad228a8ab",
   "metadata": {},
   "outputs": [
    {
     "data": {
      "text/html": [
       "<div>\n",
       "<style scoped>\n",
       "    .dataframe tbody tr th:only-of-type {\n",
       "        vertical-align: middle;\n",
       "    }\n",
       "\n",
       "    .dataframe tbody tr th {\n",
       "        vertical-align: top;\n",
       "    }\n",
       "\n",
       "    .dataframe thead th {\n",
       "        text-align: right;\n",
       "    }\n",
       "</style>\n",
       "<table border=\"1\" class=\"dataframe\">\n",
       "  <thead>\n",
       "    <tr style=\"text-align: right;\">\n",
       "      <th></th>\n",
       "      <th>_hits</th>\n",
       "      <th>author</th>\n",
       "      <th>section</th>\n",
       "      <th>metrics.views</th>\n",
       "    </tr>\n",
       "  </thead>\n",
       "  <tbody>\n",
       "    <tr>\n",
       "      <th>2723</th>\n",
       "      <td>625158</td>\n",
       "      <td>TRD Staff</td>\n",
       "      <td>houston</td>\n",
       "      <td>625158</td>\n",
       "    </tr>\n",
       "    <tr>\n",
       "      <th>2724</th>\n",
       "      <td>112608</td>\n",
       "      <td>Katherine Kallergis</td>\n",
       "      <td>houston</td>\n",
       "      <td>112608</td>\n",
       "    </tr>\n",
       "    <tr>\n",
       "      <th>2725</th>\n",
       "      <td>109080</td>\n",
       "      <td>Brand Studio</td>\n",
       "      <td>houston</td>\n",
       "      <td>109080</td>\n",
       "    </tr>\n",
       "    <tr>\n",
       "      <th>2726</th>\n",
       "      <td>95979</td>\n",
       "      <td>Rich Bockmann</td>\n",
       "      <td>houston</td>\n",
       "      <td>95979</td>\n",
       "    </tr>\n",
       "    <tr>\n",
       "      <th>2727</th>\n",
       "      <td>78010</td>\n",
       "      <td>Francisco Alvarado</td>\n",
       "      <td>houston</td>\n",
       "      <td>78010</td>\n",
       "    </tr>\n",
       "    <tr>\n",
       "      <th>...</th>\n",
       "      <td>...</td>\n",
       "      <td>...</td>\n",
       "      <td>...</td>\n",
       "      <td>...</td>\n",
       "    </tr>\n",
       "    <tr>\n",
       "      <th>3107</th>\n",
       "      <td>1</td>\n",
       "      <td>Robin Shear</td>\n",
       "      <td>houston</td>\n",
       "      <td>1</td>\n",
       "    </tr>\n",
       "    <tr>\n",
       "      <th>3108</th>\n",
       "      <td>1</td>\n",
       "      <td>Roger Drouin</td>\n",
       "      <td>houston</td>\n",
       "      <td>1</td>\n",
       "    </tr>\n",
       "    <tr>\n",
       "      <th>3109</th>\n",
       "      <td>1</td>\n",
       "      <td>Steven Cirvello</td>\n",
       "      <td>houston</td>\n",
       "      <td>1</td>\n",
       "    </tr>\n",
       "    <tr>\n",
       "      <th>3110</th>\n",
       "      <td>1</td>\n",
       "      <td>Sydnee Bursik</td>\n",
       "      <td>houston</td>\n",
       "      <td>1</td>\n",
       "    </tr>\n",
       "    <tr>\n",
       "      <th>3111</th>\n",
       "      <td>1</td>\n",
       "      <td>Therese Fitzgerald</td>\n",
       "      <td>houston</td>\n",
       "      <td>1</td>\n",
       "    </tr>\n",
       "  </tbody>\n",
       "</table>\n",
       "<p>389 rows × 4 columns</p>\n",
       "</div>"
      ],
      "text/plain": [
       "       _hits               author  section  metrics.views\n",
       "2723  625158            TRD Staff  houston         625158\n",
       "2724  112608  Katherine Kallergis  houston         112608\n",
       "2725  109080         Brand Studio  houston         109080\n",
       "2726   95979        Rich Bockmann  houston          95979\n",
       "2727   78010   Francisco Alvarado  houston          78010\n",
       "...      ...                  ...      ...            ...\n",
       "3107       1          Robin Shear  houston              1\n",
       "3108       1         Roger Drouin  houston              1\n",
       "3109       1      Steven Cirvello  houston              1\n",
       "3110       1        Sydnee Bursik  houston              1\n",
       "3111       1   Therese Fitzgerald  houston              1\n",
       "\n",
       "[389 rows x 4 columns]"
      ]
     },
     "execution_count": 55,
     "metadata": {},
     "output_type": "execute_result"
    }
   ],
   "source": [
    "df[df['section'] == 'houston']"
   ]
  },
  {
   "cell_type": "code",
   "execution_count": 56,
   "id": "c34b01c5-80ed-4644-920a-86e318f8690f",
   "metadata": {},
   "outputs": [
    {
     "data": {
      "text/html": [
       "<div>\n",
       "<style scoped>\n",
       "    .dataframe tbody tr th:only-of-type {\n",
       "        vertical-align: middle;\n",
       "    }\n",
       "\n",
       "    .dataframe tbody tr th {\n",
       "        vertical-align: top;\n",
       "    }\n",
       "\n",
       "    .dataframe thead th {\n",
       "        text-align: right;\n",
       "    }\n",
       "</style>\n",
       "<table border=\"1\" class=\"dataframe\">\n",
       "  <thead>\n",
       "    <tr style=\"text-align: right;\">\n",
       "      <th></th>\n",
       "      <th>_hits</th>\n",
       "      <th>author</th>\n",
       "      <th>section</th>\n",
       "      <th>metrics.views</th>\n",
       "    </tr>\n",
       "  </thead>\n",
       "  <tbody>\n",
       "    <tr>\n",
       "      <th>0</th>\n",
       "      <td>625158</td>\n",
       "      <td>TRD Staff</td>\n",
       "      <td>new-york</td>\n",
       "      <td>625158</td>\n",
       "    </tr>\n",
       "    <tr>\n",
       "      <th>1</th>\n",
       "      <td>112608</td>\n",
       "      <td>Katherine Kallergis</td>\n",
       "      <td>new-york</td>\n",
       "      <td>112608</td>\n",
       "    </tr>\n",
       "    <tr>\n",
       "      <th>2</th>\n",
       "      <td>109080</td>\n",
       "      <td>Brand Studio</td>\n",
       "      <td>new-york</td>\n",
       "      <td>109080</td>\n",
       "    </tr>\n",
       "    <tr>\n",
       "      <th>3</th>\n",
       "      <td>95979</td>\n",
       "      <td>Rich Bockmann</td>\n",
       "      <td>new-york</td>\n",
       "      <td>95979</td>\n",
       "    </tr>\n",
       "    <tr>\n",
       "      <th>4</th>\n",
       "      <td>78010</td>\n",
       "      <td>Francisco Alvarado</td>\n",
       "      <td>new-york</td>\n",
       "      <td>78010</td>\n",
       "    </tr>\n",
       "    <tr>\n",
       "      <th>...</th>\n",
       "      <td>...</td>\n",
       "      <td>...</td>\n",
       "      <td>...</td>\n",
       "      <td>...</td>\n",
       "    </tr>\n",
       "    <tr>\n",
       "      <th>384</th>\n",
       "      <td>1</td>\n",
       "      <td>Robin Shear</td>\n",
       "      <td>new-york</td>\n",
       "      <td>1</td>\n",
       "    </tr>\n",
       "    <tr>\n",
       "      <th>385</th>\n",
       "      <td>1</td>\n",
       "      <td>Roger Drouin</td>\n",
       "      <td>new-york</td>\n",
       "      <td>1</td>\n",
       "    </tr>\n",
       "    <tr>\n",
       "      <th>386</th>\n",
       "      <td>1</td>\n",
       "      <td>Steven Cirvello</td>\n",
       "      <td>new-york</td>\n",
       "      <td>1</td>\n",
       "    </tr>\n",
       "    <tr>\n",
       "      <th>387</th>\n",
       "      <td>1</td>\n",
       "      <td>Sydnee Bursik</td>\n",
       "      <td>new-york</td>\n",
       "      <td>1</td>\n",
       "    </tr>\n",
       "    <tr>\n",
       "      <th>388</th>\n",
       "      <td>1</td>\n",
       "      <td>Therese Fitzgerald</td>\n",
       "      <td>new-york</td>\n",
       "      <td>1</td>\n",
       "    </tr>\n",
       "  </tbody>\n",
       "</table>\n",
       "<p>389 rows × 4 columns</p>\n",
       "</div>"
      ],
      "text/plain": [
       "      _hits               author   section  metrics.views\n",
       "0    625158            TRD Staff  new-york         625158\n",
       "1    112608  Katherine Kallergis  new-york         112608\n",
       "2    109080         Brand Studio  new-york         109080\n",
       "3     95979        Rich Bockmann  new-york          95979\n",
       "4     78010   Francisco Alvarado  new-york          78010\n",
       "..      ...                  ...       ...            ...\n",
       "384       1          Robin Shear  new-york              1\n",
       "385       1         Roger Drouin  new-york              1\n",
       "386       1      Steven Cirvello  new-york              1\n",
       "387       1        Sydnee Bursik  new-york              1\n",
       "388       1   Therese Fitzgerald  new-york              1\n",
       "\n",
       "[389 rows x 4 columns]"
      ]
     },
     "execution_count": 56,
     "metadata": {},
     "output_type": "execute_result"
    }
   ],
   "source": [
    "df[df['section'] == 'new-york']"
   ]
  },
  {
   "cell_type": "code",
   "execution_count": 44,
   "id": "a31d818a-7b7d-4607-a430-bfe9082b315e",
   "metadata": {},
   "outputs": [
    {
     "data": {
      "text/html": [
       "<div>\n",
       "<style scoped>\n",
       "    .dataframe tbody tr th:only-of-type {\n",
       "        vertical-align: middle;\n",
       "    }\n",
       "\n",
       "    .dataframe tbody tr th {\n",
       "        vertical-align: top;\n",
       "    }\n",
       "\n",
       "    .dataframe thead th {\n",
       "        text-align: right;\n",
       "    }\n",
       "</style>\n",
       "<table border=\"1\" class=\"dataframe\">\n",
       "  <thead>\n",
       "    <tr style=\"text-align: right;\">\n",
       "      <th></th>\n",
       "      <th>_hits</th>\n",
       "      <th>author</th>\n",
       "      <th>section</th>\n",
       "      <th>metrics.views</th>\n",
       "    </tr>\n",
       "  </thead>\n",
       "  <tbody>\n",
       "    <tr>\n",
       "      <th>0</th>\n",
       "      <td>624776</td>\n",
       "      <td>TRD Staff</td>\n",
       "      <td>New York</td>\n",
       "      <td>624776</td>\n",
       "    </tr>\n",
       "    <tr>\n",
       "      <th>1</th>\n",
       "      <td>112417</td>\n",
       "      <td>Katherine Kallergis</td>\n",
       "      <td>New York</td>\n",
       "      <td>112417</td>\n",
       "    </tr>\n",
       "    <tr>\n",
       "      <th>2</th>\n",
       "      <td>109068</td>\n",
       "      <td>Brand Studio</td>\n",
       "      <td>New York</td>\n",
       "      <td>109068</td>\n",
       "    </tr>\n",
       "    <tr>\n",
       "      <th>3</th>\n",
       "      <td>95939</td>\n",
       "      <td>Rich Bockmann</td>\n",
       "      <td>New York</td>\n",
       "      <td>95939</td>\n",
       "    </tr>\n",
       "    <tr>\n",
       "      <th>4</th>\n",
       "      <td>77974</td>\n",
       "      <td>Francisco Alvarado</td>\n",
       "      <td>New York</td>\n",
       "      <td>77974</td>\n",
       "    </tr>\n",
       "    <tr>\n",
       "      <th>...</th>\n",
       "      <td>...</td>\n",
       "      <td>...</td>\n",
       "      <td>...</td>\n",
       "      <td>...</td>\n",
       "    </tr>\n",
       "    <tr>\n",
       "      <th>384</th>\n",
       "      <td>1</td>\n",
       "      <td>Robin Shear</td>\n",
       "      <td>New York</td>\n",
       "      <td>1</td>\n",
       "    </tr>\n",
       "    <tr>\n",
       "      <th>385</th>\n",
       "      <td>1</td>\n",
       "      <td>Roger Drouin</td>\n",
       "      <td>New York</td>\n",
       "      <td>1</td>\n",
       "    </tr>\n",
       "    <tr>\n",
       "      <th>386</th>\n",
       "      <td>1</td>\n",
       "      <td>Steven Cirvello</td>\n",
       "      <td>New York</td>\n",
       "      <td>1</td>\n",
       "    </tr>\n",
       "    <tr>\n",
       "      <th>387</th>\n",
       "      <td>1</td>\n",
       "      <td>Sydnee Bursik</td>\n",
       "      <td>New York</td>\n",
       "      <td>1</td>\n",
       "    </tr>\n",
       "    <tr>\n",
       "      <th>388</th>\n",
       "      <td>1</td>\n",
       "      <td>Therese Fitzgerald</td>\n",
       "      <td>New York</td>\n",
       "      <td>1</td>\n",
       "    </tr>\n",
       "  </tbody>\n",
       "</table>\n",
       "<p>389 rows × 4 columns</p>\n",
       "</div>"
      ],
      "text/plain": [
       "      _hits               author   section  metrics.views\n",
       "0    624776            TRD Staff  New York         624776\n",
       "1    112417  Katherine Kallergis  New York         112417\n",
       "2    109068         Brand Studio  New York         109068\n",
       "3     95939        Rich Bockmann  New York          95939\n",
       "4     77974   Francisco Alvarado  New York          77974\n",
       "..      ...                  ...       ...            ...\n",
       "384       1          Robin Shear  New York              1\n",
       "385       1         Roger Drouin  New York              1\n",
       "386       1      Steven Cirvello  New York              1\n",
       "387       1        Sydnee Bursik  New York              1\n",
       "388       1   Therese Fitzgerald  New York              1\n",
       "\n",
       "[389 rows x 4 columns]"
      ]
     },
     "execution_count": 44,
     "metadata": {},
     "output_type": "execute_result"
    }
   ],
   "source": [
    "AUTH_URL    = \"https://api.parsely.com/v2/analytics/authors\"\n",
    "\n",
    "# 30-day window\n",
    "now          = datetime.utcnow()\n",
    "period_end   = now.isoformat()\n",
    "period_start = (now - timedelta(days=30)).isoformat()\n",
    "\n",
    "# ── 4) Fetch each section’s authors ──────────────────────────────────────────\n",
    "all_rows = []\n",
    "\n",
    "sections = [\"New York\", \"Los Angeles\", \"Las Vegas\", \"South Florida\", \"Chicago\", \"National\", \"Fort Worth\", \"Houston\"]\n",
    "\n",
    "for section in sections:\n",
    "    page = 1\n",
    "    while True:\n",
    "        resp = requests.get(\n",
    "            AUTH_URL,\n",
    "            params={\n",
    "                \"apikey\":       SITE_ID,\n",
    "                \"secret\":       API_SECRET,\n",
    "                \"section\":      section,\n",
    "                \"period_start\": period_start,\n",
    "                \"period_end\":   period_end,\n",
    "                \"sort\":         \"views\",   # or \"visitors\"\n",
    "                \"limit\":        100,       # authors per page (max 100)\n",
    "                \"page\":         page\n",
    "            }\n",
    "        )\n",
    "        resp.raise_for_status()\n",
    "        batch = resp.json().get(\"data\", [])\n",
    "        if not batch:\n",
    "            break\n",
    "\n",
    "        # tag with section and collect\n",
    "        for rec in batch:\n",
    "            rec[\"section\"] = section\n",
    "        all_rows.extend(batch)\n",
    "        page += 1\n",
    "\n",
    "# ── 5) Normalize and clean up ─────────────────────────────────────────────────\n",
    "df = pd.json_normalize(all_rows)\n",
    "\n",
    "df"
   ]
  },
  {
   "cell_type": "code",
   "execution_count": 68,
   "id": "4c8b4bcb-b771-48e0-8e7e-aac0f500e23b",
   "metadata": {},
   "outputs": [
    {
     "name": "stdout",
     "output_type": "stream",
     "text": [
      "Available section slugs: ['New York', 'South Florida', 'Los Angeles', 'National', 'Chicago', 'San Francisco', 'Dallas', 'Tri-State', 'Texas', 'Uncategorized', 'Houston', 'Austin', 'Phoenix', 'Fort Worth', 'Nashville', 'Atlanta', 'Washington D.C.', 'Seattle', 'Denver', 'Philadelphia', 'San Antonio', 'Boston', 'Las Vegas', 'Charlotte', 'Tampa', 'Orlando']\n"
     ]
    }
   ],
   "source": [
    "import requests\n",
    "\n",
    "SECS_URL = \"https://api.parsely.com/v2/analytics/sections\"\n",
    "\n",
    "now = datetime.utcnow()\n",
    "params = {\n",
    "    \"apikey\":       SITE_ID,\n",
    "    \"secret\":       API_SECRET,\n",
    "    \"period_start\": (now - timedelta(days=30)).isoformat(),\n",
    "    \"period_end\":   now.isoformat(),\n",
    "    \"limit\":        1000,\n",
    "    \"page\":         1\n",
    "}\n",
    "\n",
    "r = requests.get(SECS_URL, params=params)\n",
    "r.raise_for_status()\n",
    "sections_data = r.json().get(\"data\", [])\n",
    "\n",
    "# Extract exactly the strings you need:\n",
    "available_slugs = [ rec[\"section\"] for rec in sections_data ]\n",
    "print(\"Available section slugs:\", available_slugs)"
   ]
  },
  {
   "cell_type": "code",
   "execution_count": 69,
   "id": "93db05e2-6d1e-4999-8597-73283225a793",
   "metadata": {},
   "outputs": [
    {
     "name": "stdout",
     "output_type": "stream",
     "text": [
      "            author        section  pageviews\n",
      "0  Abigail Nehring    Los Angeles      27690\n",
      "1  Abigail Nehring  San Francisco       7023\n",
      "2     Adam Farence        Chicago          4\n",
      "3     Adam Farence       National          4\n",
      "4     Adam Farence  San Francisco          7\n"
     ]
    }
   ],
   "source": [
    "import requests, pandas as pd\n",
    "from datetime import datetime, timedelta\n",
    "\n",
    "\n",
    "POSTS_URL = \"https://api.parsely.com/v2/analytics/posts\"\n",
    "\n",
    "# 30-day ISO window (no microseconds, add Z if you need UTC)\n",
    "now          = datetime.utcnow().replace(microsecond=0)\n",
    "period_end   = now.isoformat() + \"Z\"\n",
    "period_start = (now - timedelta(days=30)).isoformat() + \"Z\"\n",
    "\n",
    "# slugs (no brackets, no quotes)\n",
    "sections = available_slugs\n",
    "\n",
    "# ── Fetch posts per section ────────────────────────────────────────────────\n",
    "all_posts = []\n",
    "for section in sections:\n",
    "    resp = requests.get(\n",
    "        POSTS_URL,\n",
    "        params={\n",
    "            \"apikey\":       SITE_ID,\n",
    "            \"secret\":       API_SECRET,\n",
    "            \"section\":      section,         # plain slug\n",
    "            \"period_start\": period_start,\n",
    "            \"period_end\":   period_end,\n",
    "            \"limit\":        2000,            # max you can get in one go\n",
    "            \"sort\":         \"views\"\n",
    "        }\n",
    "    )\n",
    "    resp.raise_for_status()\n",
    "    data = resp.json().get(\"data\", [])\n",
    "    if not data:\n",
    "        print(f\"No posts returned for section={section}. Check slug or date range.\")\n",
    "        continue\n",
    "\n",
    "    # tag so we know which section each post came from\n",
    "    for post in data:\n",
    "        post[\"section\"] = section\n",
    "\n",
    "    all_posts.extend(data)\n",
    "\n",
    "# ── Roll up to per-author, per-section ──────────────────────────────────────\n",
    "df = pd.json_normalize(all_posts)\n",
    "\n",
    "# flatten out the nested views metric\n",
    "df[\"views\"] = df[\"metrics.views\"]\n",
    "\n",
    "# group\n",
    "df_auth_sec = (\n",
    "    df\n",
    "    .groupby([\"author\",\"section\"], dropna=False)\n",
    "    .agg(pageviews=(\"views\",\"sum\"))\n",
    "    .reset_index()\n",
    ")\n",
    "\n",
    "print(df_auth_sec.head())"
   ]
  },
  {
   "cell_type": "code",
   "execution_count": 76,
   "id": "752d798c-a3ed-4da4-9a4b-52eabf95edbe",
   "metadata": {},
   "outputs": [],
   "source": [
    "df_auth_sec = df_auth_sec.sort_values(by=\"pageviews\",ascending=False)"
   ]
  },
  {
   "cell_type": "code",
   "execution_count": 84,
   "id": "71a4a94a-1494-493f-9116-8ffe9201f4fd",
   "metadata": {},
   "outputs": [
    {
     "data": {
      "text/html": [
       "<div>\n",
       "<style scoped>\n",
       "    .dataframe tbody tr th:only-of-type {\n",
       "        vertical-align: middle;\n",
       "    }\n",
       "\n",
       "    .dataframe tbody tr th {\n",
       "        vertical-align: top;\n",
       "    }\n",
       "\n",
       "    .dataframe thead th {\n",
       "        text-align: right;\n",
       "    }\n",
       "</style>\n",
       "<table border=\"1\" class=\"dataframe\">\n",
       "  <thead>\n",
       "    <tr style=\"text-align: right;\">\n",
       "      <th></th>\n",
       "      <th>author</th>\n",
       "      <th>section</th>\n",
       "      <th>pageviews</th>\n",
       "    </tr>\n",
       "  </thead>\n",
       "  <tbody>\n",
       "    <tr>\n",
       "      <th>461</th>\n",
       "      <td>TRD Staff</td>\n",
       "      <td>New York</td>\n",
       "      <td>190672</td>\n",
       "    </tr>\n",
       "    <tr>\n",
       "      <th>43</th>\n",
       "      <td>Brand Studio</td>\n",
       "      <td>New York</td>\n",
       "      <td>100229</td>\n",
       "    </tr>\n",
       "    <tr>\n",
       "      <th>403</th>\n",
       "      <td>Rich Bockmann</td>\n",
       "      <td>New York</td>\n",
       "      <td>95351</td>\n",
       "    </tr>\n",
       "    <tr>\n",
       "      <th>291</th>\n",
       "      <td>Katherine Kallergis</td>\n",
       "      <td>South Florida</td>\n",
       "      <td>81112</td>\n",
       "    </tr>\n",
       "    <tr>\n",
       "      <th>284</th>\n",
       "      <td>Kate Hinsche</td>\n",
       "      <td>South Florida</td>\n",
       "      <td>75715</td>\n",
       "    </tr>\n",
       "    <tr>\n",
       "      <th>...</th>\n",
       "      <td>...</td>\n",
       "      <td>...</td>\n",
       "      <td>...</td>\n",
       "    </tr>\n",
       "    <tr>\n",
       "      <th>222</th>\n",
       "      <td>James Kleimann</td>\n",
       "      <td>Tri-State</td>\n",
       "      <td>2</td>\n",
       "    </tr>\n",
       "    <tr>\n",
       "      <th>481</th>\n",
       "      <td>Ted Glanzer</td>\n",
       "      <td>Texas</td>\n",
       "      <td>1</td>\n",
       "    </tr>\n",
       "    <tr>\n",
       "      <th>126</th>\n",
       "      <td>Eddie Small</td>\n",
       "      <td>Tri-State</td>\n",
       "      <td>1</td>\n",
       "    </tr>\n",
       "    <tr>\n",
       "      <th>191</th>\n",
       "      <td>Hiten Samtani</td>\n",
       "      <td>Austin</td>\n",
       "      <td>1</td>\n",
       "    </tr>\n",
       "    <tr>\n",
       "      <th>20</th>\n",
       "      <td>Amir Ghaheri</td>\n",
       "      <td>Tri-State</td>\n",
       "      <td>1</td>\n",
       "    </tr>\n",
       "  </tbody>\n",
       "</table>\n",
       "<p>509 rows × 3 columns</p>\n",
       "</div>"
      ],
      "text/plain": [
       "                  author        section  pageviews\n",
       "461            TRD Staff       New York     190672\n",
       "43          Brand Studio       New York     100229\n",
       "403        Rich Bockmann       New York      95351\n",
       "291  Katherine Kallergis  South Florida      81112\n",
       "284         Kate Hinsche  South Florida      75715\n",
       "..                   ...            ...        ...\n",
       "222       James Kleimann      Tri-State          2\n",
       "481          Ted Glanzer          Texas          1\n",
       "126          Eddie Small      Tri-State          1\n",
       "191        Hiten Samtani         Austin          1\n",
       "20          Amir Ghaheri      Tri-State          1\n",
       "\n",
       "[509 rows x 3 columns]"
      ]
     },
     "execution_count": 84,
     "metadata": {},
     "output_type": "execute_result"
    }
   ],
   "source": [
    "df_auth_sec"
   ]
  },
  {
   "cell_type": "code",
   "execution_count": 86,
   "id": "44ee8b77-cc04-45db-9ae7-aa9cc1221bbe",
   "metadata": {},
   "outputs": [],
   "source": [
    "df_filtered = df_auth_sec[df_auth_sec['author'] != 'Brand Studio']"
   ]
  },
  {
   "cell_type": "code",
   "execution_count": 96,
   "id": "2787c1fe-6b2c-4e0c-a4f2-e4fda4fc129c",
   "metadata": {},
   "outputs": [
    {
     "data": {
      "application/vnd.plotly.v1+json": {
       "config": {
        "plotlyServerURL": "https://plot.ly"
       },
       "data": [
        {
         "branchvalues": "total",
         "customdata": [
          [
           39,
           "Atlanta"
          ],
          [
           2,
           "Atlanta"
          ],
          [
           5170,
           "Atlanta"
          ],
          [
           5129,
           "Atlanta"
          ],
          [
           48,
           "Austin"
          ],
          [
           7,
           "Austin"
          ],
          [
           1107,
           "Austin"
          ],
          [
           1018,
           "Austin"
          ],
          [
           3,
           "Austin"
          ],
          [
           1,
           "Austin"
          ],
          [
           968,
           "Austin"
          ],
          [
           8,
           "Austin"
          ],
          [
           10367,
           "Austin"
          ],
          [
           2,
           "Austin"
          ],
          [
           69,
           "Austin"
          ],
          [
           7,
           "Austin"
          ],
          [
           18,
           "Austin"
          ],
          [
           500,
           "Austin"
          ],
          [
           26,
           "Austin"
          ],
          [
           21,
           "Austin"
          ],
          [
           14274,
           "Austin"
          ],
          [
           25,
           "Austin"
          ],
          [
           59,
           "Austin"
          ],
          [
           20,
           "Austin"
          ],
          [
           2612,
           "Boston"
          ],
          [
           2612,
           "Boston"
          ],
          [
           3233,
           "Charlotte"
          ],
          [
           3236,
           "Charlotte"
          ],
          [
           3,
           "Charlotte"
          ],
          [
           1260,
           "Chicago"
          ],
          [
           6,
           "Chicago"
          ],
          [
           2136,
           "Chicago"
          ],
          [
           148,
           "Chicago"
          ],
          [
           24,
           "Chicago"
          ],
          [
           6,
           "Chicago"
          ],
          [
           8,
           "Chicago"
          ],
          [
           27,
           "Chicago"
          ],
          [
           267,
           "Chicago"
          ],
          [
           110,
           "Chicago"
          ],
          [
           297,
           "Chicago"
          ],
          [
           17,
           "Chicago"
          ],
          [
           17,
           "Chicago"
          ],
          [
           17,
           "Chicago"
          ],
          [
           19,
           "Chicago"
          ],
          [
           15,
           "Chicago"
          ],
          [
           25,
           "Chicago"
          ],
          [
           14,
           "Chicago"
          ],
          [
           10,
           "Chicago"
          ],
          [
           37,
           "Chicago"
          ],
          [
           88,
           "Chicago"
          ],
          [
           10,
           "Chicago"
          ],
          [
           37,
           "Chicago"
          ],
          [
           8,
           "Chicago"
          ],
          [
           20,
           "Chicago"
          ],
          [
           194,
           "Chicago"
          ],
          [
           152,
           "Chicago"
          ],
          [
           4,
           "Chicago"
          ],
          [
           27921,
           "Chicago"
          ],
          [
           5,
           "Chicago"
          ],
          [
           4839,
           "Chicago"
          ],
          [
           59,
           "Chicago"
          ],
          [
           4,
           "Chicago"
          ],
          [
           66915,
           "Chicago"
          ],
          [
           9176,
           "Chicago"
          ],
          [
           39897,
           "Chicago"
          ],
          [
           153789,
           "Chicago"
          ],
          [
           19676,
           "Dallas"
          ],
          [
           17,
           "Dallas"
          ],
          [
           29590,
           "Dallas"
          ],
          [
           1866,
           "Dallas"
          ],
          [
           28,
           "Dallas"
          ],
          [
           362,
           "Dallas"
          ],
          [
           32,
           "Dallas"
          ],
          [
           52256,
           "Dallas"
          ],
          [
           158,
           "Dallas"
          ],
          [
           5,
           "Dallas"
          ],
          [
           47,
           "Dallas"
          ],
          [
           223,
           "Dallas"
          ],
          [
           31,
           "Dallas"
          ],
          [
           209,
           "Dallas"
          ],
          [
           12,
           "Dallas"
          ],
          [
           3578,
           "Denver"
          ],
          [
           3578,
           "Denver"
          ],
          [
           7632,
           "Fort Worth"
          ],
          [
           6,
           "Fort Worth"
          ],
          [
           5,
           "Fort Worth"
          ],
          [
           6,
           "Fort Worth"
          ],
          [
           6,
           "Fort Worth"
          ],
          [
           7352,
           "Fort Worth"
          ],
          [
           257,
           "Fort Worth"
          ],
          [
           8683,
           "Houston"
          ],
          [
           56,
           "Houston"
          ],
          [
           3646,
           "Houston"
          ],
          [
           17,
           "Houston"
          ],
          [
           227,
           "Houston"
          ],
          [
           14106,
           "Houston"
          ],
          [
           133,
           "Houston"
          ],
          [
           23,
           "Houston"
          ],
          [
           24,
           "Houston"
          ],
          [
           107,
           "Houston"
          ],
          [
           8,
           "Houston"
          ],
          [
           100,
           "Houston"
          ],
          [
           886,
           "Houston"
          ],
          [
           7,
           "Houston"
          ],
          [
           65,
           "Houston"
          ],
          [
           3,
           "Houston"
          ],
          [
           8,
           "Houston"
          ],
          [
           43,
           "Houston"
          ],
          [
           70,
           "Houston"
          ],
          [
           26,
           "Las Vegas"
          ],
          [
           2106,
           "Las Vegas"
          ],
          [
           2080,
           "Las Vegas"
          ],
          [
           61,
           "Los Angeles"
          ],
          [
           43,
           "Los Angeles"
          ],
          [
           18,
           "Los Angeles"
          ],
          [
           1397,
           "Los Angeles"
          ],
          [
           259,
           "Los Angeles"
          ],
          [
           7,
           "Los Angeles"
          ],
          [
           27690,
           "Los Angeles"
          ],
          [
           5440,
           "Los Angeles"
          ],
          [
           250,
           "Los Angeles"
          ],
          [
           310,
           "Los Angeles"
          ],
          [
           7,
           "Los Angeles"
          ],
          [
           37221,
           "Los Angeles"
          ],
          [
           159561,
           "Los Angeles"
          ],
          [
           2071,
           "Los Angeles"
          ],
          [
           2041,
           "Los Angeles"
          ],
          [
           2857,
           "Los Angeles"
          ],
          [
           171,
           "Los Angeles"
          ],
          [
           146,
           "Los Angeles"
          ],
          [
           71137,
           "Los Angeles"
          ],
          [
           44,
           "Los Angeles"
          ],
          [
           181,
           "Los Angeles"
          ],
          [
           120,
           "Los Angeles"
          ],
          [
           27,
           "Los Angeles"
          ],
          [
           73,
           "Los Angeles"
          ],
          [
           23,
           "Los Angeles"
          ],
          [
           196,
           "Los Angeles"
          ],
          [
           2226,
           "Los Angeles"
          ],
          [
           67,
           "Los Angeles"
          ],
          [
           16,
           "Los Angeles"
          ],
          [
           138,
           "Los Angeles"
          ],
          [
           1060,
           "Los Angeles"
          ],
          [
           316,
           "Los Angeles"
          ],
          [
           363,
           "Los Angeles"
          ],
          [
           11,
           "Los Angeles"
          ],
          [
           54,
           "Los Angeles"
          ],
          [
           63,
           "Los Angeles"
          ],
          [
           37,
           "Los Angeles"
          ],
          [
           8,
           "Los Angeles"
          ],
          [
           10,
           "Los Angeles"
          ],
          [
           9,
           "Los Angeles"
          ],
          [
           601,
           "Los Angeles"
          ],
          [
           618,
           "Los Angeles"
          ],
          [
           633,
           "Los Angeles"
          ],
          [
           9,
           "Los Angeles"
          ],
          [
           695,
           "Los Angeles"
          ],
          [
           8,
           "Los Angeles"
          ],
          [
           38,
           "Los Angeles"
          ],
          [
           8,
           "Los Angeles"
          ],
          [
           99,
           "Los Angeles"
          ],
          [
           11,
           "Los Angeles"
          ],
          [
           16,
           "Los Angeles"
          ],
          [
           12,
           "Los Angeles"
          ],
          [
           375,
           "Los Angeles"
          ],
          [
           8,
           "Los Angeles"
          ],
          [
           13,
           "Los Angeles"
          ],
          [
           80,
           "Los Angeles"
          ],
          [
           102,
           "Los Angeles"
          ],
          [
           13,
           "Los Angeles"
          ],
          [
           54,
           "Los Angeles"
          ],
          [
           5694,
           "Nashville"
          ],
          [
           174,
           "Nashville"
          ],
          [
           10,
           "Nashville"
          ],
          [
           50,
           "Nashville"
          ],
          [
           5928,
           "Nashville"
          ],
          [
           42,
           "National"
          ],
          [
           82,
           "National"
          ],
          [
           82,
           "National"
          ],
          [
           74,
           "National"
          ],
          [
           48,
           "National"
          ],
          [
           68,
           "National"
          ],
          [
           29,
           "National"
          ],
          [
           104,
           "National"
          ],
          [
           73,
           "National"
          ],
          [
           40,
           "National"
          ],
          [
           119,
           "National"
          ],
          [
           108,
           "National"
          ],
          [
           28,
           "National"
          ],
          [
           134,
           "National"
          ],
          [
           73,
           "National"
          ],
          [
           27,
           "National"
          ],
          [
           34,
           "National"
          ],
          [
           123,
           "National"
          ],
          [
           34,
           "National"
          ],
          [
           28,
           "National"
          ],
          [
           49,
           "National"
          ],
          [
           62,
           "National"
          ],
          [
           65,
           "National"
          ],
          [
           8,
           "National"
          ],
          [
           6,
           "National"
          ],
          [
           6,
           "National"
          ],
          [
           6,
           "National"
          ],
          [
           6,
           "National"
          ],
          [
           1771,
           "National"
          ],
          [
           1567,
           "National"
          ],
          [
           2395,
           "National"
          ],
          [
           8,
           "National"
          ],
          [
           950,
           "National"
          ],
          [
           935,
           "National"
          ],
          [
           908,
           "National"
          ],
          [
           824,
           "National"
          ],
          [
           764,
           "National"
          ],
          [
           576,
           "National"
          ],
          [
           8,
           "National"
          ],
          [
           10,
           "National"
          ],
          [
           6,
           "National"
          ],
          [
           5,
           "National"
          ],
          [
           74888,
           "National"
          ],
          [
           157850,
           "National"
          ],
          [
           2,
           "National"
          ],
          [
           2,
           "National"
          ],
          [
           16398,
           "National"
          ],
          [
           10142,
           "National"
          ],
          [
           6,
           "National"
          ],
          [
           9572,
           "National"
          ],
          [
           6859,
           "National"
          ],
          [
           5971,
           "National"
          ],
          [
           5692,
           "National"
          ],
          [
           4,
           "National"
          ],
          [
           4642,
           "National"
          ],
          [
           4,
           "National"
          ],
          [
           8904,
           "National"
          ],
          [
           10,
           "National"
          ],
          [
           58,
           "National"
          ],
          [
           16,
           "National"
          ],
          [
           229,
           "National"
          ],
          [
           20,
           "National"
          ],
          [
           238,
           "National"
          ],
          [
           20,
           "National"
          ],
          [
           23,
           "National"
          ],
          [
           189,
           "National"
          ],
          [
           251,
           "National"
          ],
          [
           267,
           "National"
          ],
          [
           18,
           "National"
          ],
          [
           17,
           "National"
          ],
          [
           16,
           "National"
          ],
          [
           57,
           "National"
          ],
          [
           21,
           "National"
          ],
          [
           13,
           "National"
          ],
          [
           442,
           "National"
          ],
          [
           12,
           "National"
          ],
          [
           12,
           "National"
          ],
          [
           11,
           "National"
          ],
          [
           178,
           "National"
          ],
          [
           177,
           "National"
          ],
          [
           171,
           "National"
          ],
          [
           13,
           "National"
          ],
          [
           22,
           "New York"
          ],
          [
           24,
           "New York"
          ],
          [
           54,
           "New York"
          ],
          [
           23,
           "New York"
          ],
          [
           647118,
           "New York"
          ],
          [
           36,
           "New York"
          ],
          [
           48,
           "New York"
          ],
          [
           28,
           "New York"
          ],
          [
           28,
           "New York"
          ],
          [
           48,
           "New York"
          ],
          [
           36,
           "New York"
          ],
          [
           39,
           "New York"
          ],
          [
           34,
           "New York"
          ],
          [
           35,
           "New York"
          ],
          [
           38,
           "New York"
          ],
          [
           26,
           "New York"
          ],
          [
           36,
           "New York"
          ],
          [
           22,
           "New York"
          ],
          [
           25,
           "New York"
          ],
          [
           190672,
           "New York"
          ],
          [
           95,
           "New York"
          ],
          [
           121,
           "New York"
          ],
          [
           118,
           "New York"
          ],
          [
           335,
           "New York"
          ],
          [
           341,
           "New York"
          ],
          [
           342,
           "New York"
          ],
          [
           383,
           "New York"
          ],
          [
           406,
           "New York"
          ],
          [
           131,
           "New York"
          ],
          [
           412,
           "New York"
          ],
          [
           431,
           "New York"
          ],
          [
           438,
           "New York"
          ],
          [
           500,
           "New York"
          ],
          [
           518,
           "New York"
          ],
          [
           526,
           "New York"
          ],
          [
           533,
           "New York"
          ],
          [
           553,
           "New York"
          ],
          [
           106,
           "New York"
          ],
          [
           140,
           "New York"
          ],
          [
           143,
           "New York"
          ],
          [
           310,
           "New York"
          ],
          [
           184,
           "New York"
          ],
          [
           194,
           "New York"
          ],
          [
           178,
           "New York"
          ],
          [
           175,
           "New York"
          ],
          [
           200,
           "New York"
          ],
          [
           159,
           "New York"
          ],
          [
           200,
           "New York"
          ],
          [
           217,
           "New York"
          ],
          [
           220,
           "New York"
          ],
          [
           153,
           "New York"
          ],
          [
           222,
           "New York"
          ],
          [
           144,
           "New York"
          ],
          [
           242,
           "New York"
          ],
          [
           245,
           "New York"
          ],
          [
           265,
           "New York"
          ],
          [
           298,
           "New York"
          ],
          [
           308,
           "New York"
          ],
          [
           95,
           "New York"
          ],
          [
           189,
           "New York"
          ],
          [
           189,
           "New York"
          ],
          [
           597,
           "New York"
          ],
          [
           2725,
           "New York"
          ],
          [
           71,
           "New York"
          ],
          [
           67,
           "New York"
          ],
          [
           3483,
           "New York"
          ],
          [
           4821,
           "New York"
          ],
          [
           5394,
           "New York"
          ],
          [
           16909,
           "New York"
          ],
          [
           583,
           "New York"
          ],
          [
           25098,
           "New York"
          ],
          [
           41204,
           "New York"
          ],
          [
           42709,
           "New York"
          ],
          [
           62,
           "New York"
          ],
          [
           48353,
           "New York"
          ],
          [
           53764,
           "New York"
          ],
          [
           58415,
           "New York"
          ],
          [
           95351,
           "New York"
          ],
          [
           31890,
           "New York"
          ],
          [
           71,
           "New York"
          ],
          [
           2238,
           "New York"
          ],
          [
           974,
           "New York"
          ],
          [
           703,
           "New York"
          ],
          [
           834,
           "New York"
          ],
          [
           947,
           "New York"
          ],
          [
           85,
           "New York"
          ],
          [
           72,
           "New York"
          ],
          [
           81,
           "New York"
          ],
          [
           673,
           "New York"
          ],
          [
           1109,
           "New York"
          ],
          [
           78,
           "New York"
          ],
          [
           77,
           "New York"
          ],
          [
           1751,
           "New York"
          ],
          [
           88,
           "New York"
          ],
          [
           1977,
           "New York"
          ],
          [
           76,
           "New York"
          ],
          [
           1467,
           "New York"
          ],
          [
           88,
           "New York"
          ],
          [
           321,
           "Orlando"
          ],
          [
           321,
           "Orlando"
          ],
          [
           3191,
           "Philadelphia"
          ],
          [
           3307,
           "Philadelphia"
          ],
          [
           14,
           "Philadelphia"
          ],
          [
           102,
           "Philadelphia"
          ],
          [
           6956,
           "Phoenix"
          ],
          [
           30,
           "Phoenix"
          ],
          [
           6986,
           "Phoenix"
          ],
          [
           5,
           "San Antonio"
          ],
          [
           108,
           "San Antonio"
          ],
          [
           3111,
           "San Antonio"
          ],
          [
           996,
           "San Antonio"
          ],
          [
           2002,
           "San Antonio"
          ],
          [
           1122,
           "San Francisco"
          ],
          [
           42,
           "San Francisco"
          ],
          [
           17,
           "San Francisco"
          ],
          [
           977,
           "San Francisco"
          ],
          [
           71,
           "San Francisco"
          ],
          [
           1041,
           "San Francisco"
          ],
          [
           412,
           "San Francisco"
          ],
          [
           58,
           "San Francisco"
          ],
          [
           5,
           "San Francisco"
          ],
          [
           845,
           "San Francisco"
          ],
          [
           29,
           "San Francisco"
          ],
          [
           3,
           "San Francisco"
          ],
          [
           10,
           "San Francisco"
          ],
          [
           7,
           "San Francisco"
          ],
          [
           8,
           "San Francisco"
          ],
          [
           26,
           "San Francisco"
          ],
          [
           55,
           "San Francisco"
          ],
          [
           62,
           "San Francisco"
          ],
          [
           59878,
           "San Francisco"
          ],
          [
           130224,
           "San Francisco"
          ],
          [
           52,
           "San Francisco"
          ],
          [
           58481,
           "San Francisco"
          ],
          [
           7023,
           "San Francisco"
          ],
          [
           4163,
           "Seattle"
          ],
          [
           4163,
           "Seattle"
          ],
          [
           31,
           "South Florida"
          ],
          [
           104,
           "South Florida"
          ],
          [
           38,
           "South Florida"
          ],
          [
           80,
           "South Florida"
          ],
          [
           1260,
           "South Florida"
          ],
          [
           89,
           "South Florida"
          ],
          [
           26,
           "South Florida"
          ],
          [
           56,
           "South Florida"
          ],
          [
           463,
           "South Florida"
          ],
          [
           73557,
           "South Florida"
          ],
          [
           75715,
           "South Florida"
          ],
          [
           591,
           "South Florida"
          ],
          [
           81112,
           "South Florida"
          ],
          [
           24,
           "South Florida"
          ],
          [
           27,
           "South Florida"
          ],
          [
           26,
           "South Florida"
          ],
          [
           317,
           "South Florida"
          ],
          [
           11379,
           "South Florida"
          ],
          [
           65,
           "South Florida"
          ],
          [
           4680,
           "South Florida"
          ],
          [
           315278,
           "South Florida"
          ],
          [
           371,
           "South Florida"
          ],
          [
           3833,
           "South Florida"
          ],
          [
           817,
           "South Florida"
          ],
          [
           3567,
           "South Florida"
          ],
          [
           48,
           "South Florida"
          ],
          [
           2251,
           "South Florida"
          ],
          [
           54317,
           "South Florida"
          ],
          [
           20,
           "South Florida"
          ],
          [
           391,
           "South Florida"
          ],
          [
           23,
           "South Florida"
          ],
          [
           6,
           "Tampa"
          ],
          [
           24,
           "Tampa"
          ],
          [
           1590,
           "Tampa"
          ],
          [
           1552,
           "Tampa"
          ],
          [
           8,
           "Tampa"
          ],
          [
           31,
           "Texas"
          ],
          [
           34356,
           "Texas"
          ],
          [
           13,
           "Texas"
          ],
          [
           15,
           "Texas"
          ],
          [
           33,
           "Texas"
          ],
          [
           544,
           "Texas"
          ],
          [
           4029,
           "Texas"
          ],
          [
           26900,
           "Texas"
          ],
          [
           1,
           "Texas"
          ],
          [
           50,
           "Texas"
          ],
          [
           102,
           "Texas"
          ],
          [
           443,
           "Texas"
          ],
          [
           10,
           "Texas"
          ],
          [
           26,
           "Texas"
          ],
          [
           21,
           "Texas"
          ],
          [
           85,
           "Texas"
          ],
          [
           56,
           "Texas"
          ],
          [
           155,
           "Texas"
          ],
          [
           71,
           "Texas"
          ],
          [
           788,
           "Texas"
          ],
          [
           3,
           "Texas"
          ],
          [
           726,
           "Texas"
          ],
          [
           251,
           "Texas"
          ],
          [
           3,
           "Texas"
          ],
          [
           1,
           "Tri-State"
          ],
          [
           2,
           "Tri-State"
          ],
          [
           2,
           "Tri-State"
          ],
          [
           18661,
           "Tri-State"
          ],
          [
           2,
           "Tri-State"
          ],
          [
           18,
           "Tri-State"
          ],
          [
           3,
           "Tri-State"
          ],
          [
           17,
           "Tri-State"
          ],
          [
           2,
           "Tri-State"
          ],
          [
           64,
           "Tri-State"
          ],
          [
           87,
           "Tri-State"
          ],
          [
           143,
           "Tri-State"
          ],
          [
           159,
           "Tri-State"
          ],
          [
           201,
           "Tri-State"
          ],
          [
           21,
           "Tri-State"
          ],
          [
           25,
           "Tri-State"
          ],
          [
           233,
           "Tri-State"
          ],
          [
           20,
           "Tri-State"
          ],
          [
           1,
           "Tri-State"
          ],
          [
           20,
           "Tri-State"
          ],
          [
           26,
           "Tri-State"
          ],
          [
           19,
           "Tri-State"
          ],
          [
           36589,
           "Tri-State"
          ],
          [
           19,
           "Tri-State"
          ],
          [
           246,
           "Tri-State"
          ],
          [
           63,
           "Tri-State"
          ],
          [
           62,
           "Tri-State"
          ],
          [
           5752,
           "Tri-State"
          ],
          [
           114,
           "Tri-State"
          ],
          [
           319,
           "Tri-State"
          ],
          [
           42,
           "Tri-State"
          ],
          [
           12,
           "Tri-State"
          ],
          [
           522,
           "Tri-State"
          ],
          [
           1311,
           "Tri-State"
          ],
          [
           546,
           "Tri-State"
          ],
          [
           39,
           "Tri-State"
          ],
          [
           7,
           "Tri-State"
          ],
          [
           8,
           "Tri-State"
          ],
          [
           9,
           "Tri-State"
          ],
          [
           8,
           "Tri-State"
          ],
          [
           39,
           "Tri-State"
          ],
          [
           89,
           "Tri-State"
          ],
          [
           662,
           "Tri-State"
          ],
          [
           9,
           "Tri-State"
          ],
          [
           8,
           "Tri-State"
          ],
          [
           31,
           "Tri-State"
          ],
          [
           3,
           "Tri-State"
          ],
          [
           30,
           "Tri-State"
          ],
          [
           5,
           "Tri-State"
          ],
          [
           87,
           "Tri-State"
          ],
          [
           110,
           "Tri-State"
          ],
          [
           4,
           "Tri-State"
          ],
          [
           16,
           "Tri-State"
          ],
          [
           2343,
           "Tri-State"
          ],
          [
           4166,
           "Tri-State"
          ],
          [
           15,
           "Tri-State"
          ],
          [
           59,
           "Tri-State"
          ],
          [
           15,
           "Tri-State"
          ],
          [
           5,
           "Tri-State"
          ],
          [
           14,
           "Tri-State"
          ],
          [
           14,
           "Tri-State"
          ],
          [
           48,
           "Tri-State"
          ],
          [
           6,
           "Tri-State"
          ],
          [
           5,
           "Tri-State"
          ],
          [
           17402,
           "Uncategorized"
          ],
          [
           17402,
           "Uncategorized"
          ],
          [
           583,
           "Washington D.C."
          ],
          [
           5030,
           "Washington D.C."
          ],
          [
           4270,
           "Washington D.C."
          ],
          [
           123,
           "Washington D.C."
          ],
          [
           54,
           "Washington D.C."
          ]
         ],
         "domain": {
          "x": [
           0,
           1
          ],
          "y": [
           0,
           1
          ]
         },
         "hovertemplate": "labels=%{label}<br>pageviews=%{customdata[0]}<br>parent=%{parent}<br>id=%{id}<br>section=%{customdata[1]}<extra></extra>",
         "ids": [
          "Atlanta/Jess Hardin",
          "Atlanta/quinn.donoghue@therealdeal.com",
          "Atlanta",
          "Atlanta/TRD Staff",
          "Austin/Erick Pirayesh",
          "Austin/Christian Bautista",
          "Austin/Joe Lovinger",
          "Austin/Judah Duke",
          "Austin/Emily Landes",
          "Austin/Hiten Samtani",
          "Austin/Jess Hardin",
          "Austin/Rachel Stone",
          "Austin/TRD Staff",
          "Austin/Victoria Pruitt",
          "Austin/Cindy Widner",
          "Austin/Keith Larsen",
          "Austin/quinn.donoghue@therealdeal.com",
          "Austin/Maddy Sperling",
          "Austin/Karn Dhingra",
          "Austin/Kathryn Hardison",
          "Austin",
          "Austin/Brandon Sams",
          "Austin/James Bell",
          "Austin/Isabella Farr",
          "Boston/TRD Staff",
          "Boston",
          "Charlotte/TRD Staff",
          "Charlotte",
          "Charlotte/Rachel Stone",
          "Chicago/Rachel Herzog",
          "Chicago/Isabella Farr",
          "Chicago/Miranda Davis",
          "Chicago/Connie Kim",
          "Chicago/Dennis Lynch",
          "Chicago/Scott Klocksin",
          "Chicago/Jerry Sullivan",
          "Chicago/Sasha Jones",
          "Chicago/John OBrien",
          "Chicago/Joe Ward",
          "Chicago/Jess Hardin",
          "Chicago/Hiten Samtani",
          "Chicago/Sponsored Content",
          "Chicago/Keith Larsen",
          "Chicago/quinn.donoghue@therealdeal.com",
          "Chicago/Miriam Finder Annenberg",
          "Chicago/Brandon Sams",
          "Chicago/Georgia Kromrei",
          "Chicago/Suzannah Cavanaugh",
          "Chicago/Victoria Pruitt",
          "Chicago/Christian Bautista",
          "Chicago/Ted Glanzer",
          "Chicago/Bill Egbert",
          "Chicago/Akiko Matsuda",
          "Chicago/admin",
          "Chicago/Alex Nitkin",
          "Chicago/Jennifer Waters",
          "Chicago/Adam Farence",
          "Chicago/Emma Whalen",
          "Chicago/Kevin Sun",
          "Chicago/Judah Duke",
          "Chicago/Brianna Kelly",
          "Chicago/Haru Coryne",
          "Chicago/TRD Staff",
          "Chicago/Kelli Duncan",
          "Chicago/Sam Lounsberry",
          "Chicago",
          "Dallas/TRD Staff",
          "Dallas/Cindy Widner",
          "Dallas/Jess Hardin",
          "Dallas/Judah Duke",
          "Dallas/Karn Dhingra",
          "Dallas/Erick Pirayesh",
          "Dallas/quinn.donoghue@therealdeal.com",
          "Dallas",
          "Dallas/Rachel Stone",
          "Dallas/Kathryn Hardison",
          "Dallas/Christian Bautista",
          "Dallas/James Bell",
          "Dallas/Maddy Sperling",
          "Dallas/Joe Lovinger",
          "Dallas/Brandon Sams",
          "Denver",
          "Denver/TRD Staff",
          "Fort Worth",
          "Fort Worth/Ted Glanzer",
          "Fort Worth/Joe Lovinger",
          "Fort Worth/quinn.donoghue@therealdeal.com",
          "Fort Worth/Judah Duke",
          "Fort Worth/TRD Staff",
          "Fort Worth/Jess Hardin",
          "Houston/TRD Staff",
          "Houston/Rachel Stone",
          "Houston/Jess Hardin",
          "Houston/Isabella Farr",
          "Houston/Karn Dhingra",
          "Houston",
          "Houston/Judah Duke",
          "Houston/Maddy Sperling",
          "Houston/quinn.donoghue@therealdeal.com",
          "Houston/Joe Lovinger",
          "Houston/Andrew Terrell",
          "Houston/Christian Bautista",
          "Houston/Brandon Sams",
          "Houston/Bill Egbert",
          "Houston/Suzannah Cavanaugh",
          "Houston/Kathryn Hardison",
          "Houston/Erick Pirayesh",
          "Houston/James Bell",
          "Houston/Cindy Widner",
          "Las Vegas/Isabella Farr",
          "Las Vegas",
          "Las Vegas/TRD Staff",
          "Los Angeles/Caroline Anderson",
          "Los Angeles/Kerry Barger",
          "Los Angeles/Erin Hudson",
          "Los Angeles/Trevor Bach",
          "Los Angeles/Hannah Miet",
          "Los Angeles/Laurie Dove",
          "Los Angeles/Abigail Nehring",
          "Los Angeles/Isabella Farr",
          "Los Angeles/Keith Larsen",
          "Los Angeles/Lauren Elkies Schram",
          "Los Angeles/James Kleimann",
          "Los Angeles/Kari Hamanaka",
          "Los Angeles",
          "Los Angeles/Alena Botros",
          "Los Angeles/Lauren Elkies-Schram",
          "Los Angeles/Andrew Asch",
          "Los Angeles/Cathaleen Chen",
          "Los Angeles/C.J. Hughes",
          "Los Angeles/TRD Staff",
          "Los Angeles/Vik Jolly",
          "Los Angeles/Gregory Cornfield",
          "Los Angeles/Kevin Sun",
          "Los Angeles/Joe Lovinger",
          "Los Angeles/Francisco Alvarado",
          "Los Angeles/Marcie Geffner",
          "Los Angeles/Mary Diduch",
          "Los Angeles/Christian Bautista",
          "Los Angeles/Joel Russell",
          "Los Angeles/Julie Walmsley",
          "Los Angeles/Tina Daunt",
          "Los Angeles/Daria Solovieva",
          "Los Angeles/Suzannah Cavanaugh",
          "Los Angeles/Subrina Hudson",
          "Los Angeles/Lauren Herstik",
          "Los Angeles/Sam Lounsberry",
          "Los Angeles/Rich Bockmann",
          "Los Angeles/Joseph Jungermann",
          "Los Angeles/Oliver Bentley",
          "Los Angeles/Emily Landes",
          "Los Angeles/Justin Sayles",
          "Los Angeles/Matthew Blake",
          "Los Angeles/Natalie Hoberman",
          "Los Angeles/Dennis Lynch",
          "Los Angeles/Haru Coryne",
          "Los Angeles/Chris Malone Méndez",
          "Los Angeles/Hannah Kramer",
          "Los Angeles/Gabrielle Paluch",
          "Los Angeles/Ted Glanzer",
          "Los Angeles/Pat Maio",
          "Los Angeles/Antoinette Bueno",
          "Los Angeles/Sponsored Content",
          "Los Angeles/Christopher Cameron",
          "Los Angeles/Katherine Clarke",
          "Los Angeles/E.B. Solomont",
          "Los Angeles/Laurie L. Dove",
          "Los Angeles/Alexei Barrionuevo",
          "Los Angeles/Dana Bartholomew",
          "Los Angeles/Ellen Cranley",
          "Los Angeles/Shira Levine",
          "Nashville/TRD Staff",
          "Nashville/Isabella Farr",
          "Nashville/quinn.donoghue@therealdeal.com",
          "Nashville/Judah Duke",
          "Nashville",
          "National/Sam Lounsberry",
          "National/Francisco Alvarado",
          "National/Miranda Davis",
          "National/Hannah Kramer",
          "National/Emily Davis",
          "National/Patrick Sisson",
          "National/Laura Euler",
          "National/David Westenhaver",
          "National/Kelli Duncan",
          "National/Pat Ralph",
          "National/Sasha Jones",
          "National/Erin Hudson",
          "National/Ellie Quinlan Houghtaling",
          "National/Kevin Sun",
          "National/Rachel Herzog",
          "National/Raji Pandya",
          "National/Propmodo",
          "National/Orion Jones",
          "National/Lidia Dinkova",
          "National/Daria Solovieva",
          "National/Christian Bautista",
          "National/Emily Landes",
          "National/David Jeans",
          "National/Bill Egbert",
          "National/James Van Bramer",
          "National/Natalie Hoberman",
          "National/Eddie Small",
          "National/Danielle Balbi",
          "National/Kari Hamanaka",
          "National/Mary Diduch",
          "National/Holden Walter-Warner",
          "National/Ted Phillips",
          "National/Rich Bockmann",
          "National/Isabella Farr",
          "National/Harrison Connery",
          "National/Elizabeth Cryan",
          "National/Sponsored Content",
          "National/Ted Glanzer",
          "National/Cordilia James",
          "National/Amir Korangy",
          "National/Lauren Elkies Schram",
          "National/Nicole Rosenthal",
          "National/TRD Staff",
          "National",
          "National/quinn.donoghue@therealdeal.com",
          "National/Cindy Widner",
          "National/Sheridan Wall",
          "National/Jake Indursky",
          "National/Erick Pirayesh",
          "National/Suzannah Cavanaugh",
          "National/Kathryn Brenzel",
          "National/Katherine Kallergis",
          "National/Ellen Cranley",
          "National/Adam Farence",
          "National/Keith Larsen",
          "National/Dan Latu",
          "National/Mike Romano",
          "National/Matthew Niksa",
          "National/Judah Duke",
          "National/Dennis Lynch",
          "National/Joe Lovinger",
          "National/Georgia Kromrei",
          "National/Hiten Samtani",
          "National/Sylvia Varnham O'Regan",
          "National/Jeff Andrews",
          "National/Stuart Elliott",
          "National/Kate Hinsche",
          "National/Erik Engquist",
          "National/Andrew Asch",
          "National/Jennifer Waters",
          "National/Emma Whalen",
          "National/Akiko Matsuda",
          "National/Cara Eisenpress",
          "National/TRD Marketing",
          "National/E.B. Solomont",
          "National/Mariam Lobjanidze",
          "National/Elizabeth Kiefer",
          "National/Christina Previte",
          "National/Adam Piore",
          "National/Jess Hardin",
          "National/Trevor Bach",
          "National/T.P. Yeatts",
          "New York/Hasan Ali",
          "New York/Trevor Bach",
          "New York/Alexandra White",
          "New York/Miriam Kreinin Souccar",
          "New York",
          "New York/Matthew Blake",
          "New York/Guelda Voien",
          "New York/Ann Imperatore",
          "New York/Cindy Widner",
          "New York/Bill Cary",
          "New York/Nisha Shetty",
          "New York/Miriam Hall",
          "New York/Matt Schneiderman",
          "New York/Christina Previte",
          "New York/Adam Pogoff",
          "New York/Donna M. Airoldi",
          "New York/Kyna Doles",
          "New York/Amy Tennery",
          "New York/Demi Guo",
          "New York/TRD Staff",
          "New York/Tess Hofmann",
          "New York/Richard Murdocco",
          "New York/Sponsored Content",
          "New York/Marynia Kruk",
          "New York/Matthew Elo",
          "New York/Hannah Kramer",
          "New York/Ellie Quinlan Houghtaling",
          "New York/Kevin Sun",
          "New York/Greg Dool",
          "New York/Joe Lovinger",
          "New York/Adam Pincus",
          "New York/Sylvia Varnham O'Regan",
          "New York/Mariam Lobjanidze",
          "New York/Hiten Samtani",
          "New York/Katherine Clarke",
          "New York/Konrad Putzier",
          "New York/Ariel Stulberg",
          "New York/Emily Davis",
          "New York/Adam Piore",
          "New York/Jay Young",
          "New York/David Jeans",
          "New York/Christian Bautista",
          "New York/Rey Mashayekhi",
          "New York/Akiko Matsuda",
          "New York/Isabella Farr",
          "New York/Ted Glanzer",
          "New York/Nicole Rosenthal",
          "New York/Lidia Dinkova",
          "New York/Georgia Kromrei",
          "New York/Business Insider",
          "New York/Cara Eisenpress",
          "New York/Mike Romano",
          "New York/Elisa Muyl",
          "New York/Isable Schwab",
          "New York/Jeff Andrews",
          "New York/C.J. Hughes",
          "New York/David Westenhaver",
          "New York/Avital Chizhik-Goldschmidt",
          "New York/Chava Gourarie",
          "New York/Liz Lucking",
          "New York/Lucas McGill",
          "New York/Erin Hudson",
          "New York/Orion Jones",
          "New York/Cordilia James",
          "New York/Sue Malesevic",
          "New York/Cale Weissman",
          "New York/Katherine Kallergis",
          "New York/Mary Diduch",
          "New York/Holden Walter-Warner",
          "New York/Sasha Jones",
          "New York/Jake Indursky",
          "New York/Kathryn Brenzel",
          "New York/Suzannah Cavanaugh",
          "New York/Claire Moses",
          "New York/Sheridan Wall",
          "New York/Elizabeth Cryan",
          "New York/Keith Larsen",
          "New York/Rich Bockmann",
          "New York/Erik Engquist",
          "New York/Candace Taylor",
          "New York/Harrison Connery",
          "New York/Eddie Small",
          "New York/Pat Ralph",
          "New York/Lois Weiss",
          "New York/Bill Egbert",
          "New York/James Van Bramer",
          "New York/Raji Pandya",
          "New York/T.P. Yeatts",
          "New York/Christopher Cameron",
          "New York/Ellen Cranley",
          "New York/Gabriel Poblete",
          "New York/Jacqueline Sweet",
          "New York/E.B. Solomont",
          "New York/Leigh Kamping-Carder",
          "New York/Mark Maurer",
          "New York/Sarabeth Sanders",
          "New York/Will Parker",
          "New York/Decca Muldowney",
          "Orlando/TRD Staff",
          "Orlando",
          "Philadelphia/TRD Staff",
          "Philadelphia",
          "Philadelphia/Holden Walter-Warner",
          "Philadelphia/Caroline Handel",
          "Phoenix/TRD Staff",
          "Phoenix/Joel Russell",
          "Phoenix",
          "San Antonio/Christian Bautista",
          "San Antonio/Joe Lovinger",
          "San Antonio",
          "San Antonio/Jess Hardin",
          "San Antonio/TRD Staff",
          "San Francisco/Christian Bautista",
          "San Francisco/Dana Bartholomew",
          "San Francisco/Gabriel Poblete",
          "San Francisco/Matthew Niksa",
          "San Francisco/Joel Russell",
          "San Francisco/Chris Malone Méndez",
          "San Francisco/Isabella Farr",
          "San Francisco/Victoria Pruitt",
          "San Francisco/Joseph Jungermann",
          "San Francisco/Pawan Naidu",
          "San Francisco/Bill Egbert",
          "San Francisco/Andrew Asch",
          "San Francisco/Daria Solovieva",
          "San Francisco/Adam Farence",
          "San Francisco/Trevor Bach",
          "San Francisco/Rachel Herzog",
          "San Francisco/Jerry Sullivan",
          "San Francisco/Lauren Elkies Schram",
          "San Francisco/TRD Staff",
          "San Francisco",
          "San Francisco/Kari Hamanaka",
          "San Francisco/Emily Landes",
          "San Francisco/Abigail Nehring",
          "Seattle/TRD Staff",
          "Seattle",
          "South Florida/E.B. Solomont",
          "South Florida/Jess Hardin",
          "South Florida/Katherine Clarke",
          "South Florida/Eric Kalis",
          "South Florida/Adam Farence",
          "South Florida/Sheridan Wall",
          "South Florida/Dan Weil",
          "South Florida/quinn.donoghue@therealdeal.com",
          "South Florida/Wade Tyler Millward",
          "South Florida/Francisco Alvarado",
          "South Florida/Kate Hinsche",
          "South Florida/Amanda Rabines",
          "South Florida/Katherine Kallergis",
          "South Florida/Suzannah Cavanaugh",
          "South Florida/Master Brokers Forum",
          "South Florida/Chava Gourarie",
          "South Florida/Mary Diduch",
          "South Florida/TRD Staff",
          "South Florida/Cindy Krischer Goodman",
          "South Florida/Mike Seemuth",
          "South Florida",
          "South Florida/Sponsored Content",
          "South Florida/Jordan Pandy",
          "South Florida/Ina Cordle",
          "South Florida/Erik Bojnansky",
          "South Florida/Hannah Kramer",
          "South Florida/Keith Larsen",
          "South Florida/Lidia Dinkova",
          "South Florida/Ted Glanzer",
          "South Florida/Sean Stewart-Muniz",
          "South Florida/Robert Silk",
          "Tampa/quinn.donoghue@therealdeal.com",
          "Tampa/Rachel Stone",
          "Tampa",
          "Tampa/TRD Staff",
          "Tampa/Ted Glanzer",
          "Texas/Sponsored Content",
          "Texas",
          "Texas/Kathryn Hardison",
          "Texas/quinn.donoghue@therealdeal.com",
          "Texas/Karn Dhingra",
          "Texas/Isaiah Mitchell",
          "Texas/Jess Hardin",
          "Texas/TRD Staff",
          "Texas/Ted Glanzer",
          "Texas/Patrick Sisson",
          "Texas/James Bell",
          "Texas/Maddy Sperling",
          "Texas/Kari Hamanaka",
          "Texas/Isabella Farr",
          "Texas/Christian Bautista",
          "Texas/Suzannah Cavanaugh",
          "Texas/Rachel Stone",
          "Texas/Brandon Sams",
          "Texas/Cindy Widner",
          "Texas/Joe Lovinger",
          "Texas/Keith Larsen",
          "Texas/Judah Duke",
          "Texas/Erick Pirayesh",
          "Texas/Krista M. Torralva",
          "Tri-State/Eddie Small",
          "Tri-State/Cailley LaPara",
          "Tri-State/Gabriel Poblete",
          "Tri-State/TRD Staff",
          "Tri-State/David Craig",
          "Tri-State/Claude Solnik",
          "Tri-State/Mike Odenthal",
          "Tri-State/Georgia Kromrei",
          "Tri-State/James Kleimann",
          "Tri-State/Mariam Lobjanidze",
          "Tri-State/Emily Davis",
          "Tri-State/Orion Jones",
          "Tri-State/Joe Lovinger",
          "Tri-State/Suzannah Cavanaugh",
          "Tri-State/Christian Bautista",
          "Tri-State/Rebekah Bell",
          "Tri-State/Jess Hardin",
          "Tri-State/Sponsored Content",
          "Tri-State/Amir Ghaheri",
          "Tri-State/Christina Previte",
          "Tri-State/Joseph Jungermann",
          "Tri-State/Judith Messina",
          "Tri-State",
          "Tri-State/Bill Egbert",
          "Tri-State/Nicole Rosenthal",
          "Tri-State/Kathryn Brenzel",
          "Tri-State/Bill Cary",
          "Tri-State/Erik Engquist",
          "Tri-State/Laura Euler",
          "Tri-State/Sasha Jones",
          "Tri-State/Ted Glanzer",
          "Tri-State/James Van Bramer",
          "Tri-State/Elizabeth Cryan",
          "Tri-State/Jake Indursky",
          "Tri-State/Harrison Connery",
          "Tri-State/Ellie Quinlan Houghtaling",
          "Tri-State/Amy R. Partridge",
          "Tri-State/Heather Senison",
          "Tri-State/Kevin Sun",
          "Tri-State/Mary Diduch",
          "Tri-State/Aidan Gardiner",
          "Tri-State/Akiko Matsuda",
          "Tri-State/Sheridan Wall",
          "Tri-State/Kate Hinsche",
          "Tri-State/Jeff Andrews",
          "Tri-State/Cordilia James",
          "Tri-State/Dennis Lynch",
          "Tri-State/Sylvia Varnham O'Regan",
          "Tri-State/Richard Murdocco",
          "Tri-State/Pat Ralph",
          "Tri-State/Holden Walter-Warner",
          "Tri-State/Edward Williams",
          "Tri-State/Rachel Herzog",
          "Tri-State/Rich Bockmann",
          "Tri-State/Keith Larsen",
          "Tri-State/Elisa Muyl",
          "Tri-State/Erin Hudson",
          "Tri-State/E.B. Solomont",
          "Tri-State/V.L. Hendrickson",
          "Tri-State/Eliane Pofeldt",
          "Tri-State/Grace Cassidy",
          "Tri-State/Mario Marroquin",
          "Tri-State/Nisha Shetty",
          "Tri-State/Maya Rajamani",
          "Uncategorized",
          "Uncategorized/TRD Staff",
          "Washington D.C./Sheridan Wall",
          "Washington D.C.",
          "Washington D.C./TRD Staff",
          "Washington D.C./Keith Larsen",
          "Washington D.C./Jake Indursky"
         ],
         "labels": [
          "Jess Hardin",
          "quinn.donoghue@therealdeal.com",
          "Atlanta",
          "TRD Staff",
          "Erick Pirayesh",
          "Christian Bautista",
          "Joe Lovinger",
          "Judah Duke",
          "Emily Landes",
          "Hiten Samtani",
          "Jess Hardin",
          "Rachel Stone",
          "TRD Staff",
          "Victoria Pruitt",
          "Cindy Widner",
          "Keith Larsen",
          "quinn.donoghue@therealdeal.com",
          "Maddy Sperling",
          "Karn Dhingra",
          "Kathryn Hardison",
          "Austin",
          "Brandon Sams",
          "James Bell",
          "Isabella Farr",
          "TRD Staff",
          "Boston",
          "TRD Staff",
          "Charlotte",
          "Rachel Stone",
          "Rachel Herzog",
          "Isabella Farr",
          "Miranda Davis",
          "Connie Kim",
          "Dennis Lynch",
          "Scott Klocksin",
          "Jerry Sullivan",
          "Sasha Jones",
          "John OBrien",
          "Joe Ward",
          "Jess Hardin",
          "Hiten Samtani",
          "Sponsored Content",
          "Keith Larsen",
          "quinn.donoghue@therealdeal.com",
          "Miriam Finder Annenberg",
          "Brandon Sams",
          "Georgia Kromrei",
          "Suzannah Cavanaugh",
          "Victoria Pruitt",
          "Christian Bautista",
          "Ted Glanzer",
          "Bill Egbert",
          "Akiko Matsuda",
          "admin",
          "Alex Nitkin",
          "Jennifer Waters",
          "Adam Farence",
          "Emma Whalen",
          "Kevin Sun",
          "Judah Duke",
          "Brianna Kelly",
          "Haru Coryne",
          "TRD Staff",
          "Kelli Duncan",
          "Sam Lounsberry",
          "Chicago",
          "TRD Staff",
          "Cindy Widner",
          "Jess Hardin",
          "Judah Duke",
          "Karn Dhingra",
          "Erick Pirayesh",
          "quinn.donoghue@therealdeal.com",
          "Dallas",
          "Rachel Stone",
          "Kathryn Hardison",
          "Christian Bautista",
          "James Bell",
          "Maddy Sperling",
          "Joe Lovinger",
          "Brandon Sams",
          "Denver",
          "TRD Staff",
          "Fort Worth",
          "Ted Glanzer",
          "Joe Lovinger",
          "quinn.donoghue@therealdeal.com",
          "Judah Duke",
          "TRD Staff",
          "Jess Hardin",
          "TRD Staff",
          "Rachel Stone",
          "Jess Hardin",
          "Isabella Farr",
          "Karn Dhingra",
          "Houston",
          "Judah Duke",
          "Maddy Sperling",
          "quinn.donoghue@therealdeal.com",
          "Joe Lovinger",
          "Andrew Terrell",
          "Christian Bautista",
          "Brandon Sams",
          "Bill Egbert",
          "Suzannah Cavanaugh",
          "Kathryn Hardison",
          "Erick Pirayesh",
          "James Bell",
          "Cindy Widner",
          "Isabella Farr",
          "Las Vegas",
          "TRD Staff",
          "Caroline Anderson",
          "Kerry Barger",
          "Erin Hudson",
          "Trevor Bach",
          "Hannah Miet",
          "Laurie Dove",
          "Abigail Nehring",
          "Isabella Farr",
          "Keith Larsen",
          "Lauren Elkies Schram",
          "James Kleimann",
          "Kari Hamanaka",
          "Los Angeles",
          "Alena Botros",
          "Lauren Elkies-Schram",
          "Andrew Asch",
          "Cathaleen Chen",
          "C.J. Hughes",
          "TRD Staff",
          "Vik Jolly",
          "Gregory Cornfield",
          "Kevin Sun",
          "Joe Lovinger",
          "Francisco Alvarado",
          "Marcie Geffner",
          "Mary Diduch",
          "Christian Bautista",
          "Joel Russell",
          "Julie Walmsley",
          "Tina Daunt",
          "Daria Solovieva",
          "Suzannah Cavanaugh",
          "Subrina Hudson",
          "Lauren Herstik",
          "Sam Lounsberry",
          "Rich Bockmann",
          "Joseph Jungermann",
          "Oliver Bentley",
          "Emily Landes",
          "Justin Sayles",
          "Matthew Blake",
          "Natalie Hoberman",
          "Dennis Lynch",
          "Haru Coryne",
          "Chris Malone Méndez",
          "Hannah Kramer",
          "Gabrielle Paluch",
          "Ted Glanzer",
          "Pat Maio",
          "Antoinette Bueno",
          "Sponsored Content",
          "Christopher Cameron",
          "Katherine Clarke",
          "E.B. Solomont",
          "Laurie L. Dove",
          "Alexei Barrionuevo",
          "Dana Bartholomew",
          "Ellen Cranley",
          "Shira Levine",
          "TRD Staff",
          "Isabella Farr",
          "quinn.donoghue@therealdeal.com",
          "Judah Duke",
          "Nashville",
          "Sam Lounsberry",
          "Francisco Alvarado",
          "Miranda Davis",
          "Hannah Kramer",
          "Emily Davis",
          "Patrick Sisson",
          "Laura Euler",
          "David Westenhaver",
          "Kelli Duncan",
          "Pat Ralph",
          "Sasha Jones",
          "Erin Hudson",
          "Ellie Quinlan Houghtaling",
          "Kevin Sun",
          "Rachel Herzog",
          "Raji Pandya",
          "Propmodo",
          "Orion Jones",
          "Lidia Dinkova",
          "Daria Solovieva",
          "Christian Bautista",
          "Emily Landes",
          "David Jeans",
          "Bill Egbert",
          "James Van Bramer",
          "Natalie Hoberman",
          "Eddie Small",
          "Danielle Balbi",
          "Kari Hamanaka",
          "Mary Diduch",
          "Holden Walter-Warner",
          "Ted Phillips",
          "Rich Bockmann",
          "Isabella Farr",
          "Harrison Connery",
          "Elizabeth Cryan",
          "Sponsored Content",
          "Ted Glanzer",
          "Cordilia James",
          "Amir Korangy",
          "Lauren Elkies Schram",
          "Nicole Rosenthal",
          "TRD Staff",
          "National",
          "quinn.donoghue@therealdeal.com",
          "Cindy Widner",
          "Sheridan Wall",
          "Jake Indursky",
          "Erick Pirayesh",
          "Suzannah Cavanaugh",
          "Kathryn Brenzel",
          "Katherine Kallergis",
          "Ellen Cranley",
          "Adam Farence",
          "Keith Larsen",
          "Dan Latu",
          "Mike Romano",
          "Matthew Niksa",
          "Judah Duke",
          "Dennis Lynch",
          "Joe Lovinger",
          "Georgia Kromrei",
          "Hiten Samtani",
          "Sylvia Varnham O'Regan",
          "Jeff Andrews",
          "Stuart Elliott",
          "Kate Hinsche",
          "Erik Engquist",
          "Andrew Asch",
          "Jennifer Waters",
          "Emma Whalen",
          "Akiko Matsuda",
          "Cara Eisenpress",
          "TRD Marketing",
          "E.B. Solomont",
          "Mariam Lobjanidze",
          "Elizabeth Kiefer",
          "Christina Previte",
          "Adam Piore",
          "Jess Hardin",
          "Trevor Bach",
          "T.P. Yeatts",
          "Hasan Ali",
          "Trevor Bach",
          "Alexandra White",
          "Miriam Kreinin Souccar",
          "New York",
          "Matthew Blake",
          "Guelda Voien",
          "Ann Imperatore",
          "Cindy Widner",
          "Bill Cary",
          "Nisha Shetty",
          "Miriam Hall",
          "Matt Schneiderman",
          "Christina Previte",
          "Adam Pogoff",
          "Donna M. Airoldi",
          "Kyna Doles",
          "Amy Tennery",
          "Demi Guo",
          "TRD Staff",
          "Tess Hofmann",
          "Richard Murdocco",
          "Sponsored Content",
          "Marynia Kruk",
          "Matthew Elo",
          "Hannah Kramer",
          "Ellie Quinlan Houghtaling",
          "Kevin Sun",
          "Greg Dool",
          "Joe Lovinger",
          "Adam Pincus",
          "Sylvia Varnham O'Regan",
          "Mariam Lobjanidze",
          "Hiten Samtani",
          "Katherine Clarke",
          "Konrad Putzier",
          "Ariel Stulberg",
          "Emily Davis",
          "Adam Piore",
          "Jay Young",
          "David Jeans",
          "Christian Bautista",
          "Rey Mashayekhi",
          "Akiko Matsuda",
          "Isabella Farr",
          "Ted Glanzer",
          "Nicole Rosenthal",
          "Lidia Dinkova",
          "Georgia Kromrei",
          "Business Insider",
          "Cara Eisenpress",
          "Mike Romano",
          "Elisa Muyl",
          "Isable Schwab",
          "Jeff Andrews",
          "C.J. Hughes",
          "David Westenhaver",
          "Avital Chizhik-Goldschmidt",
          "Chava Gourarie",
          "Liz Lucking",
          "Lucas McGill",
          "Erin Hudson",
          "Orion Jones",
          "Cordilia James",
          "Sue Malesevic",
          "Cale Weissman",
          "Katherine Kallergis",
          "Mary Diduch",
          "Holden Walter-Warner",
          "Sasha Jones",
          "Jake Indursky",
          "Kathryn Brenzel",
          "Suzannah Cavanaugh",
          "Claire Moses",
          "Sheridan Wall",
          "Elizabeth Cryan",
          "Keith Larsen",
          "Rich Bockmann",
          "Erik Engquist",
          "Candace Taylor",
          "Harrison Connery",
          "Eddie Small",
          "Pat Ralph",
          "Lois Weiss",
          "Bill Egbert",
          "James Van Bramer",
          "Raji Pandya",
          "T.P. Yeatts",
          "Christopher Cameron",
          "Ellen Cranley",
          "Gabriel Poblete",
          "Jacqueline Sweet",
          "E.B. Solomont",
          "Leigh Kamping-Carder",
          "Mark Maurer",
          "Sarabeth Sanders",
          "Will Parker",
          "Decca Muldowney",
          "TRD Staff",
          "Orlando",
          "TRD Staff",
          "Philadelphia",
          "Holden Walter-Warner",
          "Caroline Handel",
          "TRD Staff",
          "Joel Russell",
          "Phoenix",
          "Christian Bautista",
          "Joe Lovinger",
          "San Antonio",
          "Jess Hardin",
          "TRD Staff",
          "Christian Bautista",
          "Dana Bartholomew",
          "Gabriel Poblete",
          "Matthew Niksa",
          "Joel Russell",
          "Chris Malone Méndez",
          "Isabella Farr",
          "Victoria Pruitt",
          "Joseph Jungermann",
          "Pawan Naidu",
          "Bill Egbert",
          "Andrew Asch",
          "Daria Solovieva",
          "Adam Farence",
          "Trevor Bach",
          "Rachel Herzog",
          "Jerry Sullivan",
          "Lauren Elkies Schram",
          "TRD Staff",
          "San Francisco",
          "Kari Hamanaka",
          "Emily Landes",
          "Abigail Nehring",
          "TRD Staff",
          "Seattle",
          "E.B. Solomont",
          "Jess Hardin",
          "Katherine Clarke",
          "Eric Kalis",
          "Adam Farence",
          "Sheridan Wall",
          "Dan Weil",
          "quinn.donoghue@therealdeal.com",
          "Wade Tyler Millward",
          "Francisco Alvarado",
          "Kate Hinsche",
          "Amanda Rabines",
          "Katherine Kallergis",
          "Suzannah Cavanaugh",
          "Master Brokers Forum",
          "Chava Gourarie",
          "Mary Diduch",
          "TRD Staff",
          "Cindy Krischer Goodman",
          "Mike Seemuth",
          "South Florida",
          "Sponsored Content",
          "Jordan Pandy",
          "Ina Cordle",
          "Erik Bojnansky",
          "Hannah Kramer",
          "Keith Larsen",
          "Lidia Dinkova",
          "Ted Glanzer",
          "Sean Stewart-Muniz",
          "Robert Silk",
          "quinn.donoghue@therealdeal.com",
          "Rachel Stone",
          "Tampa",
          "TRD Staff",
          "Ted Glanzer",
          "Sponsored Content",
          "Texas",
          "Kathryn Hardison",
          "quinn.donoghue@therealdeal.com",
          "Karn Dhingra",
          "Isaiah Mitchell",
          "Jess Hardin",
          "TRD Staff",
          "Ted Glanzer",
          "Patrick Sisson",
          "James Bell",
          "Maddy Sperling",
          "Kari Hamanaka",
          "Isabella Farr",
          "Christian Bautista",
          "Suzannah Cavanaugh",
          "Rachel Stone",
          "Brandon Sams",
          "Cindy Widner",
          "Joe Lovinger",
          "Keith Larsen",
          "Judah Duke",
          "Erick Pirayesh",
          "Krista M. Torralva",
          "Eddie Small",
          "Cailley LaPara",
          "Gabriel Poblete",
          "TRD Staff",
          "David Craig",
          "Claude Solnik",
          "Mike Odenthal",
          "Georgia Kromrei",
          "James Kleimann",
          "Mariam Lobjanidze",
          "Emily Davis",
          "Orion Jones",
          "Joe Lovinger",
          "Suzannah Cavanaugh",
          "Christian Bautista",
          "Rebekah Bell",
          "Jess Hardin",
          "Sponsored Content",
          "Amir Ghaheri",
          "Christina Previte",
          "Joseph Jungermann",
          "Judith Messina",
          "Tri-State",
          "Bill Egbert",
          "Nicole Rosenthal",
          "Kathryn Brenzel",
          "Bill Cary",
          "Erik Engquist",
          "Laura Euler",
          "Sasha Jones",
          "Ted Glanzer",
          "James Van Bramer",
          "Elizabeth Cryan",
          "Jake Indursky",
          "Harrison Connery",
          "Ellie Quinlan Houghtaling",
          "Amy R. Partridge",
          "Heather Senison",
          "Kevin Sun",
          "Mary Diduch",
          "Aidan Gardiner",
          "Akiko Matsuda",
          "Sheridan Wall",
          "Kate Hinsche",
          "Jeff Andrews",
          "Cordilia James",
          "Dennis Lynch",
          "Sylvia Varnham O'Regan",
          "Richard Murdocco",
          "Pat Ralph",
          "Holden Walter-Warner",
          "Edward Williams",
          "Rachel Herzog",
          "Rich Bockmann",
          "Keith Larsen",
          "Elisa Muyl",
          "Erin Hudson",
          "E.B. Solomont",
          "V.L. Hendrickson",
          "Eliane Pofeldt",
          "Grace Cassidy",
          "Mario Marroquin",
          "Nisha Shetty",
          "Maya Rajamani",
          "Uncategorized",
          "TRD Staff",
          "Sheridan Wall",
          "Washington D.C.",
          "TRD Staff",
          "Keith Larsen",
          "Jake Indursky"
         ],
         "marker": {
          "colors": [
           "#636efa",
           "#636efa",
           "#636efa",
           "#636efa",
           "#EF553B",
           "#EF553B",
           "#EF553B",
           "#EF553B",
           "#EF553B",
           "#EF553B",
           "#EF553B",
           "#EF553B",
           "#EF553B",
           "#EF553B",
           "#EF553B",
           "#EF553B",
           "#EF553B",
           "#EF553B",
           "#EF553B",
           "#EF553B",
           "#EF553B",
           "#EF553B",
           "#EF553B",
           "#EF553B",
           "#00cc96",
           "#00cc96",
           "#ab63fa",
           "#ab63fa",
           "#ab63fa",
           "#FFA15A",
           "#FFA15A",
           "#FFA15A",
           "#FFA15A",
           "#FFA15A",
           "#FFA15A",
           "#FFA15A",
           "#FFA15A",
           "#FFA15A",
           "#FFA15A",
           "#FFA15A",
           "#FFA15A",
           "#FFA15A",
           "#FFA15A",
           "#FFA15A",
           "#FFA15A",
           "#FFA15A",
           "#FFA15A",
           "#FFA15A",
           "#FFA15A",
           "#FFA15A",
           "#FFA15A",
           "#FFA15A",
           "#FFA15A",
           "#FFA15A",
           "#FFA15A",
           "#FFA15A",
           "#FFA15A",
           "#FFA15A",
           "#FFA15A",
           "#FFA15A",
           "#FFA15A",
           "#FFA15A",
           "#FFA15A",
           "#FFA15A",
           "#FFA15A",
           "#FFA15A",
           "#19d3f3",
           "#19d3f3",
           "#19d3f3",
           "#19d3f3",
           "#19d3f3",
           "#19d3f3",
           "#19d3f3",
           "#19d3f3",
           "#19d3f3",
           "#19d3f3",
           "#19d3f3",
           "#19d3f3",
           "#19d3f3",
           "#19d3f3",
           "#19d3f3",
           "#FF6692",
           "#FF6692",
           "#B6E880",
           "#B6E880",
           "#B6E880",
           "#B6E880",
           "#B6E880",
           "#B6E880",
           "#B6E880",
           "#FF97FF",
           "#FF97FF",
           "#FF97FF",
           "#FF97FF",
           "#FF97FF",
           "#FF97FF",
           "#FF97FF",
           "#FF97FF",
           "#FF97FF",
           "#FF97FF",
           "#FF97FF",
           "#FF97FF",
           "#FF97FF",
           "#FF97FF",
           "#FF97FF",
           "#FF97FF",
           "#FF97FF",
           "#FF97FF",
           "#FF97FF",
           "#FECB52",
           "#FECB52",
           "#FECB52",
           "#636efa",
           "#636efa",
           "#636efa",
           "#636efa",
           "#636efa",
           "#636efa",
           "#636efa",
           "#636efa",
           "#636efa",
           "#636efa",
           "#636efa",
           "#636efa",
           "#636efa",
           "#636efa",
           "#636efa",
           "#636efa",
           "#636efa",
           "#636efa",
           "#636efa",
           "#636efa",
           "#636efa",
           "#636efa",
           "#636efa",
           "#636efa",
           "#636efa",
           "#636efa",
           "#636efa",
           "#636efa",
           "#636efa",
           "#636efa",
           "#636efa",
           "#636efa",
           "#636efa",
           "#636efa",
           "#636efa",
           "#636efa",
           "#636efa",
           "#636efa",
           "#636efa",
           "#636efa",
           "#636efa",
           "#636efa",
           "#636efa",
           "#636efa",
           "#636efa",
           "#636efa",
           "#636efa",
           "#636efa",
           "#636efa",
           "#636efa",
           "#636efa",
           "#636efa",
           "#636efa",
           "#636efa",
           "#636efa",
           "#636efa",
           "#636efa",
           "#636efa",
           "#636efa",
           "#EF553B",
           "#EF553B",
           "#EF553B",
           "#EF553B",
           "#EF553B",
           "#00cc96",
           "#00cc96",
           "#00cc96",
           "#00cc96",
           "#00cc96",
           "#00cc96",
           "#00cc96",
           "#00cc96",
           "#00cc96",
           "#00cc96",
           "#00cc96",
           "#00cc96",
           "#00cc96",
           "#00cc96",
           "#00cc96",
           "#00cc96",
           "#00cc96",
           "#00cc96",
           "#00cc96",
           "#00cc96",
           "#00cc96",
           "#00cc96",
           "#00cc96",
           "#00cc96",
           "#00cc96",
           "#00cc96",
           "#00cc96",
           "#00cc96",
           "#00cc96",
           "#00cc96",
           "#00cc96",
           "#00cc96",
           "#00cc96",
           "#00cc96",
           "#00cc96",
           "#00cc96",
           "#00cc96",
           "#00cc96",
           "#00cc96",
           "#00cc96",
           "#00cc96",
           "#00cc96",
           "#00cc96",
           "#00cc96",
           "#00cc96",
           "#00cc96",
           "#00cc96",
           "#00cc96",
           "#00cc96",
           "#00cc96",
           "#00cc96",
           "#00cc96",
           "#00cc96",
           "#00cc96",
           "#00cc96",
           "#00cc96",
           "#00cc96",
           "#00cc96",
           "#00cc96",
           "#00cc96",
           "#00cc96",
           "#00cc96",
           "#00cc96",
           "#00cc96",
           "#00cc96",
           "#00cc96",
           "#00cc96",
           "#00cc96",
           "#00cc96",
           "#00cc96",
           "#00cc96",
           "#00cc96",
           "#00cc96",
           "#00cc96",
           "#00cc96",
           "#00cc96",
           "#00cc96",
           "#00cc96",
           "#00cc96",
           "#00cc96",
           "#00cc96",
           "#00cc96",
           "#ab63fa",
           "#ab63fa",
           "#ab63fa",
           "#ab63fa",
           "#ab63fa",
           "#ab63fa",
           "#ab63fa",
           "#ab63fa",
           "#ab63fa",
           "#ab63fa",
           "#ab63fa",
           "#ab63fa",
           "#ab63fa",
           "#ab63fa",
           "#ab63fa",
           "#ab63fa",
           "#ab63fa",
           "#ab63fa",
           "#ab63fa",
           "#ab63fa",
           "#ab63fa",
           "#ab63fa",
           "#ab63fa",
           "#ab63fa",
           "#ab63fa",
           "#ab63fa",
           "#ab63fa",
           "#ab63fa",
           "#ab63fa",
           "#ab63fa",
           "#ab63fa",
           "#ab63fa",
           "#ab63fa",
           "#ab63fa",
           "#ab63fa",
           "#ab63fa",
           "#ab63fa",
           "#ab63fa",
           "#ab63fa",
           "#ab63fa",
           "#ab63fa",
           "#ab63fa",
           "#ab63fa",
           "#ab63fa",
           "#ab63fa",
           "#ab63fa",
           "#ab63fa",
           "#ab63fa",
           "#ab63fa",
           "#ab63fa",
           "#ab63fa",
           "#ab63fa",
           "#ab63fa",
           "#ab63fa",
           "#ab63fa",
           "#ab63fa",
           "#ab63fa",
           "#ab63fa",
           "#ab63fa",
           "#ab63fa",
           "#ab63fa",
           "#ab63fa",
           "#ab63fa",
           "#ab63fa",
           "#ab63fa",
           "#ab63fa",
           "#ab63fa",
           "#ab63fa",
           "#ab63fa",
           "#ab63fa",
           "#ab63fa",
           "#ab63fa",
           "#ab63fa",
           "#ab63fa",
           "#ab63fa",
           "#ab63fa",
           "#ab63fa",
           "#ab63fa",
           "#ab63fa",
           "#ab63fa",
           "#ab63fa",
           "#ab63fa",
           "#ab63fa",
           "#ab63fa",
           "#ab63fa",
           "#ab63fa",
           "#ab63fa",
           "#ab63fa",
           "#ab63fa",
           "#ab63fa",
           "#ab63fa",
           "#ab63fa",
           "#ab63fa",
           "#ab63fa",
           "#ab63fa",
           "#ab63fa",
           "#ab63fa",
           "#ab63fa",
           "#FFA15A",
           "#FFA15A",
           "#19d3f3",
           "#19d3f3",
           "#19d3f3",
           "#19d3f3",
           "#FF6692",
           "#FF6692",
           "#FF6692",
           "#B6E880",
           "#B6E880",
           "#B6E880",
           "#B6E880",
           "#B6E880",
           "#FF97FF",
           "#FF97FF",
           "#FF97FF",
           "#FF97FF",
           "#FF97FF",
           "#FF97FF",
           "#FF97FF",
           "#FF97FF",
           "#FF97FF",
           "#FF97FF",
           "#FF97FF",
           "#FF97FF",
           "#FF97FF",
           "#FF97FF",
           "#FF97FF",
           "#FF97FF",
           "#FF97FF",
           "#FF97FF",
           "#FF97FF",
           "#FF97FF",
           "#FF97FF",
           "#FF97FF",
           "#FF97FF",
           "#FECB52",
           "#FECB52",
           "#636efa",
           "#636efa",
           "#636efa",
           "#636efa",
           "#636efa",
           "#636efa",
           "#636efa",
           "#636efa",
           "#636efa",
           "#636efa",
           "#636efa",
           "#636efa",
           "#636efa",
           "#636efa",
           "#636efa",
           "#636efa",
           "#636efa",
           "#636efa",
           "#636efa",
           "#636efa",
           "#636efa",
           "#636efa",
           "#636efa",
           "#636efa",
           "#636efa",
           "#636efa",
           "#636efa",
           "#636efa",
           "#636efa",
           "#636efa",
           "#636efa",
           "#EF553B",
           "#EF553B",
           "#EF553B",
           "#EF553B",
           "#EF553B",
           "#00cc96",
           "#00cc96",
           "#00cc96",
           "#00cc96",
           "#00cc96",
           "#00cc96",
           "#00cc96",
           "#00cc96",
           "#00cc96",
           "#00cc96",
           "#00cc96",
           "#00cc96",
           "#00cc96",
           "#00cc96",
           "#00cc96",
           "#00cc96",
           "#00cc96",
           "#00cc96",
           "#00cc96",
           "#00cc96",
           "#00cc96",
           "#00cc96",
           "#00cc96",
           "#00cc96",
           "#ab63fa",
           "#ab63fa",
           "#ab63fa",
           "#ab63fa",
           "#ab63fa",
           "#ab63fa",
           "#ab63fa",
           "#ab63fa",
           "#ab63fa",
           "#ab63fa",
           "#ab63fa",
           "#ab63fa",
           "#ab63fa",
           "#ab63fa",
           "#ab63fa",
           "#ab63fa",
           "#ab63fa",
           "#ab63fa",
           "#ab63fa",
           "#ab63fa",
           "#ab63fa",
           "#ab63fa",
           "#ab63fa",
           "#ab63fa",
           "#ab63fa",
           "#ab63fa",
           "#ab63fa",
           "#ab63fa",
           "#ab63fa",
           "#ab63fa",
           "#ab63fa",
           "#ab63fa",
           "#ab63fa",
           "#ab63fa",
           "#ab63fa",
           "#ab63fa",
           "#ab63fa",
           "#ab63fa",
           "#ab63fa",
           "#ab63fa",
           "#ab63fa",
           "#ab63fa",
           "#ab63fa",
           "#ab63fa",
           "#ab63fa",
           "#ab63fa",
           "#ab63fa",
           "#ab63fa",
           "#ab63fa",
           "#ab63fa",
           "#ab63fa",
           "#ab63fa",
           "#ab63fa",
           "#ab63fa",
           "#ab63fa",
           "#ab63fa",
           "#ab63fa",
           "#ab63fa",
           "#ab63fa",
           "#ab63fa",
           "#ab63fa",
           "#ab63fa",
           "#ab63fa",
           "#ab63fa",
           "#FFA15A",
           "#FFA15A",
           "#19d3f3",
           "#19d3f3",
           "#19d3f3",
           "#19d3f3",
           "#19d3f3"
          ]
         },
         "name": "",
         "parents": [
          "Atlanta",
          "Atlanta",
          "",
          "Atlanta",
          "Austin",
          "Austin",
          "Austin",
          "Austin",
          "Austin",
          "Austin",
          "Austin",
          "Austin",
          "Austin",
          "Austin",
          "Austin",
          "Austin",
          "Austin",
          "Austin",
          "Austin",
          "Austin",
          "",
          "Austin",
          "Austin",
          "Austin",
          "Boston",
          "",
          "Charlotte",
          "",
          "Charlotte",
          "Chicago",
          "Chicago",
          "Chicago",
          "Chicago",
          "Chicago",
          "Chicago",
          "Chicago",
          "Chicago",
          "Chicago",
          "Chicago",
          "Chicago",
          "Chicago",
          "Chicago",
          "Chicago",
          "Chicago",
          "Chicago",
          "Chicago",
          "Chicago",
          "Chicago",
          "Chicago",
          "Chicago",
          "Chicago",
          "Chicago",
          "Chicago",
          "Chicago",
          "Chicago",
          "Chicago",
          "Chicago",
          "Chicago",
          "Chicago",
          "Chicago",
          "Chicago",
          "Chicago",
          "Chicago",
          "Chicago",
          "Chicago",
          "",
          "Dallas",
          "Dallas",
          "Dallas",
          "Dallas",
          "Dallas",
          "Dallas",
          "Dallas",
          "",
          "Dallas",
          "Dallas",
          "Dallas",
          "Dallas",
          "Dallas",
          "Dallas",
          "Dallas",
          "",
          "Denver",
          "",
          "Fort Worth",
          "Fort Worth",
          "Fort Worth",
          "Fort Worth",
          "Fort Worth",
          "Fort Worth",
          "Houston",
          "Houston",
          "Houston",
          "Houston",
          "Houston",
          "",
          "Houston",
          "Houston",
          "Houston",
          "Houston",
          "Houston",
          "Houston",
          "Houston",
          "Houston",
          "Houston",
          "Houston",
          "Houston",
          "Houston",
          "Houston",
          "Las Vegas",
          "",
          "Las Vegas",
          "Los Angeles",
          "Los Angeles",
          "Los Angeles",
          "Los Angeles",
          "Los Angeles",
          "Los Angeles",
          "Los Angeles",
          "Los Angeles",
          "Los Angeles",
          "Los Angeles",
          "Los Angeles",
          "Los Angeles",
          "",
          "Los Angeles",
          "Los Angeles",
          "Los Angeles",
          "Los Angeles",
          "Los Angeles",
          "Los Angeles",
          "Los Angeles",
          "Los Angeles",
          "Los Angeles",
          "Los Angeles",
          "Los Angeles",
          "Los Angeles",
          "Los Angeles",
          "Los Angeles",
          "Los Angeles",
          "Los Angeles",
          "Los Angeles",
          "Los Angeles",
          "Los Angeles",
          "Los Angeles",
          "Los Angeles",
          "Los Angeles",
          "Los Angeles",
          "Los Angeles",
          "Los Angeles",
          "Los Angeles",
          "Los Angeles",
          "Los Angeles",
          "Los Angeles",
          "Los Angeles",
          "Los Angeles",
          "Los Angeles",
          "Los Angeles",
          "Los Angeles",
          "Los Angeles",
          "Los Angeles",
          "Los Angeles",
          "Los Angeles",
          "Los Angeles",
          "Los Angeles",
          "Los Angeles",
          "Los Angeles",
          "Los Angeles",
          "Los Angeles",
          "Los Angeles",
          "Los Angeles",
          "Nashville",
          "Nashville",
          "Nashville",
          "Nashville",
          "",
          "National",
          "National",
          "National",
          "National",
          "National",
          "National",
          "National",
          "National",
          "National",
          "National",
          "National",
          "National",
          "National",
          "National",
          "National",
          "National",
          "National",
          "National",
          "National",
          "National",
          "National",
          "National",
          "National",
          "National",
          "National",
          "National",
          "National",
          "National",
          "National",
          "National",
          "National",
          "National",
          "National",
          "National",
          "National",
          "National",
          "National",
          "National",
          "National",
          "National",
          "National",
          "National",
          "National",
          "",
          "National",
          "National",
          "National",
          "National",
          "National",
          "National",
          "National",
          "National",
          "National",
          "National",
          "National",
          "National",
          "National",
          "National",
          "National",
          "National",
          "National",
          "National",
          "National",
          "National",
          "National",
          "National",
          "National",
          "National",
          "National",
          "National",
          "National",
          "National",
          "National",
          "National",
          "National",
          "National",
          "National",
          "National",
          "National",
          "National",
          "National",
          "National",
          "New York",
          "New York",
          "New York",
          "New York",
          "",
          "New York",
          "New York",
          "New York",
          "New York",
          "New York",
          "New York",
          "New York",
          "New York",
          "New York",
          "New York",
          "New York",
          "New York",
          "New York",
          "New York",
          "New York",
          "New York",
          "New York",
          "New York",
          "New York",
          "New York",
          "New York",
          "New York",
          "New York",
          "New York",
          "New York",
          "New York",
          "New York",
          "New York",
          "New York",
          "New York",
          "New York",
          "New York",
          "New York",
          "New York",
          "New York",
          "New York",
          "New York",
          "New York",
          "New York",
          "New York",
          "New York",
          "New York",
          "New York",
          "New York",
          "New York",
          "New York",
          "New York",
          "New York",
          "New York",
          "New York",
          "New York",
          "New York",
          "New York",
          "New York",
          "New York",
          "New York",
          "New York",
          "New York",
          "New York",
          "New York",
          "New York",
          "New York",
          "New York",
          "New York",
          "New York",
          "New York",
          "New York",
          "New York",
          "New York",
          "New York",
          "New York",
          "New York",
          "New York",
          "New York",
          "New York",
          "New York",
          "New York",
          "New York",
          "New York",
          "New York",
          "New York",
          "New York",
          "New York",
          "New York",
          "New York",
          "New York",
          "New York",
          "New York",
          "New York",
          "New York",
          "New York",
          "New York",
          "New York",
          "Orlando",
          "",
          "Philadelphia",
          "",
          "Philadelphia",
          "Philadelphia",
          "Phoenix",
          "Phoenix",
          "",
          "San Antonio",
          "San Antonio",
          "",
          "San Antonio",
          "San Antonio",
          "San Francisco",
          "San Francisco",
          "San Francisco",
          "San Francisco",
          "San Francisco",
          "San Francisco",
          "San Francisco",
          "San Francisco",
          "San Francisco",
          "San Francisco",
          "San Francisco",
          "San Francisco",
          "San Francisco",
          "San Francisco",
          "San Francisco",
          "San Francisco",
          "San Francisco",
          "San Francisco",
          "San Francisco",
          "",
          "San Francisco",
          "San Francisco",
          "San Francisco",
          "Seattle",
          "",
          "South Florida",
          "South Florida",
          "South Florida",
          "South Florida",
          "South Florida",
          "South Florida",
          "South Florida",
          "South Florida",
          "South Florida",
          "South Florida",
          "South Florida",
          "South Florida",
          "South Florida",
          "South Florida",
          "South Florida",
          "South Florida",
          "South Florida",
          "South Florida",
          "South Florida",
          "South Florida",
          "",
          "South Florida",
          "South Florida",
          "South Florida",
          "South Florida",
          "South Florida",
          "South Florida",
          "South Florida",
          "South Florida",
          "South Florida",
          "South Florida",
          "Tampa",
          "Tampa",
          "",
          "Tampa",
          "Tampa",
          "Texas",
          "",
          "Texas",
          "Texas",
          "Texas",
          "Texas",
          "Texas",
          "Texas",
          "Texas",
          "Texas",
          "Texas",
          "Texas",
          "Texas",
          "Texas",
          "Texas",
          "Texas",
          "Texas",
          "Texas",
          "Texas",
          "Texas",
          "Texas",
          "Texas",
          "Texas",
          "Texas",
          "Tri-State",
          "Tri-State",
          "Tri-State",
          "Tri-State",
          "Tri-State",
          "Tri-State",
          "Tri-State",
          "Tri-State",
          "Tri-State",
          "Tri-State",
          "Tri-State",
          "Tri-State",
          "Tri-State",
          "Tri-State",
          "Tri-State",
          "Tri-State",
          "Tri-State",
          "Tri-State",
          "Tri-State",
          "Tri-State",
          "Tri-State",
          "Tri-State",
          "",
          "Tri-State",
          "Tri-State",
          "Tri-State",
          "Tri-State",
          "Tri-State",
          "Tri-State",
          "Tri-State",
          "Tri-State",
          "Tri-State",
          "Tri-State",
          "Tri-State",
          "Tri-State",
          "Tri-State",
          "Tri-State",
          "Tri-State",
          "Tri-State",
          "Tri-State",
          "Tri-State",
          "Tri-State",
          "Tri-State",
          "Tri-State",
          "Tri-State",
          "Tri-State",
          "Tri-State",
          "Tri-State",
          "Tri-State",
          "Tri-State",
          "Tri-State",
          "Tri-State",
          "Tri-State",
          "Tri-State",
          "Tri-State",
          "Tri-State",
          "Tri-State",
          "Tri-State",
          "Tri-State",
          "Tri-State",
          "Tri-State",
          "Tri-State",
          "Tri-State",
          "Tri-State",
          "",
          "Uncategorized",
          "Washington D.C.",
          "",
          "Washington D.C.",
          "Washington D.C.",
          "Washington D.C."
         ],
         "type": "treemap",
         "values": {
          "bdata": "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",
          "dtype": "f8"
         }
        }
       ],
       "layout": {
        "legend": {
         "tracegroupgap": 0
        },
        "template": {
         "data": {
          "bar": [
           {
            "error_x": {
             "color": "#2a3f5f"
            },
            "error_y": {
             "color": "#2a3f5f"
            },
            "marker": {
             "line": {
              "color": "#E5ECF6",
              "width": 0.5
             },
             "pattern": {
              "fillmode": "overlay",
              "size": 10,
              "solidity": 0.2
             }
            },
            "type": "bar"
           }
          ],
          "barpolar": [
           {
            "marker": {
             "line": {
              "color": "#E5ECF6",
              "width": 0.5
             },
             "pattern": {
              "fillmode": "overlay",
              "size": 10,
              "solidity": 0.2
             }
            },
            "type": "barpolar"
           }
          ],
          "carpet": [
           {
            "aaxis": {
             "endlinecolor": "#2a3f5f",
             "gridcolor": "white",
             "linecolor": "white",
             "minorgridcolor": "white",
             "startlinecolor": "#2a3f5f"
            },
            "baxis": {
             "endlinecolor": "#2a3f5f",
             "gridcolor": "white",
             "linecolor": "white",
             "minorgridcolor": "white",
             "startlinecolor": "#2a3f5f"
            },
            "type": "carpet"
           }
          ],
          "choropleth": [
           {
            "colorbar": {
             "outlinewidth": 0,
             "ticks": ""
            },
            "type": "choropleth"
           }
          ],
          "contour": [
           {
            "colorbar": {
             "outlinewidth": 0,
             "ticks": ""
            },
            "colorscale": [
             [
              0,
              "#0d0887"
             ],
             [
              0.1111111111111111,
              "#46039f"
             ],
             [
              0.2222222222222222,
              "#7201a8"
             ],
             [
              0.3333333333333333,
              "#9c179e"
             ],
             [
              0.4444444444444444,
              "#bd3786"
             ],
             [
              0.5555555555555556,
              "#d8576b"
             ],
             [
              0.6666666666666666,
              "#ed7953"
             ],
             [
              0.7777777777777778,
              "#fb9f3a"
             ],
             [
              0.8888888888888888,
              "#fdca26"
             ],
             [
              1,
              "#f0f921"
             ]
            ],
            "type": "contour"
           }
          ],
          "contourcarpet": [
           {
            "colorbar": {
             "outlinewidth": 0,
             "ticks": ""
            },
            "type": "contourcarpet"
           }
          ],
          "heatmap": [
           {
            "colorbar": {
             "outlinewidth": 0,
             "ticks": ""
            },
            "colorscale": [
             [
              0,
              "#0d0887"
             ],
             [
              0.1111111111111111,
              "#46039f"
             ],
             [
              0.2222222222222222,
              "#7201a8"
             ],
             [
              0.3333333333333333,
              "#9c179e"
             ],
             [
              0.4444444444444444,
              "#bd3786"
             ],
             [
              0.5555555555555556,
              "#d8576b"
             ],
             [
              0.6666666666666666,
              "#ed7953"
             ],
             [
              0.7777777777777778,
              "#fb9f3a"
             ],
             [
              0.8888888888888888,
              "#fdca26"
             ],
             [
              1,
              "#f0f921"
             ]
            ],
            "type": "heatmap"
           }
          ],
          "histogram": [
           {
            "marker": {
             "pattern": {
              "fillmode": "overlay",
              "size": 10,
              "solidity": 0.2
             }
            },
            "type": "histogram"
           }
          ],
          "histogram2d": [
           {
            "colorbar": {
             "outlinewidth": 0,
             "ticks": ""
            },
            "colorscale": [
             [
              0,
              "#0d0887"
             ],
             [
              0.1111111111111111,
              "#46039f"
             ],
             [
              0.2222222222222222,
              "#7201a8"
             ],
             [
              0.3333333333333333,
              "#9c179e"
             ],
             [
              0.4444444444444444,
              "#bd3786"
             ],
             [
              0.5555555555555556,
              "#d8576b"
             ],
             [
              0.6666666666666666,
              "#ed7953"
             ],
             [
              0.7777777777777778,
              "#fb9f3a"
             ],
             [
              0.8888888888888888,
              "#fdca26"
             ],
             [
              1,
              "#f0f921"
             ]
            ],
            "type": "histogram2d"
           }
          ],
          "histogram2dcontour": [
           {
            "colorbar": {
             "outlinewidth": 0,
             "ticks": ""
            },
            "colorscale": [
             [
              0,
              "#0d0887"
             ],
             [
              0.1111111111111111,
              "#46039f"
             ],
             [
              0.2222222222222222,
              "#7201a8"
             ],
             [
              0.3333333333333333,
              "#9c179e"
             ],
             [
              0.4444444444444444,
              "#bd3786"
             ],
             [
              0.5555555555555556,
              "#d8576b"
             ],
             [
              0.6666666666666666,
              "#ed7953"
             ],
             [
              0.7777777777777778,
              "#fb9f3a"
             ],
             [
              0.8888888888888888,
              "#fdca26"
             ],
             [
              1,
              "#f0f921"
             ]
            ],
            "type": "histogram2dcontour"
           }
          ],
          "mesh3d": [
           {
            "colorbar": {
             "outlinewidth": 0,
             "ticks": ""
            },
            "type": "mesh3d"
           }
          ],
          "parcoords": [
           {
            "line": {
             "colorbar": {
              "outlinewidth": 0,
              "ticks": ""
             }
            },
            "type": "parcoords"
           }
          ],
          "pie": [
           {
            "automargin": true,
            "type": "pie"
           }
          ],
          "scatter": [
           {
            "fillpattern": {
             "fillmode": "overlay",
             "size": 10,
             "solidity": 0.2
            },
            "type": "scatter"
           }
          ],
          "scatter3d": [
           {
            "line": {
             "colorbar": {
              "outlinewidth": 0,
              "ticks": ""
             }
            },
            "marker": {
             "colorbar": {
              "outlinewidth": 0,
              "ticks": ""
             }
            },
            "type": "scatter3d"
           }
          ],
          "scattercarpet": [
           {
            "marker": {
             "colorbar": {
              "outlinewidth": 0,
              "ticks": ""
             }
            },
            "type": "scattercarpet"
           }
          ],
          "scattergeo": [
           {
            "marker": {
             "colorbar": {
              "outlinewidth": 0,
              "ticks": ""
             }
            },
            "type": "scattergeo"
           }
          ],
          "scattergl": [
           {
            "marker": {
             "colorbar": {
              "outlinewidth": 0,
              "ticks": ""
             }
            },
            "type": "scattergl"
           }
          ],
          "scattermap": [
           {
            "marker": {
             "colorbar": {
              "outlinewidth": 0,
              "ticks": ""
             }
            },
            "type": "scattermap"
           }
          ],
          "scattermapbox": [
           {
            "marker": {
             "colorbar": {
              "outlinewidth": 0,
              "ticks": ""
             }
            },
            "type": "scattermapbox"
           }
          ],
          "scatterpolar": [
           {
            "marker": {
             "colorbar": {
              "outlinewidth": 0,
              "ticks": ""
             }
            },
            "type": "scatterpolar"
           }
          ],
          "scatterpolargl": [
           {
            "marker": {
             "colorbar": {
              "outlinewidth": 0,
              "ticks": ""
             }
            },
            "type": "scatterpolargl"
           }
          ],
          "scatterternary": [
           {
            "marker": {
             "colorbar": {
              "outlinewidth": 0,
              "ticks": ""
             }
            },
            "type": "scatterternary"
           }
          ],
          "surface": [
           {
            "colorbar": {
             "outlinewidth": 0,
             "ticks": ""
            },
            "colorscale": [
             [
              0,
              "#0d0887"
             ],
             [
              0.1111111111111111,
              "#46039f"
             ],
             [
              0.2222222222222222,
              "#7201a8"
             ],
             [
              0.3333333333333333,
              "#9c179e"
             ],
             [
              0.4444444444444444,
              "#bd3786"
             ],
             [
              0.5555555555555556,
              "#d8576b"
             ],
             [
              0.6666666666666666,
              "#ed7953"
             ],
             [
              0.7777777777777778,
              "#fb9f3a"
             ],
             [
              0.8888888888888888,
              "#fdca26"
             ],
             [
              1,
              "#f0f921"
             ]
            ],
            "type": "surface"
           }
          ],
          "table": [
           {
            "cells": {
             "fill": {
              "color": "#EBF0F8"
             },
             "line": {
              "color": "white"
             }
            },
            "header": {
             "fill": {
              "color": "#C8D4E3"
             },
             "line": {
              "color": "white"
             }
            },
            "type": "table"
           }
          ]
         },
         "layout": {
          "annotationdefaults": {
           "arrowcolor": "#2a3f5f",
           "arrowhead": 0,
           "arrowwidth": 1
          },
          "autotypenumbers": "strict",
          "coloraxis": {
           "colorbar": {
            "outlinewidth": 0,
            "ticks": ""
           }
          },
          "colorscale": {
           "diverging": [
            [
             0,
             "#8e0152"
            ],
            [
             0.1,
             "#c51b7d"
            ],
            [
             0.2,
             "#de77ae"
            ],
            [
             0.3,
             "#f1b6da"
            ],
            [
             0.4,
             "#fde0ef"
            ],
            [
             0.5,
             "#f7f7f7"
            ],
            [
             0.6,
             "#e6f5d0"
            ],
            [
             0.7,
             "#b8e186"
            ],
            [
             0.8,
             "#7fbc41"
            ],
            [
             0.9,
             "#4d9221"
            ],
            [
             1,
             "#276419"
            ]
           ],
           "sequential": [
            [
             0,
             "#0d0887"
            ],
            [
             0.1111111111111111,
             "#46039f"
            ],
            [
             0.2222222222222222,
             "#7201a8"
            ],
            [
             0.3333333333333333,
             "#9c179e"
            ],
            [
             0.4444444444444444,
             "#bd3786"
            ],
            [
             0.5555555555555556,
             "#d8576b"
            ],
            [
             0.6666666666666666,
             "#ed7953"
            ],
            [
             0.7777777777777778,
             "#fb9f3a"
            ],
            [
             0.8888888888888888,
             "#fdca26"
            ],
            [
             1,
             "#f0f921"
            ]
           ],
           "sequentialminus": [
            [
             0,
             "#0d0887"
            ],
            [
             0.1111111111111111,
             "#46039f"
            ],
            [
             0.2222222222222222,
             "#7201a8"
            ],
            [
             0.3333333333333333,
             "#9c179e"
            ],
            [
             0.4444444444444444,
             "#bd3786"
            ],
            [
             0.5555555555555556,
             "#d8576b"
            ],
            [
             0.6666666666666666,
             "#ed7953"
            ],
            [
             0.7777777777777778,
             "#fb9f3a"
            ],
            [
             0.8888888888888888,
             "#fdca26"
            ],
            [
             1,
             "#f0f921"
            ]
           ]
          },
          "colorway": [
           "#636efa",
           "#EF553B",
           "#00cc96",
           "#ab63fa",
           "#FFA15A",
           "#19d3f3",
           "#FF6692",
           "#B6E880",
           "#FF97FF",
           "#FECB52"
          ],
          "font": {
           "color": "#2a3f5f"
          },
          "geo": {
           "bgcolor": "white",
           "lakecolor": "white",
           "landcolor": "#E5ECF6",
           "showlakes": true,
           "showland": true,
           "subunitcolor": "white"
          },
          "hoverlabel": {
           "align": "left"
          },
          "hovermode": "closest",
          "mapbox": {
           "style": "light"
          },
          "paper_bgcolor": "white",
          "plot_bgcolor": "#E5ECF6",
          "polar": {
           "angularaxis": {
            "gridcolor": "white",
            "linecolor": "white",
            "ticks": ""
           },
           "bgcolor": "#E5ECF6",
           "radialaxis": {
            "gridcolor": "white",
            "linecolor": "white",
            "ticks": ""
           }
          },
          "scene": {
           "xaxis": {
            "backgroundcolor": "#E5ECF6",
            "gridcolor": "white",
            "gridwidth": 2,
            "linecolor": "white",
            "showbackground": true,
            "ticks": "",
            "zerolinecolor": "white"
           },
           "yaxis": {
            "backgroundcolor": "#E5ECF6",
            "gridcolor": "white",
            "gridwidth": 2,
            "linecolor": "white",
            "showbackground": true,
            "ticks": "",
            "zerolinecolor": "white"
           },
           "zaxis": {
            "backgroundcolor": "#E5ECF6",
            "gridcolor": "white",
            "gridwidth": 2,
            "linecolor": "white",
            "showbackground": true,
            "ticks": "",
            "zerolinecolor": "white"
           }
          },
          "shapedefaults": {
           "line": {
            "color": "#2a3f5f"
           }
          },
          "ternary": {
           "aaxis": {
            "gridcolor": "white",
            "linecolor": "white",
            "ticks": ""
           },
           "baxis": {
            "gridcolor": "white",
            "linecolor": "white",
            "ticks": ""
           },
           "bgcolor": "#E5ECF6",
           "caxis": {
            "gridcolor": "white",
            "linecolor": "white",
            "ticks": ""
           }
          },
          "title": {
           "x": 0.05
          },
          "xaxis": {
           "automargin": true,
           "gridcolor": "white",
           "linecolor": "white",
           "ticks": "",
           "title": {
            "standoff": 15
           },
           "zerolinecolor": "white",
           "zerolinewidth": 2
          },
          "yaxis": {
           "automargin": true,
           "gridcolor": "white",
           "linecolor": "white",
           "ticks": "",
           "title": {
            "standoff": 15
           },
           "zerolinecolor": "white",
           "zerolinewidth": 2
          }
         }
        },
        "title": {
         "text": "Pageviews by Section → Author (Last 30 days)"
        }
       }
      },
      "image/png": "[encoded data removed]"
     },
     "metadata": {},
     "output_type": "display_data"
    }
   ],
   "source": [
    "import plotly.express as px\n",
    "\n",
    "fig = px.treemap(\n",
    "    df_filtered,\n",
    "    path=[\"section\",\"author\"],   # hierarchy\n",
    "    values=\"pageviews\",          # size by pageviews\n",
    "    color=\"section\",             # color by section\n",
    "    hover_data=[\"pageviews\"],    # show pageviews on hover\n",
    "    title=\"Pageviews by Section → Author (Last 30 days)\"\n",
    ")\n",
    "fig.write_html(\"index.html\")\n",
    "fig.show()"
   ]
  },
  {
   "cell_type": "code",
   "execution_count": 95,
   "id": "fa61daeb-2e76-4f25-880b-c47d21556f40",
   "metadata": {},
   "outputs": [
    {
     "data": {
      "application/vnd.plotly.v1+json": {
       "config": {
        "plotlyServerURL": "https://plot.ly"
       },
       "data": [
        {
         "branchvalues": "total",
         "customdata": [
          [
           39,
           "Atlanta"
          ],
          [
           2,
           "Atlanta"
          ],
          [
           5170,
           "Atlanta"
          ],
          [
           5129,
           "Atlanta"
          ],
          [
           48,
           "Austin"
          ],
          [
           7,
           "Austin"
          ],
          [
           1107,
           "Austin"
          ],
          [
           1018,
           "Austin"
          ],
          [
           3,
           "Austin"
          ],
          [
           1,
           "Austin"
          ],
          [
           968,
           "Austin"
          ],
          [
           8,
           "Austin"
          ],
          [
           10367,
           "Austin"
          ],
          [
           2,
           "Austin"
          ],
          [
           69,
           "Austin"
          ],
          [
           7,
           "Austin"
          ],
          [
           18,
           "Austin"
          ],
          [
           500,
           "Austin"
          ],
          [
           26,
           "Austin"
          ],
          [
           21,
           "Austin"
          ],
          [
           14274,
           "Austin"
          ],
          [
           25,
           "Austin"
          ],
          [
           59,
           "Austin"
          ],
          [
           20,
           "Austin"
          ],
          [
           2612,
           "Boston"
          ],
          [
           2612,
           "Boston"
          ],
          [
           3233,
           "Charlotte"
          ],
          [
           3236,
           "Charlotte"
          ],
          [
           3,
           "Charlotte"
          ],
          [
           1260,
           "Chicago"
          ],
          [
           6,
           "Chicago"
          ],
          [
           2136,
           "Chicago"
          ],
          [
           148,
           "Chicago"
          ],
          [
           24,
           "Chicago"
          ],
          [
           6,
           "Chicago"
          ],
          [
           8,
           "Chicago"
          ],
          [
           27,
           "Chicago"
          ],
          [
           267,
           "Chicago"
          ],
          [
           110,
           "Chicago"
          ],
          [
           297,
           "Chicago"
          ],
          [
           17,
           "Chicago"
          ],
          [
           17,
           "Chicago"
          ],
          [
           17,
           "Chicago"
          ],
          [
           19,
           "Chicago"
          ],
          [
           15,
           "Chicago"
          ],
          [
           25,
           "Chicago"
          ],
          [
           14,
           "Chicago"
          ],
          [
           10,
           "Chicago"
          ],
          [
           37,
           "Chicago"
          ],
          [
           88,
           "Chicago"
          ],
          [
           10,
           "Chicago"
          ],
          [
           37,
           "Chicago"
          ],
          [
           8,
           "Chicago"
          ],
          [
           20,
           "Chicago"
          ],
          [
           194,
           "Chicago"
          ],
          [
           152,
           "Chicago"
          ],
          [
           4,
           "Chicago"
          ],
          [
           27921,
           "Chicago"
          ],
          [
           5,
           "Chicago"
          ],
          [
           4839,
           "Chicago"
          ],
          [
           59,
           "Chicago"
          ],
          [
           4,
           "Chicago"
          ],
          [
           66915,
           "Chicago"
          ],
          [
           9176,
           "Chicago"
          ],
          [
           39897,
           "Chicago"
          ],
          [
           153789,
           "Chicago"
          ],
          [
           19676,
           "Dallas"
          ],
          [
           17,
           "Dallas"
          ],
          [
           29590,
           "Dallas"
          ],
          [
           1866,
           "Dallas"
          ],
          [
           28,
           "Dallas"
          ],
          [
           362,
           "Dallas"
          ],
          [
           32,
           "Dallas"
          ],
          [
           52256,
           "Dallas"
          ],
          [
           158,
           "Dallas"
          ],
          [
           5,
           "Dallas"
          ],
          [
           47,
           "Dallas"
          ],
          [
           223,
           "Dallas"
          ],
          [
           31,
           "Dallas"
          ],
          [
           209,
           "Dallas"
          ],
          [
           12,
           "Dallas"
          ],
          [
           3578,
           "Denver"
          ],
          [
           3578,
           "Denver"
          ],
          [
           7632,
           "Fort Worth"
          ],
          [
           6,
           "Fort Worth"
          ],
          [
           5,
           "Fort Worth"
          ],
          [
           6,
           "Fort Worth"
          ],
          [
           6,
           "Fort Worth"
          ],
          [
           7352,
           "Fort Worth"
          ],
          [
           257,
           "Fort Worth"
          ],
          [
           8683,
           "Houston"
          ],
          [
           56,
           "Houston"
          ],
          [
           3646,
           "Houston"
          ],
          [
           17,
           "Houston"
          ],
          [
           227,
           "Houston"
          ],
          [
           14106,
           "Houston"
          ],
          [
           133,
           "Houston"
          ],
          [
           23,
           "Houston"
          ],
          [
           24,
           "Houston"
          ],
          [
           107,
           "Houston"
          ],
          [
           8,
           "Houston"
          ],
          [
           100,
           "Houston"
          ],
          [
           886,
           "Houston"
          ],
          [
           7,
           "Houston"
          ],
          [
           65,
           "Houston"
          ],
          [
           3,
           "Houston"
          ],
          [
           8,
           "Houston"
          ],
          [
           43,
           "Houston"
          ],
          [
           70,
           "Houston"
          ],
          [
           26,
           "Las Vegas"
          ],
          [
           2106,
           "Las Vegas"
          ],
          [
           2080,
           "Las Vegas"
          ],
          [
           61,
           "Los Angeles"
          ],
          [
           43,
           "Los Angeles"
          ],
          [
           18,
           "Los Angeles"
          ],
          [
           1397,
           "Los Angeles"
          ],
          [
           259,
           "Los Angeles"
          ],
          [
           7,
           "Los Angeles"
          ],
          [
           27690,
           "Los Angeles"
          ],
          [
           5440,
           "Los Angeles"
          ],
          [
           250,
           "Los Angeles"
          ],
          [
           310,
           "Los Angeles"
          ],
          [
           7,
           "Los Angeles"
          ],
          [
           37221,
           "Los Angeles"
          ],
          [
           159561,
           "Los Angeles"
          ],
          [
           2071,
           "Los Angeles"
          ],
          [
           2041,
           "Los Angeles"
          ],
          [
           2857,
           "Los Angeles"
          ],
          [
           171,
           "Los Angeles"
          ],
          [
           146,
           "Los Angeles"
          ],
          [
           71137,
           "Los Angeles"
          ],
          [
           44,
           "Los Angeles"
          ],
          [
           181,
           "Los Angeles"
          ],
          [
           120,
           "Los Angeles"
          ],
          [
           27,
           "Los Angeles"
          ],
          [
           73,
           "Los Angeles"
          ],
          [
           23,
           "Los Angeles"
          ],
          [
           196,
           "Los Angeles"
          ],
          [
           2226,
           "Los Angeles"
          ],
          [
           67,
           "Los Angeles"
          ],
          [
           16,
           "Los Angeles"
          ],
          [
           138,
           "Los Angeles"
          ],
          [
           1060,
           "Los Angeles"
          ],
          [
           316,
           "Los Angeles"
          ],
          [
           363,
           "Los Angeles"
          ],
          [
           11,
           "Los Angeles"
          ],
          [
           54,
           "Los Angeles"
          ],
          [
           63,
           "Los Angeles"
          ],
          [
           37,
           "Los Angeles"
          ],
          [
           8,
           "Los Angeles"
          ],
          [
           10,
           "Los Angeles"
          ],
          [
           9,
           "Los Angeles"
          ],
          [
           601,
           "Los Angeles"
          ],
          [
           618,
           "Los Angeles"
          ],
          [
           633,
           "Los Angeles"
          ],
          [
           9,
           "Los Angeles"
          ],
          [
           695,
           "Los Angeles"
          ],
          [
           8,
           "Los Angeles"
          ],
          [
           38,
           "Los Angeles"
          ],
          [
           8,
           "Los Angeles"
          ],
          [
           99,
           "Los Angeles"
          ],
          [
           11,
           "Los Angeles"
          ],
          [
           16,
           "Los Angeles"
          ],
          [
           12,
           "Los Angeles"
          ],
          [
           375,
           "Los Angeles"
          ],
          [
           8,
           "Los Angeles"
          ],
          [
           13,
           "Los Angeles"
          ],
          [
           80,
           "Los Angeles"
          ],
          [
           102,
           "Los Angeles"
          ],
          [
           13,
           "Los Angeles"
          ],
          [
           54,
           "Los Angeles"
          ],
          [
           5694,
           "Nashville"
          ],
          [
           174,
           "Nashville"
          ],
          [
           10,
           "Nashville"
          ],
          [
           50,
           "Nashville"
          ],
          [
           5928,
           "Nashville"
          ],
          [
           42,
           "National"
          ],
          [
           82,
           "National"
          ],
          [
           82,
           "National"
          ],
          [
           74,
           "National"
          ],
          [
           48,
           "National"
          ],
          [
           68,
           "National"
          ],
          [
           29,
           "National"
          ],
          [
           104,
           "National"
          ],
          [
           73,
           "National"
          ],
          [
           40,
           "National"
          ],
          [
           119,
           "National"
          ],
          [
           108,
           "National"
          ],
          [
           28,
           "National"
          ],
          [
           134,
           "National"
          ],
          [
           73,
           "National"
          ],
          [
           27,
           "National"
          ],
          [
           34,
           "National"
          ],
          [
           123,
           "National"
          ],
          [
           34,
           "National"
          ],
          [
           28,
           "National"
          ],
          [
           49,
           "National"
          ],
          [
           62,
           "National"
          ],
          [
           65,
           "National"
          ],
          [
           8,
           "National"
          ],
          [
           6,
           "National"
          ],
          [
           6,
           "National"
          ],
          [
           6,
           "National"
          ],
          [
           6,
           "National"
          ],
          [
           1771,
           "National"
          ],
          [
           1567,
           "National"
          ],
          [
           2395,
           "National"
          ],
          [
           8,
           "National"
          ],
          [
           950,
           "National"
          ],
          [
           935,
           "National"
          ],
          [
           908,
           "National"
          ],
          [
           824,
           "National"
          ],
          [
           764,
           "National"
          ],
          [
           576,
           "National"
          ],
          [
           8,
           "National"
          ],
          [
           10,
           "National"
          ],
          [
           6,
           "National"
          ],
          [
           5,
           "National"
          ],
          [
           74888,
           "National"
          ],
          [
           157850,
           "National"
          ],
          [
           2,
           "National"
          ],
          [
           2,
           "National"
          ],
          [
           16398,
           "National"
          ],
          [
           10142,
           "National"
          ],
          [
           6,
           "National"
          ],
          [
           9572,
           "National"
          ],
          [
           6859,
           "National"
          ],
          [
           5971,
           "National"
          ],
          [
           5692,
           "National"
          ],
          [
           4,
           "National"
          ],
          [
           4642,
           "National"
          ],
          [
           4,
           "National"
          ],
          [
           8904,
           "National"
          ],
          [
           10,
           "National"
          ],
          [
           58,
           "National"
          ],
          [
           16,
           "National"
          ],
          [
           229,
           "National"
          ],
          [
           20,
           "National"
          ],
          [
           238,
           "National"
          ],
          [
           20,
           "National"
          ],
          [
           23,
           "National"
          ],
          [
           189,
           "National"
          ],
          [
           251,
           "National"
          ],
          [
           267,
           "National"
          ],
          [
           18,
           "National"
          ],
          [
           17,
           "National"
          ],
          [
           16,
           "National"
          ],
          [
           57,
           "National"
          ],
          [
           21,
           "National"
          ],
          [
           13,
           "National"
          ],
          [
           442,
           "National"
          ],
          [
           12,
           "National"
          ],
          [
           12,
           "National"
          ],
          [
           11,
           "National"
          ],
          [
           178,
           "National"
          ],
          [
           177,
           "National"
          ],
          [
           171,
           "National"
          ],
          [
           13,
           "National"
          ],
          [
           22,
           "New York"
          ],
          [
           24,
           "New York"
          ],
          [
           54,
           "New York"
          ],
          [
           23,
           "New York"
          ],
          [
           647118,
           "New York"
          ],
          [
           36,
           "New York"
          ],
          [
           48,
           "New York"
          ],
          [
           28,
           "New York"
          ],
          [
           28,
           "New York"
          ],
          [
           48,
           "New York"
          ],
          [
           36,
           "New York"
          ],
          [
           39,
           "New York"
          ],
          [
           34,
           "New York"
          ],
          [
           35,
           "New York"
          ],
          [
           38,
           "New York"
          ],
          [
           26,
           "New York"
          ],
          [
           36,
           "New York"
          ],
          [
           22,
           "New York"
          ],
          [
           25,
           "New York"
          ],
          [
           190672,
           "New York"
          ],
          [
           95,
           "New York"
          ],
          [
           121,
           "New York"
          ],
          [
           118,
           "New York"
          ],
          [
           335,
           "New York"
          ],
          [
           341,
           "New York"
          ],
          [
           342,
           "New York"
          ],
          [
           383,
           "New York"
          ],
          [
           406,
           "New York"
          ],
          [
           131,
           "New York"
          ],
          [
           412,
           "New York"
          ],
          [
           431,
           "New York"
          ],
          [
           438,
           "New York"
          ],
          [
           500,
           "New York"
          ],
          [
           518,
           "New York"
          ],
          [
           526,
           "New York"
          ],
          [
           533,
           "New York"
          ],
          [
           553,
           "New York"
          ],
          [
           106,
           "New York"
          ],
          [
           140,
           "New York"
          ],
          [
           143,
           "New York"
          ],
          [
           310,
           "New York"
          ],
          [
           184,
           "New York"
          ],
          [
           194,
           "New York"
          ],
          [
           178,
           "New York"
          ],
          [
           175,
           "New York"
          ],
          [
           200,
           "New York"
          ],
          [
           159,
           "New York"
          ],
          [
           200,
           "New York"
          ],
          [
           217,
           "New York"
          ],
          [
           220,
           "New York"
          ],
          [
           153,
           "New York"
          ],
          [
           222,
           "New York"
          ],
          [
           144,
           "New York"
          ],
          [
           242,
           "New York"
          ],
          [
           245,
           "New York"
          ],
          [
           265,
           "New York"
          ],
          [
           298,
           "New York"
          ],
          [
           308,
           "New York"
          ],
          [
           95,
           "New York"
          ],
          [
           189,
           "New York"
          ],
          [
           189,
           "New York"
          ],
          [
           597,
           "New York"
          ],
          [
           2725,
           "New York"
          ],
          [
           71,
           "New York"
          ],
          [
           67,
           "New York"
          ],
          [
           3483,
           "New York"
          ],
          [
           4821,
           "New York"
          ],
          [
           5394,
           "New York"
          ],
          [
           16909,
           "New York"
          ],
          [
           583,
           "New York"
          ],
          [
           25098,
           "New York"
          ],
          [
           41204,
           "New York"
          ],
          [
           42709,
           "New York"
          ],
          [
           62,
           "New York"
          ],
          [
           48353,
           "New York"
          ],
          [
           53764,
           "New York"
          ],
          [
           58415,
           "New York"
          ],
          [
           95351,
           "New York"
          ],
          [
           31890,
           "New York"
          ],
          [
           71,
           "New York"
          ],
          [
           2238,
           "New York"
          ],
          [
           974,
           "New York"
          ],
          [
           703,
           "New York"
          ],
          [
           834,
           "New York"
          ],
          [
           947,
           "New York"
          ],
          [
           85,
           "New York"
          ],
          [
           72,
           "New York"
          ],
          [
           81,
           "New York"
          ],
          [
           673,
           "New York"
          ],
          [
           1109,
           "New York"
          ],
          [
           78,
           "New York"
          ],
          [
           77,
           "New York"
          ],
          [
           1751,
           "New York"
          ],
          [
           88,
           "New York"
          ],
          [
           1977,
           "New York"
          ],
          [
           76,
           "New York"
          ],
          [
           1467,
           "New York"
          ],
          [
           88,
           "New York"
          ],
          [
           321,
           "Orlando"
          ],
          [
           321,
           "Orlando"
          ],
          [
           3191,
           "Philadelphia"
          ],
          [
           3307,
           "Philadelphia"
          ],
          [
           14,
           "Philadelphia"
          ],
          [
           102,
           "Philadelphia"
          ],
          [
           6956,
           "Phoenix"
          ],
          [
           30,
           "Phoenix"
          ],
          [
           6986,
           "Phoenix"
          ],
          [
           5,
           "San Antonio"
          ],
          [
           108,
           "San Antonio"
          ],
          [
           3111,
           "San Antonio"
          ],
          [
           996,
           "San Antonio"
          ],
          [
           2002,
           "San Antonio"
          ],
          [
           1122,
           "San Francisco"
          ],
          [
           42,
           "San Francisco"
          ],
          [
           17,
           "San Francisco"
          ],
          [
           977,
           "San Francisco"
          ],
          [
           71,
           "San Francisco"
          ],
          [
           1041,
           "San Francisco"
          ],
          [
           412,
           "San Francisco"
          ],
          [
           58,
           "San Francisco"
          ],
          [
           5,
           "San Francisco"
          ],
          [
           845,
           "San Francisco"
          ],
          [
           29,
           "San Francisco"
          ],
          [
           3,
           "San Francisco"
          ],
          [
           10,
           "San Francisco"
          ],
          [
           7,
           "San Francisco"
          ],
          [
           8,
           "San Francisco"
          ],
          [
           26,
           "San Francisco"
          ],
          [
           55,
           "San Francisco"
          ],
          [
           62,
           "San Francisco"
          ],
          [
           59878,
           "San Francisco"
          ],
          [
           130224,
           "San Francisco"
          ],
          [
           52,
           "San Francisco"
          ],
          [
           58481,
           "San Francisco"
          ],
          [
           7023,
           "San Francisco"
          ],
          [
           4163,
           "Seattle"
          ],
          [
           4163,
           "Seattle"
          ],
          [
           31,
           "South Florida"
          ],
          [
           104,
           "South Florida"
          ],
          [
           38,
           "South Florida"
          ],
          [
           80,
           "South Florida"
          ],
          [
           1260,
           "South Florida"
          ],
          [
           89,
           "South Florida"
          ],
          [
           26,
           "South Florida"
          ],
          [
           56,
           "South Florida"
          ],
          [
           463,
           "South Florida"
          ],
          [
           73557,
           "South Florida"
          ],
          [
           75715,
           "South Florida"
          ],
          [
           591,
           "South Florida"
          ],
          [
           81112,
           "South Florida"
          ],
          [
           24,
           "South Florida"
          ],
          [
           27,
           "South Florida"
          ],
          [
           26,
           "South Florida"
          ],
          [
           317,
           "South Florida"
          ],
          [
           11379,
           "South Florida"
          ],
          [
           65,
           "South Florida"
          ],
          [
           4680,
           "South Florida"
          ],
          [
           315278,
           "South Florida"
          ],
          [
           371,
           "South Florida"
          ],
          [
           3833,
           "South Florida"
          ],
          [
           817,
           "South Florida"
          ],
          [
           3567,
           "South Florida"
          ],
          [
           48,
           "South Florida"
          ],
          [
           2251,
           "South Florida"
          ],
          [
           54317,
           "South Florida"
          ],
          [
           20,
           "South Florida"
          ],
          [
           391,
           "South Florida"
          ],
          [
           23,
           "South Florida"
          ],
          [
           6,
           "Tampa"
          ],
          [
           24,
           "Tampa"
          ],
          [
           1590,
           "Tampa"
          ],
          [
           1552,
           "Tampa"
          ],
          [
           8,
           "Tampa"
          ],
          [
           31,
           "Texas"
          ],
          [
           34356,
           "Texas"
          ],
          [
           13,
           "Texas"
          ],
          [
           15,
           "Texas"
          ],
          [
           33,
           "Texas"
          ],
          [
           544,
           "Texas"
          ],
          [
           4029,
           "Texas"
          ],
          [
           26900,
           "Texas"
          ],
          [
           1,
           "Texas"
          ],
          [
           50,
           "Texas"
          ],
          [
           102,
           "Texas"
          ],
          [
           443,
           "Texas"
          ],
          [
           10,
           "Texas"
          ],
          [
           26,
           "Texas"
          ],
          [
           21,
           "Texas"
          ],
          [
           85,
           "Texas"
          ],
          [
           56,
           "Texas"
          ],
          [
           155,
           "Texas"
          ],
          [
           71,
           "Texas"
          ],
          [
           788,
           "Texas"
          ],
          [
           3,
           "Texas"
          ],
          [
           726,
           "Texas"
          ],
          [
           251,
           "Texas"
          ],
          [
           3,
           "Texas"
          ],
          [
           1,
           "Tri-State"
          ],
          [
           2,
           "Tri-State"
          ],
          [
           2,
           "Tri-State"
          ],
          [
           18661,
           "Tri-State"
          ],
          [
           2,
           "Tri-State"
          ],
          [
           18,
           "Tri-State"
          ],
          [
           3,
           "Tri-State"
          ],
          [
           17,
           "Tri-State"
          ],
          [
           2,
           "Tri-State"
          ],
          [
           64,
           "Tri-State"
          ],
          [
           87,
           "Tri-State"
          ],
          [
           143,
           "Tri-State"
          ],
          [
           159,
           "Tri-State"
          ],
          [
           201,
           "Tri-State"
          ],
          [
           21,
           "Tri-State"
          ],
          [
           25,
           "Tri-State"
          ],
          [
           233,
           "Tri-State"
          ],
          [
           20,
           "Tri-State"
          ],
          [
           1,
           "Tri-State"
          ],
          [
           20,
           "Tri-State"
          ],
          [
           26,
           "Tri-State"
          ],
          [
           19,
           "Tri-State"
          ],
          [
           36589,
           "Tri-State"
          ],
          [
           19,
           "Tri-State"
          ],
          [
           246,
           "Tri-State"
          ],
          [
           63,
           "Tri-State"
          ],
          [
           62,
           "Tri-State"
          ],
          [
           5752,
           "Tri-State"
          ],
          [
           114,
           "Tri-State"
          ],
          [
           319,
           "Tri-State"
          ],
          [
           42,
           "Tri-State"
          ],
          [
           12,
           "Tri-State"
          ],
          [
           522,
           "Tri-State"
          ],
          [
           1311,
           "Tri-State"
          ],
          [
           546,
           "Tri-State"
          ],
          [
           39,
           "Tri-State"
          ],
          [
           7,
           "Tri-State"
          ],
          [
           8,
           "Tri-State"
          ],
          [
           9,
           "Tri-State"
          ],
          [
           8,
           "Tri-State"
          ],
          [
           39,
           "Tri-State"
          ],
          [
           89,
           "Tri-State"
          ],
          [
           662,
           "Tri-State"
          ],
          [
           9,
           "Tri-State"
          ],
          [
           8,
           "Tri-State"
          ],
          [
           31,
           "Tri-State"
          ],
          [
           3,
           "Tri-State"
          ],
          [
           30,
           "Tri-State"
          ],
          [
           5,
           "Tri-State"
          ],
          [
           87,
           "Tri-State"
          ],
          [
           110,
           "Tri-State"
          ],
          [
           4,
           "Tri-State"
          ],
          [
           16,
           "Tri-State"
          ],
          [
           2343,
           "Tri-State"
          ],
          [
           4166,
           "Tri-State"
          ],
          [
           15,
           "Tri-State"
          ],
          [
           59,
           "Tri-State"
          ],
          [
           15,
           "Tri-State"
          ],
          [
           5,
           "Tri-State"
          ],
          [
           14,
           "Tri-State"
          ],
          [
           14,
           "Tri-State"
          ],
          [
           48,
           "Tri-State"
          ],
          [
           6,
           "Tri-State"
          ],
          [
           5,
           "Tri-State"
          ],
          [
           17402,
           "Uncategorized"
          ],
          [
           17402,
           "Uncategorized"
          ],
          [
           583,
           "Washington D.C."
          ],
          [
           5030,
           "Washington D.C."
          ],
          [
           4270,
           "Washington D.C."
          ],
          [
           123,
           "Washington D.C."
          ],
          [
           54,
           "Washington D.C."
          ]
         ],
         "domain": {
          "x": [
           0,
           1
          ],
          "y": [
           0,
           1
          ]
         },
         "hovertemplate": "labels=%{label}<br>pageviews=%{customdata[0]}<br>parent=%{parent}<br>id=%{id}<br>section=%{customdata[1]}<extra></extra>",
         "ids": [
          "Atlanta/Jess Hardin",
          "Atlanta/quinn.donoghue@therealdeal.com",
          "Atlanta",
          "Atlanta/TRD Staff",
          "Austin/Erick Pirayesh",
          "Austin/Christian Bautista",
          "Austin/Joe Lovinger",
          "Austin/Judah Duke",
          "Austin/Emily Landes",
          "Austin/Hiten Samtani",
          "Austin/Jess Hardin",
          "Austin/Rachel Stone",
          "Austin/TRD Staff",
          "Austin/Victoria Pruitt",
          "Austin/Cindy Widner",
          "Austin/Keith Larsen",
          "Austin/quinn.donoghue@therealdeal.com",
          "Austin/Maddy Sperling",
          "Austin/Karn Dhingra",
          "Austin/Kathryn Hardison",
          "Austin",
          "Austin/Brandon Sams",
          "Austin/James Bell",
          "Austin/Isabella Farr",
          "Boston/TRD Staff",
          "Boston",
          "Charlotte/TRD Staff",
          "Charlotte",
          "Charlotte/Rachel Stone",
          "Chicago/Rachel Herzog",
          "Chicago/Isabella Farr",
          "Chicago/Miranda Davis",
          "Chicago/Connie Kim",
          "Chicago/Dennis Lynch",
          "Chicago/Scott Klocksin",
          "Chicago/Jerry Sullivan",
          "Chicago/Sasha Jones",
          "Chicago/John OBrien",
          "Chicago/Joe Ward",
          "Chicago/Jess Hardin",
          "Chicago/Hiten Samtani",
          "Chicago/Sponsored Content",
          "Chicago/Keith Larsen",
          "Chicago/quinn.donoghue@therealdeal.com",
          "Chicago/Miriam Finder Annenberg",
          "Chicago/Brandon Sams",
          "Chicago/Georgia Kromrei",
          "Chicago/Suzannah Cavanaugh",
          "Chicago/Victoria Pruitt",
          "Chicago/Christian Bautista",
          "Chicago/Ted Glanzer",
          "Chicago/Bill Egbert",
          "Chicago/Akiko Matsuda",
          "Chicago/admin",
          "Chicago/Alex Nitkin",
          "Chicago/Jennifer Waters",
          "Chicago/Adam Farence",
          "Chicago/Emma Whalen",
          "Chicago/Kevin Sun",
          "Chicago/Judah Duke",
          "Chicago/Brianna Kelly",
          "Chicago/Haru Coryne",
          "Chicago/TRD Staff",
          "Chicago/Kelli Duncan",
          "Chicago/Sam Lounsberry",
          "Chicago",
          "Dallas/TRD Staff",
          "Dallas/Cindy Widner",
          "Dallas/Jess Hardin",
          "Dallas/Judah Duke",
          "Dallas/Karn Dhingra",
          "Dallas/Erick Pirayesh",
          "Dallas/quinn.donoghue@therealdeal.com",
          "Dallas",
          "Dallas/Rachel Stone",
          "Dallas/Kathryn Hardison",
          "Dallas/Christian Bautista",
          "Dallas/James Bell",
          "Dallas/Maddy Sperling",
          "Dallas/Joe Lovinger",
          "Dallas/Brandon Sams",
          "Denver",
          "Denver/TRD Staff",
          "Fort Worth",
          "Fort Worth/Ted Glanzer",
          "Fort Worth/Joe Lovinger",
          "Fort Worth/quinn.donoghue@therealdeal.com",
          "Fort Worth/Judah Duke",
          "Fort Worth/TRD Staff",
          "Fort Worth/Jess Hardin",
          "Houston/TRD Staff",
          "Houston/Rachel Stone",
          "Houston/Jess Hardin",
          "Houston/Isabella Farr",
          "Houston/Karn Dhingra",
          "Houston",
          "Houston/Judah Duke",
          "Houston/Maddy Sperling",
          "Houston/quinn.donoghue@therealdeal.com",
          "Houston/Joe Lovinger",
          "Houston/Andrew Terrell",
          "Houston/Christian Bautista",
          "Houston/Brandon Sams",
          "Houston/Bill Egbert",
          "Houston/Suzannah Cavanaugh",
          "Houston/Kathryn Hardison",
          "Houston/Erick Pirayesh",
          "Houston/James Bell",
          "Houston/Cindy Widner",
          "Las Vegas/Isabella Farr",
          "Las Vegas",
          "Las Vegas/TRD Staff",
          "Los Angeles/Caroline Anderson",
          "Los Angeles/Kerry Barger",
          "Los Angeles/Erin Hudson",
          "Los Angeles/Trevor Bach",
          "Los Angeles/Hannah Miet",
          "Los Angeles/Laurie Dove",
          "Los Angeles/Abigail Nehring",
          "Los Angeles/Isabella Farr",
          "Los Angeles/Keith Larsen",
          "Los Angeles/Lauren Elkies Schram",
          "Los Angeles/James Kleimann",
          "Los Angeles/Kari Hamanaka",
          "Los Angeles",
          "Los Angeles/Alena Botros",
          "Los Angeles/Lauren Elkies-Schram",
          "Los Angeles/Andrew Asch",
          "Los Angeles/Cathaleen Chen",
          "Los Angeles/C.J. Hughes",
          "Los Angeles/TRD Staff",
          "Los Angeles/Vik Jolly",
          "Los Angeles/Gregory Cornfield",
          "Los Angeles/Kevin Sun",
          "Los Angeles/Joe Lovinger",
          "Los Angeles/Francisco Alvarado",
          "Los Angeles/Marcie Geffner",
          "Los Angeles/Mary Diduch",
          "Los Angeles/Christian Bautista",
          "Los Angeles/Joel Russell",
          "Los Angeles/Julie Walmsley",
          "Los Angeles/Tina Daunt",
          "Los Angeles/Daria Solovieva",
          "Los Angeles/Suzannah Cavanaugh",
          "Los Angeles/Subrina Hudson",
          "Los Angeles/Lauren Herstik",
          "Los Angeles/Sam Lounsberry",
          "Los Angeles/Rich Bockmann",
          "Los Angeles/Joseph Jungermann",
          "Los Angeles/Oliver Bentley",
          "Los Angeles/Emily Landes",
          "Los Angeles/Justin Sayles",
          "Los Angeles/Matthew Blake",
          "Los Angeles/Natalie Hoberman",
          "Los Angeles/Dennis Lynch",
          "Los Angeles/Haru Coryne",
          "Los Angeles/Chris Malone Méndez",
          "Los Angeles/Hannah Kramer",
          "Los Angeles/Gabrielle Paluch",
          "Los Angeles/Ted Glanzer",
          "Los Angeles/Pat Maio",
          "Los Angeles/Antoinette Bueno",
          "Los Angeles/Sponsored Content",
          "Los Angeles/Christopher Cameron",
          "Los Angeles/Katherine Clarke",
          "Los Angeles/E.B. Solomont",
          "Los Angeles/Laurie L. Dove",
          "Los Angeles/Alexei Barrionuevo",
          "Los Angeles/Dana Bartholomew",
          "Los Angeles/Ellen Cranley",
          "Los Angeles/Shira Levine",
          "Nashville/TRD Staff",
          "Nashville/Isabella Farr",
          "Nashville/quinn.donoghue@therealdeal.com",
          "Nashville/Judah Duke",
          "Nashville",
          "National/Sam Lounsberry",
          "National/Francisco Alvarado",
          "National/Miranda Davis",
          "National/Hannah Kramer",
          "National/Emily Davis",
          "National/Patrick Sisson",
          "National/Laura Euler",
          "National/David Westenhaver",
          "National/Kelli Duncan",
          "National/Pat Ralph",
          "National/Sasha Jones",
          "National/Erin Hudson",
          "National/Ellie Quinlan Houghtaling",
          "National/Kevin Sun",
          "National/Rachel Herzog",
          "National/Raji Pandya",
          "National/Propmodo",
          "National/Orion Jones",
          "National/Lidia Dinkova",
          "National/Daria Solovieva",
          "National/Christian Bautista",
          "National/Emily Landes",
          "National/David Jeans",
          "National/Bill Egbert",
          "National/James Van Bramer",
          "National/Natalie Hoberman",
          "National/Eddie Small",
          "National/Danielle Balbi",
          "National/Kari Hamanaka",
          "National/Mary Diduch",
          "National/Holden Walter-Warner",
          "National/Ted Phillips",
          "National/Rich Bockmann",
          "National/Isabella Farr",
          "National/Harrison Connery",
          "National/Elizabeth Cryan",
          "National/Sponsored Content",
          "National/Ted Glanzer",
          "National/Cordilia James",
          "National/Amir Korangy",
          "National/Lauren Elkies Schram",
          "National/Nicole Rosenthal",
          "National/TRD Staff",
          "National",
          "National/quinn.donoghue@therealdeal.com",
          "National/Cindy Widner",
          "National/Sheridan Wall",
          "National/Jake Indursky",
          "National/Erick Pirayesh",
          "National/Suzannah Cavanaugh",
          "National/Kathryn Brenzel",
          "National/Katherine Kallergis",
          "National/Ellen Cranley",
          "National/Adam Farence",
          "National/Keith Larsen",
          "National/Dan Latu",
          "National/Mike Romano",
          "National/Matthew Niksa",
          "National/Judah Duke",
          "National/Dennis Lynch",
          "National/Joe Lovinger",
          "National/Georgia Kromrei",
          "National/Hiten Samtani",
          "National/Sylvia Varnham O'Regan",
          "National/Jeff Andrews",
          "National/Stuart Elliott",
          "National/Kate Hinsche",
          "National/Erik Engquist",
          "National/Andrew Asch",
          "National/Jennifer Waters",
          "National/Emma Whalen",
          "National/Akiko Matsuda",
          "National/Cara Eisenpress",
          "National/TRD Marketing",
          "National/E.B. Solomont",
          "National/Mariam Lobjanidze",
          "National/Elizabeth Kiefer",
          "National/Christina Previte",
          "National/Adam Piore",
          "National/Jess Hardin",
          "National/Trevor Bach",
          "National/T.P. Yeatts",
          "New York/Hasan Ali",
          "New York/Trevor Bach",
          "New York/Alexandra White",
          "New York/Miriam Kreinin Souccar",
          "New York",
          "New York/Matthew Blake",
          "New York/Guelda Voien",
          "New York/Ann Imperatore",
          "New York/Cindy Widner",
          "New York/Bill Cary",
          "New York/Nisha Shetty",
          "New York/Miriam Hall",
          "New York/Matt Schneiderman",
          "New York/Christina Previte",
          "New York/Adam Pogoff",
          "New York/Donna M. Airoldi",
          "New York/Kyna Doles",
          "New York/Amy Tennery",
          "New York/Demi Guo",
          "New York/TRD Staff",
          "New York/Tess Hofmann",
          "New York/Richard Murdocco",
          "New York/Sponsored Content",
          "New York/Marynia Kruk",
          "New York/Matthew Elo",
          "New York/Hannah Kramer",
          "New York/Ellie Quinlan Houghtaling",
          "New York/Kevin Sun",
          "New York/Greg Dool",
          "New York/Joe Lovinger",
          "New York/Adam Pincus",
          "New York/Sylvia Varnham O'Regan",
          "New York/Mariam Lobjanidze",
          "New York/Hiten Samtani",
          "New York/Katherine Clarke",
          "New York/Konrad Putzier",
          "New York/Ariel Stulberg",
          "New York/Emily Davis",
          "New York/Adam Piore",
          "New York/Jay Young",
          "New York/David Jeans",
          "New York/Christian Bautista",
          "New York/Rey Mashayekhi",
          "New York/Akiko Matsuda",
          "New York/Isabella Farr",
          "New York/Ted Glanzer",
          "New York/Nicole Rosenthal",
          "New York/Lidia Dinkova",
          "New York/Georgia Kromrei",
          "New York/Business Insider",
          "New York/Cara Eisenpress",
          "New York/Mike Romano",
          "New York/Elisa Muyl",
          "New York/Isable Schwab",
          "New York/Jeff Andrews",
          "New York/C.J. Hughes",
          "New York/David Westenhaver",
          "New York/Avital Chizhik-Goldschmidt",
          "New York/Chava Gourarie",
          "New York/Liz Lucking",
          "New York/Lucas McGill",
          "New York/Erin Hudson",
          "New York/Orion Jones",
          "New York/Cordilia James",
          "New York/Sue Malesevic",
          "New York/Cale Weissman",
          "New York/Katherine Kallergis",
          "New York/Mary Diduch",
          "New York/Holden Walter-Warner",
          "New York/Sasha Jones",
          "New York/Jake Indursky",
          "New York/Kathryn Brenzel",
          "New York/Suzannah Cavanaugh",
          "New York/Claire Moses",
          "New York/Sheridan Wall",
          "New York/Elizabeth Cryan",
          "New York/Keith Larsen",
          "New York/Rich Bockmann",
          "New York/Erik Engquist",
          "New York/Candace Taylor",
          "New York/Harrison Connery",
          "New York/Eddie Small",
          "New York/Pat Ralph",
          "New York/Lois Weiss",
          "New York/Bill Egbert",
          "New York/James Van Bramer",
          "New York/Raji Pandya",
          "New York/T.P. Yeatts",
          "New York/Christopher Cameron",
          "New York/Ellen Cranley",
          "New York/Gabriel Poblete",
          "New York/Jacqueline Sweet",
          "New York/E.B. Solomont",
          "New York/Leigh Kamping-Carder",
          "New York/Mark Maurer",
          "New York/Sarabeth Sanders",
          "New York/Will Parker",
          "New York/Decca Muldowney",
          "Orlando/TRD Staff",
          "Orlando",
          "Philadelphia/TRD Staff",
          "Philadelphia",
          "Philadelphia/Holden Walter-Warner",
          "Philadelphia/Caroline Handel",
          "Phoenix/TRD Staff",
          "Phoenix/Joel Russell",
          "Phoenix",
          "San Antonio/Christian Bautista",
          "San Antonio/Joe Lovinger",
          "San Antonio",
          "San Antonio/Jess Hardin",
          "San Antonio/TRD Staff",
          "San Francisco/Christian Bautista",
          "San Francisco/Dana Bartholomew",
          "San Francisco/Gabriel Poblete",
          "San Francisco/Matthew Niksa",
          "San Francisco/Joel Russell",
          "San Francisco/Chris Malone Méndez",
          "San Francisco/Isabella Farr",
          "San Francisco/Victoria Pruitt",
          "San Francisco/Joseph Jungermann",
          "San Francisco/Pawan Naidu",
          "San Francisco/Bill Egbert",
          "San Francisco/Andrew Asch",
          "San Francisco/Daria Solovieva",
          "San Francisco/Adam Farence",
          "San Francisco/Trevor Bach",
          "San Francisco/Rachel Herzog",
          "San Francisco/Jerry Sullivan",
          "San Francisco/Lauren Elkies Schram",
          "San Francisco/TRD Staff",
          "San Francisco",
          "San Francisco/Kari Hamanaka",
          "San Francisco/Emily Landes",
          "San Francisco/Abigail Nehring",
          "Seattle/TRD Staff",
          "Seattle",
          "South Florida/E.B. Solomont",
          "South Florida/Jess Hardin",
          "South Florida/Katherine Clarke",
          "South Florida/Eric Kalis",
          "South Florida/Adam Farence",
          "South Florida/Sheridan Wall",
          "South Florida/Dan Weil",
          "South Florida/quinn.donoghue@therealdeal.com",
          "South Florida/Wade Tyler Millward",
          "South Florida/Francisco Alvarado",
          "South Florida/Kate Hinsche",
          "South Florida/Amanda Rabines",
          "South Florida/Katherine Kallergis",
          "South Florida/Suzannah Cavanaugh",
          "South Florida/Master Brokers Forum",
          "South Florida/Chava Gourarie",
          "South Florida/Mary Diduch",
          "South Florida/TRD Staff",
          "South Florida/Cindy Krischer Goodman",
          "South Florida/Mike Seemuth",
          "South Florida",
          "South Florida/Sponsored Content",
          "South Florida/Jordan Pandy",
          "South Florida/Ina Cordle",
          "South Florida/Erik Bojnansky",
          "South Florida/Hannah Kramer",
          "South Florida/Keith Larsen",
          "South Florida/Lidia Dinkova",
          "South Florida/Ted Glanzer",
          "South Florida/Sean Stewart-Muniz",
          "South Florida/Robert Silk",
          "Tampa/quinn.donoghue@therealdeal.com",
          "Tampa/Rachel Stone",
          "Tampa",
          "Tampa/TRD Staff",
          "Tampa/Ted Glanzer",
          "Texas/Sponsored Content",
          "Texas",
          "Texas/Kathryn Hardison",
          "Texas/quinn.donoghue@therealdeal.com",
          "Texas/Karn Dhingra",
          "Texas/Isaiah Mitchell",
          "Texas/Jess Hardin",
          "Texas/TRD Staff",
          "Texas/Ted Glanzer",
          "Texas/Patrick Sisson",
          "Texas/James Bell",
          "Texas/Maddy Sperling",
          "Texas/Kari Hamanaka",
          "Texas/Isabella Farr",
          "Texas/Christian Bautista",
          "Texas/Suzannah Cavanaugh",
          "Texas/Rachel Stone",
          "Texas/Brandon Sams",
          "Texas/Cindy Widner",
          "Texas/Joe Lovinger",
          "Texas/Keith Larsen",
          "Texas/Judah Duke",
          "Texas/Erick Pirayesh",
          "Texas/Krista M. Torralva",
          "Tri-State/Eddie Small",
          "Tri-State/Cailley LaPara",
          "Tri-State/Gabriel Poblete",
          "Tri-State/TRD Staff",
          "Tri-State/David Craig",
          "Tri-State/Claude Solnik",
          "Tri-State/Mike Odenthal",
          "Tri-State/Georgia Kromrei",
          "Tri-State/James Kleimann",
          "Tri-State/Mariam Lobjanidze",
          "Tri-State/Emily Davis",
          "Tri-State/Orion Jones",
          "Tri-State/Joe Lovinger",
          "Tri-State/Suzannah Cavanaugh",
          "Tri-State/Christian Bautista",
          "Tri-State/Rebekah Bell",
          "Tri-State/Jess Hardin",
          "Tri-State/Sponsored Content",
          "Tri-State/Amir Ghaheri",
          "Tri-State/Christina Previte",
          "Tri-State/Joseph Jungermann",
          "Tri-State/Judith Messina",
          "Tri-State",
          "Tri-State/Bill Egbert",
          "Tri-State/Nicole Rosenthal",
          "Tri-State/Kathryn Brenzel",
          "Tri-State/Bill Cary",
          "Tri-State/Erik Engquist",
          "Tri-State/Laura Euler",
          "Tri-State/Sasha Jones",
          "Tri-State/Ted Glanzer",
          "Tri-State/James Van Bramer",
          "Tri-State/Elizabeth Cryan",
          "Tri-State/Jake Indursky",
          "Tri-State/Harrison Connery",
          "Tri-State/Ellie Quinlan Houghtaling",
          "Tri-State/Amy R. Partridge",
          "Tri-State/Heather Senison",
          "Tri-State/Kevin Sun",
          "Tri-State/Mary Diduch",
          "Tri-State/Aidan Gardiner",
          "Tri-State/Akiko Matsuda",
          "Tri-State/Sheridan Wall",
          "Tri-State/Kate Hinsche",
          "Tri-State/Jeff Andrews",
          "Tri-State/Cordilia James",
          "Tri-State/Dennis Lynch",
          "Tri-State/Sylvia Varnham O'Regan",
          "Tri-State/Richard Murdocco",
          "Tri-State/Pat Ralph",
          "Tri-State/Holden Walter-Warner",
          "Tri-State/Edward Williams",
          "Tri-State/Rachel Herzog",
          "Tri-State/Rich Bockmann",
          "Tri-State/Keith Larsen",
          "Tri-State/Elisa Muyl",
          "Tri-State/Erin Hudson",
          "Tri-State/E.B. Solomont",
          "Tri-State/V.L. Hendrickson",
          "Tri-State/Eliane Pofeldt",
          "Tri-State/Grace Cassidy",
          "Tri-State/Mario Marroquin",
          "Tri-State/Nisha Shetty",
          "Tri-State/Maya Rajamani",
          "Uncategorized",
          "Uncategorized/TRD Staff",
          "Washington D.C./Sheridan Wall",
          "Washington D.C.",
          "Washington D.C./TRD Staff",
          "Washington D.C./Keith Larsen",
          "Washington D.C./Jake Indursky"
         ],
         "labels": [
          "Jess Hardin",
          "quinn.donoghue@therealdeal.com",
          "Atlanta",
          "TRD Staff",
          "Erick Pirayesh",
          "Christian Bautista",
          "Joe Lovinger",
          "Judah Duke",
          "Emily Landes",
          "Hiten Samtani",
          "Jess Hardin",
          "Rachel Stone",
          "TRD Staff",
          "Victoria Pruitt",
          "Cindy Widner",
          "Keith Larsen",
          "quinn.donoghue@therealdeal.com",
          "Maddy Sperling",
          "Karn Dhingra",
          "Kathryn Hardison",
          "Austin",
          "Brandon Sams",
          "James Bell",
          "Isabella Farr",
          "TRD Staff",
          "Boston",
          "TRD Staff",
          "Charlotte",
          "Rachel Stone",
          "Rachel Herzog",
          "Isabella Farr",
          "Miranda Davis",
          "Connie Kim",
          "Dennis Lynch",
          "Scott Klocksin",
          "Jerry Sullivan",
          "Sasha Jones",
          "John OBrien",
          "Joe Ward",
          "Jess Hardin",
          "Hiten Samtani",
          "Sponsored Content",
          "Keith Larsen",
          "quinn.donoghue@therealdeal.com",
          "Miriam Finder Annenberg",
          "Brandon Sams",
          "Georgia Kromrei",
          "Suzannah Cavanaugh",
          "Victoria Pruitt",
          "Christian Bautista",
          "Ted Glanzer",
          "Bill Egbert",
          "Akiko Matsuda",
          "admin",
          "Alex Nitkin",
          "Jennifer Waters",
          "Adam Farence",
          "Emma Whalen",
          "Kevin Sun",
          "Judah Duke",
          "Brianna Kelly",
          "Haru Coryne",
          "TRD Staff",
          "Kelli Duncan",
          "Sam Lounsberry",
          "Chicago",
          "TRD Staff",
          "Cindy Widner",
          "Jess Hardin",
          "Judah Duke",
          "Karn Dhingra",
          "Erick Pirayesh",
          "quinn.donoghue@therealdeal.com",
          "Dallas",
          "Rachel Stone",
          "Kathryn Hardison",
          "Christian Bautista",
          "James Bell",
          "Maddy Sperling",
          "Joe Lovinger",
          "Brandon Sams",
          "Denver",
          "TRD Staff",
          "Fort Worth",
          "Ted Glanzer",
          "Joe Lovinger",
          "quinn.donoghue@therealdeal.com",
          "Judah Duke",
          "TRD Staff",
          "Jess Hardin",
          "TRD Staff",
          "Rachel Stone",
          "Jess Hardin",
          "Isabella Farr",
          "Karn Dhingra",
          "Houston",
          "Judah Duke",
          "Maddy Sperling",
          "quinn.donoghue@therealdeal.com",
          "Joe Lovinger",
          "Andrew Terrell",
          "Christian Bautista",
          "Brandon Sams",
          "Bill Egbert",
          "Suzannah Cavanaugh",
          "Kathryn Hardison",
          "Erick Pirayesh",
          "James Bell",
          "Cindy Widner",
          "Isabella Farr",
          "Las Vegas",
          "TRD Staff",
          "Caroline Anderson",
          "Kerry Barger",
          "Erin Hudson",
          "Trevor Bach",
          "Hannah Miet",
          "Laurie Dove",
          "Abigail Nehring",
          "Isabella Farr",
          "Keith Larsen",
          "Lauren Elkies Schram",
          "James Kleimann",
          "Kari Hamanaka",
          "Los Angeles",
          "Alena Botros",
          "Lauren Elkies-Schram",
          "Andrew Asch",
          "Cathaleen Chen",
          "C.J. Hughes",
          "TRD Staff",
          "Vik Jolly",
          "Gregory Cornfield",
          "Kevin Sun",
          "Joe Lovinger",
          "Francisco Alvarado",
          "Marcie Geffner",
          "Mary Diduch",
          "Christian Bautista",
          "Joel Russell",
          "Julie Walmsley",
          "Tina Daunt",
          "Daria Solovieva",
          "Suzannah Cavanaugh",
          "Subrina Hudson",
          "Lauren Herstik",
          "Sam Lounsberry",
          "Rich Bockmann",
          "Joseph Jungermann",
          "Oliver Bentley",
          "Emily Landes",
          "Justin Sayles",
          "Matthew Blake",
          "Natalie Hoberman",
          "Dennis Lynch",
          "Haru Coryne",
          "Chris Malone Méndez",
          "Hannah Kramer",
          "Gabrielle Paluch",
          "Ted Glanzer",
          "Pat Maio",
          "Antoinette Bueno",
          "Sponsored Content",
          "Christopher Cameron",
          "Katherine Clarke",
          "E.B. Solomont",
          "Laurie L. Dove",
          "Alexei Barrionuevo",
          "Dana Bartholomew",
          "Ellen Cranley",
          "Shira Levine",
          "TRD Staff",
          "Isabella Farr",
          "quinn.donoghue@therealdeal.com",
          "Judah Duke",
          "Nashville",
          "Sam Lounsberry",
          "Francisco Alvarado",
          "Miranda Davis",
          "Hannah Kramer",
          "Emily Davis",
          "Patrick Sisson",
          "Laura Euler",
          "David Westenhaver",
          "Kelli Duncan",
          "Pat Ralph",
          "Sasha Jones",
          "Erin Hudson",
          "Ellie Quinlan Houghtaling",
          "Kevin Sun",
          "Rachel Herzog",
          "Raji Pandya",
          "Propmodo",
          "Orion Jones",
          "Lidia Dinkova",
          "Daria Solovieva",
          "Christian Bautista",
          "Emily Landes",
          "David Jeans",
          "Bill Egbert",
          "James Van Bramer",
          "Natalie Hoberman",
          "Eddie Small",
          "Danielle Balbi",
          "Kari Hamanaka",
          "Mary Diduch",
          "Holden Walter-Warner",
          "Ted Phillips",
          "Rich Bockmann",
          "Isabella Farr",
          "Harrison Connery",
          "Elizabeth Cryan",
          "Sponsored Content",
          "Ted Glanzer",
          "Cordilia James",
          "Amir Korangy",
          "Lauren Elkies Schram",
          "Nicole Rosenthal",
          "TRD Staff",
          "National",
          "quinn.donoghue@therealdeal.com",
          "Cindy Widner",
          "Sheridan Wall",
          "Jake Indursky",
          "Erick Pirayesh",
          "Suzannah Cavanaugh",
          "Kathryn Brenzel",
          "Katherine Kallergis",
          "Ellen Cranley",
          "Adam Farence",
          "Keith Larsen",
          "Dan Latu",
          "Mike Romano",
          "Matthew Niksa",
          "Judah Duke",
          "Dennis Lynch",
          "Joe Lovinger",
          "Georgia Kromrei",
          "Hiten Samtani",
          "Sylvia Varnham O'Regan",
          "Jeff Andrews",
          "Stuart Elliott",
          "Kate Hinsche",
          "Erik Engquist",
          "Andrew Asch",
          "Jennifer Waters",
          "Emma Whalen",
          "Akiko Matsuda",
          "Cara Eisenpress",
          "TRD Marketing",
          "E.B. Solomont",
          "Mariam Lobjanidze",
          "Elizabeth Kiefer",
          "Christina Previte",
          "Adam Piore",
          "Jess Hardin",
          "Trevor Bach",
          "T.P. Yeatts",
          "Hasan Ali",
          "Trevor Bach",
          "Alexandra White",
          "Miriam Kreinin Souccar",
          "New York",
          "Matthew Blake",
          "Guelda Voien",
          "Ann Imperatore",
          "Cindy Widner",
          "Bill Cary",
          "Nisha Shetty",
          "Miriam Hall",
          "Matt Schneiderman",
          "Christina Previte",
          "Adam Pogoff",
          "Donna M. Airoldi",
          "Kyna Doles",
          "Amy Tennery",
          "Demi Guo",
          "TRD Staff",
          "Tess Hofmann",
          "Richard Murdocco",
          "Sponsored Content",
          "Marynia Kruk",
          "Matthew Elo",
          "Hannah Kramer",
          "Ellie Quinlan Houghtaling",
          "Kevin Sun",
          "Greg Dool",
          "Joe Lovinger",
          "Adam Pincus",
          "Sylvia Varnham O'Regan",
          "Mariam Lobjanidze",
          "Hiten Samtani",
          "Katherine Clarke",
          "Konrad Putzier",
          "Ariel Stulberg",
          "Emily Davis",
          "Adam Piore",
          "Jay Young",
          "David Jeans",
          "Christian Bautista",
          "Rey Mashayekhi",
          "Akiko Matsuda",
          "Isabella Farr",
          "Ted Glanzer",
          "Nicole Rosenthal",
          "Lidia Dinkova",
          "Georgia Kromrei",
          "Business Insider",
          "Cara Eisenpress",
          "Mike Romano",
          "Elisa Muyl",
          "Isable Schwab",
          "Jeff Andrews",
          "C.J. Hughes",
          "David Westenhaver",
          "Avital Chizhik-Goldschmidt",
          "Chava Gourarie",
          "Liz Lucking",
          "Lucas McGill",
          "Erin Hudson",
          "Orion Jones",
          "Cordilia James",
          "Sue Malesevic",
          "Cale Weissman",
          "Katherine Kallergis",
          "Mary Diduch",
          "Holden Walter-Warner",
          "Sasha Jones",
          "Jake Indursky",
          "Kathryn Brenzel",
          "Suzannah Cavanaugh",
          "Claire Moses",
          "Sheridan Wall",
          "Elizabeth Cryan",
          "Keith Larsen",
          "Rich Bockmann",
          "Erik Engquist",
          "Candace Taylor",
          "Harrison Connery",
          "Eddie Small",
          "Pat Ralph",
          "Lois Weiss",
          "Bill Egbert",
          "James Van Bramer",
          "Raji Pandya",
          "T.P. Yeatts",
          "Christopher Cameron",
          "Ellen Cranley",
          "Gabriel Poblete",
          "Jacqueline Sweet",
          "E.B. Solomont",
          "Leigh Kamping-Carder",
          "Mark Maurer",
          "Sarabeth Sanders",
          "Will Parker",
          "Decca Muldowney",
          "TRD Staff",
          "Orlando",
          "TRD Staff",
          "Philadelphia",
          "Holden Walter-Warner",
          "Caroline Handel",
          "TRD Staff",
          "Joel Russell",
          "Phoenix",
          "Christian Bautista",
          "Joe Lovinger",
          "San Antonio",
          "Jess Hardin",
          "TRD Staff",
          "Christian Bautista",
          "Dana Bartholomew",
          "Gabriel Poblete",
          "Matthew Niksa",
          "Joel Russell",
          "Chris Malone Méndez",
          "Isabella Farr",
          "Victoria Pruitt",
          "Joseph Jungermann",
          "Pawan Naidu",
          "Bill Egbert",
          "Andrew Asch",
          "Daria Solovieva",
          "Adam Farence",
          "Trevor Bach",
          "Rachel Herzog",
          "Jerry Sullivan",
          "Lauren Elkies Schram",
          "TRD Staff",
          "San Francisco",
          "Kari Hamanaka",
          "Emily Landes",
          "Abigail Nehring",
          "TRD Staff",
          "Seattle",
          "E.B. Solomont",
          "Jess Hardin",
          "Katherine Clarke",
          "Eric Kalis",
          "Adam Farence",
          "Sheridan Wall",
          "Dan Weil",
          "quinn.donoghue@therealdeal.com",
          "Wade Tyler Millward",
          "Francisco Alvarado",
          "Kate Hinsche",
          "Amanda Rabines",
          "Katherine Kallergis",
          "Suzannah Cavanaugh",
          "Master Brokers Forum",
          "Chava Gourarie",
          "Mary Diduch",
          "TRD Staff",
          "Cindy Krischer Goodman",
          "Mike Seemuth",
          "South Florida",
          "Sponsored Content",
          "Jordan Pandy",
          "Ina Cordle",
          "Erik Bojnansky",
          "Hannah Kramer",
          "Keith Larsen",
          "Lidia Dinkova",
          "Ted Glanzer",
          "Sean Stewart-Muniz",
          "Robert Silk",
          "quinn.donoghue@therealdeal.com",
          "Rachel Stone",
          "Tampa",
          "TRD Staff",
          "Ted Glanzer",
          "Sponsored Content",
          "Texas",
          "Kathryn Hardison",
          "quinn.donoghue@therealdeal.com",
          "Karn Dhingra",
          "Isaiah Mitchell",
          "Jess Hardin",
          "TRD Staff",
          "Ted Glanzer",
          "Patrick Sisson",
          "James Bell",
          "Maddy Sperling",
          "Kari Hamanaka",
          "Isabella Farr",
          "Christian Bautista",
          "Suzannah Cavanaugh",
          "Rachel Stone",
          "Brandon Sams",
          "Cindy Widner",
          "Joe Lovinger",
          "Keith Larsen",
          "Judah Duke",
          "Erick Pirayesh",
          "Krista M. Torralva",
          "Eddie Small",
          "Cailley LaPara",
          "Gabriel Poblete",
          "TRD Staff",
          "David Craig",
          "Claude Solnik",
          "Mike Odenthal",
          "Georgia Kromrei",
          "James Kleimann",
          "Mariam Lobjanidze",
          "Emily Davis",
          "Orion Jones",
          "Joe Lovinger",
          "Suzannah Cavanaugh",
          "Christian Bautista",
          "Rebekah Bell",
          "Jess Hardin",
          "Sponsored Content",
          "Amir Ghaheri",
          "Christina Previte",
          "Joseph Jungermann",
          "Judith Messina",
          "Tri-State",
          "Bill Egbert",
          "Nicole Rosenthal",
          "Kathryn Brenzel",
          "Bill Cary",
          "Erik Engquist",
          "Laura Euler",
          "Sasha Jones",
          "Ted Glanzer",
          "James Van Bramer",
          "Elizabeth Cryan",
          "Jake Indursky",
          "Harrison Connery",
          "Ellie Quinlan Houghtaling",
          "Amy R. Partridge",
          "Heather Senison",
          "Kevin Sun",
          "Mary Diduch",
          "Aidan Gardiner",
          "Akiko Matsuda",
          "Sheridan Wall",
          "Kate Hinsche",
          "Jeff Andrews",
          "Cordilia James",
          "Dennis Lynch",
          "Sylvia Varnham O'Regan",
          "Richard Murdocco",
          "Pat Ralph",
          "Holden Walter-Warner",
          "Edward Williams",
          "Rachel Herzog",
          "Rich Bockmann",
          "Keith Larsen",
          "Elisa Muyl",
          "Erin Hudson",
          "E.B. Solomont",
          "V.L. Hendrickson",
          "Eliane Pofeldt",
          "Grace Cassidy",
          "Mario Marroquin",
          "Nisha Shetty",
          "Maya Rajamani",
          "Uncategorized",
          "TRD Staff",
          "Sheridan Wall",
          "Washington D.C.",
          "TRD Staff",
          "Keith Larsen",
          "Jake Indursky"
         ],
         "marker": {
          "colors": [
           "#636efa",
           "#636efa",
           "#636efa",
           "#636efa",
           "#EF553B",
           "#EF553B",
           "#EF553B",
           "#EF553B",
           "#EF553B",
           "#EF553B",
           "#EF553B",
           "#EF553B",
           "#EF553B",
           "#EF553B",
           "#EF553B",
           "#EF553B",
           "#EF553B",
           "#EF553B",
           "#EF553B",
           "#EF553B",
           "#EF553B",
           "#EF553B",
           "#EF553B",
           "#EF553B",
           "#00cc96",
           "#00cc96",
           "#ab63fa",
           "#ab63fa",
           "#ab63fa",
           "#FFA15A",
           "#FFA15A",
           "#FFA15A",
           "#FFA15A",
           "#FFA15A",
           "#FFA15A",
           "#FFA15A",
           "#FFA15A",
           "#FFA15A",
           "#FFA15A",
           "#FFA15A",
           "#FFA15A",
           "#FFA15A",
           "#FFA15A",
           "#FFA15A",
           "#FFA15A",
           "#FFA15A",
           "#FFA15A",
           "#FFA15A",
           "#FFA15A",
           "#FFA15A",
           "#FFA15A",
           "#FFA15A",
           "#FFA15A",
           "#FFA15A",
           "#FFA15A",
           "#FFA15A",
           "#FFA15A",
           "#FFA15A",
           "#FFA15A",
           "#FFA15A",
           "#FFA15A",
           "#FFA15A",
           "#FFA15A",
           "#FFA15A",
           "#FFA15A",
           "#FFA15A",
           "#19d3f3",
           "#19d3f3",
           "#19d3f3",
           "#19d3f3",
           "#19d3f3",
           "#19d3f3",
           "#19d3f3",
           "#19d3f3",
           "#19d3f3",
           "#19d3f3",
           "#19d3f3",
           "#19d3f3",
           "#19d3f3",
           "#19d3f3",
           "#19d3f3",
           "#FF6692",
           "#FF6692",
           "#B6E880",
           "#B6E880",
           "#B6E880",
           "#B6E880",
           "#B6E880",
           "#B6E880",
           "#B6E880",
           "#FF97FF",
           "#FF97FF",
           "#FF97FF",
           "#FF97FF",
           "#FF97FF",
           "#FF97FF",
           "#FF97FF",
           "#FF97FF",
           "#FF97FF",
           "#FF97FF",
           "#FF97FF",
           "#FF97FF",
           "#FF97FF",
           "#FF97FF",
           "#FF97FF",
           "#FF97FF",
           "#FF97FF",
           "#FF97FF",
           "#FF97FF",
           "#FECB52",
           "#FECB52",
           "#FECB52",
           "#636efa",
           "#636efa",
           "#636efa",
           "#636efa",
           "#636efa",
           "#636efa",
           "#636efa",
           "#636efa",
           "#636efa",
           "#636efa",
           "#636efa",
           "#636efa",
           "#636efa",
           "#636efa",
           "#636efa",
           "#636efa",
           "#636efa",
           "#636efa",
           "#636efa",
           "#636efa",
           "#636efa",
           "#636efa",
           "#636efa",
           "#636efa",
           "#636efa",
           "#636efa",
           "#636efa",
           "#636efa",
           "#636efa",
           "#636efa",
           "#636efa",
           "#636efa",
           "#636efa",
           "#636efa",
           "#636efa",
           "#636efa",
           "#636efa",
           "#636efa",
           "#636efa",
           "#636efa",
           "#636efa",
           "#636efa",
           "#636efa",
           "#636efa",
           "#636efa",
           "#636efa",
           "#636efa",
           "#636efa",
           "#636efa",
           "#636efa",
           "#636efa",
           "#636efa",
           "#636efa",
           "#636efa",
           "#636efa",
           "#636efa",
           "#636efa",
           "#636efa",
           "#636efa",
           "#EF553B",
           "#EF553B",
           "#EF553B",
           "#EF553B",
           "#EF553B",
           "#00cc96",
           "#00cc96",
           "#00cc96",
           "#00cc96",
           "#00cc96",
           "#00cc96",
           "#00cc96",
           "#00cc96",
           "#00cc96",
           "#00cc96",
           "#00cc96",
           "#00cc96",
           "#00cc96",
           "#00cc96",
           "#00cc96",
           "#00cc96",
           "#00cc96",
           "#00cc96",
           "#00cc96",
           "#00cc96",
           "#00cc96",
           "#00cc96",
           "#00cc96",
           "#00cc96",
           "#00cc96",
           "#00cc96",
           "#00cc96",
           "#00cc96",
           "#00cc96",
           "#00cc96",
           "#00cc96",
           "#00cc96",
           "#00cc96",
           "#00cc96",
           "#00cc96",
           "#00cc96",
           "#00cc96",
           "#00cc96",
           "#00cc96",
           "#00cc96",
           "#00cc96",
           "#00cc96",
           "#00cc96",
           "#00cc96",
           "#00cc96",
           "#00cc96",
           "#00cc96",
           "#00cc96",
           "#00cc96",
           "#00cc96",
           "#00cc96",
           "#00cc96",
           "#00cc96",
           "#00cc96",
           "#00cc96",
           "#00cc96",
           "#00cc96",
           "#00cc96",
           "#00cc96",
           "#00cc96",
           "#00cc96",
           "#00cc96",
           "#00cc96",
           "#00cc96",
           "#00cc96",
           "#00cc96",
           "#00cc96",
           "#00cc96",
           "#00cc96",
           "#00cc96",
           "#00cc96",
           "#00cc96",
           "#00cc96",
           "#00cc96",
           "#00cc96",
           "#00cc96",
           "#00cc96",
           "#00cc96",
           "#00cc96",
           "#00cc96",
           "#00cc96",
           "#00cc96",
           "#ab63fa",
           "#ab63fa",
           "#ab63fa",
           "#ab63fa",
           "#ab63fa",
           "#ab63fa",
           "#ab63fa",
           "#ab63fa",
           "#ab63fa",
           "#ab63fa",
           "#ab63fa",
           "#ab63fa",
           "#ab63fa",
           "#ab63fa",
           "#ab63fa",
           "#ab63fa",
           "#ab63fa",
           "#ab63fa",
           "#ab63fa",
           "#ab63fa",
           "#ab63fa",
           "#ab63fa",
           "#ab63fa",
           "#ab63fa",
           "#ab63fa",
           "#ab63fa",
           "#ab63fa",
           "#ab63fa",
           "#ab63fa",
           "#ab63fa",
           "#ab63fa",
           "#ab63fa",
           "#ab63fa",
           "#ab63fa",
           "#ab63fa",
           "#ab63fa",
           "#ab63fa",
           "#ab63fa",
           "#ab63fa",
           "#ab63fa",
           "#ab63fa",
           "#ab63fa",
           "#ab63fa",
           "#ab63fa",
           "#ab63fa",
           "#ab63fa",
           "#ab63fa",
           "#ab63fa",
           "#ab63fa",
           "#ab63fa",
           "#ab63fa",
           "#ab63fa",
           "#ab63fa",
           "#ab63fa",
           "#ab63fa",
           "#ab63fa",
           "#ab63fa",
           "#ab63fa",
           "#ab63fa",
           "#ab63fa",
           "#ab63fa",
           "#ab63fa",
           "#ab63fa",
           "#ab63fa",
           "#ab63fa",
           "#ab63fa",
           "#ab63fa",
           "#ab63fa",
           "#ab63fa",
           "#ab63fa",
           "#ab63fa",
           "#ab63fa",
           "#ab63fa",
           "#ab63fa",
           "#ab63fa",
           "#ab63fa",
           "#ab63fa",
           "#ab63fa",
           "#ab63fa",
           "#ab63fa",
           "#ab63fa",
           "#ab63fa",
           "#ab63fa",
           "#ab63fa",
           "#ab63fa",
           "#ab63fa",
           "#ab63fa",
           "#ab63fa",
           "#ab63fa",
           "#ab63fa",
           "#ab63fa",
           "#ab63fa",
           "#ab63fa",
           "#ab63fa",
           "#ab63fa",
           "#ab63fa",
           "#ab63fa",
           "#ab63fa",
           "#FFA15A",
           "#FFA15A",
           "#19d3f3",
           "#19d3f3",
           "#19d3f3",
           "#19d3f3",
           "#FF6692",
           "#FF6692",
           "#FF6692",
           "#B6E880",
           "#B6E880",
           "#B6E880",
           "#B6E880",
           "#B6E880",
           "#FF97FF",
           "#FF97FF",
           "#FF97FF",
           "#FF97FF",
           "#FF97FF",
           "#FF97FF",
           "#FF97FF",
           "#FF97FF",
           "#FF97FF",
           "#FF97FF",
           "#FF97FF",
           "#FF97FF",
           "#FF97FF",
           "#FF97FF",
           "#FF97FF",
           "#FF97FF",
           "#FF97FF",
           "#FF97FF",
           "#FF97FF",
           "#FF97FF",
           "#FF97FF",
           "#FF97FF",
           "#FF97FF",
           "#FECB52",
           "#FECB52",
           "#636efa",
           "#636efa",
           "#636efa",
           "#636efa",
           "#636efa",
           "#636efa",
           "#636efa",
           "#636efa",
           "#636efa",
           "#636efa",
           "#636efa",
           "#636efa",
           "#636efa",
           "#636efa",
           "#636efa",
           "#636efa",
           "#636efa",
           "#636efa",
           "#636efa",
           "#636efa",
           "#636efa",
           "#636efa",
           "#636efa",
           "#636efa",
           "#636efa",
           "#636efa",
           "#636efa",
           "#636efa",
           "#636efa",
           "#636efa",
           "#636efa",
           "#EF553B",
           "#EF553B",
           "#EF553B",
           "#EF553B",
           "#EF553B",
           "#00cc96",
           "#00cc96",
           "#00cc96",
           "#00cc96",
           "#00cc96",
           "#00cc96",
           "#00cc96",
           "#00cc96",
           "#00cc96",
           "#00cc96",
           "#00cc96",
           "#00cc96",
           "#00cc96",
           "#00cc96",
           "#00cc96",
           "#00cc96",
           "#00cc96",
           "#00cc96",
           "#00cc96",
           "#00cc96",
           "#00cc96",
           "#00cc96",
           "#00cc96",
           "#00cc96",
           "#ab63fa",
           "#ab63fa",
           "#ab63fa",
           "#ab63fa",
           "#ab63fa",
           "#ab63fa",
           "#ab63fa",
           "#ab63fa",
           "#ab63fa",
           "#ab63fa",
           "#ab63fa",
           "#ab63fa",
           "#ab63fa",
           "#ab63fa",
           "#ab63fa",
           "#ab63fa",
           "#ab63fa",
           "#ab63fa",
           "#ab63fa",
           "#ab63fa",
           "#ab63fa",
           "#ab63fa",
           "#ab63fa",
           "#ab63fa",
           "#ab63fa",
           "#ab63fa",
           "#ab63fa",
           "#ab63fa",
           "#ab63fa",
           "#ab63fa",
           "#ab63fa",
           "#ab63fa",
           "#ab63fa",
           "#ab63fa",
           "#ab63fa",
           "#ab63fa",
           "#ab63fa",
           "#ab63fa",
           "#ab63fa",
           "#ab63fa",
           "#ab63fa",
           "#ab63fa",
           "#ab63fa",
           "#ab63fa",
           "#ab63fa",
           "#ab63fa",
           "#ab63fa",
           "#ab63fa",
           "#ab63fa",
           "#ab63fa",
           "#ab63fa",
           "#ab63fa",
           "#ab63fa",
           "#ab63fa",
           "#ab63fa",
           "#ab63fa",
           "#ab63fa",
           "#ab63fa",
           "#ab63fa",
           "#ab63fa",
           "#ab63fa",
           "#ab63fa",
           "#ab63fa",
           "#ab63fa",
           "#FFA15A",
           "#FFA15A",
           "#19d3f3",
           "#19d3f3",
           "#19d3f3",
           "#19d3f3",
           "#19d3f3"
          ]
         },
         "name": "",
         "parents": [
          "Atlanta",
          "Atlanta",
          "",
          "Atlanta",
          "Austin",
          "Austin",
          "Austin",
          "Austin",
          "Austin",
          "Austin",
          "Austin",
          "Austin",
          "Austin",
          "Austin",
          "Austin",
          "Austin",
          "Austin",
          "Austin",
          "Austin",
          "Austin",
          "",
          "Austin",
          "Austin",
          "Austin",
          "Boston",
          "",
          "Charlotte",
          "",
          "Charlotte",
          "Chicago",
          "Chicago",
          "Chicago",
          "Chicago",
          "Chicago",
          "Chicago",
          "Chicago",
          "Chicago",
          "Chicago",
          "Chicago",
          "Chicago",
          "Chicago",
          "Chicago",
          "Chicago",
          "Chicago",
          "Chicago",
          "Chicago",
          "Chicago",
          "Chicago",
          "Chicago",
          "Chicago",
          "Chicago",
          "Chicago",
          "Chicago",
          "Chicago",
          "Chicago",
          "Chicago",
          "Chicago",
          "Chicago",
          "Chicago",
          "Chicago",
          "Chicago",
          "Chicago",
          "Chicago",
          "Chicago",
          "Chicago",
          "",
          "Dallas",
          "Dallas",
          "Dallas",
          "Dallas",
          "Dallas",
          "Dallas",
          "Dallas",
          "",
          "Dallas",
          "Dallas",
          "Dallas",
          "Dallas",
          "Dallas",
          "Dallas",
          "Dallas",
          "",
          "Denver",
          "",
          "Fort Worth",
          "Fort Worth",
          "Fort Worth",
          "Fort Worth",
          "Fort Worth",
          "Fort Worth",
          "Houston",
          "Houston",
          "Houston",
          "Houston",
          "Houston",
          "",
          "Houston",
          "Houston",
          "Houston",
          "Houston",
          "Houston",
          "Houston",
          "Houston",
          "Houston",
          "Houston",
          "Houston",
          "Houston",
          "Houston",
          "Houston",
          "Las Vegas",
          "",
          "Las Vegas",
          "Los Angeles",
          "Los Angeles",
          "Los Angeles",
          "Los Angeles",
          "Los Angeles",
          "Los Angeles",
          "Los Angeles",
          "Los Angeles",
          "Los Angeles",
          "Los Angeles",
          "Los Angeles",
          "Los Angeles",
          "",
          "Los Angeles",
          "Los Angeles",
          "Los Angeles",
          "Los Angeles",
          "Los Angeles",
          "Los Angeles",
          "Los Angeles",
          "Los Angeles",
          "Los Angeles",
          "Los Angeles",
          "Los Angeles",
          "Los Angeles",
          "Los Angeles",
          "Los Angeles",
          "Los Angeles",
          "Los Angeles",
          "Los Angeles",
          "Los Angeles",
          "Los Angeles",
          "Los Angeles",
          "Los Angeles",
          "Los Angeles",
          "Los Angeles",
          "Los Angeles",
          "Los Angeles",
          "Los Angeles",
          "Los Angeles",
          "Los Angeles",
          "Los Angeles",
          "Los Angeles",
          "Los Angeles",
          "Los Angeles",
          "Los Angeles",
          "Los Angeles",
          "Los Angeles",
          "Los Angeles",
          "Los Angeles",
          "Los Angeles",
          "Los Angeles",
          "Los Angeles",
          "Los Angeles",
          "Los Angeles",
          "Los Angeles",
          "Los Angeles",
          "Los Angeles",
          "Los Angeles",
          "Nashville",
          "Nashville",
          "Nashville",
          "Nashville",
          "",
          "National",
          "National",
          "National",
          "National",
          "National",
          "National",
          "National",
          "National",
          "National",
          "National",
          "National",
          "National",
          "National",
          "National",
          "National",
          "National",
          "National",
          "National",
          "National",
          "National",
          "National",
          "National",
          "National",
          "National",
          "National",
          "National",
          "National",
          "National",
          "National",
          "National",
          "National",
          "National",
          "National",
          "National",
          "National",
          "National",
          "National",
          "National",
          "National",
          "National",
          "National",
          "National",
          "National",
          "",
          "National",
          "National",
          "National",
          "National",
          "National",
          "National",
          "National",
          "National",
          "National",
          "National",
          "National",
          "National",
          "National",
          "National",
          "National",
          "National",
          "National",
          "National",
          "National",
          "National",
          "National",
          "National",
          "National",
          "National",
          "National",
          "National",
          "National",
          "National",
          "National",
          "National",
          "National",
          "National",
          "National",
          "National",
          "National",
          "National",
          "National",
          "National",
          "New York",
          "New York",
          "New York",
          "New York",
          "",
          "New York",
          "New York",
          "New York",
          "New York",
          "New York",
          "New York",
          "New York",
          "New York",
          "New York",
          "New York",
          "New York",
          "New York",
          "New York",
          "New York",
          "New York",
          "New York",
          "New York",
          "New York",
          "New York",
          "New York",
          "New York",
          "New York",
          "New York",
          "New York",
          "New York",
          "New York",
          "New York",
          "New York",
          "New York",
          "New York",
          "New York",
          "New York",
          "New York",
          "New York",
          "New York",
          "New York",
          "New York",
          "New York",
          "New York",
          "New York",
          "New York",
          "New York",
          "New York",
          "New York",
          "New York",
          "New York",
          "New York",
          "New York",
          "New York",
          "New York",
          "New York",
          "New York",
          "New York",
          "New York",
          "New York",
          "New York",
          "New York",
          "New York",
          "New York",
          "New York",
          "New York",
          "New York",
          "New York",
          "New York",
          "New York",
          "New York",
          "New York",
          "New York",
          "New York",
          "New York",
          "New York",
          "New York",
          "New York",
          "New York",
          "New York",
          "New York",
          "New York",
          "New York",
          "New York",
          "New York",
          "New York",
          "New York",
          "New York",
          "New York",
          "New York",
          "New York",
          "New York",
          "New York",
          "New York",
          "New York",
          "New York",
          "New York",
          "New York",
          "Orlando",
          "",
          "Philadelphia",
          "",
          "Philadelphia",
          "Philadelphia",
          "Phoenix",
          "Phoenix",
          "",
          "San Antonio",
          "San Antonio",
          "",
          "San Antonio",
          "San Antonio",
          "San Francisco",
          "San Francisco",
          "San Francisco",
          "San Francisco",
          "San Francisco",
          "San Francisco",
          "San Francisco",
          "San Francisco",
          "San Francisco",
          "San Francisco",
          "San Francisco",
          "San Francisco",
          "San Francisco",
          "San Francisco",
          "San Francisco",
          "San Francisco",
          "San Francisco",
          "San Francisco",
          "San Francisco",
          "",
          "San Francisco",
          "San Francisco",
          "San Francisco",
          "Seattle",
          "",
          "South Florida",
          "South Florida",
          "South Florida",
          "South Florida",
          "South Florida",
          "South Florida",
          "South Florida",
          "South Florida",
          "South Florida",
          "South Florida",
          "South Florida",
          "South Florida",
          "South Florida",
          "South Florida",
          "South Florida",
          "South Florida",
          "South Florida",
          "South Florida",
          "South Florida",
          "South Florida",
          "",
          "South Florida",
          "South Florida",
          "South Florida",
          "South Florida",
          "South Florida",
          "South Florida",
          "South Florida",
          "South Florida",
          "South Florida",
          "South Florida",
          "Tampa",
          "Tampa",
          "",
          "Tampa",
          "Tampa",
          "Texas",
          "",
          "Texas",
          "Texas",
          "Texas",
          "Texas",
          "Texas",
          "Texas",
          "Texas",
          "Texas",
          "Texas",
          "Texas",
          "Texas",
          "Texas",
          "Texas",
          "Texas",
          "Texas",
          "Texas",
          "Texas",
          "Texas",
          "Texas",
          "Texas",
          "Texas",
          "Texas",
          "Tri-State",
          "Tri-State",
          "Tri-State",
          "Tri-State",
          "Tri-State",
          "Tri-State",
          "Tri-State",
          "Tri-State",
          "Tri-State",
          "Tri-State",
          "Tri-State",
          "Tri-State",
          "Tri-State",
          "Tri-State",
          "Tri-State",
          "Tri-State",
          "Tri-State",
          "Tri-State",
          "Tri-State",
          "Tri-State",
          "Tri-State",
          "Tri-State",
          "",
          "Tri-State",
          "Tri-State",
          "Tri-State",
          "Tri-State",
          "Tri-State",
          "Tri-State",
          "Tri-State",
          "Tri-State",
          "Tri-State",
          "Tri-State",
          "Tri-State",
          "Tri-State",
          "Tri-State",
          "Tri-State",
          "Tri-State",
          "Tri-State",
          "Tri-State",
          "Tri-State",
          "Tri-State",
          "Tri-State",
          "Tri-State",
          "Tri-State",
          "Tri-State",
          "Tri-State",
          "Tri-State",
          "Tri-State",
          "Tri-State",
          "Tri-State",
          "Tri-State",
          "Tri-State",
          "Tri-State",
          "Tri-State",
          "Tri-State",
          "Tri-State",
          "Tri-State",
          "Tri-State",
          "Tri-State",
          "Tri-State",
          "Tri-State",
          "Tri-State",
          "Tri-State",
          "",
          "Uncategorized",
          "Washington D.C.",
          "",
          "Washington D.C.",
          "Washington D.C.",
          "Washington D.C."
         ],
         "type": "sunburst",
         "values": {
          "bdata": "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",
          "dtype": "f8"
         }
        }
       ],
       "layout": {
        "legend": {
         "tracegroupgap": 0
        },
        "template": {
         "data": {
          "bar": [
           {
            "error_x": {
             "color": "#2a3f5f"
            },
            "error_y": {
             "color": "#2a3f5f"
            },
            "marker": {
             "line": {
              "color": "#E5ECF6",
              "width": 0.5
             },
             "pattern": {
              "fillmode": "overlay",
              "size": 10,
              "solidity": 0.2
             }
            },
            "type": "bar"
           }
          ],
          "barpolar": [
           {
            "marker": {
             "line": {
              "color": "#E5ECF6",
              "width": 0.5
             },
             "pattern": {
              "fillmode": "overlay",
              "size": 10,
              "solidity": 0.2
             }
            },
            "type": "barpolar"
           }
          ],
          "carpet": [
           {
            "aaxis": {
             "endlinecolor": "#2a3f5f",
             "gridcolor": "white",
             "linecolor": "white",
             "minorgridcolor": "white",
             "startlinecolor": "#2a3f5f"
            },
            "baxis": {
             "endlinecolor": "#2a3f5f",
             "gridcolor": "white",
             "linecolor": "white",
             "minorgridcolor": "white",
             "startlinecolor": "#2a3f5f"
            },
            "type": "carpet"
           }
          ],
          "choropleth": [
           {
            "colorbar": {
             "outlinewidth": 0,
             "ticks": ""
            },
            "type": "choropleth"
           }
          ],
          "contour": [
           {
            "colorbar": {
             "outlinewidth": 0,
             "ticks": ""
            },
            "colorscale": [
             [
              0,
              "#0d0887"
             ],
             [
              0.1111111111111111,
              "#46039f"
             ],
             [
              0.2222222222222222,
              "#7201a8"
             ],
             [
              0.3333333333333333,
              "#9c179e"
             ],
             [
              0.4444444444444444,
              "#bd3786"
             ],
             [
              0.5555555555555556,
              "#d8576b"
             ],
             [
              0.6666666666666666,
              "#ed7953"
             ],
             [
              0.7777777777777778,
              "#fb9f3a"
             ],
             [
              0.8888888888888888,
              "#fdca26"
             ],
             [
              1,
              "#f0f921"
             ]
            ],
            "type": "contour"
           }
          ],
          "contourcarpet": [
           {
            "colorbar": {
             "outlinewidth": 0,
             "ticks": ""
            },
            "type": "contourcarpet"
           }
          ],
          "heatmap": [
           {
            "colorbar": {
             "outlinewidth": 0,
             "ticks": ""
            },
            "colorscale": [
             [
              0,
              "#0d0887"
             ],
             [
              0.1111111111111111,
              "#46039f"
             ],
             [
              0.2222222222222222,
              "#7201a8"
             ],
             [
              0.3333333333333333,
              "#9c179e"
             ],
             [
              0.4444444444444444,
              "#bd3786"
             ],
             [
              0.5555555555555556,
              "#d8576b"
             ],
             [
              0.6666666666666666,
              "#ed7953"
             ],
             [
              0.7777777777777778,
              "#fb9f3a"
             ],
             [
              0.8888888888888888,
              "#fdca26"
             ],
             [
              1,
              "#f0f921"
             ]
            ],
            "type": "heatmap"
           }
          ],
          "histogram": [
           {
            "marker": {
             "pattern": {
              "fillmode": "overlay",
              "size": 10,
              "solidity": 0.2
             }
            },
            "type": "histogram"
           }
          ],
          "histogram2d": [
           {
            "colorbar": {
             "outlinewidth": 0,
             "ticks": ""
            },
            "colorscale": [
             [
              0,
              "#0d0887"
             ],
             [
              0.1111111111111111,
              "#46039f"
             ],
             [
              0.2222222222222222,
              "#7201a8"
             ],
             [
              0.3333333333333333,
              "#9c179e"
             ],
             [
              0.4444444444444444,
              "#bd3786"
             ],
             [
              0.5555555555555556,
              "#d8576b"
             ],
             [
              0.6666666666666666,
              "#ed7953"
             ],
             [
              0.7777777777777778,
              "#fb9f3a"
             ],
             [
              0.8888888888888888,
              "#fdca26"
             ],
             [
              1,
              "#f0f921"
             ]
            ],
            "type": "histogram2d"
           }
          ],
          "histogram2dcontour": [
           {
            "colorbar": {
             "outlinewidth": 0,
             "ticks": ""
            },
            "colorscale": [
             [
              0,
              "#0d0887"
             ],
             [
              0.1111111111111111,
              "#46039f"
             ],
             [
              0.2222222222222222,
              "#7201a8"
             ],
             [
              0.3333333333333333,
              "#9c179e"
             ],
             [
              0.4444444444444444,
              "#bd3786"
             ],
             [
              0.5555555555555556,
              "#d8576b"
             ],
             [
              0.6666666666666666,
              "#ed7953"
             ],
             [
              0.7777777777777778,
              "#fb9f3a"
             ],
             [
              0.8888888888888888,
              "#fdca26"
             ],
             [
              1,
              "#f0f921"
             ]
            ],
            "type": "histogram2dcontour"
           }
          ],
          "mesh3d": [
           {
            "colorbar": {
             "outlinewidth": 0,
             "ticks": ""
            },
            "type": "mesh3d"
           }
          ],
          "parcoords": [
           {
            "line": {
             "colorbar": {
              "outlinewidth": 0,
              "ticks": ""
             }
            },
            "type": "parcoords"
           }
          ],
          "pie": [
           {
            "automargin": true,
            "type": "pie"
           }
          ],
          "scatter": [
           {
            "fillpattern": {
             "fillmode": "overlay",
             "size": 10,
             "solidity": 0.2
            },
            "type": "scatter"
           }
          ],
          "scatter3d": [
           {
            "line": {
             "colorbar": {
              "outlinewidth": 0,
              "ticks": ""
             }
            },
            "marker": {
             "colorbar": {
              "outlinewidth": 0,
              "ticks": ""
             }
            },
            "type": "scatter3d"
           }
          ],
          "scattercarpet": [
           {
            "marker": {
             "colorbar": {
              "outlinewidth": 0,
              "ticks": ""
             }
            },
            "type": "scattercarpet"
           }
          ],
          "scattergeo": [
           {
            "marker": {
             "colorbar": {
              "outlinewidth": 0,
              "ticks": ""
             }
            },
            "type": "scattergeo"
           }
          ],
          "scattergl": [
           {
            "marker": {
             "colorbar": {
              "outlinewidth": 0,
              "ticks": ""
             }
            },
            "type": "scattergl"
           }
          ],
          "scattermap": [
           {
            "marker": {
             "colorbar": {
              "outlinewidth": 0,
              "ticks": ""
             }
            },
            "type": "scattermap"
           }
          ],
          "scattermapbox": [
           {
            "marker": {
             "colorbar": {
              "outlinewidth": 0,
              "ticks": ""
             }
            },
            "type": "scattermapbox"
           }
          ],
          "scatterpolar": [
           {
            "marker": {
             "colorbar": {
              "outlinewidth": 0,
              "ticks": ""
             }
            },
            "type": "scatterpolar"
           }
          ],
          "scatterpolargl": [
           {
            "marker": {
             "colorbar": {
              "outlinewidth": 0,
              "ticks": ""
             }
            },
            "type": "scatterpolargl"
           }
          ],
          "scatterternary": [
           {
            "marker": {
             "colorbar": {
              "outlinewidth": 0,
              "ticks": ""
             }
            },
            "type": "scatterternary"
           }
          ],
          "surface": [
           {
            "colorbar": {
             "outlinewidth": 0,
             "ticks": ""
            },
            "colorscale": [
             [
              0,
              "#0d0887"
             ],
             [
              0.1111111111111111,
              "#46039f"
             ],
             [
              0.2222222222222222,
              "#7201a8"
             ],
             [
              0.3333333333333333,
              "#9c179e"
             ],
             [
              0.4444444444444444,
              "#bd3786"
             ],
             [
              0.5555555555555556,
              "#d8576b"
             ],
             [
              0.6666666666666666,
              "#ed7953"
             ],
             [
              0.7777777777777778,
              "#fb9f3a"
             ],
             [
              0.8888888888888888,
              "#fdca26"
             ],
             [
              1,
              "#f0f921"
             ]
            ],
            "type": "surface"
           }
          ],
          "table": [
           {
            "cells": {
             "fill": {
              "color": "#EBF0F8"
             },
             "line": {
              "color": "white"
             }
            },
            "header": {
             "fill": {
              "color": "#C8D4E3"
             },
             "line": {
              "color": "white"
             }
            },
            "type": "table"
           }
          ]
         },
         "layout": {
          "annotationdefaults": {
           "arrowcolor": "#2a3f5f",
           "arrowhead": 0,
           "arrowwidth": 1
          },
          "autotypenumbers": "strict",
          "coloraxis": {
           "colorbar": {
            "outlinewidth": 0,
            "ticks": ""
           }
          },
          "colorscale": {
           "diverging": [
            [
             0,
             "#8e0152"
            ],
            [
             0.1,
             "#c51b7d"
            ],
            [
             0.2,
             "#de77ae"
            ],
            [
             0.3,
             "#f1b6da"
            ],
            [
             0.4,
             "#fde0ef"
            ],
            [
             0.5,
             "#f7f7f7"
            ],
            [
             0.6,
             "#e6f5d0"
            ],
            [
             0.7,
             "#b8e186"
            ],
            [
             0.8,
             "#7fbc41"
            ],
            [
             0.9,
             "#4d9221"
            ],
            [
             1,
             "#276419"
            ]
           ],
           "sequential": [
            [
             0,
             "#0d0887"
            ],
            [
             0.1111111111111111,
             "#46039f"
            ],
            [
             0.2222222222222222,
             "#7201a8"
            ],
            [
             0.3333333333333333,
             "#9c179e"
            ],
            [
             0.4444444444444444,
             "#bd3786"
            ],
            [
             0.5555555555555556,
             "#d8576b"
            ],
            [
             0.6666666666666666,
             "#ed7953"
            ],
            [
             0.7777777777777778,
             "#fb9f3a"
            ],
            [
             0.8888888888888888,
             "#fdca26"
            ],
            [
             1,
             "#f0f921"
            ]
           ],
           "sequentialminus": [
            [
             0,
             "#0d0887"
            ],
            [
             0.1111111111111111,
             "#46039f"
            ],
            [
             0.2222222222222222,
             "#7201a8"
            ],
            [
             0.3333333333333333,
             "#9c179e"
            ],
            [
             0.4444444444444444,
             "#bd3786"
            ],
            [
             0.5555555555555556,
             "#d8576b"
            ],
            [
             0.6666666666666666,
             "#ed7953"
            ],
            [
             0.7777777777777778,
             "#fb9f3a"
            ],
            [
             0.8888888888888888,
             "#fdca26"
            ],
            [
             1,
             "#f0f921"
            ]
           ]
          },
          "colorway": [
           "#636efa",
           "#EF553B",
           "#00cc96",
           "#ab63fa",
           "#FFA15A",
           "#19d3f3",
           "#FF6692",
           "#B6E880",
           "#FF97FF",
           "#FECB52"
          ],
          "font": {
           "color": "#2a3f5f"
          },
          "geo": {
           "bgcolor": "white",
           "lakecolor": "white",
           "landcolor": "#E5ECF6",
           "showlakes": true,
           "showland": true,
           "subunitcolor": "white"
          },
          "hoverlabel": {
           "align": "left"
          },
          "hovermode": "closest",
          "mapbox": {
           "style": "light"
          },
          "paper_bgcolor": "white",
          "plot_bgcolor": "#E5ECF6",
          "polar": {
           "angularaxis": {
            "gridcolor": "white",
            "linecolor": "white",
            "ticks": ""
           },
           "bgcolor": "#E5ECF6",
           "radialaxis": {
            "gridcolor": "white",
            "linecolor": "white",
            "ticks": ""
           }
          },
          "scene": {
           "xaxis": {
            "backgroundcolor": "#E5ECF6",
            "gridcolor": "white",
            "gridwidth": 2,
            "linecolor": "white",
            "showbackground": true,
            "ticks": "",
            "zerolinecolor": "white"
           },
           "yaxis": {
            "backgroundcolor": "#E5ECF6",
            "gridcolor": "white",
            "gridwidth": 2,
            "linecolor": "white",
            "showbackground": true,
            "ticks": "",
            "zerolinecolor": "white"
           },
           "zaxis": {
            "backgroundcolor": "#E5ECF6",
            "gridcolor": "white",
            "gridwidth": 2,
            "linecolor": "white",
            "showbackground": true,
            "ticks": "",
            "zerolinecolor": "white"
           }
          },
          "shapedefaults": {
           "line": {
            "color": "#2a3f5f"
           }
          },
          "ternary": {
           "aaxis": {
            "gridcolor": "white",
            "linecolor": "white",
            "ticks": ""
           },
           "baxis": {
            "gridcolor": "white",
            "linecolor": "white",
            "ticks": ""
           },
           "bgcolor": "#E5ECF6",
           "caxis": {
            "gridcolor": "white",
            "linecolor": "white",
            "ticks": ""
           }
          },
          "title": {
           "x": 0.05
          },
          "xaxis": {
           "automargin": true,
           "gridcolor": "white",
           "linecolor": "white",
           "ticks": "",
           "title": {
            "standoff": 15
           },
           "zerolinecolor": "white",
           "zerolinewidth": 2
          },
          "yaxis": {
           "automargin": true,
           "gridcolor": "white",
           "linecolor": "white",
           "ticks": "",
           "title": {
            "standoff": 15
           },
           "zerolinecolor": "white",
           "zerolinewidth": 2
          }
         }
        },
        "title": {
         "text": "Sunburst: Section → Author Pageviews"
        }
       }
      },
      "image/png": "[encoded data removed]"
     },
     "metadata": {},
     "output_type": "display_data"
    }
   ],
   "source": [
    "fig = px.sunburst(\n",
    "    df_filtered,\n",
    "    path=[\"section\",\"author\"],\n",
    "    values=\"pageviews\",\n",
    "    color=\"section\",\n",
    "    hover_data=[\"pageviews\"],\n",
    "    title=\"Sunburst: Section → Author Pageviews\"\n",
    ")\n",
    "fig.show()\n"
   ]
  },
  {
   "cell_type": "code",
   "execution_count": 94,
   "id": "e6768e76-bf18-4e03-b92f-cd4e6a0c84ca",
   "metadata": {},
   "outputs": [
    {
     "data": {
      "application/vnd.plotly.v1+json": {
       "config": {
        "plotlyServerURL": "https://plot.ly"
       },
       "data": [
        {
         "hovertemplate": "section=Atlanta<br>pageviews=%{x}<br>author=%{y}<extra></extra>",
         "legendgroup": "Atlanta",
         "marker": {
          "color": "#636efa",
          "pattern": {
           "shape": ""
          }
         },
         "name": "Atlanta",
         "orientation": "h",
         "showlegend": true,
         "textposition": "auto",
         "type": "bar",
         "x": {
          "bdata": "AAAAAAAAJwAAAAAAAAAAAAAAAAAAAAAAAAAAAAkU",
          "dtype": "i2"
         },
         "xaxis": "x",
         "y": [
          "Elizabeth Cryan",
          "Emily Landes",
          "Francisco Alvarado",
          "Jess Hardin",
          "Kari Hamanaka",
          "Kate Hinsche",
          "Katherine Kallergis",
          "Kathryn Brenzel",
          "Keith Larsen",
          "Lidia Dinkova",
          "Rich Bockmann",
          "Sam Lounsberry",
          "Sheridan Wall",
          "Suzannah Cavanaugh",
          "TRD Staff"
         ],
         "yaxis": "y"
        },
        {
         "hovertemplate": "section=Austin<br>pageviews=%{x}<br>author=%{y}<extra></extra>",
         "legendgroup": "Austin",
         "marker": {
          "color": "#EF553B",
          "pattern": {
           "shape": ""
          }
         },
         "name": "Austin",
         "orientation": "h",
         "showlegend": true,
         "textposition": "auto",
         "type": "bar",
         "x": {
          "bdata": "AAADAAAAyAMAAAAAAAAAAAcAAAAAAAAAAAAAAH8o",
          "dtype": "i2"
         },
         "xaxis": "x",
         "y": [
          "Elizabeth Cryan",
          "Emily Landes",
          "Francisco Alvarado",
          "Jess Hardin",
          "Kari Hamanaka",
          "Kate Hinsche",
          "Katherine Kallergis",
          "Kathryn Brenzel",
          "Keith Larsen",
          "Lidia Dinkova",
          "Rich Bockmann",
          "Sam Lounsberry",
          "Sheridan Wall",
          "Suzannah Cavanaugh",
          "TRD Staff"
         ],
         "yaxis": "y"
        },
        {
         "hovertemplate": "section=Boston<br>pageviews=%{x}<br>author=%{y}<extra></extra>",
         "legendgroup": "Boston",
         "marker": {
          "color": "#00cc96",
          "pattern": {
           "shape": ""
          }
         },
         "name": "Boston",
         "orientation": "h",
         "showlegend": true,
         "textposition": "auto",
         "type": "bar",
         "x": {
          "bdata": "AAAAAAAAAAAAAAAAAAAAAAAAAAAAAAAAAAAAADQK",
          "dtype": "i2"
         },
         "xaxis": "x",
         "y": [
          "Elizabeth Cryan",
          "Emily Landes",
          "Francisco Alvarado",
          "Jess Hardin",
          "Kari Hamanaka",
          "Kate Hinsche",
          "Katherine Kallergis",
          "Kathryn Brenzel",
          "Keith Larsen",
          "Lidia Dinkova",
          "Rich Bockmann",
          "Sam Lounsberry",
          "Sheridan Wall",
          "Suzannah Cavanaugh",
          "TRD Staff"
         ],
         "yaxis": "y"
        },
        {
         "hovertemplate": "section=Charlotte<br>pageviews=%{x}<br>author=%{y}<extra></extra>",
         "legendgroup": "Charlotte",
         "marker": {
          "color": "#ab63fa",
          "pattern": {
           "shape": ""
          }
         },
         "name": "Charlotte",
         "orientation": "h",
         "showlegend": true,
         "textposition": "auto",
         "type": "bar",
         "x": {
          "bdata": "AAAAAAAAAAAAAAAAAAAAAAAAAAAAAAAAAAAAAKEM",
          "dtype": "i2"
         },
         "xaxis": "x",
         "y": [
          "Elizabeth Cryan",
          "Emily Landes",
          "Francisco Alvarado",
          "Jess Hardin",
          "Kari Hamanaka",
          "Kate Hinsche",
          "Katherine Kallergis",
          "Kathryn Brenzel",
          "Keith Larsen",
          "Lidia Dinkova",
          "Rich Bockmann",
          "Sam Lounsberry",
          "Sheridan Wall",
          "Suzannah Cavanaugh",
          "TRD Staff"
         ],
         "yaxis": "y"
        },
        {
         "hovertemplate": "section=Chicago<br>pageviews=%{x}<br>author=%{y}<extra></extra>",
         "legendgroup": "Chicago",
         "marker": {
          "color": "#FFA15A",
          "pattern": {
           "shape": ""
          }
         },
         "name": "Chicago",
         "orientation": "h",
         "showlegend": true,
         "textposition": "auto",
         "type": "bar",
         "x": {
          "bdata": "AAAAAAAAAAAAAAAAKQEAAAAAAAAAAAAAAAAAAAAAAAARAAAAAAAAAAAAAADZmwAAAAAAAAoAAABjBQEA",
          "dtype": "i4"
         },
         "xaxis": "x",
         "y": [
          "Elizabeth Cryan",
          "Emily Landes",
          "Francisco Alvarado",
          "Jess Hardin",
          "Kari Hamanaka",
          "Kate Hinsche",
          "Katherine Kallergis",
          "Kathryn Brenzel",
          "Keith Larsen",
          "Lidia Dinkova",
          "Rich Bockmann",
          "Sam Lounsberry",
          "Sheridan Wall",
          "Suzannah Cavanaugh",
          "TRD Staff"
         ],
         "yaxis": "y"
        },
        {
         "hovertemplate": "section=Dallas<br>pageviews=%{x}<br>author=%{y}<extra></extra>",
         "legendgroup": "Dallas",
         "marker": {
          "color": "#19d3f3",
          "pattern": {
           "shape": ""
          }
         },
         "name": "Dallas",
         "orientation": "h",
         "showlegend": true,
         "textposition": "auto",
         "type": "bar",
         "x": {
          "bdata": "AAAAAAAAlnMAAAAAAAAAAAAAAAAAAAAAAAAAANxM",
          "dtype": "i2"
         },
         "xaxis": "x",
         "y": [
          "Elizabeth Cryan",
          "Emily Landes",
          "Francisco Alvarado",
          "Jess Hardin",
          "Kari Hamanaka",
          "Kate Hinsche",
          "Katherine Kallergis",
          "Kathryn Brenzel",
          "Keith Larsen",
          "Lidia Dinkova",
          "Rich Bockmann",
          "Sam Lounsberry",
          "Sheridan Wall",
          "Suzannah Cavanaugh",
          "TRD Staff"
         ],
         "yaxis": "y"
        },
        {
         "hovertemplate": "section=Denver<br>pageviews=%{x}<br>author=%{y}<extra></extra>",
         "legendgroup": "Denver",
         "marker": {
          "color": "#FF6692",
          "pattern": {
           "shape": ""
          }
         },
         "name": "Denver",
         "orientation": "h",
         "showlegend": true,
         "textposition": "auto",
         "type": "bar",
         "x": {
          "bdata": "AAAAAAAAAAAAAAAAAAAAAAAAAAAAAAAAAAAAAPoN",
          "dtype": "i2"
         },
         "xaxis": "x",
         "y": [
          "Elizabeth Cryan",
          "Emily Landes",
          "Francisco Alvarado",
          "Jess Hardin",
          "Kari Hamanaka",
          "Kate Hinsche",
          "Katherine Kallergis",
          "Kathryn Brenzel",
          "Keith Larsen",
          "Lidia Dinkova",
          "Rich Bockmann",
          "Sam Lounsberry",
          "Sheridan Wall",
          "Suzannah Cavanaugh",
          "TRD Staff"
         ],
         "yaxis": "y"
        },
        {
         "hovertemplate": "section=Fort Worth<br>pageviews=%{x}<br>author=%{y}<extra></extra>",
         "legendgroup": "Fort Worth",
         "marker": {
          "color": "#B6E880",
          "pattern": {
           "shape": ""
          }
         },
         "name": "Fort Worth",
         "orientation": "h",
         "showlegend": true,
         "textposition": "auto",
         "type": "bar",
         "x": {
          "bdata": "AAAAAAAAAQEAAAAAAAAAAAAAAAAAAAAAAAAAALgc",
          "dtype": "i2"
         },
         "xaxis": "x",
         "y": [
          "Elizabeth Cryan",
          "Emily Landes",
          "Francisco Alvarado",
          "Jess Hardin",
          "Kari Hamanaka",
          "Kate Hinsche",
          "Katherine Kallergis",
          "Kathryn Brenzel",
          "Keith Larsen",
          "Lidia Dinkova",
          "Rich Bockmann",
          "Sam Lounsberry",
          "Sheridan Wall",
          "Suzannah Cavanaugh",
          "TRD Staff"
         ],
         "yaxis": "y"
        },
        {
         "hovertemplate": "section=Houston<br>pageviews=%{x}<br>author=%{y}<extra></extra>",
         "legendgroup": "Houston",
         "marker": {
          "color": "#FF97FF",
          "pattern": {
           "shape": ""
          }
         },
         "name": "Houston",
         "orientation": "h",
         "showlegend": true,
         "textposition": "auto",
         "type": "bar",
         "x": {
          "bdata": "AAAAAAAAPg4AAAAAAAAAAAAAAAAAAAAAAABBAOsh",
          "dtype": "i2"
         },
         "xaxis": "x",
         "y": [
          "Elizabeth Cryan",
          "Emily Landes",
          "Francisco Alvarado",
          "Jess Hardin",
          "Kari Hamanaka",
          "Kate Hinsche",
          "Katherine Kallergis",
          "Kathryn Brenzel",
          "Keith Larsen",
          "Lidia Dinkova",
          "Rich Bockmann",
          "Sam Lounsberry",
          "Sheridan Wall",
          "Suzannah Cavanaugh",
          "TRD Staff"
         ],
         "yaxis": "y"
        },
        {
         "hovertemplate": "section=Las Vegas<br>pageviews=%{x}<br>author=%{y}<extra></extra>",
         "legendgroup": "Las Vegas",
         "marker": {
          "color": "#FECB52",
          "pattern": {
           "shape": ""
          }
         },
         "name": "Las Vegas",
         "orientation": "h",
         "showlegend": true,
         "textposition": "auto",
         "type": "bar",
         "x": {
          "bdata": "AAAAAAAAAAAAAAAAAAAAAAAAAAAAAAAAAAAAACAI",
          "dtype": "i2"
         },
         "xaxis": "x",
         "y": [
          "Elizabeth Cryan",
          "Emily Landes",
          "Francisco Alvarado",
          "Jess Hardin",
          "Kari Hamanaka",
          "Kate Hinsche",
          "Katherine Kallergis",
          "Kathryn Brenzel",
          "Keith Larsen",
          "Lidia Dinkova",
          "Rich Bockmann",
          "Sam Lounsberry",
          "Sheridan Wall",
          "Suzannah Cavanaugh",
          "TRD Staff"
         ],
         "yaxis": "y"
        },
        {
         "hovertemplate": "section=Los Angeles<br>pageviews=%{x}<br>author=%{y}<extra></extra>",
         "legendgroup": "Los Angeles",
         "marker": {
          "color": "#636efa",
          "pattern": {
           "shape": ""
          }
         },
         "name": "Los Angeles",
         "orientation": "h",
         "showlegend": true,
         "textposition": "auto",
         "type": "bar",
         "x": {
          "bdata": "AAAAAAoAAABJAAAAAAAAAGWRAAAAAAAAAAAAAAAAAAD6AAAAAAAAAD8AAAA2AAAAAAAAADwBAADhFQEA",
          "dtype": "i4"
         },
         "xaxis": "x",
         "y": [
          "Elizabeth Cryan",
          "Emily Landes",
          "Francisco Alvarado",
          "Jess Hardin",
          "Kari Hamanaka",
          "Kate Hinsche",
          "Katherine Kallergis",
          "Kathryn Brenzel",
          "Keith Larsen",
          "Lidia Dinkova",
          "Rich Bockmann",
          "Sam Lounsberry",
          "Sheridan Wall",
          "Suzannah Cavanaugh",
          "TRD Staff"
         ],
         "yaxis": "y"
        },
        {
         "hovertemplate": "section=Nashville<br>pageviews=%{x}<br>author=%{y}<extra></extra>",
         "legendgroup": "Nashville",
         "marker": {
          "color": "#EF553B",
          "pattern": {
           "shape": ""
          }
         },
         "name": "Nashville",
         "orientation": "h",
         "showlegend": true,
         "textposition": "auto",
         "type": "bar",
         "x": {
          "bdata": "AAAAAAAAAAAAAAAAAAAAAAAAAAAAAAAAAAAAAD4W",
          "dtype": "i2"
         },
         "xaxis": "x",
         "y": [
          "Elizabeth Cryan",
          "Emily Landes",
          "Francisco Alvarado",
          "Jess Hardin",
          "Kari Hamanaka",
          "Kate Hinsche",
          "Katherine Kallergis",
          "Kathryn Brenzel",
          "Keith Larsen",
          "Lidia Dinkova",
          "Rich Bockmann",
          "Sam Lounsberry",
          "Sheridan Wall",
          "Suzannah Cavanaugh",
          "TRD Staff"
         ],
         "yaxis": "y"
        },
        {
         "hovertemplate": "section=National<br>pageviews=%{x}<br>author=%{y}<extra></extra>",
         "legendgroup": "National",
         "marker": {
          "color": "#00cc96",
          "pattern": {
           "shape": ""
          }
         },
         "name": "National",
         "orientation": "h",
         "showlegend": true,
         "textposition": "auto",
         "type": "bar",
         "x": {
          "bdata": "OAMAAD4AAABSAAAAsQAAAOsGAAD7AAAAUxcAAMsaAAAiEgAAIgAAALYDAAAqAAAADkAAAGQlAACIJAEA",
          "dtype": "i4"
         },
         "xaxis": "x",
         "y": [
          "Elizabeth Cryan",
          "Emily Landes",
          "Francisco Alvarado",
          "Jess Hardin",
          "Kari Hamanaka",
          "Kate Hinsche",
          "Katherine Kallergis",
          "Kathryn Brenzel",
          "Keith Larsen",
          "Lidia Dinkova",
          "Rich Bockmann",
          "Sam Lounsberry",
          "Sheridan Wall",
          "Suzannah Cavanaugh",
          "TRD Staff"
         ],
         "yaxis": "y"
        },
        {
         "hovertemplate": "section=New York<br>pageviews=%{x}<br>author=%{y}<extra></extra>",
         "legendgroup": "New York",
         "marker": {
          "color": "#ab63fa",
          "pattern": {
           "shape": ""
          }
         },
         "name": "New York",
         "orientation": "h",
         "showlegend": true,
         "textposition": "auto",
         "type": "bar",
         "x": {
          "bdata": "BNIAAAAAAAAAAAAAAAAAAAAAAAAAAAAA1RIAAPSgAAAv5AAAyAAAAHd0AQAAAAAA4bwAANWmAADQ6AIA",
          "dtype": "i4"
         },
         "xaxis": "x",
         "y": [
          "Elizabeth Cryan",
          "Emily Landes",
          "Francisco Alvarado",
          "Jess Hardin",
          "Kari Hamanaka",
          "Kate Hinsche",
          "Katherine Kallergis",
          "Kathryn Brenzel",
          "Keith Larsen",
          "Lidia Dinkova",
          "Rich Bockmann",
          "Sam Lounsberry",
          "Sheridan Wall",
          "Suzannah Cavanaugh",
          "TRD Staff"
         ],
         "yaxis": "y"
        },
        {
         "hovertemplate": "section=Orlando<br>pageviews=%{x}<br>author=%{y}<extra></extra>",
         "legendgroup": "Orlando",
         "marker": {
          "color": "#FFA15A",
          "pattern": {
           "shape": ""
          }
         },
         "name": "Orlando",
         "orientation": "h",
         "showlegend": true,
         "textposition": "auto",
         "type": "bar",
         "x": {
          "bdata": "AAAAAAAAAAAAAAAAAAAAAAAAAAAAAAAAAAAAAEEB",
          "dtype": "i2"
         },
         "xaxis": "x",
         "y": [
          "Elizabeth Cryan",
          "Emily Landes",
          "Francisco Alvarado",
          "Jess Hardin",
          "Kari Hamanaka",
          "Kate Hinsche",
          "Katherine Kallergis",
          "Kathryn Brenzel",
          "Keith Larsen",
          "Lidia Dinkova",
          "Rich Bockmann",
          "Sam Lounsberry",
          "Sheridan Wall",
          "Suzannah Cavanaugh",
          "TRD Staff"
         ],
         "yaxis": "y"
        },
        {
         "hovertemplate": "section=Philadelphia<br>pageviews=%{x}<br>author=%{y}<extra></extra>",
         "legendgroup": "Philadelphia",
         "marker": {
          "color": "#19d3f3",
          "pattern": {
           "shape": ""
          }
         },
         "name": "Philadelphia",
         "orientation": "h",
         "showlegend": true,
         "textposition": "auto",
         "type": "bar",
         "x": {
          "bdata": "AAAAAAAAAAAAAAAAAAAAAAAAAAAAAAAAAAAAAHcM",
          "dtype": "i2"
         },
         "xaxis": "x",
         "y": [
          "Elizabeth Cryan",
          "Emily Landes",
          "Francisco Alvarado",
          "Jess Hardin",
          "Kari Hamanaka",
          "Kate Hinsche",
          "Katherine Kallergis",
          "Kathryn Brenzel",
          "Keith Larsen",
          "Lidia Dinkova",
          "Rich Bockmann",
          "Sam Lounsberry",
          "Sheridan Wall",
          "Suzannah Cavanaugh",
          "TRD Staff"
         ],
         "yaxis": "y"
        },
        {
         "hovertemplate": "section=Phoenix<br>pageviews=%{x}<br>author=%{y}<extra></extra>",
         "legendgroup": "Phoenix",
         "marker": {
          "color": "#FF6692",
          "pattern": {
           "shape": ""
          }
         },
         "name": "Phoenix",
         "orientation": "h",
         "showlegend": true,
         "textposition": "auto",
         "type": "bar",
         "x": {
          "bdata": "AAAAAAAAAAAAAAAAAAAAAAAAAAAAAAAAAAAAACwb",
          "dtype": "i2"
         },
         "xaxis": "x",
         "y": [
          "Elizabeth Cryan",
          "Emily Landes",
          "Francisco Alvarado",
          "Jess Hardin",
          "Kari Hamanaka",
          "Kate Hinsche",
          "Katherine Kallergis",
          "Kathryn Brenzel",
          "Keith Larsen",
          "Lidia Dinkova",
          "Rich Bockmann",
          "Sam Lounsberry",
          "Sheridan Wall",
          "Suzannah Cavanaugh",
          "TRD Staff"
         ],
         "yaxis": "y"
        },
        {
         "hovertemplate": "section=San Antonio<br>pageviews=%{x}<br>author=%{y}<extra></extra>",
         "legendgroup": "San Antonio",
         "marker": {
          "color": "#B6E880",
          "pattern": {
           "shape": ""
          }
         },
         "name": "San Antonio",
         "orientation": "h",
         "showlegend": true,
         "textposition": "auto",
         "type": "bar",
         "x": {
          "bdata": "AAAAAAAA5AMAAAAAAAAAAAAAAAAAAAAAAAAAANIH",
          "dtype": "i2"
         },
         "xaxis": "x",
         "y": [
          "Elizabeth Cryan",
          "Emily Landes",
          "Francisco Alvarado",
          "Jess Hardin",
          "Kari Hamanaka",
          "Kate Hinsche",
          "Katherine Kallergis",
          "Kathryn Brenzel",
          "Keith Larsen",
          "Lidia Dinkova",
          "Rich Bockmann",
          "Sam Lounsberry",
          "Sheridan Wall",
          "Suzannah Cavanaugh",
          "TRD Staff"
         ],
         "yaxis": "y"
        },
        {
         "hovertemplate": "section=San Francisco<br>pageviews=%{x}<br>author=%{y}<extra></extra>",
         "legendgroup": "San Francisco",
         "marker": {
          "color": "#FF97FF",
          "pattern": {
           "shape": ""
          }
         },
         "name": "San Francisco",
         "orientation": "h",
         "showlegend": true,
         "textposition": "auto",
         "type": "bar",
         "x": {
          "bdata": "AAAAAHHkAAAAAAAAAAAAADQAAAAAAAAAAAAAAAAAAAAAAAAAAAAAAAAAAAAAAAAAAAAAAAAAAADm6QAA",
          "dtype": "i4"
         },
         "xaxis": "x",
         "y": [
          "Elizabeth Cryan",
          "Emily Landes",
          "Francisco Alvarado",
          "Jess Hardin",
          "Kari Hamanaka",
          "Kate Hinsche",
          "Katherine Kallergis",
          "Kathryn Brenzel",
          "Keith Larsen",
          "Lidia Dinkova",
          "Rich Bockmann",
          "Sam Lounsberry",
          "Sheridan Wall",
          "Suzannah Cavanaugh",
          "TRD Staff"
         ],
         "yaxis": "y"
        },
        {
         "hovertemplate": "section=Seattle<br>pageviews=%{x}<br>author=%{y}<extra></extra>",
         "legendgroup": "Seattle",
         "marker": {
          "color": "#FECB52",
          "pattern": {
           "shape": ""
          }
         },
         "name": "Seattle",
         "orientation": "h",
         "showlegend": true,
         "textposition": "auto",
         "type": "bar",
         "x": {
          "bdata": "AAAAAAAAAAAAAAAAAAAAAAAAAAAAAAAAAAAAAEMQ",
          "dtype": "i2"
         },
         "xaxis": "x",
         "y": [
          "Elizabeth Cryan",
          "Emily Landes",
          "Francisco Alvarado",
          "Jess Hardin",
          "Kari Hamanaka",
          "Kate Hinsche",
          "Katherine Kallergis",
          "Kathryn Brenzel",
          "Keith Larsen",
          "Lidia Dinkova",
          "Rich Bockmann",
          "Sam Lounsberry",
          "Sheridan Wall",
          "Suzannah Cavanaugh",
          "TRD Staff"
         ],
         "yaxis": "y"
        },
        {
         "hovertemplate": "section=South Florida<br>pageviews=%{x}<br>author=%{y}<extra></extra>",
         "legendgroup": "South Florida",
         "marker": {
          "color": "#636efa",
          "pattern": {
           "shape": ""
          }
         },
         "name": "South Florida",
         "orientation": "h",
         "showlegend": true,
         "textposition": "auto",
         "type": "bar",
         "x": {
          "bdata": "AAAAAAAAAABVHwEAaAAAAAAAAADDJwEA2DwBAAAAAADLCAAALdQAAAAAAAAAAAAAWQAAABgAAABzLAAA",
          "dtype": "i4"
         },
         "xaxis": "x",
         "y": [
          "Elizabeth Cryan",
          "Emily Landes",
          "Francisco Alvarado",
          "Jess Hardin",
          "Kari Hamanaka",
          "Kate Hinsche",
          "Katherine Kallergis",
          "Kathryn Brenzel",
          "Keith Larsen",
          "Lidia Dinkova",
          "Rich Bockmann",
          "Sam Lounsberry",
          "Sheridan Wall",
          "Suzannah Cavanaugh",
          "TRD Staff"
         ],
         "yaxis": "y"
        },
        {
         "hovertemplate": "section=Tampa<br>pageviews=%{x}<br>author=%{y}<extra></extra>",
         "legendgroup": "Tampa",
         "marker": {
          "color": "#EF553B",
          "pattern": {
           "shape": ""
          }
         },
         "name": "Tampa",
         "orientation": "h",
         "showlegend": true,
         "textposition": "auto",
         "type": "bar",
         "x": {
          "bdata": "AAAAAAAAAAAAAAAAAAAAAAAAAAAAAAAAAAAAABAG",
          "dtype": "i2"
         },
         "xaxis": "x",
         "y": [
          "Elizabeth Cryan",
          "Emily Landes",
          "Francisco Alvarado",
          "Jess Hardin",
          "Kari Hamanaka",
          "Kate Hinsche",
          "Katherine Kallergis",
          "Kathryn Brenzel",
          "Keith Larsen",
          "Lidia Dinkova",
          "Rich Bockmann",
          "Sam Lounsberry",
          "Sheridan Wall",
          "Suzannah Cavanaugh",
          "TRD Staff"
         ],
         "yaxis": "y"
        },
        {
         "hovertemplate": "section=Texas<br>pageviews=%{x}<br>author=%{y}<extra></extra>",
         "legendgroup": "Texas",
         "marker": {
          "color": "#00cc96",
          "pattern": {
           "shape": ""
          }
         },
         "name": "Texas",
         "orientation": "h",
         "showlegend": true,
         "textposition": "auto",
         "type": "bar",
         "x": {
          "bdata": "AAAAAAAAvQ8KAAAAAAAAAAMAAAAAAAAAAABVABRp",
          "dtype": "i2"
         },
         "xaxis": "x",
         "y": [
          "Elizabeth Cryan",
          "Emily Landes",
          "Francisco Alvarado",
          "Jess Hardin",
          "Kari Hamanaka",
          "Kate Hinsche",
          "Katherine Kallergis",
          "Kathryn Brenzel",
          "Keith Larsen",
          "Lidia Dinkova",
          "Rich Bockmann",
          "Sam Lounsberry",
          "Sheridan Wall",
          "Suzannah Cavanaugh",
          "TRD Staff"
         ],
         "yaxis": "y"
        },
        {
         "hovertemplate": "section=Tri-State<br>pageviews=%{x}<br>author=%{y}<extra></extra>",
         "legendgroup": "Tri-State",
         "marker": {
          "color": "#ab63fa",
          "pattern": {
           "shape": ""
          }
         },
         "name": "Tri-State",
         "orientation": "h",
         "showlegend": true,
         "textposition": "auto",
         "type": "bar",
         "x": {
          "bdata": "CgIAAAAA6QAAAAkAAAA/AEYQAAAnCQAAlgLJAOVI",
          "dtype": "i2"
         },
         "xaxis": "x",
         "y": [
          "Elizabeth Cryan",
          "Emily Landes",
          "Francisco Alvarado",
          "Jess Hardin",
          "Kari Hamanaka",
          "Kate Hinsche",
          "Katherine Kallergis",
          "Kathryn Brenzel",
          "Keith Larsen",
          "Lidia Dinkova",
          "Rich Bockmann",
          "Sam Lounsberry",
          "Sheridan Wall",
          "Suzannah Cavanaugh",
          "TRD Staff"
         ],
         "yaxis": "y"
        },
        {
         "hovertemplate": "section=Uncategorized<br>pageviews=%{x}<br>author=%{y}<extra></extra>",
         "legendgroup": "Uncategorized",
         "marker": {
          "color": "#FFA15A",
          "pattern": {
           "shape": ""
          }
         },
         "name": "Uncategorized",
         "orientation": "h",
         "showlegend": true,
         "textposition": "auto",
         "type": "bar",
         "x": {
          "bdata": "AAAAAAAAAAAAAAAAAAAAAAAAAAAAAAAAAAAAAPpD",
          "dtype": "i2"
         },
         "xaxis": "x",
         "y": [
          "Elizabeth Cryan",
          "Emily Landes",
          "Francisco Alvarado",
          "Jess Hardin",
          "Kari Hamanaka",
          "Kate Hinsche",
          "Katherine Kallergis",
          "Kathryn Brenzel",
          "Keith Larsen",
          "Lidia Dinkova",
          "Rich Bockmann",
          "Sam Lounsberry",
          "Sheridan Wall",
          "Suzannah Cavanaugh",
          "TRD Staff"
         ],
         "yaxis": "y"
        },
        {
         "hovertemplate": "section=Washington D.C.<br>pageviews=%{x}<br>author=%{y}<extra></extra>",
         "legendgroup": "Washington D.C.",
         "marker": {
          "color": "#19d3f3",
          "pattern": {
           "shape": ""
          }
         },
         "name": "Washington D.C.",
         "orientation": "h",
         "showlegend": true,
         "textposition": "auto",
         "type": "bar",
         "x": {
          "bdata": "AAAAAAAAAAAAAAAAAAAAAHsAAAAAAAAARwIAAK4Q",
          "dtype": "i2"
         },
         "xaxis": "x",
         "y": [
          "Elizabeth Cryan",
          "Emily Landes",
          "Francisco Alvarado",
          "Jess Hardin",
          "Kari Hamanaka",
          "Kate Hinsche",
          "Katherine Kallergis",
          "Kathryn Brenzel",
          "Keith Larsen",
          "Lidia Dinkova",
          "Rich Bockmann",
          "Sam Lounsberry",
          "Sheridan Wall",
          "Suzannah Cavanaugh",
          "TRD Staff"
         ],
         "yaxis": "y"
        }
       ],
       "layout": {
        "barmode": "stack",
        "legend": {
         "title": {
          "text": "section"
         },
         "tracegroupgap": 0
        },
        "template": {
         "data": {
          "bar": [
           {
            "error_x": {
             "color": "#2a3f5f"
            },
            "error_y": {
             "color": "#2a3f5f"
            },
            "marker": {
             "line": {
              "color": "#E5ECF6",
              "width": 0.5
             },
             "pattern": {
              "fillmode": "overlay",
              "size": 10,
              "solidity": 0.2
             }
            },
            "type": "bar"
           }
          ],
          "barpolar": [
           {
            "marker": {
             "line": {
              "color": "#E5ECF6",
              "width": 0.5
             },
             "pattern": {
              "fillmode": "overlay",
              "size": 10,
              "solidity": 0.2
             }
            },
            "type": "barpolar"
           }
          ],
          "carpet": [
           {
            "aaxis": {
             "endlinecolor": "#2a3f5f",
             "gridcolor": "white",
             "linecolor": "white",
             "minorgridcolor": "white",
             "startlinecolor": "#2a3f5f"
            },
            "baxis": {
             "endlinecolor": "#2a3f5f",
             "gridcolor": "white",
             "linecolor": "white",
             "minorgridcolor": "white",
             "startlinecolor": "#2a3f5f"
            },
            "type": "carpet"
           }
          ],
          "choropleth": [
           {
            "colorbar": {
             "outlinewidth": 0,
             "ticks": ""
            },
            "type": "choropleth"
           }
          ],
          "contour": [
           {
            "colorbar": {
             "outlinewidth": 0,
             "ticks": ""
            },
            "colorscale": [
             [
              0,
              "#0d0887"
             ],
             [
              0.1111111111111111,
              "#46039f"
             ],
             [
              0.2222222222222222,
              "#7201a8"
             ],
             [
              0.3333333333333333,
              "#9c179e"
             ],
             [
              0.4444444444444444,
              "#bd3786"
             ],
             [
              0.5555555555555556,
              "#d8576b"
             ],
             [
              0.6666666666666666,
              "#ed7953"
             ],
             [
              0.7777777777777778,
              "#fb9f3a"
             ],
             [
              0.8888888888888888,
              "#fdca26"
             ],
             [
              1,
              "#f0f921"
             ]
            ],
            "type": "contour"
           }
          ],
          "contourcarpet": [
           {
            "colorbar": {
             "outlinewidth": 0,
             "ticks": ""
            },
            "type": "contourcarpet"
           }
          ],
          "heatmap": [
           {
            "colorbar": {
             "outlinewidth": 0,
             "ticks": ""
            },
            "colorscale": [
             [
              0,
              "#0d0887"
             ],
             [
              0.1111111111111111,
              "#46039f"
             ],
             [
              0.2222222222222222,
              "#7201a8"
             ],
             [
              0.3333333333333333,
              "#9c179e"
             ],
             [
              0.4444444444444444,
              "#bd3786"
             ],
             [
              0.5555555555555556,
              "#d8576b"
             ],
             [
              0.6666666666666666,
              "#ed7953"
             ],
             [
              0.7777777777777778,
              "#fb9f3a"
             ],
             [
              0.8888888888888888,
              "#fdca26"
             ],
             [
              1,
              "#f0f921"
             ]
            ],
            "type": "heatmap"
           }
          ],
          "histogram": [
           {
            "marker": {
             "pattern": {
              "fillmode": "overlay",
              "size": 10,
              "solidity": 0.2
             }
            },
            "type": "histogram"
           }
          ],
          "histogram2d": [
           {
            "colorbar": {
             "outlinewidth": 0,
             "ticks": ""
            },
            "colorscale": [
             [
              0,
              "#0d0887"
             ],
             [
              0.1111111111111111,
              "#46039f"
             ],
             [
              0.2222222222222222,
              "#7201a8"
             ],
             [
              0.3333333333333333,
              "#9c179e"
             ],
             [
              0.4444444444444444,
              "#bd3786"
             ],
             [
              0.5555555555555556,
              "#d8576b"
             ],
             [
              0.6666666666666666,
              "#ed7953"
             ],
             [
              0.7777777777777778,
              "#fb9f3a"
             ],
             [
              0.8888888888888888,
              "#fdca26"
             ],
             [
              1,
              "#f0f921"
             ]
            ],
            "type": "histogram2d"
           }
          ],
          "histogram2dcontour": [
           {
            "colorbar": {
             "outlinewidth": 0,
             "ticks": ""
            },
            "colorscale": [
             [
              0,
              "#0d0887"
             ],
             [
              0.1111111111111111,
              "#46039f"
             ],
             [
              0.2222222222222222,
              "#7201a8"
             ],
             [
              0.3333333333333333,
              "#9c179e"
             ],
             [
              0.4444444444444444,
              "#bd3786"
             ],
             [
              0.5555555555555556,
              "#d8576b"
             ],
             [
              0.6666666666666666,
              "#ed7953"
             ],
             [
              0.7777777777777778,
              "#fb9f3a"
             ],
             [
              0.8888888888888888,
              "#fdca26"
             ],
             [
              1,
              "#f0f921"
             ]
            ],
            "type": "histogram2dcontour"
           }
          ],
          "mesh3d": [
           {
            "colorbar": {
             "outlinewidth": 0,
             "ticks": ""
            },
            "type": "mesh3d"
           }
          ],
          "parcoords": [
           {
            "line": {
             "colorbar": {
              "outlinewidth": 0,
              "ticks": ""
             }
            },
            "type": "parcoords"
           }
          ],
          "pie": [
           {
            "automargin": true,
            "type": "pie"
           }
          ],
          "scatter": [
           {
            "fillpattern": {
             "fillmode": "overlay",
             "size": 10,
             "solidity": 0.2
            },
            "type": "scatter"
           }
          ],
          "scatter3d": [
           {
            "line": {
             "colorbar": {
              "outlinewidth": 0,
              "ticks": ""
             }
            },
            "marker": {
             "colorbar": {
              "outlinewidth": 0,
              "ticks": ""
             }
            },
            "type": "scatter3d"
           }
          ],
          "scattercarpet": [
           {
            "marker": {
             "colorbar": {
              "outlinewidth": 0,
              "ticks": ""
             }
            },
            "type": "scattercarpet"
           }
          ],
          "scattergeo": [
           {
            "marker": {
             "colorbar": {
              "outlinewidth": 0,
              "ticks": ""
             }
            },
            "type": "scattergeo"
           }
          ],
          "scattergl": [
           {
            "marker": {
             "colorbar": {
              "outlinewidth": 0,
              "ticks": ""
             }
            },
            "type": "scattergl"
           }
          ],
          "scattermap": [
           {
            "marker": {
             "colorbar": {
              "outlinewidth": 0,
              "ticks": ""
             }
            },
            "type": "scattermap"
           }
          ],
          "scattermapbox": [
           {
            "marker": {
             "colorbar": {
              "outlinewidth": 0,
              "ticks": ""
             }
            },
            "type": "scattermapbox"
           }
          ],
          "scatterpolar": [
           {
            "marker": {
             "colorbar": {
              "outlinewidth": 0,
              "ticks": ""
             }
            },
            "type": "scatterpolar"
           }
          ],
          "scatterpolargl": [
           {
            "marker": {
             "colorbar": {
              "outlinewidth": 0,
              "ticks": ""
             }
            },
            "type": "scatterpolargl"
           }
          ],
          "scatterternary": [
           {
            "marker": {
             "colorbar": {
              "outlinewidth": 0,
              "ticks": ""
             }
            },
            "type": "scatterternary"
           }
          ],
          "surface": [
           {
            "colorbar": {
             "outlinewidth": 0,
             "ticks": ""
            },
            "colorscale": [
             [
              0,
              "#0d0887"
             ],
             [
              0.1111111111111111,
              "#46039f"
             ],
             [
              0.2222222222222222,
              "#7201a8"
             ],
             [
              0.3333333333333333,
              "#9c179e"
             ],
             [
              0.4444444444444444,
              "#bd3786"
             ],
             [
              0.5555555555555556,
              "#d8576b"
             ],
             [
              0.6666666666666666,
              "#ed7953"
             ],
             [
              0.7777777777777778,
              "#fb9f3a"
             ],
             [
              0.8888888888888888,
              "#fdca26"
             ],
             [
              1,
              "#f0f921"
             ]
            ],
            "type": "surface"
           }
          ],
          "table": [
           {
            "cells": {
             "fill": {
              "color": "#EBF0F8"
             },
             "line": {
              "color": "white"
             }
            },
            "header": {
             "fill": {
              "color": "#C8D4E3"
             },
             "line": {
              "color": "white"
             }
            },
            "type": "table"
           }
          ]
         },
         "layout": {
          "annotationdefaults": {
           "arrowcolor": "#2a3f5f",
           "arrowhead": 0,
           "arrowwidth": 1
          },
          "autotypenumbers": "strict",
          "coloraxis": {
           "colorbar": {
            "outlinewidth": 0,
            "ticks": ""
           }
          },
          "colorscale": {
           "diverging": [
            [
             0,
             "#8e0152"
            ],
            [
             0.1,
             "#c51b7d"
            ],
            [
             0.2,
             "#de77ae"
            ],
            [
             0.3,
             "#f1b6da"
            ],
            [
             0.4,
             "#fde0ef"
            ],
            [
             0.5,
             "#f7f7f7"
            ],
            [
             0.6,
             "#e6f5d0"
            ],
            [
             0.7,
             "#b8e186"
            ],
            [
             0.8,
             "#7fbc41"
            ],
            [
             0.9,
             "#4d9221"
            ],
            [
             1,
             "#276419"
            ]
           ],
           "sequential": [
            [
             0,
             "#0d0887"
            ],
            [
             0.1111111111111111,
             "#46039f"
            ],
            [
             0.2222222222222222,
             "#7201a8"
            ],
            [
             0.3333333333333333,
             "#9c179e"
            ],
            [
             0.4444444444444444,
             "#bd3786"
            ],
            [
             0.5555555555555556,
             "#d8576b"
            ],
            [
             0.6666666666666666,
             "#ed7953"
            ],
            [
             0.7777777777777778,
             "#fb9f3a"
            ],
            [
             0.8888888888888888,
             "#fdca26"
            ],
            [
             1,
             "#f0f921"
            ]
           ],
           "sequentialminus": [
            [
             0,
             "#0d0887"
            ],
            [
             0.1111111111111111,
             "#46039f"
            ],
            [
             0.2222222222222222,
             "#7201a8"
            ],
            [
             0.3333333333333333,
             "#9c179e"
            ],
            [
             0.4444444444444444,
             "#bd3786"
            ],
            [
             0.5555555555555556,
             "#d8576b"
            ],
            [
             0.6666666666666666,
             "#ed7953"
            ],
            [
             0.7777777777777778,
             "#fb9f3a"
            ],
            [
             0.8888888888888888,
             "#fdca26"
            ],
            [
             1,
             "#f0f921"
            ]
           ]
          },
          "colorway": [
           "#636efa",
           "#EF553B",
           "#00cc96",
           "#ab63fa",
           "#FFA15A",
           "#19d3f3",
           "#FF6692",
           "#B6E880",
           "#FF97FF",
           "#FECB52"
          ],
          "font": {
           "color": "#2a3f5f"
          },
          "geo": {
           "bgcolor": "white",
           "lakecolor": "white",
           "landcolor": "#E5ECF6",
           "showlakes": true,
           "showland": true,
           "subunitcolor": "white"
          },
          "hoverlabel": {
           "align": "left"
          },
          "hovermode": "closest",
          "mapbox": {
           "style": "light"
          },
          "paper_bgcolor": "white",
          "plot_bgcolor": "#E5ECF6",
          "polar": {
           "angularaxis": {
            "gridcolor": "white",
            "linecolor": "white",
            "ticks": ""
           },
           "bgcolor": "#E5ECF6",
           "radialaxis": {
            "gridcolor": "white",
            "linecolor": "white",
            "ticks": ""
           }
          },
          "scene": {
           "xaxis": {
            "backgroundcolor": "#E5ECF6",
            "gridcolor": "white",
            "gridwidth": 2,
            "linecolor": "white",
            "showbackground": true,
            "ticks": "",
            "zerolinecolor": "white"
           },
           "yaxis": {
            "backgroundcolor": "#E5ECF6",
            "gridcolor": "white",
            "gridwidth": 2,
            "linecolor": "white",
            "showbackground": true,
            "ticks": "",
            "zerolinecolor": "white"
           },
           "zaxis": {
            "backgroundcolor": "#E5ECF6",
            "gridcolor": "white",
            "gridwidth": 2,
            "linecolor": "white",
            "showbackground": true,
            "ticks": "",
            "zerolinecolor": "white"
           }
          },
          "shapedefaults": {
           "line": {
            "color": "#2a3f5f"
           }
          },
          "ternary": {
           "aaxis": {
            "gridcolor": "white",
            "linecolor": "white",
            "ticks": ""
           },
           "baxis": {
            "gridcolor": "white",
            "linecolor": "white",
            "ticks": ""
           },
           "bgcolor": "#E5ECF6",
           "caxis": {
            "gridcolor": "white",
            "linecolor": "white",
            "ticks": ""
           }
          },
          "title": {
           "x": 0.05
          },
          "xaxis": {
           "automargin": true,
           "gridcolor": "white",
           "linecolor": "white",
           "ticks": "",
           "title": {
            "standoff": 15
           },
           "zerolinecolor": "white",
           "zerolinewidth": 2
          },
          "yaxis": {
           "automargin": true,
           "gridcolor": "white",
           "linecolor": "white",
           "ticks": "",
           "title": {
            "standoff": 15
           },
           "zerolinecolor": "white",
           "zerolinewidth": 2
          }
         }
        },
        "title": {
         "text": "Top 15 Authors: Pageviews by Section"
        },
        "xaxis": {
         "anchor": "y",
         "domain": [
          0,
          1
         ],
         "title": {
          "text": "pageviews"
         }
        },
        "yaxis": {
         "anchor": "x",
         "categoryorder": "total ascending",
         "domain": [
          0,
          1
         ],
         "title": {
          "text": "author"
         }
        }
       }
      },
      "image/png": "[encoded data removed]"
     },
     "metadata": {},
     "output_type": "display_data"
    }
   ],
   "source": [
    "import pandas as pd\n",
    "import plotly.express as px\n",
    "\n",
    "# 1) compute total per author\n",
    "totals = df_filtered.groupby(\"author\")[\"pageviews\"].sum().nlargest(15).index\n",
    "\n",
    "# 2) filter & pivot\n",
    "df_top = df_filtered[df_filtered.author.isin(totals)]\n",
    "pivot = df_top.pivot_table(\n",
    "    index=\"author\",\n",
    "    columns=\"section\",\n",
    "    values=\"pageviews\",\n",
    "    aggfunc=\"sum\",\n",
    "    fill_value=0\n",
    ").reset_index()\n",
    "\n",
    "# 3) melt back for plotting\n",
    "melt = pivot.melt(id_vars=\"author\", var_name=\"section\", value_name=\"pageviews\")\n",
    "\n",
    "fig = px.bar(\n",
    "    melt,\n",
    "    x=\"pageviews\",\n",
    "    y=\"author\",\n",
    "    color=\"section\",\n",
    "    orientation=\"h\",\n",
    "    title=\"Top 15 Authors: Pageviews by Section\",\n",
    "    hover_data=[\"pageviews\"]\n",
    ")\n",
    "fig.update_layout(barmode=\"stack\", yaxis={\"categoryorder\":\"total ascending\"})\n",
    "fig.show()"
   ]
  },
  {
   "cell_type": "code",
   "execution_count": 98,
   "id": "a8e085b7-b7d8-4920-ae5d-088c2ac8b647",
   "metadata": {},
   "outputs": [],
   "source": [
    "# import plotly.express as px\n",
    "\n",
    "# heat = df_filtered.pivot_table(\n",
    "#     index=\"author\",\n",
    "#     columns=\"section\",\n",
    "#     values=\"pageviews\",\n",
    "#     aggfunc=\"sum\",\n",
    "#     fill_value=0\n",
    "# )\n",
    "\n",
    "# fig = px.imshow(\n",
    "#     heat,\n",
    "#     labels=dict(x=\"Section\", y=\"Author\", color=\"Pageviews\"),\n",
    "#     title=\"Heatmap of Pageviews (Author × Section)\"\n",
    "# )\n",
    "# fig.show()"
   ]
  },
  {
   "cell_type": "code",
   "execution_count": 97,
   "id": "01c393e8-4394-494e-a5c7-e71c9382baf6",
   "metadata": {},
   "outputs": [
    {
     "name": "stdout",
     "output_type": "stream",
     "text": [
      "https://trd-digital.github.io/trd-news-interactive-maps/TRD_Parsely_Dataviz\n"
     ]
    }
   ],
   "source": [
    "import os\n",
    "\n",
    "base_name = 'https://trd-digital.github.io/trd-news-interactive-maps/'\n",
    "\n",
    "cwd = os.getcwd()\n",
    "\n",
    "cwd = cwd.split('/')\n",
    "\n",
    "final_name = base_name + cwd[-1]\n",
    "print(final_name)"
   ]
  }
 ],
 "metadata": {
  "kernelspec": {
   "display_name": "Python 3 (ipykernel)",
   "language": "python",
   "name": "python3"
  },
  "language_info": {
   "codemirror_mode": {
    "name": "ipython",
    "version": 3
   },
   "file_extension": ".py",
   "mimetype": "text/x-python",
   "name": "python",
   "nbconvert_exporter": "python",
   "pygments_lexer": "ipython3",
   "version": "3.9.12"
  }
 },
 "nbformat": 4,
 "nbformat_minor": 5
}
