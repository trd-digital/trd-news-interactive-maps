{
 "cells": [
  {
   "cell_type": "code",
   "execution_count": 1,
   "id": "bc3f6290-5341-4c69-be3a-5244dc59e51f",
   "metadata": {},
   "outputs": [],
   "source": [
    "import pandas as pd\n",
    "import geopandas as gpd\n",
    "import re\n",
    "from shapely.geometry import Polygon"
   ]
  },
  {
   "cell_type": "code",
   "execution_count": 2,
   "id": "89539843-9993-4b1c-bf2e-dd4f77c6f65d",
   "metadata": {},
   "outputs": [],
   "source": [
    "df = pd.read_csv(\"taxable_values.csv\",dtype=str)\n",
    "df = df[0:37]\n",
    "df['TAXING AUTHORITY'] = df['TAXING AUTHORITY'].str.replace('\\d+','',regex=True)"
   ]
  },
  {
   "cell_type": "code",
   "execution_count": 3,
   "id": "125028cc-b2bf-417c-8fe4-b176ecd74236",
   "metadata": {},
   "outputs": [],
   "source": [
    "gdf = gpd.read_file('Municipalitypoly_gdb_-3974701052066827405.geojson')"
   ]
  },
  {
   "cell_type": "code",
   "execution_count": 4,
   "id": "076672ce-8271-4664-9149-0f7523a38bd0",
   "metadata": {},
   "outputs": [],
   "source": [
    "df['TAXING AUTHORITY'] = df['TAXING AUTHORITY'].str.strip()"
   ]
  },
  {
   "cell_type": "code",
   "execution_count": 5,
   "id": "51917b42-bb0e-47eb-835f-d324ea40a043",
   "metadata": {},
   "outputs": [
    {
     "data": {
      "text/plain": [
       "Index(['OBJECTID', 'MUNICUID', 'MUNICID', 'NAME', 'FIPSCODE', 'CREATEDBY',\n",
       "       'CREATEDDATE', 'MODIFIEDBY', 'MODIFIEDDATE', 'GlobalID', 'geometry'],\n",
       "      dtype='object')"
      ]
     },
     "execution_count": 5,
     "metadata": {},
     "output_type": "execute_result"
    }
   ],
   "source": [
    "gdf.columns"
   ]
  },
  {
   "cell_type": "code",
   "execution_count": 6,
   "id": "4b558128-6d32-43c3-a27d-07d6d9bacfc2",
   "metadata": {},
   "outputs": [],
   "source": [
    "gdf['NAME'] = gdf['NAME'].str.replace(\"UNINCORPORATED MIAMI-DADE\",\"UNINCORPORATED\")\n",
    "gdf['NAME'] = gdf['NAME'].str.replace(\"INDIAN CREEK VILLAGE\",\"INDIAN CREEK\")"
   ]
  },
  {
   "cell_type": "code",
   "execution_count": 7,
   "id": "8c4c61fc-618c-4aed-852e-ef05db808f76",
   "metadata": {},
   "outputs": [],
   "source": [
    "gdf = gdf.dissolve(by=\"NAME\",as_index=False)"
   ]
  },
  {
   "cell_type": "code",
   "execution_count": 8,
   "id": "28b9bab8-a585-48fc-9cdf-a7a5607ce982",
   "metadata": {},
   "outputs": [],
   "source": [
    "merged_gdf = pd.merge(left=df,left_on='TAXING AUTHORITY',right=gdf,right_on='NAME',how='left')"
   ]
  },
  {
   "cell_type": "code",
   "execution_count": 9,
   "id": "a3a4d9f4-2663-49bc-9aa2-6e9e9ecaf112",
   "metadata": {},
   "outputs": [],
   "source": [
    "merged_gdf['TAXING AUTHORITY'] = merged_gdf['TAXING AUTHORITY'].str.title()\n",
    "merged_gdf['TAXING AUTHORITY'] = merged_gdf['TAXING AUTHORITY'].str.replace('Mb','MB')\n",
    "merged_gdf['TAXING AUTHORITY'] = merged_gdf['TAXING AUTHORITY'].str.replace('Dda','DDA')"
   ]
  },
  {
   "cell_type": "code",
   "execution_count": 10,
   "id": "ba7830d2-c662-4e27-bac9-3c56ed8dc9a5",
   "metadata": {},
   "outputs": [],
   "source": [
    "empty_poly = Polygon()\n",
    "merged_gdf[\"geometry\"] = merged_gdf[\"geometry\"].apply(\n",
    "    lambda geom: geom if geom is not None else empty_poly\n",
    ")"
   ]
  },
  {
   "cell_type": "code",
   "execution_count": 11,
   "id": "1ae3f38f-2259-49a6-97d1-23afd86bb182",
   "metadata": {},
   "outputs": [],
   "source": [
    "def compute_centroid(geom):\n",
    "    if geom is None or geom.is_empty:\n",
    "        return None\n",
    "    return geom.centroid\n",
    "\n",
    "merged_gdf[\"centroid\"] = merged_gdf[\"geometry\"].apply(compute_centroid)\n",
    "\n",
    "# 3) (Optional) If you want separate latitude/longitude columns:\n",
    "merged_gdf[\"centroid_x\"] = merged_gdf[\"centroid\"].apply(lambda pt: pt.x if pt is not None else None)\n",
    "merged_gdf[\"centroid_y\"] = merged_gdf[\"centroid\"].apply(lambda pt: pt.y if pt is not None else None)"
   ]
  },
  {
   "cell_type": "code",
   "execution_count": 12,
   "id": "e97335cf-3b64-4ae3-917f-b526300a5898",
   "metadata": {},
   "outputs": [],
   "source": [
    "drop_columns = ['OBJECTID', 'MUNICUID',\n",
    "       'MUNICID', 'NAME', 'FIPSCODE', 'CREATEDBY', 'CREATEDDATE', 'MODIFIEDBY',\n",
    "       'MODIFIEDDATE', 'GlobalID']"
   ]
  },
  {
   "cell_type": "code",
   "execution_count": 13,
   "id": "931e629a-085d-4a5a-8fe5-52d7dd842b6c",
   "metadata": {},
   "outputs": [],
   "source": [
    "merged_gdf = merged_gdf.drop(columns=drop_columns)"
   ]
  },
  {
   "cell_type": "code",
   "execution_count": 14,
   "id": "10fb832b-f3d5-4882-a7a5-eec13b569f74",
   "metadata": {},
   "outputs": [],
   "source": [
    "merged_gdf = gpd.GeoDataFrame(\n",
    "    merged_gdf,\n",
    "    geometry=\"geometry\",\n",
    "    crs=\"EPSG:4326\"    \n",
    ")\n",
    "\n"
   ]
  },
  {
   "cell_type": "code",
   "execution_count": 15,
   "id": "fb755907-4c2d-4541-9949-8b3485b85095",
   "metadata": {},
   "outputs": [],
   "source": [
    "merged_gdf = merged_gdf.drop_duplicates(subset='TAXING AUTHORITY')"
   ]
  },
  {
   "cell_type": "code",
   "execution_count": 17,
   "id": "e0706937-35e6-4b6b-ba11-1135337c2499",
   "metadata": {},
   "outputs": [],
   "source": [
    "merged_gdf.to_file(\"merged_taxable_values.geojson\", driver=\"GeoJSON\")"
   ]
  },
  {
   "cell_type": "code",
   "execution_count": 18,
   "id": "cd5c5f15-3026-4633-babe-90478214bd95",
   "metadata": {},
   "outputs": [
    {
     "name": "stdout",
     "output_type": "stream",
     "text": [
      "https://trd-digital.github.io/trd-news-interactive-maps/miamidade_taxable_values\n"
     ]
    }
   ],
   "source": [
    "import os\n",
    "\n",
    "base_name = 'https://trd-digital.github.io/trd-news-interactive-maps/'\n",
    "\n",
    "cwd = os.getcwd()\n",
    "\n",
    "cwd = cwd.split('/')\n",
    "\n",
    "final_name = base_name + cwd[-1]\n",
    "print(final_name)"
   ]
  }
 ],
 "metadata": {
  "kernelspec": {
   "display_name": "Python 3 (ipykernel)",
   "language": "python",
   "name": "python3"
  },
  "language_info": {
   "codemirror_mode": {
    "name": "ipython",
    "version": 3
   },
   "file_extension": ".py",
   "mimetype": "text/x-python",
   "name": "python",
   "nbconvert_exporter": "python",
   "pygments_lexer": "ipython3",
   "version": "3.9.12"
  }
 },
 "nbformat": 4,
 "nbformat_minor": 5
}
