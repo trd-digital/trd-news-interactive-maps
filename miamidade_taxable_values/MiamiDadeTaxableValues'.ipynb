{
 "cells": [
  {
   "cell_type": "code",
   "execution_count": 1,
   "id": "bc3f6290-5341-4c69-be3a-5244dc59e51f",
   "metadata": {},
   "outputs": [],
   "source": [
    "import pandas as pd\n",
    "import geopandas as gpd\n",
    "import re\n",
    "from shapely.geometry import Polygon"
   ]
  },
  {
   "cell_type": "code",
   "execution_count": 18,
   "id": "89539843-9993-4b1c-bf2e-dd4f77c6f65d",
   "metadata": {},
   "outputs": [],
   "source": [
    "df = pd.read_csv(\"taxable_values.csv\",dtype=str)\n",
    "df = df[0:37]\n",
    "df['TAXING AUTHORITY'] = df['TAXING AUTHORITY'].str.replace('\\d+','',regex=True)"
   ]
  },
  {
   "cell_type": "code",
   "execution_count": 19,
   "id": "125028cc-b2bf-417c-8fe4-b176ecd74236",
   "metadata": {},
   "outputs": [],
   "source": [
    "gdf = gpd.read_file('Municipalitypoly_gdb_-3974701052066827405.geojson')"
   ]
  },
  {
   "cell_type": "code",
   "execution_count": 20,
   "id": "076672ce-8271-4664-9149-0f7523a38bd0",
   "metadata": {},
   "outputs": [],
   "source": [
    "df['TAXING AUTHORITY'] = df['TAXING AUTHORITY'].str.strip()"
   ]
  },
  {
   "cell_type": "code",
   "execution_count": 21,
   "id": "51917b42-bb0e-47eb-835f-d324ea40a043",
   "metadata": {},
   "outputs": [
    {
     "data": {
      "text/plain": [
       "Index(['OBJECTID', 'MUNICUID', 'MUNICID', 'NAME', 'FIPSCODE', 'CREATEDBY',\n",
       "       'CREATEDDATE', 'MODIFIEDBY', 'MODIFIEDDATE', 'GlobalID', 'geometry'],\n",
       "      dtype='object')"
      ]
     },
     "execution_count": 21,
     "metadata": {},
     "output_type": "execute_result"
    }
   ],
   "source": [
    "gdf.columns"
   ]
  },
  {
   "cell_type": "code",
   "execution_count": 22,
   "id": "4b558128-6d32-43c3-a27d-07d6d9bacfc2",
   "metadata": {},
   "outputs": [],
   "source": [
    "gdf['NAME'] = gdf['NAME'].str.replace(\"UNINCORPORATED MIAMI-DADE\",\"UNINCORPORATED\")"
   ]
  },
  {
   "cell_type": "code",
   "execution_count": 23,
   "id": "068537f1-d13e-4a6c-83ca-a0cfdfc712e8",
   "metadata": {},
   "outputs": [
    {
     "data": {
      "text/html": [
       "<div>\n",
       "<style scoped>\n",
       "    .dataframe tbody tr th:only-of-type {\n",
       "        vertical-align: middle;\n",
       "    }\n",
       "\n",
       "    .dataframe tbody tr th {\n",
       "        vertical-align: top;\n",
       "    }\n",
       "\n",
       "    .dataframe thead th {\n",
       "        text-align: right;\n",
       "    }\n",
       "</style>\n",
       "<table border=\"1\" class=\"dataframe\">\n",
       "  <thead>\n",
       "    <tr style=\"text-align: right;\">\n",
       "      <th></th>\n",
       "      <th>OBJECTID</th>\n",
       "      <th>MUNICUID</th>\n",
       "      <th>MUNICID</th>\n",
       "      <th>NAME</th>\n",
       "      <th>FIPSCODE</th>\n",
       "      <th>CREATEDBY</th>\n",
       "      <th>CREATEDDATE</th>\n",
       "      <th>MODIFIEDBY</th>\n",
       "      <th>MODIFIEDDATE</th>\n",
       "      <th>GlobalID</th>\n",
       "      <th>geometry</th>\n",
       "    </tr>\n",
       "  </thead>\n",
       "  <tbody>\n",
       "    <tr>\n",
       "      <th>0</th>\n",
       "      <td>1</td>\n",
       "      <td>74</td>\n",
       "      <td>24</td>\n",
       "      <td>KEY BISCAYNE</td>\n",
       "      <td>1236300.0</td>\n",
       "      <td>None</td>\n",
       "      <td>None</td>\n",
       "      <td>None</td>\n",
       "      <td>None</td>\n",
       "      <td>70964e2b-4266-4df7-b51c-a17364fff5f9</td>\n",
       "      <td>POLYGON ((-80.16156 25.7004, -80.16139 25.7004...</td>\n",
       "    </tr>\n",
       "    <tr>\n",
       "      <th>1</th>\n",
       "      <td>2</td>\n",
       "      <td>19</td>\n",
       "      <td>12</td>\n",
       "      <td>BAL HARBOUR</td>\n",
       "      <td>1203275.0</td>\n",
       "      <td>None</td>\n",
       "      <td>None</td>\n",
       "      <td>None</td>\n",
       "      <td>None</td>\n",
       "      <td>3e619e37-3c0d-4a67-adaa-ebaf892c1c1f</td>\n",
       "      <td>POLYGON ((-80.12092 25.89954, -80.12092 25.899...</td>\n",
       "    </tr>\n",
       "    <tr>\n",
       "      <th>2</th>\n",
       "      <td>3</td>\n",
       "      <td>66</td>\n",
       "      <td>09</td>\n",
       "      <td>SOUTH MIAMI</td>\n",
       "      <td>1267550.0</td>\n",
       "      <td>None</td>\n",
       "      <td>None</td>\n",
       "      <td>None</td>\n",
       "      <td>None</td>\n",
       "      <td>fbc529d2-2db4-46eb-aa35-dfce5b83c2e9</td>\n",
       "      <td>POLYGON ((-80.28621 25.72626, -80.28615 25.724...</td>\n",
       "    </tr>\n",
       "    <tr>\n",
       "      <th>3</th>\n",
       "      <td>4</td>\n",
       "      <td>71</td>\n",
       "      <td>09</td>\n",
       "      <td>SOUTH MIAMI</td>\n",
       "      <td>1267550.0</td>\n",
       "      <td>None</td>\n",
       "      <td>None</td>\n",
       "      <td>None</td>\n",
       "      <td>None</td>\n",
       "      <td>e367640b-25fc-4fd1-9df8-f8448d0d2930</td>\n",
       "      <td>POLYGON ((-80.29229 25.72487, -80.29176 25.724...</td>\n",
       "    </tr>\n",
       "    <tr>\n",
       "      <th>4</th>\n",
       "      <td>5</td>\n",
       "      <td>39</td>\n",
       "      <td>22</td>\n",
       "      <td>MEDLEY</td>\n",
       "      <td>1243900.0</td>\n",
       "      <td>None</td>\n",
       "      <td>None</td>\n",
       "      <td>E316899</td>\n",
       "      <td>Thu, 22 Jun 2023 10:19:41 GMT</td>\n",
       "      <td>357fb0b5-2652-4ab3-959f-d94a7c3f9da7</td>\n",
       "      <td>POLYGON ((-80.36379 25.88423, -80.35548 25.878...</td>\n",
       "    </tr>\n",
       "    <tr>\n",
       "      <th>...</th>\n",
       "      <td>...</td>\n",
       "      <td>...</td>\n",
       "      <td>...</td>\n",
       "      <td>...</td>\n",
       "      <td>...</td>\n",
       "      <td>...</td>\n",
       "      <td>...</td>\n",
       "      <td>...</td>\n",
       "      <td>...</td>\n",
       "      <td>...</td>\n",
       "      <td>...</td>\n",
       "    </tr>\n",
       "    <tr>\n",
       "      <th>71</th>\n",
       "      <td>76</td>\n",
       "      <td>13</td>\n",
       "      <td>04</td>\n",
       "      <td>HIALEAH</td>\n",
       "      <td>1230000.0</td>\n",
       "      <td>None</td>\n",
       "      <td>None</td>\n",
       "      <td>None</td>\n",
       "      <td>None</td>\n",
       "      <td>8145221d-a929-4ea4-8446-7a4065dab69d</td>\n",
       "      <td>POLYGON ((-80.34713 25.90026, -80.34675 25.899...</td>\n",
       "    </tr>\n",
       "    <tr>\n",
       "      <th>72</th>\n",
       "      <td>77</td>\n",
       "      <td>44</td>\n",
       "      <td>30</td>\n",
       "      <td>UNINCORPORATED</td>\n",
       "      <td>NaN</td>\n",
       "      <td>None</td>\n",
       "      <td>None</td>\n",
       "      <td>None</td>\n",
       "      <td>None</td>\n",
       "      <td>985a285c-df88-49bb-90d5-3c2985ec5ca1</td>\n",
       "      <td>POLYGON ((-80.26098 25.75807, -80.26095 25.757...</td>\n",
       "    </tr>\n",
       "    <tr>\n",
       "      <th>73</th>\n",
       "      <td>78</td>\n",
       "      <td>35</td>\n",
       "      <td>35</td>\n",
       "      <td>DORAL</td>\n",
       "      <td>1217935.0</td>\n",
       "      <td>None</td>\n",
       "      <td>None</td>\n",
       "      <td>E316899</td>\n",
       "      <td>Thu, 22 Jun 2023 10:17:25 GMT</td>\n",
       "      <td>dd966362-75a1-4e39-ae1e-faeb196f814c</td>\n",
       "      <td>POLYGON ((-80.35471 25.85431, -80.35468 25.853...</td>\n",
       "    </tr>\n",
       "    <tr>\n",
       "      <th>74</th>\n",
       "      <td>80</td>\n",
       "      <td>4</td>\n",
       "      <td>30</td>\n",
       "      <td>UNINCORPORATED</td>\n",
       "      <td>NaN</td>\n",
       "      <td>E316899</td>\n",
       "      <td>Thu, 21 Apr 2022 16:34:08 GMT</td>\n",
       "      <td>E316899</td>\n",
       "      <td>Thu, 21 Apr 2022 17:23:35 GMT</td>\n",
       "      <td>6d57fb7a-ea31-4b13-9e05-3811c3de948f</td>\n",
       "      <td>POLYGON ((-80.14733 25.95905, -80.14724 25.956...</td>\n",
       "    </tr>\n",
       "    <tr>\n",
       "      <th>75</th>\n",
       "      <td>881</td>\n",
       "      <td>1</td>\n",
       "      <td>30</td>\n",
       "      <td>UNINCORPORATED</td>\n",
       "      <td>NaN</td>\n",
       "      <td>E316899</td>\n",
       "      <td>Thu, 22 Jun 2023 10:19:08 GMT</td>\n",
       "      <td>E316899</td>\n",
       "      <td>Thu, 22 Jun 2023 10:19:08 GMT</td>\n",
       "      <td>b0f0eaf9-b39e-4f70-ae21-2ef071a9e234</td>\n",
       "      <td>POLYGON ((-80.38507 25.9, -80.38523 25.89957, ...</td>\n",
       "    </tr>\n",
       "  </tbody>\n",
       "</table>\n",
       "<p>76 rows × 11 columns</p>\n",
       "</div>"
      ],
      "text/plain": [
       "    OBJECTID  MUNICUID MUNICID            NAME   FIPSCODE CREATEDBY  \\\n",
       "0          1        74      24    KEY BISCAYNE  1236300.0      None   \n",
       "1          2        19      12     BAL HARBOUR  1203275.0      None   \n",
       "2          3        66      09     SOUTH MIAMI  1267550.0      None   \n",
       "3          4        71      09     SOUTH MIAMI  1267550.0      None   \n",
       "4          5        39      22          MEDLEY  1243900.0      None   \n",
       "..       ...       ...     ...             ...        ...       ...   \n",
       "71        76        13      04         HIALEAH  1230000.0      None   \n",
       "72        77        44      30  UNINCORPORATED        NaN      None   \n",
       "73        78        35      35           DORAL  1217935.0      None   \n",
       "74        80         4      30  UNINCORPORATED        NaN   E316899   \n",
       "75       881         1      30  UNINCORPORATED        NaN   E316899   \n",
       "\n",
       "                      CREATEDDATE MODIFIEDBY                   MODIFIEDDATE  \\\n",
       "0                            None       None                           None   \n",
       "1                            None       None                           None   \n",
       "2                            None       None                           None   \n",
       "3                            None       None                           None   \n",
       "4                            None    E316899  Thu, 22 Jun 2023 10:19:41 GMT   \n",
       "..                            ...        ...                            ...   \n",
       "71                           None       None                           None   \n",
       "72                           None       None                           None   \n",
       "73                           None    E316899  Thu, 22 Jun 2023 10:17:25 GMT   \n",
       "74  Thu, 21 Apr 2022 16:34:08 GMT    E316899  Thu, 21 Apr 2022 17:23:35 GMT   \n",
       "75  Thu, 22 Jun 2023 10:19:08 GMT    E316899  Thu, 22 Jun 2023 10:19:08 GMT   \n",
       "\n",
       "                                GlobalID  \\\n",
       "0   70964e2b-4266-4df7-b51c-a17364fff5f9   \n",
       "1   3e619e37-3c0d-4a67-adaa-ebaf892c1c1f   \n",
       "2   fbc529d2-2db4-46eb-aa35-dfce5b83c2e9   \n",
       "3   e367640b-25fc-4fd1-9df8-f8448d0d2930   \n",
       "4   357fb0b5-2652-4ab3-959f-d94a7c3f9da7   \n",
       "..                                   ...   \n",
       "71  8145221d-a929-4ea4-8446-7a4065dab69d   \n",
       "72  985a285c-df88-49bb-90d5-3c2985ec5ca1   \n",
       "73  dd966362-75a1-4e39-ae1e-faeb196f814c   \n",
       "74  6d57fb7a-ea31-4b13-9e05-3811c3de948f   \n",
       "75  b0f0eaf9-b39e-4f70-ae21-2ef071a9e234   \n",
       "\n",
       "                                             geometry  \n",
       "0   POLYGON ((-80.16156 25.7004, -80.16139 25.7004...  \n",
       "1   POLYGON ((-80.12092 25.89954, -80.12092 25.899...  \n",
       "2   POLYGON ((-80.28621 25.72626, -80.28615 25.724...  \n",
       "3   POLYGON ((-80.29229 25.72487, -80.29176 25.724...  \n",
       "4   POLYGON ((-80.36379 25.88423, -80.35548 25.878...  \n",
       "..                                                ...  \n",
       "71  POLYGON ((-80.34713 25.90026, -80.34675 25.899...  \n",
       "72  POLYGON ((-80.26098 25.75807, -80.26095 25.757...  \n",
       "73  POLYGON ((-80.35471 25.85431, -80.35468 25.853...  \n",
       "74  POLYGON ((-80.14733 25.95905, -80.14724 25.956...  \n",
       "75  POLYGON ((-80.38507 25.9, -80.38523 25.89957, ...  \n",
       "\n",
       "[76 rows x 11 columns]"
      ]
     },
     "execution_count": 23,
     "metadata": {},
     "output_type": "execute_result"
    }
   ],
   "source": [
    "gdf[gdf['NAME']"
   ]
  },
  {
   "cell_type": "code",
   "execution_count": 7,
   "id": "8c4c61fc-618c-4aed-852e-ef05db808f76",
   "metadata": {},
   "outputs": [],
   "source": [
    "gdf = gdf.dissolve(by=\"NAME\",as_index=False)"
   ]
  },
  {
   "cell_type": "code",
   "execution_count": 8,
   "id": "28b9bab8-a585-48fc-9cdf-a7a5607ce982",
   "metadata": {},
   "outputs": [],
   "source": [
    "merged_gdf = pd.merge(left=df,left_on='TAXING AUTHORITY',right=gdf,right_on='NAME',how='left')"
   ]
  },
  {
   "cell_type": "code",
   "execution_count": 9,
   "id": "a3a4d9f4-2663-49bc-9aa2-6e9e9ecaf112",
   "metadata": {},
   "outputs": [],
   "source": [
    "merged_gdf['TAXING AUTHORITY'] = merged_gdf['TAXING AUTHORITY'].str.title()\n",
    "merged_gdf['TAXING AUTHORITY'] = merged_gdf['TAXING AUTHORITY'].str.replace('Mb','MB')\n",
    "merged_gdf['TAXING AUTHORITY'] = merged_gdf['TAXING AUTHORITY'].str.replace('Dda','DDA')"
   ]
  },
  {
   "cell_type": "code",
   "execution_count": 10,
   "id": "ba7830d2-c662-4e27-bac9-3c56ed8dc9a5",
   "metadata": {},
   "outputs": [],
   "source": [
    "empty_poly = Polygon()\n",
    "merged_gdf[\"geometry\"] = merged_gdf[\"geometry\"].apply(\n",
    "    lambda geom: geom if geom is not None else empty_poly\n",
    ")"
   ]
  },
  {
   "cell_type": "code",
   "execution_count": 11,
   "id": "1ae3f38f-2259-49a6-97d1-23afd86bb182",
   "metadata": {},
   "outputs": [],
   "source": [
    "def compute_centroid(geom):\n",
    "    if geom is None or geom.is_empty:\n",
    "        return None\n",
    "    return geom.centroid\n",
    "\n",
    "merged_gdf[\"centroid\"] = merged_gdf[\"geometry\"].apply(compute_centroid)\n",
    "\n",
    "# 3) (Optional) If you want separate latitude/longitude columns:\n",
    "merged_gdf[\"centroid_x\"] = merged_gdf[\"centroid\"].apply(lambda pt: pt.x if pt is not None else None)\n",
    "merged_gdf[\"centroid_y\"] = merged_gdf[\"centroid\"].apply(lambda pt: pt.y if pt is not None else None)"
   ]
  },
  {
   "cell_type": "code",
   "execution_count": 12,
   "id": "e97335cf-3b64-4ae3-917f-b526300a5898",
   "metadata": {},
   "outputs": [],
   "source": [
    "drop_columns = ['OBJECTID', 'MUNICUID',\n",
    "       'MUNICID', 'NAME', 'FIPSCODE', 'CREATEDBY', 'CREATEDDATE', 'MODIFIEDBY',\n",
    "       'MODIFIEDDATE', 'GlobalID']"
   ]
  },
  {
   "cell_type": "code",
   "execution_count": 13,
   "id": "931e629a-085d-4a5a-8fe5-52d7dd842b6c",
   "metadata": {},
   "outputs": [],
   "source": [
    "merged_gdf = merged_gdf.drop(columns=drop_columns)"
   ]
  },
  {
   "cell_type": "code",
   "execution_count": 14,
   "id": "10fb832b-f3d5-4882-a7a5-eec13b569f74",
   "metadata": {},
   "outputs": [],
   "source": [
    "merged_gdf = gpd.GeoDataFrame(\n",
    "    merged_gdf,\n",
    "    geometry=\"geometry\",\n",
    "    crs=\"EPSG:4326\"    \n",
    ")\n",
    "\n"
   ]
  },
  {
   "cell_type": "code",
   "execution_count": 15,
   "id": "fb755907-4c2d-4541-9949-8b3485b85095",
   "metadata": {},
   "outputs": [],
   "source": [
    "merged_gdf = merged_gdf.drop_duplicates(subset='TAXING AUTHORITY')"
   ]
  },
  {
   "cell_type": "code",
   "execution_count": 16,
   "id": "e0706937-35e6-4b6b-ba11-1135337c2499",
   "metadata": {},
   "outputs": [],
   "source": [
    "merged_gdf.to_file(\"merged_taxable_values.geojson\", driver=\"GeoJSON\")"
   ]
  },
  {
   "cell_type": "code",
   "execution_count": 17,
   "id": "cd5c5f15-3026-4633-babe-90478214bd95",
   "metadata": {},
   "outputs": [
    {
     "name": "stdout",
     "output_type": "stream",
     "text": [
      "https://trd-digital.github.io/trd-news-interactive-maps/miamidade_taxable_values\n"
     ]
    }
   ],
   "source": [
    "import os\n",
    "\n",
    "base_name = 'https://trd-digital.github.io/trd-news-interactive-maps/'\n",
    "\n",
    "cwd = os.getcwd()\n",
    "\n",
    "cwd = cwd.split('/')\n",
    "\n",
    "final_name = base_name + cwd[-1]\n",
    "print(final_name)"
   ]
  }
 ],
 "metadata": {
  "kernelspec": {
   "display_name": "Python 3 (ipykernel)",
   "language": "python",
   "name": "python3"
  },
  "language_info": {
   "codemirror_mode": {
    "name": "ipython",
    "version": 3
   },
   "file_extension": ".py",
   "mimetype": "text/x-python",
   "name": "python",
   "nbconvert_exporter": "python",
   "pygments_lexer": "ipython3",
   "version": "3.9.12"
  }
 },
 "nbformat": 4,
 "nbformat_minor": 5
}
