{
 "cells": [
  {
   "cell_type": "markdown",
   "id": "b8af657d",
   "metadata": {},
   "source": [
    "## Imports"
   ]
  },
  {
   "cell_type": "code",
   "execution_count": 1,
   "id": "225607e6",
   "metadata": {},
   "outputs": [],
   "source": [
    "import pandas as pd\n",
    "import numpy as np\n",
    "import os\n",
    "import folium\n",
    "import ast\n",
    "import textwrap\n",
    "import googlemaps\n",
    "from folium.plugins import Fullscreen, MiniMap"
   ]
  },
  {
   "cell_type": "markdown",
   "id": "bcbf6a25",
   "metadata": {},
   "source": [
    "## Data Read-in"
   ]
  },
  {
   "cell_type": "code",
   "execution_count": 2,
   "id": "b598e9d6",
   "metadata": {},
   "outputs": [],
   "source": [
    "df = pd.read_csv(\"IL Realtors_NAR April 1 Donations - Sheet2.csv\")"
   ]
  },
  {
   "cell_type": "code",
   "execution_count": 3,
   "id": "30152a6b",
   "metadata": {},
   "outputs": [],
   "source": [
    "%store -r google_maps_API_Key\n",
    "gmaps_key = googlemaps.Client(key=google_maps_API_Key)\n",
    "\n",
    "%store -r map_box_api_key"
   ]
  },
  {
   "cell_type": "code",
   "execution_count": 4,
   "id": "1dbcc23c",
   "metadata": {},
   "outputs": [
    {
     "data": {
      "text/html": [
       "<div>\n",
       "<style scoped>\n",
       "    .dataframe tbody tr th:only-of-type {\n",
       "        vertical-align: middle;\n",
       "    }\n",
       "\n",
       "    .dataframe tbody tr th {\n",
       "        vertical-align: top;\n",
       "    }\n",
       "\n",
       "    .dataframe thead th {\n",
       "        text-align: right;\n",
       "    }\n",
       "</style>\n",
       "<table border=\"1\" class=\"dataframe\">\n",
       "  <thead>\n",
       "    <tr style=\"text-align: right;\">\n",
       "      <th></th>\n",
       "      <th>Candidate Name</th>\n",
       "      <th>SUM of Donations</th>\n",
       "      <th>Won?</th>\n",
       "      <th>Race?</th>\n",
       "      <th>County</th>\n",
       "      <th>Region</th>\n",
       "      <th>location_for_geocode</th>\n",
       "    </tr>\n",
       "  </thead>\n",
       "  <tbody>\n",
       "    <tr>\n",
       "      <th>0</th>\n",
       "      <td>Brian Brubaker</td>\n",
       "      <td>13,387.80</td>\n",
       "      <td>YES</td>\n",
       "      <td>Mayor of Round Lake</td>\n",
       "      <td>Lake</td>\n",
       "      <td>Collar counties</td>\n",
       "      <td>Round Lake, Lake, IL</td>\n",
       "    </tr>\n",
       "  </tbody>\n",
       "</table>\n",
       "</div>"
      ],
      "text/plain": [
       "   Candidate Name SUM of Donations Won?                Race? County   \\\n",
       "0  Brian Brubaker        13,387.80  YES  Mayor of Round Lake    Lake   \n",
       "\n",
       "            Region  location_for_geocode  \n",
       "0  Collar counties  Round Lake, Lake, IL  "
      ]
     },
     "execution_count": 4,
     "metadata": {},
     "output_type": "execute_result"
    }
   ],
   "source": [
    "df.head(1)"
   ]
  },
  {
   "cell_type": "code",
   "execution_count": 5,
   "id": "9b17b74b",
   "metadata": {},
   "outputs": [],
   "source": [
    "# Define the geocode function\n",
    "def geocode(add):\n",
    "    g = gmaps_key.geocode(add)\n",
    "    if g:\n",
    "        lat = g[0][\"geometry\"][\"location\"][\"lat\"]\n",
    "        lng = g[0][\"geometry\"][\"location\"][\"lng\"]\n",
    "        return (lat, lng)\n",
    "    else:\n",
    "        return None\n",
    "\n",
    "# Apply geocoding to the 'geo_address' column and store the results in 'geocoded' column\n",
    "df['geocoded'] = df['location_for_geocode'].apply(geocode)"
   ]
  },
  {
   "cell_type": "code",
   "execution_count": 6,
   "id": "e0d7e01f",
   "metadata": {},
   "outputs": [],
   "source": [
    "df['geocoded'] = df['geocoded'].astype(str)\n",
    "df[['lat', 'lon']] = df['geocoded'].apply(lambda x: (None, None) if x == 'None' else x.strip('()').split(', ', 1)).apply(pd.Series)\n",
    "df['lat'] = df['lat'].astype(float)\n",
    "df['lon'] = df['lon'].astype(float)"
   ]
  },
  {
   "cell_type": "code",
   "execution_count": 7,
   "id": "99766dd8",
   "metadata": {},
   "outputs": [],
   "source": [
    "df = df.dropna(subset='location_for_geocode')"
   ]
  },
  {
   "cell_type": "code",
   "execution_count": 8,
   "id": "bb28d0b3",
   "metadata": {},
   "outputs": [],
   "source": [
    "df['SUM of Donations'] = df['SUM of Donations'].replace(',','',regex=True).astype(float)"
   ]
  },
  {
   "cell_type": "code",
   "execution_count": 9,
   "id": "19c06a87",
   "metadata": {},
   "outputs": [],
   "source": [
    "df['Won?'] = df['Won?'].str.replace(\"YES\",\"Win\",regex=True).replace(\"NO\",\"Lose\",regex=True)"
   ]
  },
  {
   "cell_type": "code",
   "execution_count": 14,
   "id": "026c5ebf",
   "metadata": {},
   "outputs": [
    {
     "data": {
      "text/plain": [
       "geocoded\n",
       "(42.0568276, -87.6872172)                  3\n",
       "(42.353355, -88.0934145)                   1\n",
       "(41.7508391, -88.1535352)                  1\n",
       "(38.9687219, -90.1934335)                  1\n",
       "(42.2761341, -88.19202720000001)           1\n",
       "(42.3702996, -87.90201859999999)           1\n",
       "(41.4225316, -87.98588629999999)           1\n",
       "(42.3579855, -88.0705319)                  1\n",
       "(41.571701, -87.6944915)                   1\n",
       "(40.5142026, -88.9906312)                  1\n",
       "(40.94781580000001, -90.3712395)           1\n",
       "(42.3800209, -88.2420315)                  1\n",
       "(41.357254, -88.4211785)                   1\n",
       "(38.7292147, -89.8831541)                  1\n",
       "(42.34446639999999, -88.04174599999999)    1\n",
       "(38.6818797, -90.1521665)                  1\n",
       "(40.4768909, -88.9920118)                  1\n",
       "(41.5244335, -88.0854555)                  1\n",
       "(42.0883603, -87.98062650000001)           1\n",
       "(41.1200325, -87.8611531)                  1\n",
       "(42.3569661, -88.0767474)                  1\n",
       "Name: count, dtype: int64"
      ]
     },
     "execution_count": 14,
     "metadata": {},
     "output_type": "execute_result"
    }
   ],
   "source": [
    "df['geocoded'].value_counts()"
   ]
  },
  {
   "cell_type": "code",
   "execution_count": 10,
   "id": "2027c2c8",
   "metadata": {},
   "outputs": [],
   "source": [
    "map_df = df"
   ]
  },
  {
   "cell_type": "code",
   "execution_count": 15,
   "id": "afdaa740",
   "metadata": {},
   "outputs": [],
   "source": [
    "import pandas as pd\n",
    "import folium\n",
    "from folium.plugins import Fullscreen, MiniMap, MarkerCluster\n",
    "\n",
    "# Function to create an HTML popup for each marker using candidate fields.\n",
    "def create_popup(row):\n",
    "    html = f\"\"\"\n",
    "    <div class=\"popup-content\">\n",
    "        <strong>Candidate:</strong> {row['Candidate Name']}<br>\n",
    "        <strong>Donations:</strong> ${float(row['SUM of Donations']):,.2f}<br>\n",
    "        <strong>Outcome:</strong> {row['Won?']}<br>\n",
    "        <strong>Race:</strong> {row['Race?']}<br>\n",
    "        <strong>County:</strong> {row['County ']}<br>\n",
    "        <strong>Region:</strong> {row['Region']}\n",
    "    </div>\n",
    "    \"\"\"\n",
    "    return html\n",
    "\n",
    "# Create a color mapping based on Region.\n",
    "unique_regions = map_df['Region'].unique()\n",
    "colors = ['red', 'blue', 'green', 'purple', 'orange', 'darkred',\n",
    "          'lightred', 'beige', 'darkblue', 'darkgreen', 'cadetblue',\n",
    "          'darkpurple', 'white', 'pink', 'lightblue', 'lightgreen',\n",
    "          'gray', 'black', 'lightgray']\n",
    "region_color = {region: colors[i % len(colors)] for i, region in enumerate(unique_regions)}\n",
    "\n",
    "# Initialize the map using one of the candidate's lat/lon values.\n",
    "set_lat = float(map_df['lat'].iloc[6])\n",
    "set_lon = float(map_df['lon'].iloc[6])\n",
    "m = folium.Map(location=[set_lat, set_lon], zoom_start=7, scrollWheelZoom=False)\n",
    "\n",
    "# Add custom Mapbox tile layer (replace YOUR_MAPBOX_API_KEY with your actual key).\n",
    "folium.TileLayer(\n",
    "    tiles=f'https://api.mapbox.com/styles/v1/mapbox/streets-v11/tiles/256/{{z}}/{{x}}/{{y}}@2x?access_token={map_box_api_key}',\n",
    "    attr='Mapbox',\n",
    "    name='Streets',\n",
    "    overlay=True,\n",
    "    control=False,\n",
    "    show=False,\n",
    "    min_zoom=1,\n",
    "    max_zoom=20\n",
    ").add_to(m)\n",
    "\n",
    "# (Optional) Add custom CSS to style popups.\n",
    "custom_css = \"\"\"\n",
    "<style>\n",
    "    .popup-content {\n",
    "        min-width: 250px;\n",
    "        font-size: 14px;\n",
    "        line-height: 1.4;\n",
    "        color: #333;\n",
    "        white-space: normal;\n",
    "        word-wrap: break-word;\n",
    "    }\n",
    "    .leaflet-popup, .leaflet-popup-content-wrapper {\n",
    "        background-color: #f9f9f9;\n",
    "        border: 1px solid #bbb;\n",
    "        border-radius: 5px;\n",
    "        padding: 8px;\n",
    "        box-shadow: 0 2px 6px rgba(0,0,0,0.1);\n",
    "    }\n",
    "    .leaflet-popup-tip {\n",
    "        background: #f9f9f9;\n",
    "    }\n",
    "</style>\n",
    "\"\"\"\n",
    "m.get_root().html.add_child(folium.Element(custom_css))\n",
    "\n",
    "# (Optional) Add a title to the map.\n",
    "title_html = '''\n",
    "    <h3 style=\"text-align:center; font-family:Arial, sans-serif; font-size:18px; color:#333; margin-top:10px;\">\n",
    "        <b>NAR's Illinois Political Donations</b>\n",
    "    </h3>\n",
    "'''\n",
    "m.get_root().html.add_child(folium.Element(title_html))\n",
    "\n",
    "# Add additional controls.\n",
    "Fullscreen().add_to(m)\n",
    "MiniMap(toggle_display=True).add_to(m)\n",
    "\n",
    "# Create a MarkerCluster and add it to the map.\n",
    "marker_cluster = MarkerCluster().add_to(m)\n",
    "\n",
    "# Loop through the DataFrame rows to add markers to the MarkerCluster.\n",
    "for i, row in map_df.iterrows():\n",
    "    lat = float(row['lat'])\n",
    "    lon = float(row['lon'])\n",
    "    popup_html = create_popup(row)\n",
    "    # Use the region color for the marker icon.\n",
    "    color = region_color.get(row['Region'], 'blue')\n",
    "    \n",
    "    folium.Marker(\n",
    "        location=[lat, lon],\n",
    "        popup=folium.Popup(popup_html, max_width=300),\n",
    "        icon=folium.Icon(color=color, icon='info-sign')\n",
    "    ).add_to(marker_cluster)\n",
    "\n",
    "# Create a legend for region colors.\n",
    "legend_html = '''\n",
    "     <div style=\"\n",
    "     position: fixed; \n",
    "     bottom: 50px; left: 50px; width: 180px; \n",
    "     background-color: white;\n",
    "     border:2px solid grey;\n",
    "     z-index:9999;\n",
    "     font-size:14px;\n",
    "     padding: 10px;\n",
    "     \">\n",
    "     <strong>Legend (Region)</strong><br>\n",
    "'''\n",
    "for region, color in region_color.items():\n",
    "    legend_html += f'<i style=\"background:{color};width:12px;height:12px;display:inline-block;margin-right:5px;\"></i>{region}<br>'\n",
    "legend_html += '</div>'\n",
    "m.get_root().html.add_child(folium.Element(legend_html))\n",
    "\n",
    "# To display the map in a Jupyter notebook, simply display m.\n",
    "# Otherwise, save the map to an HTML file:\n",
    "m"
   ]
  },
  {
   "cell_type": "code",
   "execution_count": 12,
   "id": "638958f3",
   "metadata": {},
   "outputs": [],
   "source": [
    "m.save(\"index.html\")"
   ]
  },
  {
   "cell_type": "code",
   "execution_count": 13,
   "id": "af090a11",
   "metadata": {},
   "outputs": [
    {
     "name": "stdout",
     "output_type": "stream",
     "text": [
      "https://trd-digital.github.io/trd-news-interactive-maps/NAR_IL_Donations_Map\n"
     ]
    }
   ],
   "source": [
    "base_name = 'https://trd-digital.github.io/trd-news-interactive-maps/'\n",
    "\n",
    "cwd = os.getcwd()\n",
    "\n",
    "cwd = cwd.split('/')\n",
    "\n",
    "final_name = base_name + cwd[-1]\n",
    "print(final_name)"
   ]
  }
 ],
 "metadata": {
  "kernelspec": {
   "display_name": "Python 3 (ipykernel)",
   "language": "python",
   "name": "python3"
  },
  "language_info": {
   "codemirror_mode": {
    "name": "ipython",
    "version": 3
   },
   "file_extension": ".py",
   "mimetype": "text/x-python",
   "name": "python",
   "nbconvert_exporter": "python",
   "pygments_lexer": "ipython3",
   "version": "3.9.12"
  }
 },
 "nbformat": 4,
 "nbformat_minor": 5
}
