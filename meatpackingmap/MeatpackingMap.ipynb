{
 "cells": [
  {
   "cell_type": "code",
   "execution_count": 1,
   "id": "219b24b2-73f3-4ffe-99a5-1accc0f04a25",
   "metadata": {},
   "outputs": [],
   "source": [
    "import pandas as pd"
   ]
  },
  {
   "cell_type": "code",
   "execution_count": 8,
   "id": "f46b3826-9e2f-4195-a1cc-611dd0306db9",
   "metadata": {},
   "outputs": [],
   "source": [
    "df = pd.read_csv(\"meatpacking_data.csv\",index_col=0)\n",
    "df2 = pd.read_csv(\"Retail Property Tracker - MeatpackingCoords.csv\")"
   ]
  },
  {
   "cell_type": "code",
   "execution_count": 12,
   "id": "a37cdf59-9af1-42ea-bb93-e7c9d37129ee",
   "metadata": {},
   "outputs": [],
   "source": [
    "merged_df = pd.merge(left=df,left_on='bbl',right=df2,right_on='bbl',how='left')"
   ]
  },
  {
   "cell_type": "code",
   "execution_count": 15,
   "id": "77fee1bf-5131-4d54-95de-c647da963d10",
   "metadata": {},
   "outputs": [],
   "source": [
    "keep_columns = [\n",
    "    'Address',\n",
    "    'Retail Business (if vacant, put \"vacant\")',\n",
    "    'ownername',\n",
    "    'latitude',\n",
    "    'longitude'\n",
    "]"
   ]
  },
  {
   "cell_type": "code",
   "execution_count": 16,
   "id": "59ab3b21-9069-423e-8dd0-834bb8cbd18c",
   "metadata": {},
   "outputs": [],
   "source": [
    "filtered_df = merged_df[keep_columns]"
   ]
  },
  {
   "cell_type": "code",
   "execution_count": 19,
   "id": "7c30e5b2-72fd-4083-9416-64a2dac2270d",
   "metadata": {},
   "outputs": [
    {
     "name": "stderr",
     "output_type": "stream",
     "text": [
      "/var/folders/rq/0_j_rksd7psgdycg9c1qwf6m0000gp/T/ipykernel_51348/905358748.py:1: SettingWithCopyWarning: \n",
      "A value is trying to be set on a copy of a slice from a DataFrame.\n",
      "Try using .loc[row_indexer,col_indexer] = value instead\n",
      "\n",
      "See the caveats in the documentation: https://pandas.pydata.org/pandas-docs/stable/user_guide/indexing.html#returning-a-view-versus-a-copy\n",
      "  filtered_df['ownername'] = filtered_df['ownername'].str.replace(',','')\n"
     ]
    }
   ],
   "source": [
    "filtered_df['ownername'] = filtered_df['ownername'].str.replace(',','')"
   ]
  }
 ],
 "metadata": {
  "kernelspec": {
   "display_name": "Python 3 (ipykernel)",
   "language": "python",
   "name": "python3"
  },
  "language_info": {
   "codemirror_mode": {
    "name": "ipython",
    "version": 3
   },
   "file_extension": ".py",
   "mimetype": "text/x-python",
   "name": "python",
   "nbconvert_exporter": "python",
   "pygments_lexer": "ipython3",
   "version": "3.9.12"
  }
 },
 "nbformat": 4,
 "nbformat_minor": 5
}
