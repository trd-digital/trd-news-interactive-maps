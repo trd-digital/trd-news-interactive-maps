{
 "cells": [
  {
   "cell_type": "markdown",
   "metadata": {},
   "source": [
    "## Imports"
   ]
  },
  {
   "cell_type": "code",
   "execution_count": 71,
   "metadata": {},
   "outputs": [],
   "source": [
    "from geopy.geocoders import GoogleV3\n",
    "from bs4 import BeautifulSoup\n",
    "import requests\n",
    "import time\n",
    "import pandas as pd\n",
    "import numpy as np\n",
    "import urllib3\n",
    "import re\n",
    "from textwrap import shorten"
   ]
  },
  {
   "cell_type": "code",
   "execution_count": 72,
   "metadata": {},
   "outputs": [],
   "source": [
    "df = pd.read_csv('LA_map_popup_pin - ktown.csv')"
   ]
  },
  {
   "cell_type": "code",
   "execution_count": 73,
   "metadata": {},
   "outputs": [
    {
     "data": {
      "text/plain": [
       "Index(['full_address', 'developers', 'property_purchase_price', 'total_units',\n",
       "       'affordable_or_extremely_low_income_units', 'description',\n",
       "       'story_link'],\n",
       "      dtype='object')"
      ]
     },
     "execution_count": 73,
     "metadata": {},
     "output_type": "execute_result"
    }
   ],
   "source": [
    "df.columns"
   ]
  },
  {
   "cell_type": "markdown",
   "metadata": {},
   "source": [
    "## Image URL collector"
   ]
  },
  {
   "cell_type": "code",
   "execution_count": 74,
   "metadata": {},
   "outputs": [],
   "source": [
    "### Drop last two rows of a df. In case there are sums that need clipped\n",
    "df.drop(df.tail(2).index, inplace=True)"
   ]
  },
  {
   "cell_type": "code",
   "execution_count": 75,
   "metadata": {},
   "outputs": [],
   "source": [
    "df['image_links'] = ''\n",
    "links = []\n",
    "for url in df.story_link:\n",
    "    page = requests.get(url)\n",
    "    soup = BeautifulSoup(page.content, 'html.parser')\n",
    "    images = soup.find_all('img')\n",
    "    counter = 0\n",
    "    for image in images:\n",
    "        counter += 1\n",
    "        if 'jpg' in image['src']:\n",
    "            links.append(image['src'])\n",
    "            if counter == len(images):\n",
    "                links.append('no image found')\n",
    "            break\n",
    "\n",
    "df['image_links'] = links"
   ]
  },
  {
   "cell_type": "markdown",
   "metadata": {},
   "source": [
    "## Article link formatter"
   ]
  },
  {
   "cell_type": "code",
   "execution_count": 76,
   "metadata": {},
   "outputs": [
    {
     "data": {
      "text/plain": [
       "0    <a href=\"https://therealdeal.com/la/2022/06/23...\n",
       "1    <a href=\"https://therealdeal.com/la/2022/06/06...\n",
       "2    <a href=\"https://therealdeal.com/la/2022/04/27...\n",
       "3    <a href=\"https://therealdeal.com/la/2022/03/23...\n",
       "4    <a href=\"https://therealdeal.com/la/2021/12/16...\n",
       "5    <a href=\"https://therealdeal.com/la/2021/10/26...\n",
       "6    <a href=\"https://therealdeal.com/la/2021/11/03...\n",
       "7    <a href=\"https://therealdeal.com/la/2021/09/22...\n",
       "Name: description_link, dtype: object"
      ]
     },
     "execution_count": 76,
     "metadata": {},
     "output_type": "execute_result"
    }
   ],
   "source": [
    "df[\"short_description\"] = df[\"description\"].apply(lambda s: shorten(s, width=20, placeholder=\"\"))\n",
    "df['remaining_desc'] = df.apply(lambda row : row['description'].replace(str(row['short_description']), ''), axis=1)\n",
    "df['remaining_desc']\n",
    "\n",
    "df[\"description_link\"] = '<a href=\"' + df[\"story_link\"] + '\">' + df[\"short_description\"] + \"</a>\" + df[\"remaining_desc\"]\n",
    "df['description_link']"
   ]
  },
  {
   "cell_type": "code",
   "execution_count": 77,
   "metadata": {},
   "outputs": [
    {
     "data": {
      "text/plain": [
       "'https://therealdeal.com/la/2022/06/23/goodbye-dragon-hello-housing-yet-another-apartment-complex-planned-for-koreatown/'"
      ]
     },
     "execution_count": 77,
     "metadata": {},
     "output_type": "execute_result"
    }
   ],
   "source": [
    "df.story_link[0]"
   ]
  },
  {
   "cell_type": "markdown",
   "metadata": {},
   "source": [
    "## Google Maps API Geolocater Setup"
   ]
  },
  {
   "cell_type": "code",
   "execution_count": 78,
   "metadata": {},
   "outputs": [],
   "source": [
    "%store -r google_maps_API_Key\n",
    "geolocator = GoogleV3(api_key=google_maps_API_Key)"
   ]
  },
  {
   "cell_type": "code",
   "execution_count": 79,
   "metadata": {},
   "outputs": [],
   "source": [
    "df['geo_address'] = df['full_address'] + ', Los Angeles, CA'\n",
    "df['loc'] = df['geo_address'].apply(geolocator.geocode, timeout=10)\n",
    "df['point'] = df['loc'].apply(lambda loc: tuple(loc.point) if loc else None)\n",
    "df[['lat','lon','altitude']] = pd.DataFrame(df['point'].to_list(),index=df.index)"
   ]
  },
  {
   "cell_type": "markdown",
   "metadata": {},
   "source": [
    "## HTML popup formatter"
   ]
  },
  {
   "cell_type": "code",
   "execution_count": 80,
   "metadata": {},
   "outputs": [],
   "source": [
    "def popup_html(row):\n",
    "    i = row\n",
    "    address = df['full_address'].iloc[i]\n",
    "    developer = df['developers'].iloc[i]\n",
    "    description = df['description_link'].iloc[i]\n",
    "    image = df['image_links'].iloc[i]\n",
    "    \n",
    "    html = '''<!DOCTYPE html>\n",
    "    <html>\n",
    "    <img src={} width=\"256\" height=\"156\">'''.format(image) + '''<br>______________________________________<br>\n",
    "    Address: <strong>{}'''.format(address) + '''</strong><br>\n",
    "    Developer(s): <strong><em>{}'''.format(developer) + '''</strong></em><br><br>\n",
    "    <strong>{}'''.format(description) + '''</strong></html>\n",
    "    '''\n",
    "    return html\n"
   ]
  },
  {
   "cell_type": "markdown",
   "metadata": {},
   "source": [
    "## Map Maker"
   ]
  },
  {
   "cell_type": "code",
   "execution_count": 82,
   "metadata": {},
   "outputs": [
    {
     "data": {
      "text/html": [
       "<div style=\"width:100%;\"><div style=\"position:relative;width:100%;height:0;padding-bottom:60%;\"><span style=\"color:#565656\">Make this Notebook Trusted to load map: File -> Trust Notebook</span><iframe srcdoc=\"&lt;!DOCTYPE html&gt;\n",
       "&lt;head&gt;    \n",
       "    &lt;meta http-equiv=&quot;content-type&quot; content=&quot;text/html; charset=UTF-8&quot; /&gt;\n",
       "    \n",
       "        &lt;script&gt;\n",
       "            L_NO_TOUCH = false;\n",
       "            L_DISABLE_3D = false;\n",
       "        &lt;/script&gt;\n",
       "    \n",
       "    &lt;style&gt;html, body {width: 100%;height: 100%;margin: 0;padding: 0;}&lt;/style&gt;\n",
       "    &lt;style&gt;#map {position:absolute;top:0;bottom:0;right:0;left:0;}&lt;/style&gt;\n",
       "    &lt;script src=&quot;https://cdn.jsdelivr.net/npm/leaflet@1.6.0/dist/leaflet.js&quot;&gt;&lt;/script&gt;\n",
       "    &lt;script src=&quot;https://code.jquery.com/jquery-1.12.4.min.js&quot;&gt;&lt;/script&gt;\n",
       "    &lt;script src=&quot;https://maxcdn.bootstrapcdn.com/bootstrap/3.2.0/js/bootstrap.min.js&quot;&gt;&lt;/script&gt;\n",
       "    &lt;script src=&quot;https://cdnjs.cloudflare.com/ajax/libs/Leaflet.awesome-markers/2.0.2/leaflet.awesome-markers.js&quot;&gt;&lt;/script&gt;\n",
       "    &lt;link rel=&quot;stylesheet&quot; href=&quot;https://cdn.jsdelivr.net/npm/leaflet@1.6.0/dist/leaflet.css&quot;/&gt;\n",
       "    &lt;link rel=&quot;stylesheet&quot; href=&quot;https://maxcdn.bootstrapcdn.com/bootstrap/3.2.0/css/bootstrap.min.css&quot;/&gt;\n",
       "    &lt;link rel=&quot;stylesheet&quot; href=&quot;https://maxcdn.bootstrapcdn.com/bootstrap/3.2.0/css/bootstrap-theme.min.css&quot;/&gt;\n",
       "    &lt;link rel=&quot;stylesheet&quot; href=&quot;https://maxcdn.bootstrapcdn.com/font-awesome/4.6.3/css/font-awesome.min.css&quot;/&gt;\n",
       "    &lt;link rel=&quot;stylesheet&quot; href=&quot;https://cdnjs.cloudflare.com/ajax/libs/Leaflet.awesome-markers/2.0.2/leaflet.awesome-markers.css&quot;/&gt;\n",
       "    &lt;link rel=&quot;stylesheet&quot; href=&quot;https://cdn.jsdelivr.net/gh/python-visualization/folium/folium/templates/leaflet.awesome.rotate.min.css&quot;/&gt;\n",
       "    \n",
       "            &lt;meta name=&quot;viewport&quot; content=&quot;width=device-width,\n",
       "                initial-scale=1.0, maximum-scale=1.0, user-scalable=no&quot; /&gt;\n",
       "            &lt;style&gt;\n",
       "                #map_d0d25c5c49f20ecb328ec5b508b985fb {\n",
       "                    position: relative;\n",
       "                    width: 100.0%;\n",
       "                    height: 100.0%;\n",
       "                    left: 0.0%;\n",
       "                    top: 0.0%;\n",
       "                }\n",
       "            &lt;/style&gt;\n",
       "        \n",
       "&lt;/head&gt;\n",
       "&lt;body&gt;    \n",
       "    \n",
       "              &lt;h3 align=&quot;center&quot; style=&quot;font-size:16px&quot;&gt;&lt;b&gt;New Development in Koreatown&lt;/b&gt;&lt;/h3&gt;\n",
       "             \n",
       "    \n",
       "            &lt;div class=&quot;folium-map&quot; id=&quot;map_d0d25c5c49f20ecb328ec5b508b985fb&quot; &gt;&lt;/div&gt;\n",
       "        \n",
       "&lt;/body&gt;\n",
       "&lt;script&gt;    \n",
       "    \n",
       "            var map_d0d25c5c49f20ecb328ec5b508b985fb = L.map(\n",
       "                &quot;map_d0d25c5c49f20ecb328ec5b508b985fb&quot;,\n",
       "                {\n",
       "                    center: [34.060479900000004, -118.2983198375],\n",
       "                    crs: L.CRS.EPSG3857,\n",
       "                    zoom: 13,\n",
       "                    zoomControl: true,\n",
       "                    preferCanvas: false,\n",
       "                }\n",
       "            );\n",
       "\n",
       "            \n",
       "\n",
       "        \n",
       "    \n",
       "            var tile_layer_909bfc95273b6f2808076085714c5120 = L.tileLayer(\n",
       "                &quot;https://{s}.tile.openstreetmap.org/{z}/{x}/{y}.png&quot;,\n",
       "                {&quot;attribution&quot;: &quot;Data by \\u0026copy; \\u003ca href=\\&quot;http://openstreetmap.org\\&quot;\\u003eOpenStreetMap\\u003c/a\\u003e, under \\u003ca href=\\&quot;http://www.openstreetmap.org/copyright\\&quot;\\u003eODbL\\u003c/a\\u003e.&quot;, &quot;detectRetina&quot;: false, &quot;maxNativeZoom&quot;: 18, &quot;maxZoom&quot;: 18, &quot;minZoom&quot;: 0, &quot;noWrap&quot;: false, &quot;opacity&quot;: 1, &quot;subdomains&quot;: &quot;abc&quot;, &quot;tms&quot;: false}\n",
       "            ).addTo(map_d0d25c5c49f20ecb328ec5b508b985fb);\n",
       "        \n",
       "    \n",
       "            var marker_09f647265cb324a5e073036234ba8b17 = L.marker(\n",
       "                [34.0534909, -118.291304],\n",
       "                {}\n",
       "            ).addTo(map_d0d25c5c49f20ecb328ec5b508b985fb);\n",
       "        \n",
       "    \n",
       "        var popup_2693acc54d41f39bf8e6732f911b6f8d = L.popup({&quot;maxWidth&quot;: &quot;100%&quot;});\n",
       "\n",
       "        \n",
       "            var html_6f3ab47ffb44528fee231f15bc2884bd = $(`&lt;div id=&quot;html_6f3ab47ffb44528fee231f15bc2884bd&quot; style=&quot;width: 100.0%; height: 100.0%;&quot;&gt;&lt;!DOCTYPE html&gt;     &lt;html&gt;     &lt;img src=https://s13.therealdeal.com/trd/la/up/2022/06/main_LA_Vermont-Plans-705x439.jpg width=&quot;256&quot; height=&quot;156&quot;&gt;&lt;br&gt;______________________________________&lt;br&gt;     Address: &lt;strong&gt;966 South Vermont Avenue&lt;/strong&gt;&lt;br&gt;     Developer(s): &lt;strong&gt;&lt;em&gt;Teh Jing Wang, Alchemy Planning&lt;/strong&gt;&lt;/em&gt;&lt;br&gt;&lt;br&gt;     &lt;strong&gt;&lt;a href=&quot;https://therealdeal.com/la/2022/06/23/goodbye-dragon-hello-housing-yet-another-apartment-complex-planned-for-koreatown/&quot;&gt;Teh Jing Wang, the&lt;/a&gt; property owner, in consultation with Alchemy Planning filed plans to tear down a Chinese restaurant and replace it with a six-story, 77,000-square-foot residential building with 90 apartment units.&lt;/strong&gt;&lt;/html&gt;     &lt;/div&gt;`)[0];\n",
       "            popup_2693acc54d41f39bf8e6732f911b6f8d.setContent(html_6f3ab47ffb44528fee231f15bc2884bd);\n",
       "        \n",
       "\n",
       "        marker_09f647265cb324a5e073036234ba8b17.bindPopup(popup_2693acc54d41f39bf8e6732f911b6f8d)\n",
       "        ;\n",
       "\n",
       "        \n",
       "    \n",
       "    \n",
       "            var marker_120b7ad5e2548b98f835b68e8a9c4bfd = L.marker(\n",
       "                [34.0628052, -118.3024492],\n",
       "                {}\n",
       "            ).addTo(map_d0d25c5c49f20ecb328ec5b508b985fb);\n",
       "        \n",
       "    \n",
       "        var popup_3f60e61fd6aa120ce3380072b7be0fc5 = L.popup({&quot;maxWidth&quot;: &quot;100%&quot;});\n",
       "\n",
       "        \n",
       "            var html_0630ebf38f7b38964c351f02047a0a6e = $(`&lt;div id=&quot;html_0630ebf38f7b38964c351f02047a0a6e&quot; style=&quot;width: 100.0%; height: 100.0%;&quot;&gt;&lt;!DOCTYPE html&gt;     &lt;html&gt;     &lt;img src=https://s14.therealdeal.com/trd/la/up/2022/06/main-Planning-department-approves-major-Ktown-project--705x439.jpg width=&quot;256&quot; height=&quot;156&quot;&gt;&lt;br&gt;______________________________________&lt;br&gt;     Address: &lt;strong&gt;626 South Kingsley Drive&lt;/strong&gt;&lt;br&gt;     Developer(s): &lt;strong&gt;&lt;em&gt;Jamison Properties&lt;/strong&gt;&lt;/em&gt;&lt;br&gt;&lt;br&gt;     &lt;strong&gt;&lt;a href=&quot;https://therealdeal.com/la/2022/06/06/jamisons-latest-ktown-project-gets-planning-ok/&quot;&gt;The Los Angeles&lt;/a&gt; planning department approved a mixed-used project for a seven story, 127 residential unit building — 108 of which will be studios. Property records show the developer, Jamison Properties, paid $6 million for the property in February 2021.&lt;/strong&gt;&lt;/html&gt;     &lt;/div&gt;`)[0];\n",
       "            popup_3f60e61fd6aa120ce3380072b7be0fc5.setContent(html_0630ebf38f7b38964c351f02047a0a6e);\n",
       "        \n",
       "\n",
       "        marker_120b7ad5e2548b98f835b68e8a9c4bfd.bindPopup(popup_3f60e61fd6aa120ce3380072b7be0fc5)\n",
       "        ;\n",
       "\n",
       "        \n",
       "    \n",
       "    \n",
       "            var marker_27c864a2814b52a60be968ffa509775e = L.marker(\n",
       "                [34.0528792, -118.3119025],\n",
       "                {}\n",
       "            ).addTo(map_d0d25c5c49f20ecb328ec5b508b985fb);\n",
       "        \n",
       "    \n",
       "        var popup_a9bb07d12fca39b11297c0a317c2349c = L.popup({&quot;maxWidth&quot;: &quot;100%&quot;});\n",
       "\n",
       "        \n",
       "            var html_c562cee89014a1988fb7278e5d93bc0e = $(`&lt;div id=&quot;html_c562cee89014a1988fb7278e5d93bc0e&quot; style=&quot;width: 100.0%; height: 100.0%;&quot;&gt;&lt;!DOCTYPE html&gt;     &lt;html&gt;     &lt;img src=https://s12.therealdeal.com/trd/la/up/2022/04/main-Ktown-developer-proposes-to-build-7-story-building--705x439.jpg width=&quot;256&quot; height=&quot;156&quot;&gt;&lt;br&gt;______________________________________&lt;br&gt;     Address: &lt;strong&gt;3377 West Olympic Boulevard&lt;/strong&gt;&lt;br&gt;     Developer(s): &lt;strong&gt;&lt;em&gt;Bando Dela Corp&lt;/strong&gt;&lt;/em&gt;&lt;br&gt;&lt;br&gt;     &lt;strong&gt;&lt;a href=&quot;https://therealdeal.com/la/2022/04/27/k-town-developer-proposes-7-story-apartment-complex/&quot;&gt;Bando Dela Corp&lt;/a&gt; propsed to build a seven-story, 153-unit apartment building, with 16 slated as affordable. The developer plans to demolish the existing, vacant restaurant.&lt;/strong&gt;&lt;/html&gt;     &lt;/div&gt;`)[0];\n",
       "            popup_a9bb07d12fca39b11297c0a317c2349c.setContent(html_c562cee89014a1988fb7278e5d93bc0e);\n",
       "        \n",
       "\n",
       "        marker_27c864a2814b52a60be968ffa509775e.bindPopup(popup_a9bb07d12fca39b11297c0a317c2349c)\n",
       "        ;\n",
       "\n",
       "        \n",
       "    \n",
       "    \n",
       "            var marker_369cf005a4d6361662810c09ef2eab08 = L.marker(\n",
       "                [34.0625071, -118.2937623],\n",
       "                {}\n",
       "            ).addTo(map_d0d25c5c49f20ecb328ec5b508b985fb);\n",
       "        \n",
       "    \n",
       "        var popup_e353969b2a94fc17cd74d163845ab1d1 = L.popup({&quot;maxWidth&quot;: &quot;100%&quot;});\n",
       "\n",
       "        \n",
       "            var html_5540b75ecef2d26339d26d7b91e3c974 = $(`&lt;div id=&quot;html_5540b75ecef2d26339d26d7b91e3c974&quot; style=&quot;width: 100.0%; height: 100.0%;&quot;&gt;&lt;!DOCTYPE html&gt;     &lt;html&gt;     &lt;img src=https://s12.therealdeal.com/trd/la/up/2022/03/Developer-plans-22-story-apartment-tower-in-Koreatown-705x431.jpg width=&quot;256&quot; height=&quot;156&quot;&gt;&lt;br&gt;______________________________________&lt;br&gt;     Address: &lt;strong&gt;636 South Berendo Street&lt;/strong&gt;&lt;br&gt;     Developer(s): &lt;strong&gt;&lt;em&gt;Berendo&lt;/strong&gt;&lt;/em&gt;&lt;br&gt;&lt;br&gt;     &lt;strong&gt;&lt;a href=&quot;https://therealdeal.com/la/2022/03/23/developer-plans-22-story-apartment-tower-in-koreatown/&quot;&gt;Westchester-based&lt;/a&gt; Berendo proposed a 22-story, 343-unit building that would include a 7,210-square-foot rooftop deck, fitness center and library.&lt;/strong&gt;&lt;/html&gt;     &lt;/div&gt;`)[0];\n",
       "            popup_e353969b2a94fc17cd74d163845ab1d1.setContent(html_5540b75ecef2d26339d26d7b91e3c974);\n",
       "        \n",
       "\n",
       "        marker_369cf005a4d6361662810c09ef2eab08.bindPopup(popup_e353969b2a94fc17cd74d163845ab1d1)\n",
       "        ;\n",
       "\n",
       "        \n",
       "    \n",
       "    \n",
       "            var marker_f8dfb17a8cccb9c0c44774b5c2f06aa6 = L.marker(\n",
       "                [34.0657664, -118.2881287],\n",
       "                {}\n",
       "            ).addTo(map_d0d25c5c49f20ecb328ec5b508b985fb);\n",
       "        \n",
       "    \n",
       "        var popup_eb77e57728da1b97149d17ba44454ac8 = L.popup({&quot;maxWidth&quot;: &quot;100%&quot;});\n",
       "\n",
       "        \n",
       "            var html_d55c6f51f9fcb29219f7d01cfa3f6f8a = $(`&lt;div id=&quot;html_d55c6f51f9fcb29219f7d01cfa3f6f8a&quot; style=&quot;width: 100.0%; height: 100.0%;&quot;&gt;&lt;!DOCTYPE html&gt;     &lt;html&gt;     &lt;img src=https://s11.therealdeal.com/trd/la/up/2021/12/main-ktownapts-705x439.jpg width=&quot;256&quot; height=&quot;156&quot;&gt;&lt;br&gt;______________________________________&lt;br&gt;     Address: &lt;strong&gt;430 South Westmoreland Avenue&lt;/strong&gt;&lt;br&gt;     Developer(s): &lt;strong&gt;&lt;em&gt;Villas at Westmoreland LLC&lt;/strong&gt;&lt;/em&gt;&lt;br&gt;&lt;br&gt;     &lt;strong&gt;&lt;a href=&quot;https://therealdeal.com/la/2021/12/16/proposed-koreatown-infill-could-see-45-unit-apartment-complex/&quot;&gt;Larchmont-based&lt;/a&gt; Westmoreland LLC proposed plans for a seven-story, 45-apartment building at 430 South Westmoreland Avenue, a few blocks from the Wilshire/Vermont light-rail station. The property is currently vacant.&lt;/strong&gt;&lt;/html&gt;     &lt;/div&gt;`)[0];\n",
       "            popup_eb77e57728da1b97149d17ba44454ac8.setContent(html_d55c6f51f9fcb29219f7d01cfa3f6f8a);\n",
       "        \n",
       "\n",
       "        marker_f8dfb17a8cccb9c0c44774b5c2f06aa6.bindPopup(popup_eb77e57728da1b97149d17ba44454ac8)\n",
       "        ;\n",
       "\n",
       "        \n",
       "    \n",
       "    \n",
       "            var marker_64448ccaa46ddde052d88370a53d696e = L.marker(\n",
       "                [34.0644162, -118.2895697],\n",
       "                {}\n",
       "            ).addTo(map_d0d25c5c49f20ecb328ec5b508b985fb);\n",
       "        \n",
       "    \n",
       "        var popup_331d52612a3f3348781dd8c445160590 = L.popup({&quot;maxWidth&quot;: &quot;100%&quot;});\n",
       "\n",
       "        \n",
       "            var html_2a1919d82f74d346e8693c0e17b964ed = $(`&lt;div id=&quot;html_2a1919d82f74d346e8693c0e17b964ed&quot; style=&quot;width: 100.0%; height: 100.0%;&quot;&gt;&lt;!DOCTYPE html&gt;     &lt;html&gt;     &lt;img src=https://s12.therealdeal.com/trd/la/up/2021/10/main-koreatown-tower-705x439.jpg width=&quot;256&quot; height=&quot;156&quot;&gt;&lt;br&gt;______________________________________&lt;br&gt;     Address: &lt;strong&gt;550 Shatto Place&lt;/strong&gt;&lt;br&gt;     Developer(s): &lt;strong&gt;&lt;em&gt;Townline, Former Development and Urban Offerings&lt;/strong&gt;&lt;/em&gt;&lt;br&gt;&lt;br&gt;     &lt;strong&gt;&lt;a href=&quot;https://therealdeal.com/la/2021/10/26/koreatown-tower-trims-transient-units-grows-to-40-stories-gets-city-council-greenlight/&quot;&gt;City council&lt;/a&gt; unanimously approved a 40-story, 367 apartment building with a mix of studio, one-, two-, and three-bedroom units. 42 units would be set aside for low-income renters.&lt;/strong&gt;&lt;/html&gt;     &lt;/div&gt;`)[0];\n",
       "            popup_331d52612a3f3348781dd8c445160590.setContent(html_2a1919d82f74d346e8693c0e17b964ed);\n",
       "        \n",
       "\n",
       "        marker_64448ccaa46ddde052d88370a53d696e.bindPopup(popup_331d52612a3f3348781dd8c445160590)\n",
       "        ;\n",
       "\n",
       "        \n",
       "    \n",
       "    \n",
       "            var marker_921219f83960959bb43a07c6f7fd934b = L.marker(\n",
       "                [34.06316400000001, -118.299572],\n",
       "                {}\n",
       "            ).addTo(map_d0d25c5c49f20ecb328ec5b508b985fb);\n",
       "        \n",
       "    \n",
       "        var popup_7c80fd1b78d1ca9ec906ad5f028431ea = L.popup({&quot;maxWidth&quot;: &quot;100%&quot;});\n",
       "\n",
       "        \n",
       "            var html_f8de5d14c80964802e22e7f9f35cfe46 = $(`&lt;div id=&quot;html_f8de5d14c80964802e22e7f9f35cfe46&quot; style=&quot;width: 100.0%; height: 100.0%;&quot;&gt;&lt;!DOCTYPE html&gt;     &lt;html&gt;     &lt;img src=https://s11.therealdeal.com/trd/la/up/2021/11/main-Seattle-micro-housing-developer-extends-LA-push-in-Koreatown-705x439.jpg width=&quot;256&quot; height=&quot;156&quot;&gt;&lt;br&gt;______________________________________&lt;br&gt;     Address: &lt;strong&gt;603 South Mariposa Avenue&lt;/strong&gt;&lt;br&gt;     Developer(s): &lt;strong&gt;&lt;em&gt;Housing Diversity Corporation, STS Construction&lt;/strong&gt;&lt;/em&gt;&lt;br&gt;&lt;br&gt;     &lt;strong&gt;&lt;a href=&quot;https://therealdeal.com/la/2021/11/03/seattle-micro-housing-developer-extends-la-push-in-koreatown/&quot;&gt;Two Seattle based&lt;/a&gt; developers have partnered on a plan to bring nearly 100 micro-apartments to Koreatown. Housing Diversity Corporation and STS Construction filed plans to build an eight-story, 92-unit apartment building. Housing Diversity paid $4.2 million for the property in January 2021.&lt;/strong&gt;&lt;/html&gt;     &lt;/div&gt;`)[0];\n",
       "            popup_7c80fd1b78d1ca9ec906ad5f028431ea.setContent(html_f8de5d14c80964802e22e7f9f35cfe46);\n",
       "        \n",
       "\n",
       "        marker_921219f83960959bb43a07c6f7fd934b.bindPopup(popup_7c80fd1b78d1ca9ec906ad5f028431ea)\n",
       "        ;\n",
       "\n",
       "        \n",
       "    \n",
       "    \n",
       "            var marker_61e36eb4aebd95f75e9a128265c95f75 = L.marker(\n",
       "                [34.0588102, -118.3098703],\n",
       "                {}\n",
       "            ).addTo(map_d0d25c5c49f20ecb328ec5b508b985fb);\n",
       "        \n",
       "    \n",
       "        var popup_1c30e93a45bb098b0690358e4ab35f4e = L.popup({&quot;maxWidth&quot;: &quot;100%&quot;});\n",
       "\n",
       "        \n",
       "            var html_ad310170d8d1ad0ed880c0f133b0d435 = $(`&lt;div id=&quot;html_ad310170d8d1ad0ed880c0f133b0d435&quot; style=&quot;width: 100.0%; height: 100.0%;&quot;&gt;&lt;!DOCTYPE html&gt;     &lt;html&gt;     &lt;img src=https://s11.therealdeal.com/trd/la/up/2021/09/main-elk-dev-705x439.jpg width=&quot;256&quot; height=&quot;156&quot;&gt;&lt;br&gt;______________________________________&lt;br&gt;     Address: &lt;strong&gt;728 South Manhattan Place&lt;/strong&gt;&lt;br&gt;     Developer(s): &lt;strong&gt;&lt;em&gt;ELK Development&lt;/strong&gt;&lt;/em&gt;&lt;br&gt;&lt;br&gt;     &lt;strong&gt;&lt;a href=&quot;https://therealdeal.com/la/2021/09/22/elk-development-plans-2nd-koreatown-apartment-complex/&quot;&gt;ELK Development&lt;/a&gt; filed plans to build a 60-unit apartment complex, six of which will be affordable units. Plans include a 5,300-square-foot roof deck and 1,200 square feet of ground-floor common areas. An entity linked to ELK paid $2.2 million for the property. ELK received a $3 million loan from MRV banks.&lt;/strong&gt;&lt;/html&gt;     &lt;/div&gt;`)[0];\n",
       "            popup_1c30e93a45bb098b0690358e4ab35f4e.setContent(html_ad310170d8d1ad0ed880c0f133b0d435);\n",
       "        \n",
       "\n",
       "        marker_61e36eb4aebd95f75e9a128265c95f75.bindPopup(popup_1c30e93a45bb098b0690358e4ab35f4e)\n",
       "        ;\n",
       "\n",
       "        \n",
       "    \n",
       "    \n",
       "            map_d0d25c5c49f20ecb328ec5b508b985fb.fitBounds(\n",
       "                [34.060479900000004, -118.2983198375],\n",
       "                {&quot;maxZoom&quot;: 15}\n",
       "            );\n",
       "        \n",
       "&lt;/script&gt;\" style=\"position:absolute;width:100%;height:100%;left:0;top:0;border:none !important;\" allowfullscreen webkitallowfullscreen mozallowfullscreen></iframe></div></div>"
      ],
      "text/plain": [
       "<folium.folium.Map at 0x162caead0>"
      ]
     },
     "execution_count": 82,
     "metadata": {},
     "output_type": "execute_result"
    }
   ],
   "source": [
    "import folium\n",
    "import branca\n",
    "\n",
    "f = folium.Figure(width=750, height=750)\n",
    "m = folium.Map(location=df[[\"lat\", \"lon\"]].mean().to_list(),zoom_start=13)\n",
    "\n",
    "title_html = '''\n",
    "              <h3 align=\"center\" style=\"font-size:16px\"><b>{}</b></h3>\n",
    "             '''.format(f'New Development in Koreatown')\n",
    "\n",
    "for i in range(0,len(df)):\n",
    "    html = popup_html(i)\n",
    "    iframe = branca.element.IFrame(html=html)\n",
    "    popup = folium.Popup(folium.Html(html, script=True))\n",
    "    folium.Marker([df['lat'].iloc[i],df['lon'].iloc[i]],\n",
    "                 popup=popup).add_to(m)\n",
    "\n",
    "m.get_root().html.add_child(folium.Element(title_html))\n",
    "m.fit_bounds(bounds=df[['lat','lon']].mean().to_list(),max_zoom=15)\n",
    "# m.add_to(f)\n",
    "m"
   ]
  },
  {
   "cell_type": "code",
   "execution_count": 83,
   "metadata": {},
   "outputs": [],
   "source": [
    "m.save('index.html')"
   ]
  }
 ],
 "metadata": {
  "kernelspec": {
   "display_name": "Python 3 (ipykernel)",
   "language": "python",
   "name": "python3"
  },
  "language_info": {
   "codemirror_mode": {
    "name": "ipython",
    "version": 3
   },
   "file_extension": ".py",
   "mimetype": "text/x-python",
   "name": "python",
   "nbconvert_exporter": "python",
   "pygments_lexer": "ipython3",
   "version": "3.9.12"
  },
  "toc": {
   "base_numbering": 1,
   "nav_menu": {},
   "number_sections": true,
   "sideBar": true,
   "skip_h1_title": false,
   "title_cell": "Table of Contents",
   "title_sidebar": "Contents",
   "toc_cell": false,
   "toc_position": {},
   "toc_section_display": true,
   "toc_window_display": false
  }
 },
 "nbformat": 4,
 "nbformat_minor": 4
}
