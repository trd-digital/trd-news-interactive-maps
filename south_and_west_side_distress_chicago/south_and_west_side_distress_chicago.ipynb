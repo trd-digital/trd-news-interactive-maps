{
 "cells": [
  {
   "cell_type": "markdown",
   "id": "744db4d6",
   "metadata": {},
   "source": [
    "## Imports"
   ]
  },
  {
   "cell_type": "code",
   "execution_count": 1,
   "id": "1378ad9c",
   "metadata": {},
   "outputs": [],
   "source": [
    "import pandas as pd\n",
    "import numpy as np\n",
    "import os\n",
    "import folium\n",
    "import ast\n",
    "import textwrap\n",
    "import googlemaps"
   ]
  },
  {
   "cell_type": "markdown",
   "id": "2719e981",
   "metadata": {},
   "source": [
    "## Data Read in"
   ]
  },
  {
   "cell_type": "code",
   "execution_count": 3,
   "id": "9a89a4f5",
   "metadata": {},
   "outputs": [],
   "source": [
    "df = pd.read_csv(\"Rotenberg - data_for_map.csv\",dtype='str')"
   ]
  },
  {
   "cell_type": "code",
   "execution_count": 4,
   "id": "a70bfb90",
   "metadata": {},
   "outputs": [
    {
     "data": {
      "text/plain": [
       "25"
      ]
     },
     "execution_count": 4,
     "metadata": {},
     "output_type": "execute_result"
    }
   ],
   "source": [
    "len(df)"
   ]
  },
  {
   "cell_type": "code",
   "execution_count": 5,
   "id": "76f5b2bc",
   "metadata": {},
   "outputs": [],
   "source": [
    "df = df.dropna(subset='Address')"
   ]
  },
  {
   "cell_type": "code",
   "execution_count": 6,
   "id": "e19ed48b",
   "metadata": {},
   "outputs": [
    {
     "data": {
      "text/plain": [
       "25"
      ]
     },
     "execution_count": 6,
     "metadata": {},
     "output_type": "execute_result"
    }
   ],
   "source": [
    "len(df)"
   ]
  },
  {
   "cell_type": "markdown",
   "id": "2afe5740",
   "metadata": {},
   "source": [
    "## Get Coordinates"
   ]
  },
  {
   "cell_type": "code",
   "execution_count": 7,
   "id": "b6c80234",
   "metadata": {},
   "outputs": [],
   "source": [
    "%store -r google_maps_API_Key\n",
    "gmaps_key = googlemaps.Client(key=google_maps_API_Key)\n",
    "\n",
    "%store -r map_box_api_key"
   ]
  },
  {
   "cell_type": "code",
   "execution_count": 8,
   "id": "d4fab722",
   "metadata": {},
   "outputs": [
    {
     "data": {
      "text/plain": [
       "Index(['Owner', 'LLC Name', 'Address', 'Number of Units', 'Purchase Amount',\n",
       "       'Purchase Date', 'Mortgage Amount', 'Lender', 'Still Own?',\n",
       "       'In Foreclosure?', 'Other Lawsuits?'],\n",
       "      dtype='object')"
      ]
     },
     "execution_count": 8,
     "metadata": {},
     "output_type": "execute_result"
    }
   ],
   "source": [
    "df.columns"
   ]
  },
  {
   "cell_type": "code",
   "execution_count": 9,
   "id": "9a6e122c",
   "metadata": {},
   "outputs": [],
   "source": [
    "# Define the geocode function\n",
    "def geocode(add):\n",
    "    g = gmaps_key.geocode(add)\n",
    "    if g:\n",
    "        lat = g[0][\"geometry\"][\"location\"][\"lat\"]\n",
    "        lng = g[0][\"geometry\"][\"location\"][\"lng\"]\n",
    "        return (lat, lng)\n",
    "    else:\n",
    "        return None\n",
    "\n",
    "# Apply geocoding to the 'geo_address' column and store the results in 'geocoded' column\n",
    "df['geocoded'] = df['Address'].apply(geocode)"
   ]
  },
  {
   "cell_type": "code",
   "execution_count": 10,
   "id": "425fe09e",
   "metadata": {},
   "outputs": [],
   "source": [
    "df['geocoded'] = df['geocoded'].astype(str)\n",
    "df[['lat', 'lon']] = df['geocoded'].apply(lambda x: (None, None) if x == 'None' else x.strip('()').split(', ', 1)).apply(pd.Series)\n",
    "df['lat'] = df['lat'].astype(float)\n",
    "df['lon'] = df['lon'].astype(float)"
   ]
  },
  {
   "cell_type": "markdown",
   "id": "74fb774f",
   "metadata": {},
   "source": [
    "## Map Work"
   ]
  },
  {
   "cell_type": "code",
   "execution_count": 13,
   "id": "d78e80cb",
   "metadata": {},
   "outputs": [
    {
     "data": {
      "text/plain": [
       "Index(['Owner', 'LLC Name', 'Address', 'Number of Units', 'Purchase Amount',\n",
       "       'Purchase Date', 'Mortgage Amount', 'Lender', 'Still Own?',\n",
       "       'In Foreclosure?', 'Other Lawsuits?', 'geocoded', 'lat', 'lon'],\n",
       "      dtype='object')"
      ]
     },
     "execution_count": 13,
     "metadata": {},
     "output_type": "execute_result"
    }
   ],
   "source": [
    "df.columns"
   ]
  },
  {
   "cell_type": "markdown",
   "id": "71c5720a",
   "metadata": {},
   "source": [
    "I think if we can differentiate color of pins based on who managed the LLC that was landlord, (blue for Gottesman red for Drillman for expample) that'd be good and include info such as unit count, and maybe some of the transactional details when users hover over a pin that'd be good."
   ]
  },
  {
   "cell_type": "code",
   "execution_count": 16,
   "id": "35288fc6",
   "metadata": {},
   "outputs": [],
   "source": [
    "columns_to_keep = [\n",
    "    'Owner',\n",
    "    'LLC Name',\n",
    "    'Address',\n",
    "    'Number of Units',\n",
    "    'Purchase Amount',\n",
    "    'Purchase Date', \n",
    "    'Mortgage Amount', \n",
    "    'Lender', \n",
    "    'Still Own?',\n",
    "    'In Foreclosure?', \n",
    "    'Other Lawsuits?',\n",
    "    'geocoded',\n",
    "    'lat',\n",
    "    'lon'\n",
    "]\n",
    "\n",
    "map_df = df[columns_to_keep]"
   ]
  },
  {
   "cell_type": "code",
   "execution_count": 17,
   "id": "1989679d",
   "metadata": {},
   "outputs": [
    {
     "ename": "KeyError",
     "evalue": "'Manager'",
     "output_type": "error",
     "traceback": [
      "\u001b[0;31m---------------------------------------------------------------------------\u001b[0m",
      "\u001b[0;31mKeyError\u001b[0m                                  Traceback (most recent call last)",
      "File \u001b[0;32m~/opt/anaconda3/lib/python3.9/site-packages/pandas/core/indexes/base.py:3802\u001b[0m, in \u001b[0;36mIndex.get_loc\u001b[0;34m(self, key)\u001b[0m\n\u001b[1;32m   3801\u001b[0m \u001b[38;5;28;01mtry\u001b[39;00m:\n\u001b[0;32m-> 3802\u001b[0m     \u001b[38;5;28;01mreturn\u001b[39;00m \u001b[38;5;28;43mself\u001b[39;49m\u001b[38;5;241;43m.\u001b[39;49m\u001b[43m_engine\u001b[49m\u001b[38;5;241;43m.\u001b[39;49m\u001b[43mget_loc\u001b[49m\u001b[43m(\u001b[49m\u001b[43mcasted_key\u001b[49m\u001b[43m)\u001b[49m\n\u001b[1;32m   3803\u001b[0m \u001b[38;5;28;01mexcept\u001b[39;00m \u001b[38;5;167;01mKeyError\u001b[39;00m \u001b[38;5;28;01mas\u001b[39;00m err:\n",
      "File \u001b[0;32mindex.pyx:153\u001b[0m, in \u001b[0;36mpandas._libs.index.IndexEngine.get_loc\u001b[0;34m()\u001b[0m\n",
      "File \u001b[0;32mindex.pyx:182\u001b[0m, in \u001b[0;36mpandas._libs.index.IndexEngine.get_loc\u001b[0;34m()\u001b[0m\n",
      "File \u001b[0;32mpandas/_libs/hashtable_class_helper.pxi:7081\u001b[0m, in \u001b[0;36mpandas._libs.hashtable.PyObjectHashTable.get_item\u001b[0;34m()\u001b[0m\n",
      "File \u001b[0;32mpandas/_libs/hashtable_class_helper.pxi:7089\u001b[0m, in \u001b[0;36mpandas._libs.hashtable.PyObjectHashTable.get_item\u001b[0;34m()\u001b[0m\n",
      "\u001b[0;31mKeyError\u001b[0m: 'Manager'",
      "\nThe above exception was the direct cause of the following exception:\n",
      "\u001b[0;31mKeyError\u001b[0m                                  Traceback (most recent call last)",
      "Cell \u001b[0;32mIn[17], line 91\u001b[0m\n\u001b[1;32m     89\u001b[0m     popup_html \u001b[38;5;241m=\u001b[39m create_popup(row)\n\u001b[1;32m     90\u001b[0m     \u001b[38;5;66;03m# Set marker color based on the Manager\u001b[39;00m\n\u001b[0;32m---> 91\u001b[0m     color \u001b[38;5;241m=\u001b[39m manager_color\u001b[38;5;241m.\u001b[39mget(\u001b[43mrow\u001b[49m\u001b[43m[\u001b[49m\u001b[38;5;124;43m'\u001b[39;49m\u001b[38;5;124;43mManager\u001b[39;49m\u001b[38;5;124;43m'\u001b[39;49m\u001b[43m]\u001b[49m, \u001b[38;5;124m'\u001b[39m\u001b[38;5;124mblue\u001b[39m\u001b[38;5;124m'\u001b[39m)\n\u001b[1;32m     93\u001b[0m     folium\u001b[38;5;241m.\u001b[39mMarker(\n\u001b[1;32m     94\u001b[0m         location\u001b[38;5;241m=\u001b[39m[lat, lon],\n\u001b[1;32m     95\u001b[0m         popup\u001b[38;5;241m=\u001b[39mfolium\u001b[38;5;241m.\u001b[39mPopup(popup_html, max_width\u001b[38;5;241m=\u001b[39m\u001b[38;5;241m300\u001b[39m),\n\u001b[1;32m     96\u001b[0m         icon\u001b[38;5;241m=\u001b[39mfolium\u001b[38;5;241m.\u001b[39mIcon(color\u001b[38;5;241m=\u001b[39mcolor, icon\u001b[38;5;241m=\u001b[39m\u001b[38;5;124m'\u001b[39m\u001b[38;5;124minfo-sign\u001b[39m\u001b[38;5;124m'\u001b[39m)\n\u001b[1;32m     97\u001b[0m     )\u001b[38;5;241m.\u001b[39madd_to(m)\n\u001b[1;32m     99\u001b[0m \u001b[38;5;66;03m# Create a legend for manager colors\u001b[39;00m\n",
      "File \u001b[0;32m~/opt/anaconda3/lib/python3.9/site-packages/pandas/core/series.py:1111\u001b[0m, in \u001b[0;36mSeries.__getitem__\u001b[0;34m(self, key)\u001b[0m\n\u001b[1;32m   1108\u001b[0m     \u001b[38;5;28;01mreturn\u001b[39;00m \u001b[38;5;28mself\u001b[39m\u001b[38;5;241m.\u001b[39m_values[key]\n\u001b[1;32m   1110\u001b[0m \u001b[38;5;28;01melif\u001b[39;00m key_is_scalar:\n\u001b[0;32m-> 1111\u001b[0m     \u001b[38;5;28;01mreturn\u001b[39;00m \u001b[38;5;28;43mself\u001b[39;49m\u001b[38;5;241;43m.\u001b[39;49m\u001b[43m_get_value\u001b[49m\u001b[43m(\u001b[49m\u001b[43mkey\u001b[49m\u001b[43m)\u001b[49m\n\u001b[1;32m   1113\u001b[0m \u001b[38;5;66;03m# Convert generator to list before going through hashable part\u001b[39;00m\n\u001b[1;32m   1114\u001b[0m \u001b[38;5;66;03m# (We will iterate through the generator there to check for slices)\u001b[39;00m\n\u001b[1;32m   1115\u001b[0m \u001b[38;5;28;01mif\u001b[39;00m is_iterator(key):\n",
      "File \u001b[0;32m~/opt/anaconda3/lib/python3.9/site-packages/pandas/core/series.py:1227\u001b[0m, in \u001b[0;36mSeries._get_value\u001b[0;34m(self, label, takeable)\u001b[0m\n\u001b[1;32m   1224\u001b[0m     \u001b[38;5;28;01mreturn\u001b[39;00m \u001b[38;5;28mself\u001b[39m\u001b[38;5;241m.\u001b[39m_values[label]\n\u001b[1;32m   1226\u001b[0m \u001b[38;5;66;03m# Similar to Index.get_value, but we do not fall back to positional\u001b[39;00m\n\u001b[0;32m-> 1227\u001b[0m loc \u001b[38;5;241m=\u001b[39m \u001b[38;5;28;43mself\u001b[39;49m\u001b[38;5;241;43m.\u001b[39;49m\u001b[43mindex\u001b[49m\u001b[38;5;241;43m.\u001b[39;49m\u001b[43mget_loc\u001b[49m\u001b[43m(\u001b[49m\u001b[43mlabel\u001b[49m\u001b[43m)\u001b[49m\n\u001b[1;32m   1229\u001b[0m \u001b[38;5;28;01mif\u001b[39;00m is_integer(loc):\n\u001b[1;32m   1230\u001b[0m     \u001b[38;5;28;01mreturn\u001b[39;00m \u001b[38;5;28mself\u001b[39m\u001b[38;5;241m.\u001b[39m_values[loc]\n",
      "File \u001b[0;32m~/opt/anaconda3/lib/python3.9/site-packages/pandas/core/indexes/base.py:3809\u001b[0m, in \u001b[0;36mIndex.get_loc\u001b[0;34m(self, key)\u001b[0m\n\u001b[1;32m   3804\u001b[0m     \u001b[38;5;28;01mif\u001b[39;00m \u001b[38;5;28misinstance\u001b[39m(casted_key, \u001b[38;5;28mslice\u001b[39m) \u001b[38;5;129;01mor\u001b[39;00m (\n\u001b[1;32m   3805\u001b[0m         \u001b[38;5;28misinstance\u001b[39m(casted_key, abc\u001b[38;5;241m.\u001b[39mIterable)\n\u001b[1;32m   3806\u001b[0m         \u001b[38;5;129;01mand\u001b[39;00m \u001b[38;5;28many\u001b[39m(\u001b[38;5;28misinstance\u001b[39m(x, \u001b[38;5;28mslice\u001b[39m) \u001b[38;5;28;01mfor\u001b[39;00m x \u001b[38;5;129;01min\u001b[39;00m casted_key)\n\u001b[1;32m   3807\u001b[0m     ):\n\u001b[1;32m   3808\u001b[0m         \u001b[38;5;28;01mraise\u001b[39;00m InvalidIndexError(key)\n\u001b[0;32m-> 3809\u001b[0m     \u001b[38;5;28;01mraise\u001b[39;00m \u001b[38;5;167;01mKeyError\u001b[39;00m(key) \u001b[38;5;28;01mfrom\u001b[39;00m \u001b[38;5;21;01merr\u001b[39;00m\n\u001b[1;32m   3810\u001b[0m \u001b[38;5;28;01mexcept\u001b[39;00m \u001b[38;5;167;01mTypeError\u001b[39;00m:\n\u001b[1;32m   3811\u001b[0m     \u001b[38;5;66;03m# If we have a listlike key, _check_indexing_error will raise\u001b[39;00m\n\u001b[1;32m   3812\u001b[0m     \u001b[38;5;66;03m#  InvalidIndexError. Otherwise we fall through and re-raise\u001b[39;00m\n\u001b[1;32m   3813\u001b[0m     \u001b[38;5;66;03m#  the TypeError.\u001b[39;00m\n\u001b[1;32m   3814\u001b[0m     \u001b[38;5;28mself\u001b[39m\u001b[38;5;241m.\u001b[39m_check_indexing_error(key)\n",
      "\u001b[0;31mKeyError\u001b[0m: 'Manager'"
     ]
    }
   ],
   "source": [
    "import pandas as pd\n",
    "import folium\n",
    "from folium.plugins import Fullscreen, MiniMap\n",
    "\n",
    "# Function to create an HTML popup for each marker\n",
    "def create_popup(row):\n",
    "    html = f\"\"\"\n",
    "    <div class=\"popup-content\">\n",
    "        <strong>Owner:</strong> {row['Owner']}<br>\n",
    "        <strong>LLC Name:</strong> {row['LLC Name']}<br>\n",
    "        <strong>Units:</strong> {row['Number of Units']}<br>\n",
    "        <strong>Purchase Amount:</strong> {row['Purchase Amount']}<br>\n",
    "        <strong>Purchase Date:</strong> {row['Purchase Date']}<br>\n",
    "        <strong>Mortgage Amount:</strong> {row['Mortgage Amount']}<br>\n",
    "        <strong>Lender:</strong> {row['Lender']}<br>\n",
    "        <strong>Still Own?:</strong> {row['Still Own?']}<br>\n",
    "        <strong>In Foreclosure?:</strong> {row['In Foreclosure?']}<br>\n",
    "        <strong>Other Lawsuits?:</strong> {row['Other Lawsuits?']}<br>\n",
    "    </div>\n",
    "    \"\"\"\n",
    "    return html\n",
    "\n",
    "# Define a color mapping for Managers\n",
    "unique_managers = map_df['Owner'].unique()\n",
    "colors = ['red', 'blue', 'green', 'purple', 'orange', 'darkred', \n",
    "          'lightred', 'beige', 'darkblue', 'darkgreen', 'cadetblue',\n",
    "          'darkpurple', 'white', 'pink', 'lightblue', 'lightgreen', \n",
    "          'gray', 'black', 'lightgray']\n",
    "manager_color = {manager: colors[i % len(colors)] for i, manager in enumerate(unique_managers)}\n",
    "\n",
    "# Initialize the map using the first row's lat and lon values\n",
    "first_lat = float(map_df['lat'].iloc[0])\n",
    "first_lon = float(map_df['lon'].iloc[0])\n",
    "m = folium.Map(location=[first_lat, first_lon], zoom_start=12, scrollWheelZoom=False)\n",
    "\n",
    "# Add custom Mapbox tile layer (replace with your API key)\n",
    "folium.TileLayer(\n",
    "    tiles=f'https://api.mapbox.com/styles/v1/mapbox/streets-v11/tiles/256/{{z}}/{{x}}/{{y}}@2x?access_token={map_box_api_key}',\n",
    "    attr='Mapbox',\n",
    "    name='Streets',\n",
    "    overlay=True,\n",
    "    control=False,\n",
    "    show=False,\n",
    "    min_zoom=1,\n",
    "    max_zoom=20\n",
    ").add_to(m)\n",
    "\n",
    "# (Optional) Add custom CSS to style popups\n",
    "custom_css = \"\"\"\n",
    "<style>\n",
    "    .popup-content {\n",
    "        min-width: 300px;\n",
    "        font-size: 14px;\n",
    "        line-height: 1.4;\n",
    "        color: #333;\n",
    "        white-space: normal;\n",
    "        word-wrap: break-word;\n",
    "    }\n",
    "    .leaflet-popup, .leaflet-popup-content-wrapper {\n",
    "        background-color: #f9f9f9;\n",
    "        border: 1px solid #bbb;\n",
    "        border-radius: 5px;\n",
    "        padding: 8px;\n",
    "        box-shadow: 0 2px 6px rgba(0,0,0,0.1);\n",
    "    }\n",
    "    .leaflet-popup-tip {\n",
    "        background: #f9f9f9;\n",
    "    }\n",
    "</style>\n",
    "\"\"\"\n",
    "m.get_root().html.add_child(folium.Element(custom_css))\n",
    "\n",
    "# (Optional) Add a title to the map\n",
    "title_html = '''\n",
    "    <h3 style=\"text-align:center; font-family:Arial, sans-serif; font-size:18px; color:#333; margin-top:10px;\">\n",
    "        <b>Fannie Mae Blacklist</b>\n",
    "    </h3>\n",
    "'''\n",
    "m.get_root().html.add_child(folium.Element(title_html))\n",
    "\n",
    "# Add additional controls\n",
    "Fullscreen().add_to(m)\n",
    "MiniMap(toggle_display=True).add_to(m)\n",
    "\n",
    "# Loop through the DataFrame rows to add markers (without using MarkerCluster)\n",
    "for i, row in map_df.iterrows():\n",
    "    lat = float(row['lat'])\n",
    "    lon = float(row['lon'])\n",
    "    popup_html = create_popup(row)\n",
    "    # Set marker color based on the Manager\n",
    "    color = manager_color.get(row['Manager'], 'blue')\n",
    "    \n",
    "    folium.Marker(\n",
    "        location=[lat, lon],\n",
    "        popup=folium.Popup(popup_html, max_width=300),\n",
    "        icon=folium.Icon(color=color, icon='info-sign')\n",
    "    ).add_to(m)\n",
    "\n",
    "# Create a legend for manager colors\n",
    "legend_html = '''\n",
    "     <div style=\"\n",
    "     position: fixed; \n",
    "     bottom: 50px; left: 50px; width: 150px; \n",
    "     background-color: white;\n",
    "     border:2px solid grey;\n",
    "     z-index:9999;\n",
    "     font-size:14px;\n",
    "     padding: 10px;\n",
    "     \">\n",
    "     <strong>Legend</strong><br>\n",
    "'''\n",
    "for manager, color in manager_color.items():\n",
    "    legend_html += f'<i style=\"background:{color};width:12px;height:12px;display:inline-block;margin-right:5px;\"></i>{manager}<br>'\n",
    "legend_html += '</div>'\n",
    "m.get_root().html.add_child(folium.Element(legend_html))\n",
    "\n",
    "# Display the map (in Jupyter, this will render the map)\n",
    "m\n"
   ]
  },
  {
   "cell_type": "code",
   "execution_count": 16,
   "id": "6853e4ce",
   "metadata": {},
   "outputs": [],
   "source": [
    "m.save('index.html')"
   ]
  },
  {
   "cell_type": "code",
   "execution_count": 17,
   "id": "d0ee1a05",
   "metadata": {},
   "outputs": [
    {
     "name": "stdout",
     "output_type": "stream",
     "text": [
      "https://trd-digital.github.io/trd-news-interactive-maps/FannieMaeBlacklist\n"
     ]
    }
   ],
   "source": [
    "base_name = 'https://trd-digital.github.io/trd-news-interactive-maps/'\n",
    "\n",
    "cwd = os.getcwd()\n",
    "\n",
    "cwd = cwd.split('/')\n",
    "\n",
    "final_name = base_name + cwd[-1]\n",
    "print(final_name)"
   ]
  }
 ],
 "metadata": {
  "kernelspec": {
   "display_name": "Python 3 (ipykernel)",
   "language": "python",
   "name": "python3"
  },
  "language_info": {
   "codemirror_mode": {
    "name": "ipython",
    "version": 3
   },
   "file_extension": ".py",
   "mimetype": "text/x-python",
   "name": "python",
   "nbconvert_exporter": "python",
   "pygments_lexer": "ipython3",
   "version": "3.9.12"
  }
 },
 "nbformat": 4,
 "nbformat_minor": 5
}
