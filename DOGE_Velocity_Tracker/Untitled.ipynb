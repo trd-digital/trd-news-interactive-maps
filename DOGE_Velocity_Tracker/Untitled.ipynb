{
 "cells": [
  {
   "cell_type": "markdown",
   "id": "1c6f8321",
   "metadata": {},
   "source": [
    "## Imports"
   ]
  },
  {
   "cell_type": "code",
   "execution_count": 10,
   "id": "2a9853e5",
   "metadata": {},
   "outputs": [],
   "source": [
    "import pandas as pd\n",
    "import geopandas as gpd\n",
    "import googlemaps\n",
    "import json\n",
    "import dash\n",
    "from dash import dcc, html\n",
    "from dash.dependencies import Input, Output\n",
    "import plotly.express as px"
   ]
  },
  {
   "cell_type": "markdown",
   "id": "aa6a1749",
   "metadata": {},
   "source": [
    "## Data read in"
   ]
  },
  {
   "cell_type": "code",
   "execution_count": 2,
   "id": "2c667a69",
   "metadata": {},
   "outputs": [],
   "source": [
    "df = pd.read_csv(\"DOGE_Velocity_Tracker.csv\")"
   ]
  },
  {
   "cell_type": "code",
   "execution_count": 3,
   "id": "2bb954f6",
   "metadata": {},
   "outputs": [],
   "source": [
    "df = df[['Main Agency', 'Location', 'Sq Ft', 'Annual Lease', 'Saved']]"
   ]
  },
  {
   "cell_type": "code",
   "execution_count": 4,
   "id": "2b6a88d9",
   "metadata": {},
   "outputs": [],
   "source": [
    "df['Annual Lease'] = df['Annual Lease'].str.replace('$','').replace(',','',regex=True).astype(int)\n",
    "df['Saved'] = df['Saved'].str.replace('$','').replace(',','',regex=True).astype(int)"
   ]
  },
  {
   "cell_type": "code",
   "execution_count": 5,
   "id": "ef0482cc",
   "metadata": {},
   "outputs": [
    {
     "data": {
      "text/plain": [
       "Index(['Main Agency', 'Location', 'Sq Ft', 'Annual Lease', 'Saved'], dtype='object')"
      ]
     },
     "execution_count": 5,
     "metadata": {},
     "output_type": "execute_result"
    }
   ],
   "source": [
    "df.columns"
   ]
  },
  {
   "cell_type": "code",
   "execution_count": 6,
   "id": "fea51c66",
   "metadata": {},
   "outputs": [],
   "source": [
    "%store -r google_maps_API_Key\n",
    "gmaps_key = googlemaps.Client(key=google_maps_API_Key)"
   ]
  },
  {
   "cell_type": "code",
   "execution_count": 7,
   "id": "b7c31aeb",
   "metadata": {},
   "outputs": [],
   "source": [
    "# Define the geocode function\n",
    "def geocode(add):\n",
    "    g = gmaps_key.geocode(add)\n",
    "    if g:\n",
    "        lat = g[0][\"geometry\"][\"location\"][\"lat\"]\n",
    "        lon = g[0][\"geometry\"][\"location\"][\"lng\"]\n",
    "        return (lat, lon)\n",
    "    else:\n",
    "        return None\n",
    "\n",
    "# Apply geocoding to the 'geo_address' column and store the results in 'geocoded' column\n",
    "df['geocoded'] = df['Location'].apply(geocode)"
   ]
  },
  {
   "cell_type": "code",
   "execution_count": 8,
   "id": "e815f232",
   "metadata": {},
   "outputs": [],
   "source": [
    "df['geocoded'] = df['geocoded'].astype(str)\n",
    "df[['lat', 'lon']] = df['geocoded'].apply(lambda x: (None, None) if x == 'None' else x.strip('()').split(', ', 1)).apply(pd.Series)\n",
    "df['lat'] = df['lat'].astype(float)\n",
    "df['lon'] = df['lon'].astype(float)"
   ]
  },
  {
   "cell_type": "code",
   "execution_count": 11,
   "id": "533140d3",
   "metadata": {},
   "outputs": [],
   "source": [
    "def df_to_geojson(df):\n",
    "    geojson = {\"type\": \"FeatureCollection\", \"features\": []}\n",
    "    for _, row in df.iterrows():\n",
    "        feature = {\n",
    "            \"type\": \"Feature\",\n",
    "            \"properties\": {\n",
    "                \"Main Agency\": row[\"Main Agency\"],\n",
    "                \"Location\": row[\"Location\"],\n",
    "                \"Sq Ft\": row[\"Sq Ft\"],\n",
    "                \"Annual Lease\": row[\"Annual Lease\"],\n",
    "                \"Saved\": row[\"Saved\"],\n",
    "            },\n",
    "            \"geometry\": {\n",
    "                \"type\": \"Point\",\n",
    "                \"coordinates\": [row[\"lon\"], row[\"lat\"]]\n",
    "            }\n",
    "        }\n",
    "        geojson[\"features\"].append(feature)\n",
    "    return geojson\n",
    "\n",
    "geojson_data = df_to_geojson(df)\n",
    "\n",
    "# Save GeoJSON to a file for use in your web map\n",
    "with open(\"data.geojson\", \"w\") as f:\n",
    "    json.dump(geojson_data, f)"
   ]
  }
 ],
 "metadata": {
  "kernelspec": {
   "display_name": "Python 3 (ipykernel)",
   "language": "python",
   "name": "python3"
  },
  "language_info": {
   "codemirror_mode": {
    "name": "ipython",
    "version": 3
   },
   "file_extension": ".py",
   "mimetype": "text/x-python",
   "name": "python",
   "nbconvert_exporter": "python",
   "pygments_lexer": "ipython3",
   "version": "3.9.12"
  }
 },
 "nbformat": 4,
 "nbformat_minor": 5
}
