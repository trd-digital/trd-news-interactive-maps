{
 "cells": [
  {
   "cell_type": "markdown",
   "id": "744db4d6",
   "metadata": {},
   "source": [
    "## Imports"
   ]
  },
  {
   "cell_type": "code",
   "execution_count": 1,
   "id": "1378ad9c",
   "metadata": {},
   "outputs": [],
   "source": [
    "import pandas as pd\n",
    "import numpy as np\n",
    "import os\n",
    "import folium\n",
    "import ast\n",
    "import textwrap\n",
    "import googlemaps\n",
    "from folium.plugins import Fullscreen, MiniMap"
   ]
  },
  {
   "cell_type": "markdown",
   "id": "2719e981",
   "metadata": {},
   "source": [
    "## Data Read in"
   ]
  },
  {
   "cell_type": "code",
   "execution_count": 2,
   "id": "9a89a4f5",
   "metadata": {},
   "outputs": [],
   "source": [
    "# df = pd.read_csv(\"GroundLeaseCoOps.csv\",dtype='str')\n",
    "df = pd.read_csv(\"GroundLeaseCoOps - Combined Data For Map.csv\")"
   ]
  },
  {
   "cell_type": "code",
   "execution_count": 3,
   "id": "a70bfb90",
   "metadata": {},
   "outputs": [
    {
     "data": {
      "text/plain": [
       "66"
      ]
     },
     "execution_count": 3,
     "metadata": {},
     "output_type": "execute_result"
    }
   ],
   "source": [
    "len(df)"
   ]
  },
  {
   "cell_type": "code",
   "execution_count": 4,
   "id": "bd77feec",
   "metadata": {},
   "outputs": [],
   "source": [
    "df['full_address'] = df['Address'] + ' ' + df['Locale'] + ' New York'"
   ]
  },
  {
   "cell_type": "markdown",
   "id": "2afe5740",
   "metadata": {},
   "source": [
    "## Get Coordinates"
   ]
  },
  {
   "cell_type": "code",
   "execution_count": 5,
   "id": "b6c80234",
   "metadata": {},
   "outputs": [],
   "source": [
    "%store -r google_maps_API_Key\n",
    "gmaps_key = googlemaps.Client(key=google_maps_API_Key)\n",
    "\n",
    "%store -r map_box_api_key"
   ]
  },
  {
   "cell_type": "code",
   "execution_count": 6,
   "id": "d4fab722",
   "metadata": {},
   "outputs": [
    {
     "data": {
      "text/plain": [
       "Index(['Address', 'Locale', 'Units', 'full_address'], dtype='object')"
      ]
     },
     "execution_count": 6,
     "metadata": {},
     "output_type": "execute_result"
    }
   ],
   "source": [
    "df.columns"
   ]
  },
  {
   "cell_type": "code",
   "execution_count": null,
   "id": "9a6e122c",
   "metadata": {},
   "outputs": [],
   "source": [
    "# Define the geocode function\n",
    "def geocode(add):\n",
    "    g = gmaps_key.geocode(add)\n",
    "    if g:\n",
    "        lat = g[0][\"geometry\"][\"location\"][\"lat\"]\n",
    "        lng = g[0][\"geometry\"][\"location\"][\"lng\"]\n",
    "        return (lat, lng)\n",
    "    else:\n",
    "        return None\n",
    "\n",
    "# Apply geocoding to the 'geo_address' column and store the results in 'geocoded' column\n",
    "df['geocoded'] = df['full_address'].apply(geocode)"
   ]
  },
  {
   "cell_type": "code",
   "execution_count": null,
   "id": "425fe09e",
   "metadata": {},
   "outputs": [],
   "source": [
    "df['geocoded'] = df['geocoded'].astype(str)\n",
    "df[['lat', 'lon']] = df['geocoded'].apply(lambda x: (None, None) if x == 'None' else x.strip('()').split(', ', 1)).apply(pd.Series)\n",
    "df['lat'] = df['lat'].astype(float)\n",
    "df['lon'] = df['lon'].astype(float)"
   ]
  },
  {
   "cell_type": "markdown",
   "id": "74fb774f",
   "metadata": {},
   "source": [
    "## Map Work"
   ]
  },
  {
   "cell_type": "code",
   "execution_count": null,
   "id": "d78e80cb",
   "metadata": {},
   "outputs": [],
   "source": [
    "df.columns"
   ]
  },
  {
   "cell_type": "code",
   "execution_count": null,
   "id": "35288fc6",
   "metadata": {},
   "outputs": [],
   "source": [
    "# columns_to_keep = [\n",
    "#     'Owner',\n",
    "#     'LLC Name',\n",
    "#     'Address',\n",
    "#     'Number of Units',\n",
    "#     'Purchase Amount',\n",
    "#     'Purchase Date', \n",
    "#     'Mortgage Amount', \n",
    "#     'Lender', \n",
    "#     'Still Own?',\n",
    "#     'In Foreclosure?', \n",
    "#     'Other Lawsuits?',\n",
    "#     'geocoded',\n",
    "#     'lat',\n",
    "#     'lon'\n",
    "# ]\n",
    "\n",
    "map_df = df"
   ]
  },
  {
   "cell_type": "code",
   "execution_count": null,
   "id": "41baae37",
   "metadata": {},
   "outputs": [],
   "source": [
    "map_df['Units'] = map_df['Units'].str.replace(',','',regex=True ).astype(int)"
   ]
  },
  {
   "cell_type": "code",
   "execution_count": null,
   "id": "1989679d",
   "metadata": {},
   "outputs": [],
   "source": [
    "import pandas as pd\n",
    "import folium\n",
    "from folium.plugins import Fullscreen, MiniMap\n",
    "from collections import defaultdict\n",
    "\n",
    "# ─── 1. Load your data ─────────────────────────────────────────────────────────\n",
    "# Replace with how you actually load your DataFrame:\n",
    "# map_df = pd.read_csv(\"your_data.csv\")\n",
    "# For demo, assume map_df is already in your namespace.\n",
    "\n",
    "# ─── 2. Popup HTML with black underline under the address ────────────────────\n",
    "def create_popup(row):\n",
    "    return f\"\"\"\n",
    "    <div class=\"popup-content\">\n",
    "      <div style=\"\n",
    "           border-bottom:1px solid #000;\n",
    "           padding-bottom:4px;\n",
    "           margin-bottom:6px;\">\n",
    "        <h4 style=\"margin:0\">{row['Address']}</h4>\n",
    "      </div>\n",
    "      <strong>Number of Units:</strong> {row['Units']}<br>\n",
    "    </div>\n",
    "    \"\"\"\n",
    "\n",
    "# ─── 3. Build a color map by Locale ───────────────────────────────────────────\n",
    "unique_locales = map_df['Locale'].unique()\n",
    "_palette = [\n",
    "    'red','blue','green','purple','orange','darkred','lightred','beige',\n",
    "    'darkblue','darkgreen','cadetblue','darkpurple','white','pink',\n",
    "    'lightblue','lightgreen','gray','black','lightgray'\n",
    "]\n",
    "locale_color = {loc: _palette[i % len(_palette)] for i, loc in enumerate(unique_locales)}\n",
    "\n",
    "# ─── 4. Initialize the map centered on your data ──────────────────────────────\n",
    "center_lat = map_df['lat'].mean()\n",
    "center_lon = map_df['lon'].mean()\n",
    "m = folium.Map(\n",
    "    location=[center_lat, center_lon],\n",
    "    zoom_start=12,\n",
    "    tiles=None,\n",
    "    scrollWheelZoom=False\n",
    ")\n",
    "\n",
    "# ─── 5. Custom Mapbox tile layer ──────────────────────────────────────────────\n",
    "folium.TileLayer(\n",
    "    tiles=(\n",
    "        \"https://api.mapbox.com/styles/v1/\"\n",
    "        \"mapbox/streets-v11/tiles/256/{z}/{x}/{y}@2x\"\n",
    "        f\"?access_token={map_box_api_key}\"\n",
    "    ),\n",
    "    attr=\"Mapbox\",\n",
    "    name=\"Streets (Mapbox)\",\n",
    "    overlay=False,\n",
    "    control=False,\n",
    "    show=True,\n",
    "    min_zoom=1,\n",
    "    max_zoom=20\n",
    ").add_to(m)\n",
    "\n",
    "# ─── 6. Popups & CSS tweaks ───────────────────────────────────────────────────\n",
    "m.get_root().html.add_child(folium.Element(\"\"\"\n",
    "<style>\n",
    "  .popup-content { min-width:200px; font-size:13px; }\n",
    "  .leaflet-popup-content-wrapper { background:#f9f9f9; border-radius:5px; }\n",
    "  .leaflet-popup-tip { background:#f9f9f9; }\n",
    "</style>\n",
    "\"\"\"))\n",
    "m.get_root().html.add_child(folium.Element(\n",
    "    '<h3 style=\"text-align:center; font-family:Arial, sans-serif; '\n",
    "    'margin-bottom:10px;\">Ground Lease Co-Ops</h3>'\n",
    "))\n",
    "\n",
    "# ─── 7. Add fullscreen & minimap controls ────────────────────────────────────\n",
    "Fullscreen().add_to(m)\n",
    "MiniMap(toggle_display=True).add_to(m)\n",
    "\n",
    "# ─── 8. Plot each site as a CircleMarker, grouped by Locale ──────────────────\n",
    "groups = defaultdict(folium.FeatureGroup)\n",
    "for _, row in map_df.iterrows():\n",
    "    lat, lon = row['lat'], row['lon']\n",
    "    popup = folium.Popup(create_popup(row), max_width=250)\n",
    "    radius = max(4, min(row['Units'] / 50, 20))\n",
    "    circle = folium.CircleMarker(\n",
    "        location=(lat, lon),\n",
    "        radius=radius,\n",
    "        color=locale_color[row['Locale']],\n",
    "        fill=True, fill_opacity=0.7,\n",
    "        popup=popup\n",
    "    )\n",
    "    groups[row['Locale']].add_child(circle)\n",
    "\n",
    "for locale, fg in groups.items():\n",
    "    fg.layer_name = locale\n",
    "    m.add_child(fg)\n",
    "\n",
    "folium.LayerControl(collapsed=False).add_to(m)\n",
    "\n",
    "# ─── 9. Build and inject the “snap-to” dropdown ───────────────────────────────\n",
    "map_js_var = m.get_name()  # Folium’s internal map variable, e.g. \"map_123abc\"\n",
    "options = \"\\n\".join(\n",
    "    f'<option value=\"{r.lat},{r.lon}\">{r.Address}</option>'\n",
    "    for _, r in map_df.iterrows()\n",
    ")\n",
    "dropdown = f\"\"\"\n",
    "<div style=\"\n",
    "     position: fixed;\n",
    "     top: 10px; left: 50px;\n",
    "     z-index:9999;\n",
    "     background: white;\n",
    "     padding: 5px;\n",
    "     border:1px solid #ccc;\n",
    "     border-radius:4px;\n",
    "\">\n",
    "  <select id=\"addressSelector\">\n",
    "    <option value=\"\">🔍 Jump to address…</option>\n",
    "    {options}\n",
    "  </select>\n",
    "</div>\n",
    "<script>\n",
    "  document.addEventListener('DOMContentLoaded', function() {{\n",
    "    var map = window[\"{map_js_var}\"];\n",
    "    var sel = document.getElementById('addressSelector');\n",
    "    sel.addEventListener('change', function() {{\n",
    "      var parts = this.value.split(',');\n",
    "      if (parts.length === 2) {{\n",
    "        map.setView([ parseFloat(parts[0]), parseFloat(parts[1]) ], 16);\n",
    "      }}\n",
    "    }});\n",
    "  }});\n",
    "</script>\n",
    "\"\"\"\n",
    "m.get_root().html.add_child(folium.Element(dropdown))\n",
    "\n",
    "# ─── 10. Render or save ───────────────────────────────────────────────────────\n",
    "# In Jupyter, simply display `m`:\n",
    "m\n",
    "\n",
    "# If running as a .py script, save to HTML:\n",
    "# m.save(\"interactive_buildings_map.html\")\n"
   ]
  },
  {
   "cell_type": "code",
   "execution_count": null,
   "id": "6853e4ce",
   "metadata": {},
   "outputs": [],
   "source": [
    "m.save('index.html')"
   ]
  },
  {
   "cell_type": "code",
   "execution_count": null,
   "id": "d0ee1a05",
   "metadata": {},
   "outputs": [],
   "source": [
    "base_name = 'https://trd-digital.github.io/trd-news-interactive-maps/'\n",
    "\n",
    "cwd = os.getcwd()\n",
    "\n",
    "cwd = cwd.split('/')\n",
    "\n",
    "final_name = base_name + cwd[-1]\n",
    "print(final_name)"
   ]
  }
 ],
 "metadata": {
  "kernelspec": {
   "display_name": "Python 3 (ipykernel)",
   "language": "python",
   "name": "python3"
  },
  "language_info": {
   "codemirror_mode": {
    "name": "ipython",
    "version": 3
   },
   "file_extension": ".py",
   "mimetype": "text/x-python",
   "name": "python",
   "nbconvert_exporter": "python",
   "pygments_lexer": "ipython3",
   "version": "3.9.12"
  }
 },
 "nbformat": 4,
 "nbformat_minor": 5
}
