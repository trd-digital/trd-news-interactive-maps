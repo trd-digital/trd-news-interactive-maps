{
 "cells": [
  {
   "cell_type": "code",
   "execution_count": 1,
   "id": "fdbae27c-275c-4abf-b997-5454824bd1bc",
   "metadata": {},
   "outputs": [],
   "source": [
    "import re\n",
    "import numpy as np\n",
    "import pandas as pd\n",
    "import calendar"
   ]
  },
  {
   "cell_type": "code",
   "execution_count": 2,
   "id": "3c0b04d4-0832-4c78-a40f-7b26f0031a3d",
   "metadata": {},
   "outputs": [],
   "source": [
    "df = pd.read_csv('All Transactions over $100K in 3 Counties in 2025 - ALL_Three.csv')"
   ]
  },
  {
   "cell_type": "code",
   "execution_count": 3,
   "id": "d01f4dfb-104d-41d1-99be-e9d65311557f",
   "metadata": {},
   "outputs": [],
   "source": [
    "df['SALE_PRC1_CLEAN'] = df.SALE_PRC1.str.replace('$','').replace(',','',regex=True).astype(int)"
   ]
  },
  {
   "cell_type": "code",
   "execution_count": 4,
   "id": "058168f4-a0a2-492d-b552-a263e71badea",
   "metadata": {},
   "outputs": [
    {
     "name": "stderr",
     "output_type": "stream",
     "text": [
      "/var/folders/rq/0_j_rksd7psgdycg9c1qwf6m0000gp/T/ipykernel_51379/1200958188.py:35: UserWarning: This pattern is interpreted as a regular expression, and has match groups. To actually get the groups, use str.extract.\n",
      "  commercial_mask = micro_norm.str.contains(commercial_pat, na=False)\n"
     ]
    }
   ],
   "source": [
    "# --- Setup ---\n",
    "keep_labels = [\n",
    "    'Single Family',\n",
    "    'Condominiums',\n",
    "    'Vacant Residential',\n",
    "    'Cooperatives',\n",
    "    'Mobile Homes',\n",
    "]\n",
    "# Case-insensitive exact-keep map (normalize hyphen/spaces for Single Family)\n",
    "keep_norm = {k.lower().replace('-', ' ').strip(): k for k in keep_labels}\n",
    "\n",
    "# Commercial patterns (covers common variants)\n",
    "commercial_pat = re.compile(\n",
    "    r'(store|office|professional\\s+service(?:s)?(?:\\s+(?:building|bldg))?|'\n",
    "    r'multi[\\s-]?family|multifamily|hotel|restaurant)s?',\n",
    "    flags=re.IGNORECASE\n",
    ")\n",
    "\n",
    "# --- Normalize MICRO ---\n",
    "micro = df['MICRO'].astype('string')\n",
    "micro_norm = micro.str.strip()\n",
    "\n",
    "# Start with 'Other'\n",
    "bucket = pd.Series('Other', index=df.index, dtype='string')\n",
    "\n",
    "# Unknown/empty\n",
    "bucket = bucket.mask(micro_norm.isna() | (micro_norm == ''), 'Unknown')\n",
    "\n",
    "# Exact keep (case-insensitive; also accept \"Single-Family\")\n",
    "micro_exact_norm = micro_norm.str.lower().str.replace('-', ' ', regex=False)\n",
    "keep_mask = micro_exact_norm.isin(keep_norm.keys())\n",
    "bucket = bucket.mask(keep_mask, micro_exact_norm.map(keep_norm))\n",
    "\n",
    "# Commercial via regex\n",
    "commercial_mask = micro_norm.str.contains(commercial_pat, na=False)\n",
    "bucket = bucket.mask(commercial_mask, 'Commercial')\n",
    "\n",
    "df['MICRO_bucket'] = bucket\n",
    "\n",
    "# --- Aggregate ---\n",
    "df['SALE_PRC1_CLEAN'] = pd.to_numeric(df['SALE_PRC1_CLEAN'], errors='coerce')\n",
    "groupby_cols = ['MICRO_bucket', 'SALE_MO1', 'PHY_CITY']\n",
    "\n",
    "agg_df = (\n",
    "    df.groupby(groupby_cols, dropna=False)\n",
    "      .agg(\n",
    "          avg_price=('SALE_PRC1_CLEAN', 'mean'),\n",
    "          median_price=('SALE_PRC1_CLEAN', 'median'),\n",
    "          n=('SALE_PRC1_CLEAN', 'size')\n",
    "      )\n",
    "      .reset_index()\n",
    "      .query(\"n >= 5\")    # only keep groups with 5+ rows\n",
    ")\n",
    "\n",
    "\n",
    "# Optional polish\n",
    "agg_df['avg_price'] = agg_df['avg_price'].round(2)\n",
    "agg_df['median_price'] = agg_df['median_price'].round(2)\n",
    "agg_df = agg_df.sort_values(groupby_cols)\n"
   ]
  },
  {
   "cell_type": "code",
   "execution_count": 5,
   "id": "b6786cff-f363-42b4-a69d-23823d6f59f6",
   "metadata": {},
   "outputs": [
    {
     "data": {
      "text/plain": [
       "MICRO_bucket\n",
       "Single Family         341\n",
       "Condominiums          316\n",
       "Vacant Residential     84\n",
       "Commercial             77\n",
       "Other                  57\n",
       "Cooperatives           21\n",
       "Mobile Homes            9\n",
       "Name: count, dtype: Int64"
      ]
     },
     "execution_count": 5,
     "metadata": {},
     "output_type": "execute_result"
    }
   ],
   "source": [
    "agg_df.MICRO_bucket.value_counts()"
   ]
  },
  {
   "cell_type": "code",
   "execution_count": 6,
   "id": "f12aab7a-f82b-4bf7-9810-cec927c819a7",
   "metadata": {},
   "outputs": [
    {
     "data": {
      "text/plain": [
       "SALE_MO1\n",
       "4    187\n",
       "3    183\n",
       "5    169\n",
       "2    166\n",
       "1    161\n",
       "6     39\n",
       "Name: count, dtype: int64"
      ]
     },
     "execution_count": 6,
     "metadata": {},
     "output_type": "execute_result"
    }
   ],
   "source": [
    "agg_df.SALE_MO1.value_counts()"
   ]
  },
  {
   "cell_type": "code",
   "execution_count": 7,
   "id": "cc70de7e-000b-4990-9865-f71cdf653586",
   "metadata": {},
   "outputs": [],
   "source": [
    "# Pick the actual column name you have\n",
    "month_col = 'SALE_MO1' if 'SALE_MO1' in agg_df.columns else 'SALE_M01'\n",
    "\n",
    "# Build 1..12 → \"January\".. \"December\"\n",
    "month_map = {i: calendar.month_name[i] for i in range(1, 13)}\n",
    "\n",
    "# Make a new column with full month names\n",
    "agg_df[month_col + '_NAME'] = (\n",
    "    pd.to_numeric(agg_df[month_col], errors='coerce')     # \"01\" → 1, keeps NaN if missing\n",
    "      .astype('Int64')                                # nullable integer dtype\n",
    "      .map(month_map)                                 # 1 → \"January\", NaN stays NaN\n",
    ")\n",
    "\n",
    "# (Optional) If you want to REPLACE the original column instead:\n",
    "# df[month_col] = pd.to_numeric(df[month_col], errors='coerce').astype('Int64').map(month_map)\n"
   ]
  },
  {
   "cell_type": "code",
   "execution_count": 8,
   "id": "3177c81e-a2fc-4ed7-a631-a5e5ce55c4b5",
   "metadata": {},
   "outputs": [],
   "source": [
    "agg_df['PHY_CITY'] = agg_df['PHY_CITY'].str.title()"
   ]
  },
  {
   "cell_type": "code",
   "execution_count": 9,
   "id": "43e66d13-2874-43f5-83a1-9e9c907282ff",
   "metadata": {},
   "outputs": [],
   "source": [
    "agg_df = agg_df.drop(columns='SALE_MO1')"
   ]
  },
  {
   "cell_type": "code",
   "execution_count": 10,
   "id": "247079dd-5d9a-4d18-8978-698977f6adb7",
   "metadata": {},
   "outputs": [
    {
     "data": {
      "text/html": [
       "<div>\n",
       "<style scoped>\n",
       "    .dataframe tbody tr th:only-of-type {\n",
       "        vertical-align: middle;\n",
       "    }\n",
       "\n",
       "    .dataframe tbody tr th {\n",
       "        vertical-align: top;\n",
       "    }\n",
       "\n",
       "    .dataframe thead th {\n",
       "        text-align: right;\n",
       "    }\n",
       "</style>\n",
       "<table border=\"1\" class=\"dataframe\">\n",
       "  <thead>\n",
       "    <tr style=\"text-align: right;\">\n",
       "      <th></th>\n",
       "      <th>MICRO_bucket</th>\n",
       "      <th>PHY_CITY</th>\n",
       "      <th>avg_price</th>\n",
       "      <th>median_price</th>\n",
       "      <th>n</th>\n",
       "      <th>SALE_MO1_NAME</th>\n",
       "    </tr>\n",
       "  </thead>\n",
       "  <tbody>\n",
       "    <tr>\n",
       "      <th>689</th>\n",
       "      <td>Condominiums</td>\n",
       "      <td>Miami</td>\n",
       "      <td>995857.14</td>\n",
       "      <td>437000.0</td>\n",
       "      <td>14</td>\n",
       "      <td>June</td>\n",
       "    </tr>\n",
       "  </tbody>\n",
       "</table>\n",
       "</div>"
      ],
      "text/plain": [
       "     MICRO_bucket PHY_CITY  avg_price  median_price   n SALE_MO1_NAME\n",
       "689  Condominiums    Miami  995857.14      437000.0  14          June"
      ]
     },
     "execution_count": 10,
     "metadata": {},
     "output_type": "execute_result"
    }
   ],
   "source": [
    "agg_df[(agg_df['PHY_CITY'] == 'Miami') & (agg_df['SALE_MO1_NAME'] == 'June')]"
   ]
  },
  {
   "cell_type": "code",
   "execution_count": 11,
   "id": "cae52209-25cb-4253-a24a-ca38c0ffa390",
   "metadata": {},
   "outputs": [
    {
     "name": "stdout",
     "output_type": "stream",
     "text": [
      "<class 'pandas.core.frame.DataFrame'>\n",
      "Index: 905 entries, 2 to 1767\n",
      "Data columns (total 6 columns):\n",
      " #   Column         Non-Null Count  Dtype  \n",
      "---  ------         --------------  -----  \n",
      " 0   MICRO_bucket   905 non-null    string \n",
      " 1   PHY_CITY       898 non-null    object \n",
      " 2   avg_price      905 non-null    float64\n",
      " 3   median_price   905 non-null    float64\n",
      " 4   n              905 non-null    int64  \n",
      " 5   SALE_MO1_NAME  905 non-null    object \n",
      "dtypes: float64(2), int64(1), object(2), string(1)\n",
      "memory usage: 49.5+ KB\n"
     ]
    }
   ],
   "source": [
    "agg_df.info()"
   ]
  },
  {
   "cell_type": "code",
   "execution_count": 17,
   "id": "c4cd5dc3-b832-4041-87f5-bee0bf4804d6",
   "metadata": {},
   "outputs": [],
   "source": [
    "agg_df.to_csv('agg_df_cards.csv')"
   ]
  }
 ],
 "metadata": {
  "kernelspec": {
   "display_name": "Python 3 (ipykernel)",
   "language": "python",
   "name": "python3"
  },
  "language_info": {
   "codemirror_mode": {
    "name": "ipython",
    "version": 3
   },
   "file_extension": ".py",
   "mimetype": "text/x-python",
   "name": "python",
   "nbconvert_exporter": "python",
   "pygments_lexer": "ipython3",
   "version": "3.9.12"
  }
 },
 "nbformat": 4,
 "nbformat_minor": 5
}
