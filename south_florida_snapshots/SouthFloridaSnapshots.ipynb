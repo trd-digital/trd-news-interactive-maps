{
 "cells": [
  {
   "cell_type": "code",
   "execution_count": 1,
   "id": "fdbae27c-275c-4abf-b997-5454824bd1bc",
   "metadata": {},
   "outputs": [],
   "source": [
    "import re\n",
    "import numpy as np\n",
    "import pandas as pd\n",
    "import calendar"
   ]
  },
  {
   "cell_type": "code",
   "execution_count": 37,
   "id": "3c0b04d4-0832-4c78-a40f-7b26f0031a3d",
   "metadata": {},
   "outputs": [],
   "source": [
    "df = pd.read_csv('All Transactions over $100K in 3 Counties in 2025 - ALL_Three.csv')"
   ]
  },
  {
   "cell_type": "code",
   "execution_count": 38,
   "id": "7027825d-c73a-4187-9bad-cd1383a50614",
   "metadata": {},
   "outputs": [],
   "source": [
    "df2 = pd.read_csv('All Transactions over $100K in 3 Counties in 2025 - ALL_Three.csv')"
   ]
  },
  {
   "cell_type": "code",
   "execution_count": 39,
   "id": "5c5c176b-3128-464f-9d02-32c0e1975f58",
   "metadata": {},
   "outputs": [
    {
     "data": {
      "text/plain": [
       "array(['Unincorporated County', 'POMPANO BEACH', 'WEST PALM BEACH',\n",
       "       'Miami Beach', 'LAUDERDALE BY THE SEA', 'DEERFIELD BEACH',\n",
       "       'SUNRISE', 'BOYNTON BEACH', 'BOCA RATON', 'Opa-locka',\n",
       "       'PEMBROKE PARK', 'TAMARAC', 'Homestead', 'PALM BEACH GARDENS',\n",
       "       'DAVIE', 'LAKE WORTH', 'MARGATE', 'Doral', 'COCONUT CREEK',\n",
       "       'LIGHTHOUSE POINT', 'LAUDERHILL', 'LAUDERDALE LAKES',\n",
       "       'FORT LAUDERDALE', 'DANIA BEACH', 'PEMBROKE PINES',\n",
       "       'HALLANDALE BEACH', 'DELRAY BEACH', 'GREENACRES', nan,\n",
       "       'PALM SPRINGS', 'ROYAL PALM BEACH', 'Miami', 'Hialeah',\n",
       "       'North Miami', 'Aventura', 'Sunny Isles Beach', 'Palmetto Bay',\n",
       "       'JUPITER', 'COOPER CITY', 'Miami Gardens', 'HOLLYWOOD',\n",
       "       'Cutler Bay', 'CORAL SPRINGS', 'UNINCORPORATED', 'PLANTATION',\n",
       "       'NORTH LAUDERDALE', 'North Miami Beach', 'NORTH PALM BEACH',\n",
       "       'OAKLAND PARK', 'LAKE PARK', 'MIRAMAR', 'WEST PARK', 'West Miami',\n",
       "       'WILTON MANORS', 'Miami Lakes', 'Miami Shores', 'HILLSBORO BEACH',\n",
       "       'BELLE GLADE', 'LANTANA', 'Coral Gables', 'Hialeah Gardens',\n",
       "       'JUNO BEACH', 'Florida City', 'RIVIERA BEACH', 'North Bay Village',\n",
       "       'LOXAHATCHEE', 'Bay Harbor Islands', 'ATLANTIS', 'Surfside',\n",
       "       'PAHOKEE', 'SOUTH BAY', 'HYPOLUXO', 'WELLINGTON', 'TEQUESTA',\n",
       "       'WESTON', 'OCEAN RIDGE', 'SOUTH PALM BEACH', 'MANGONIA PARK',\n",
       "       'HAVERHILL', 'CANAL POINT', 'HIGHLAND BEACH', 'Miami Springs',\n",
       "       'CLEWISTON', 'PALM BEACH', 'Sweetwater', 'South Miami',\n",
       "       'El Portal', 'Pinecrest', 'WESTLAKE', 'BRINY BREEZES',\n",
       "       'CLOUD LAKE', 'PARKLAND', 'Medley', 'Key Biscayne', 'Bal Harbour',\n",
       "       'Virginia Gardens', 'PALM BEACH SHORES', 'GULF STREAM',\n",
       "       'Golden Beach', 'SOUTHWEST RANCHES', 'LAKE WORTH BEACH',\n",
       "       'LAKE CLARKE SHORES', 'Biscayne Park', 'GLEN RIDGE', 'LAZY LAKE',\n",
       "       'MANALAPAN', 'LOXAHATCHEE GROVES', 'CITY OF WEST PALM BEACH',\n",
       "       'GOLF', 'COUNTY OF PALM BEACH', 'SEA RANCH LAKES',\n",
       "       'JUPITER INLET COLONY'], dtype=object)"
      ]
     },
     "execution_count": 39,
     "metadata": {},
     "output_type": "execute_result"
    }
   ],
   "source": [
    "df2['PHY_CITY'].unique()"
   ]
  },
  {
   "cell_type": "code",
   "execution_count": 40,
   "id": "e1cc39f6-efd6-4ee5-b72a-be7a9f74bb97",
   "metadata": {},
   "outputs": [
    {
     "data": {
      "text/plain": [
       "MICRO\n",
       "Condominiums                          48\n",
       "Hotels, motels                         4\n",
       "Cooperatives                           1\n",
       "Multi-family - fewer than 10 units     1\n",
       "Name: count, dtype: int64"
      ]
     },
     "execution_count": 40,
     "metadata": {},
     "output_type": "execute_result"
    }
   ],
   "source": [
    "x = df2[df2['PHY_CITY'] == 'Bal Harbour']\n",
    "x.MICRO.value_counts()"
   ]
  },
  {
   "cell_type": "code",
   "execution_count": 41,
   "id": "1455e053-ca3c-494d-b4b8-0a31082d4f89",
   "metadata": {},
   "outputs": [
    {
     "data": {
      "text/plain": [
       "MICRO\n",
       "Condominiums                                                                                                                                                                                                                                                            1082\n",
       "Single Family                                                                                                                                                                                                                                                            444\n",
       "Multi-family - fewer than 10 units                                                                                                                                                                                                                                       162\n",
       "Office buildings, non-professional service buildings, multi-story                                                                                                                                                                                                         46\n",
       "Vacant Commercial                                                                                                                                                                                                                                                         41\n",
       "Vacant Residential                                                                                                                                                                                                                                                        40\n",
       "Stores, one story                                                                                                                                                                                                                                                         27\n",
       "Multi-family - 10 units or more                                                                                                                                                                                                                                           20\n",
       "Warehousing, distribution terminals, trucking terminals, van and storage warehousing                                                                                                                                                                                      10\n",
       "Professional service buildings                                                                                                                                                                                                                                            10\n",
       "Mixed use - store and office or store and residential combination                                                                                                                                                                                                          9\n",
       "Hotels, motels                                                                                                                                                                                                                                                             9\n",
       "Light manufacturing, small equipment manufacturing plants, small machine shops, instrument manufacturing, printing plants                                                                                                                                                  8\n",
       "Restaurants, cafeterias                                                                                                                                                                                                                                                    8\n",
       "Vacant Industrial                                                                                                                                                                                                                                                          7\n",
       "Vacant Governmental                                                                                                                                                                                                                                                        5\n",
       "Office buildings, non-professional service buildings, one story                                                                                                                                                                                                            4\n",
       "Auto sales, auto repair and storage, auto service shops, body and fender shops, commercial garages, farm and machinery sales and services, auto rental, marine equipment, trailers and related equipment, mobile home sales, motorcycles, construction vehicle sales       4\n",
       "Churches                                                                                                                                                                                                                                                                   4\n",
       "Drive-in Restaurants                                                                                                                                                                                                                                                       2\n",
       "Parking lots (commercial or patron), mobile home parks                                                                                                                                                                                                                     2\n",
       "Cooperatives                                                                                                                                                                                                                                                               1\n",
       "Packing plants, fruit and vegetable packing plants, meat packing plants                                                                                                                                                                                                    1\n",
       "Utility, gas and electricity, telephone and telegraph, locally assessed railroads, water and sewer service, pipelines, canals, radio/television communication                                                                                                              1\n",
       "Counties (other than public schools, colleges, hospitals) including non-municipal government                                                                                                                                                                               1\n",
       "Clubs, lodges, union halls                                                                                                                                                                                                                                                 1\n",
       "Name: count, dtype: int64"
      ]
     },
     "execution_count": 41,
     "metadata": {},
     "output_type": "execute_result"
    }
   ],
   "source": [
    "x = df2[df2['PHY_CITY'] == 'Miami']\n",
    "x.MICRO.value_counts()"
   ]
  },
  {
   "cell_type": "code",
   "execution_count": 3,
   "id": "d01f4dfb-104d-41d1-99be-e9d65311557f",
   "metadata": {},
   "outputs": [],
   "source": [
    "df['SALE_PRC1_CLEAN'] = df.SALE_PRC1.str.replace('$','').replace(',','',regex=True).astype(int)"
   ]
  },
  {
   "cell_type": "code",
   "execution_count": 4,
   "id": "801590a9-a503-43e8-b29b-e3790c14a0ec",
   "metadata": {},
   "outputs": [],
   "source": [
    "# --- Setup ---\n",
    "keep_labels = [\n",
    "    'Single Family',\n",
    "    'Condominiums',\n",
    "    'Vacant Residential',\n",
    "    'Cooperatives',\n",
    "    'Mobile Homes',\n",
    "]"
   ]
  },
  {
   "cell_type": "code",
   "execution_count": 5,
   "id": "efc56766-e63f-4c30-aeb3-4a009522243d",
   "metadata": {},
   "outputs": [],
   "source": [
    "# Case-insensitive exact-keep map (normalize hyphen/spaces for Single Family)\n",
    "keep_norm = {k.lower().replace('-', ' ').strip(): k for k in keep_labels}\n",
    "\n",
    "# Commercial patterns (covers common variants)\n",
    "commercial_pat = re.compile(\n",
    "    r'(store|office|professional\\s+service(?:s)?(?:\\s+(?:building|bldg))?|'\n",
    "    r'multi[\\s-]?family|multifamily|hotel|restaurant)s?',\n",
    "    flags=re.IGNORECASE\n",
    ")"
   ]
  },
  {
   "cell_type": "code",
   "execution_count": 6,
   "id": "8441f45a-4b23-41be-8454-3e05b721c2d0",
   "metadata": {},
   "outputs": [
    {
     "name": "stderr",
     "output_type": "stream",
     "text": [
      "/var/folders/rq/0_j_rksd7psgdycg9c1qwf6m0000gp/T/ipykernel_30244/618607014.py:17: UserWarning: This pattern is interpreted as a regular expression, and has match groups. To actually get the groups, use str.extract.\n",
      "  commercial_mask = micro_norm.str.contains(commercial_pat, na=False)\n"
     ]
    }
   ],
   "source": [
    "# --- Normalize MICRO ---\n",
    "micro = df['MICRO'].astype('string')\n",
    "micro_norm = micro.str.strip()\n",
    "\n",
    "# Start with 'Other'\n",
    "bucket = pd.Series('Other', index=df.index, dtype='string')\n",
    "\n",
    "# Unknown/empty\n",
    "bucket = bucket.mask(micro_norm.isna() | (micro_norm == ''), 'Unknown')\n",
    "\n",
    "# Exact keep (case-insensitive; also accept \"Single-Family\")\n",
    "micro_exact_norm = micro_norm.str.lower().str.replace('-', ' ', regex=False)\n",
    "keep_mask = micro_exact_norm.isin(keep_norm.keys())\n",
    "bucket = bucket.mask(keep_mask, micro_exact_norm.map(keep_norm))\n",
    "\n",
    "# Commercial via regex\n",
    "commercial_mask = micro_norm.str.contains(commercial_pat, na=False)\n",
    "bucket = bucket.mask(commercial_mask, 'Commercial')\n",
    "\n",
    "df['MICRO_bucket'] = bucket"
   ]
  },
  {
   "cell_type": "code",
   "execution_count": 7,
   "id": "058168f4-a0a2-492d-b552-a263e71badea",
   "metadata": {},
   "outputs": [],
   "source": [
    "# --- Aggregate ---\n",
    "df['SALE_PRC1_CLEAN'] = pd.to_numeric(df['SALE_PRC1_CLEAN'], errors='coerce')\n",
    "groupby_cols = ['MICRO_bucket', 'SALE_MO1', 'PHY_CITY']\n",
    "\n",
    "agg_df = (\n",
    "    df.groupby(['MICRO_bucket', 'SALE_MO1', 'PHY_CITY'], dropna=False)\n",
    "      .agg(\n",
    "          avg_price=('SALE_PRC1_CLEAN', 'mean'),\n",
    "          median_price=('SALE_PRC1_CLEAN', 'median'),\n",
    "          valid_n=('SALE_PRC1_CLEAN', 'count'),              # non-NaN count\n",
    "          total_dollar_volume=('SALE_PRC1_CLEAN', 'sum')     # sum of dollars\n",
    "      )\n",
    "      .reset_index()\n",
    "      .query(\"valid_n >= 5\")\n",
    "      .rename(columns={'valid_n':'n'})\n",
    ")\n"
   ]
  },
  {
   "cell_type": "code",
   "execution_count": 8,
   "id": "522f12c1-b808-42dc-aaa6-17985911b558",
   "metadata": {},
   "outputs": [],
   "source": [
    "# Optional polish\n",
    "agg_df['avg_price'] = agg_df['avg_price'].round(2)\n",
    "agg_df['median_price'] = agg_df['median_price'].round(2)\n",
    "agg_df = agg_df.sort_values(groupby_cols)"
   ]
  },
  {
   "cell_type": "code",
   "execution_count": 9,
   "id": "b6786cff-f363-42b4-a69d-23823d6f59f6",
   "metadata": {},
   "outputs": [
    {
     "data": {
      "text/plain": [
       "MICRO_bucket\n",
       "Single Family         341\n",
       "Condominiums          316\n",
       "Vacant Residential     84\n",
       "Commercial             77\n",
       "Other                  57\n",
       "Cooperatives           21\n",
       "Mobile Homes            9\n",
       "Name: count, dtype: Int64"
      ]
     },
     "execution_count": 9,
     "metadata": {},
     "output_type": "execute_result"
    }
   ],
   "source": [
    "agg_df.MICRO_bucket.value_counts()"
   ]
  },
  {
   "cell_type": "code",
   "execution_count": 10,
   "id": "f12aab7a-f82b-4bf7-9810-cec927c819a7",
   "metadata": {},
   "outputs": [
    {
     "data": {
      "text/plain": [
       "SALE_MO1\n",
       "4    187\n",
       "3    183\n",
       "5    169\n",
       "2    166\n",
       "1    161\n",
       "6     39\n",
       "Name: count, dtype: int64"
      ]
     },
     "execution_count": 10,
     "metadata": {},
     "output_type": "execute_result"
    }
   ],
   "source": [
    "agg_df.SALE_MO1.value_counts()"
   ]
  },
  {
   "cell_type": "code",
   "execution_count": 11,
   "id": "abba907c-ab38-4e0c-8299-34298791a9c2",
   "metadata": {},
   "outputs": [
    {
     "data": {
      "text/html": [
       "<div>\n",
       "<style scoped>\n",
       "    .dataframe tbody tr th:only-of-type {\n",
       "        vertical-align: middle;\n",
       "    }\n",
       "\n",
       "    .dataframe tbody tr th {\n",
       "        vertical-align: top;\n",
       "    }\n",
       "\n",
       "    .dataframe thead th {\n",
       "        text-align: right;\n",
       "    }\n",
       "</style>\n",
       "<table border=\"1\" class=\"dataframe\">\n",
       "  <thead>\n",
       "    <tr style=\"text-align: right;\">\n",
       "      <th></th>\n",
       "      <th>MICRO_bucket</th>\n",
       "      <th>SALE_MO1</th>\n",
       "      <th>PHY_CITY</th>\n",
       "      <th>avg_price</th>\n",
       "      <th>median_price</th>\n",
       "      <th>n</th>\n",
       "      <th>total_dollar_volume</th>\n",
       "    </tr>\n",
       "  </thead>\n",
       "  <tbody>\n",
       "    <tr>\n",
       "      <th>2</th>\n",
       "      <td>Commercial</td>\n",
       "      <td>1</td>\n",
       "      <td>BOCA RATON</td>\n",
       "      <td>1313000.00</td>\n",
       "      <td>1185000.0</td>\n",
       "      <td>5</td>\n",
       "      <td>6565000</td>\n",
       "    </tr>\n",
       "    <tr>\n",
       "      <th>6</th>\n",
       "      <td>Commercial</td>\n",
       "      <td>1</td>\n",
       "      <td>CORAL SPRINGS</td>\n",
       "      <td>847812.50</td>\n",
       "      <td>645000.0</td>\n",
       "      <td>8</td>\n",
       "      <td>6782500</td>\n",
       "    </tr>\n",
       "    <tr>\n",
       "      <th>7</th>\n",
       "      <td>Commercial</td>\n",
       "      <td>1</td>\n",
       "      <td>Coral Gables</td>\n",
       "      <td>1426000.00</td>\n",
       "      <td>1550000.0</td>\n",
       "      <td>5</td>\n",
       "      <td>7130000</td>\n",
       "    </tr>\n",
       "    <tr>\n",
       "      <th>9</th>\n",
       "      <td>Commercial</td>\n",
       "      <td>1</td>\n",
       "      <td>DANIA BEACH</td>\n",
       "      <td>714000.00</td>\n",
       "      <td>630000.0</td>\n",
       "      <td>5</td>\n",
       "      <td>3570000</td>\n",
       "    </tr>\n",
       "    <tr>\n",
       "      <th>12</th>\n",
       "      <td>Commercial</td>\n",
       "      <td>1</td>\n",
       "      <td>DELRAY BEACH</td>\n",
       "      <td>1229000.00</td>\n",
       "      <td>1340000.0</td>\n",
       "      <td>5</td>\n",
       "      <td>6145000</td>\n",
       "    </tr>\n",
       "    <tr>\n",
       "      <th>...</th>\n",
       "      <td>...</td>\n",
       "      <td>...</td>\n",
       "      <td>...</td>\n",
       "      <td>...</td>\n",
       "      <td>...</td>\n",
       "      <td>...</td>\n",
       "      <td>...</td>\n",
       "    </tr>\n",
       "    <tr>\n",
       "      <th>1756</th>\n",
       "      <td>Vacant Residential</td>\n",
       "      <td>5</td>\n",
       "      <td>PEMBROKE PINES</td>\n",
       "      <td>680833.33</td>\n",
       "      <td>678000.0</td>\n",
       "      <td>6</td>\n",
       "      <td>4085000</td>\n",
       "    </tr>\n",
       "    <tr>\n",
       "      <th>1757</th>\n",
       "      <td>Vacant Residential</td>\n",
       "      <td>5</td>\n",
       "      <td>POMPANO BEACH</td>\n",
       "      <td>472414.29</td>\n",
       "      <td>467000.0</td>\n",
       "      <td>7</td>\n",
       "      <td>3306900</td>\n",
       "    </tr>\n",
       "    <tr>\n",
       "      <th>1762</th>\n",
       "      <td>Vacant Residential</td>\n",
       "      <td>5</td>\n",
       "      <td>Unincorporated County</td>\n",
       "      <td>1878454.10</td>\n",
       "      <td>829000.0</td>\n",
       "      <td>61</td>\n",
       "      <td>114585700</td>\n",
       "    </tr>\n",
       "    <tr>\n",
       "      <th>1765</th>\n",
       "      <td>Vacant Residential</td>\n",
       "      <td>5</td>\n",
       "      <td>WESTLAKE</td>\n",
       "      <td>590733.77</td>\n",
       "      <td>607778.5</td>\n",
       "      <td>48</td>\n",
       "      <td>28355221</td>\n",
       "    </tr>\n",
       "    <tr>\n",
       "      <th>1767</th>\n",
       "      <td>Vacant Residential</td>\n",
       "      <td>5</td>\n",
       "      <td>NaN</td>\n",
       "      <td>1916300.00</td>\n",
       "      <td>1079000.0</td>\n",
       "      <td>5</td>\n",
       "      <td>9581500</td>\n",
       "    </tr>\n",
       "  </tbody>\n",
       "</table>\n",
       "<p>905 rows × 7 columns</p>\n",
       "</div>"
      ],
      "text/plain": [
       "            MICRO_bucket  SALE_MO1               PHY_CITY   avg_price  \\\n",
       "2             Commercial         1             BOCA RATON  1313000.00   \n",
       "6             Commercial         1          CORAL SPRINGS   847812.50   \n",
       "7             Commercial         1           Coral Gables  1426000.00   \n",
       "9             Commercial         1            DANIA BEACH   714000.00   \n",
       "12            Commercial         1           DELRAY BEACH  1229000.00   \n",
       "...                  ...       ...                    ...         ...   \n",
       "1756  Vacant Residential         5         PEMBROKE PINES   680833.33   \n",
       "1757  Vacant Residential         5          POMPANO BEACH   472414.29   \n",
       "1762  Vacant Residential         5  Unincorporated County  1878454.10   \n",
       "1765  Vacant Residential         5               WESTLAKE   590733.77   \n",
       "1767  Vacant Residential         5                    NaN  1916300.00   \n",
       "\n",
       "      median_price   n  total_dollar_volume  \n",
       "2        1185000.0   5              6565000  \n",
       "6         645000.0   8              6782500  \n",
       "7        1550000.0   5              7130000  \n",
       "9         630000.0   5              3570000  \n",
       "12       1340000.0   5              6145000  \n",
       "...            ...  ..                  ...  \n",
       "1756      678000.0   6              4085000  \n",
       "1757      467000.0   7              3306900  \n",
       "1762      829000.0  61            114585700  \n",
       "1765      607778.5  48             28355221  \n",
       "1767     1079000.0   5              9581500  \n",
       "\n",
       "[905 rows x 7 columns]"
      ]
     },
     "execution_count": 11,
     "metadata": {},
     "output_type": "execute_result"
    }
   ],
   "source": [
    "agg_df"
   ]
  },
  {
   "cell_type": "code",
   "execution_count": 12,
   "id": "cc70de7e-000b-4990-9865-f71cdf653586",
   "metadata": {},
   "outputs": [],
   "source": [
    "# Pick the actual column name you have\n",
    "month_col = 'SALE_MO1' if 'SALE_MO1' in agg_df.columns else 'SALE_M01'\n",
    "\n",
    "# Build 1..12 → \"January\".. \"December\"\n",
    "month_map = {i: calendar.month_name[i] for i in range(1, 13)}\n",
    "\n",
    "# Make a new column with full month names\n",
    "agg_df[month_col + '_NAME'] = (\n",
    "    pd.to_numeric(agg_df[month_col], errors='coerce')     # \"01\" → 1, keeps NaN if missing\n",
    "      .astype('Int64')                                # nullable integer dtype\n",
    "      .map(month_map)                                 # 1 → \"January\", NaN stays NaN\n",
    ")\n",
    "\n",
    "# (Optional) If you want to REPLACE the original column instead:\n",
    "# df[month_col] = pd.to_numeric(df[month_col], errors='coerce').astype('Int64').map(month_map)\n"
   ]
  },
  {
   "cell_type": "code",
   "execution_count": 13,
   "id": "3177c81e-a2fc-4ed7-a631-a5e5ce55c4b5",
   "metadata": {},
   "outputs": [],
   "source": [
    "agg_df['PHY_CITY'] = agg_df['PHY_CITY'].str.title()"
   ]
  },
  {
   "cell_type": "code",
   "execution_count": 14,
   "id": "43e66d13-2874-43f5-83a1-9e9c907282ff",
   "metadata": {},
   "outputs": [],
   "source": [
    "agg_df = agg_df.drop(columns='SALE_MO1')"
   ]
  },
  {
   "cell_type": "code",
   "execution_count": 15,
   "id": "247079dd-5d9a-4d18-8978-698977f6adb7",
   "metadata": {},
   "outputs": [
    {
     "data": {
      "text/html": [
       "<div>\n",
       "<style scoped>\n",
       "    .dataframe tbody tr th:only-of-type {\n",
       "        vertical-align: middle;\n",
       "    }\n",
       "\n",
       "    .dataframe tbody tr th {\n",
       "        vertical-align: top;\n",
       "    }\n",
       "\n",
       "    .dataframe thead th {\n",
       "        text-align: right;\n",
       "    }\n",
       "</style>\n",
       "<table border=\"1\" class=\"dataframe\">\n",
       "  <thead>\n",
       "    <tr style=\"text-align: right;\">\n",
       "      <th></th>\n",
       "      <th>MICRO_bucket</th>\n",
       "      <th>PHY_CITY</th>\n",
       "      <th>avg_price</th>\n",
       "      <th>median_price</th>\n",
       "      <th>n</th>\n",
       "      <th>total_dollar_volume</th>\n",
       "      <th>SALE_MO1_NAME</th>\n",
       "    </tr>\n",
       "  </thead>\n",
       "  <tbody>\n",
       "    <tr>\n",
       "      <th>689</th>\n",
       "      <td>Condominiums</td>\n",
       "      <td>Miami</td>\n",
       "      <td>995857.14</td>\n",
       "      <td>437000.0</td>\n",
       "      <td>14</td>\n",
       "      <td>13942000</td>\n",
       "      <td>June</td>\n",
       "    </tr>\n",
       "  </tbody>\n",
       "</table>\n",
       "</div>"
      ],
      "text/plain": [
       "     MICRO_bucket PHY_CITY  avg_price  median_price   n  total_dollar_volume  \\\n",
       "689  Condominiums    Miami  995857.14      437000.0  14             13942000   \n",
       "\n",
       "    SALE_MO1_NAME  \n",
       "689          June  "
      ]
     },
     "execution_count": 15,
     "metadata": {},
     "output_type": "execute_result"
    }
   ],
   "source": [
    "agg_df[(agg_df['PHY_CITY'] == 'Miami') & (agg_df['SALE_MO1_NAME'] == 'June')]"
   ]
  },
  {
   "cell_type": "code",
   "execution_count": 16,
   "id": "cae52209-25cb-4253-a24a-ca38c0ffa390",
   "metadata": {},
   "outputs": [
    {
     "name": "stdout",
     "output_type": "stream",
     "text": [
      "<class 'pandas.core.frame.DataFrame'>\n",
      "Index: 905 entries, 2 to 1767\n",
      "Data columns (total 7 columns):\n",
      " #   Column               Non-Null Count  Dtype  \n",
      "---  ------               --------------  -----  \n",
      " 0   MICRO_bucket         905 non-null    string \n",
      " 1   PHY_CITY             898 non-null    object \n",
      " 2   avg_price            905 non-null    float64\n",
      " 3   median_price         905 non-null    float64\n",
      " 4   n                    905 non-null    int64  \n",
      " 5   total_dollar_volume  905 non-null    int64  \n",
      " 6   SALE_MO1_NAME        905 non-null    object \n",
      "dtypes: float64(2), int64(2), object(2), string(1)\n",
      "memory usage: 56.6+ KB\n"
     ]
    }
   ],
   "source": [
    "agg_df.info()"
   ]
  },
  {
   "cell_type": "code",
   "execution_count": 17,
   "id": "c4cd5dc3-b832-4041-87f5-bee0bf4804d6",
   "metadata": {},
   "outputs": [],
   "source": [
    "agg_df.to_csv('agg_df_cards.csv')"
   ]
  }
 ],
 "metadata": {
  "kernelspec": {
   "display_name": "Python 3 (ipykernel)",
   "language": "python",
   "name": "python3"
  },
  "language_info": {
   "codemirror_mode": {
    "name": "ipython",
    "version": 3
   },
   "file_extension": ".py",
   "mimetype": "text/x-python",
   "name": "python",
   "nbconvert_exporter": "python",
   "pygments_lexer": "ipython3",
   "version": "3.9.12"
  }
 },
 "nbformat": 4,
 "nbformat_minor": 5
}
