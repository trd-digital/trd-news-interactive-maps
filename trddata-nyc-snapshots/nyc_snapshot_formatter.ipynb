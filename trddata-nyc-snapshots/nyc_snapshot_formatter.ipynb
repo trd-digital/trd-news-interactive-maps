{
 "cells": [
  {
   "cell_type": "markdown",
   "id": "db7d622a-3d68-4d0e-8ef5-be1e3ce06881",
   "metadata": {},
   "source": [
    "# [TRD-4123]\n",
    "\n",
    "https://therealdeal.atlassian.net/browse/TRD-4123?linkSource=email\n",
    "\n",
    "## Obj:\n",
    "\n",
    "Extract NYC data from the snapshot to a JSON file to help speed up the loading of the dashboard snapshot.\n",
    "\n",
    "## AC:\n",
    "\n",
    "Extracted data should have the current or latest quarter and the previous quarter’s data.\n",
    "\n",
    "Extracted data should be saved in the JSON file.\n",
    "\n",
    "This will support the following widget:\n",
    "\n",
    "https://trd-digital.github.io/trd-news-interactive-maps/trddata-snapshots/market-cards.html"
   ]
  },
  {
   "cell_type": "markdown",
   "id": "c317edf3-4ea3-4d5b-85fa-aec2c7abe219",
   "metadata": {},
   "source": [
    "## Imports"
   ]
  },
  {
   "cell_type": "code",
   "execution_count": 56,
   "id": "2c581f4e-860a-4ef2-bc41-a501bf5981b0",
   "metadata": {},
   "outputs": [],
   "source": [
    "import pandas as pd\n",
    "import json\n",
    "import os"
   ]
  },
  {
   "cell_type": "markdown",
   "id": "304200cb-6ed6-42df-bf29-5211c5368390",
   "metadata": {},
   "source": [
    "## Data Read-in"
   ]
  },
  {
   "cell_type": "code",
   "execution_count": 6,
   "id": "024919d8-5e64-4dd0-9306-83f46cd3e9ef",
   "metadata": {},
   "outputs": [],
   "source": [
    "df = pd.read_csv('TRD Data Snapshots - Snapshot2_0.csv')"
   ]
  },
  {
   "cell_type": "code",
   "execution_count": 66,
   "id": "82e56d95-4738-46ec-8533-ac06db711f2e",
   "metadata": {},
   "outputs": [
    {
     "data": {
      "text/plain": [
       "147144"
      ]
     },
     "execution_count": 66,
     "metadata": {},
     "output_type": "execute_result"
    }
   ],
   "source": [
    "len(df)"
   ]
  },
  {
   "cell_type": "code",
   "execution_count": 3,
   "id": "85ef48d0-0bcf-46cb-b12f-59d143d93344",
   "metadata": {},
   "outputs": [
    {
     "data": {
      "text/plain": [
       "Index(['title', 'display_title', 'value', 'value_date', 'last_updated',\n",
       "       'date_period', 'Source', 'Source_Link', 'sector', 'dataset_tag',\n",
       "       'region', 'ranking_priority'],\n",
       "      dtype='object')"
      ]
     },
     "execution_count": 3,
     "metadata": {},
     "output_type": "execute_result"
    }
   ],
   "source": [
    "df.columns"
   ]
  },
  {
   "cell_type": "code",
   "execution_count": 7,
   "id": "ce4ff557-7dca-42b7-891b-89ccd2b411ff",
   "metadata": {},
   "outputs": [
    {
     "data": {
      "text/html": [
       "<div>\n",
       "<style scoped>\n",
       "    .dataframe tbody tr th:only-of-type {\n",
       "        vertical-align: middle;\n",
       "    }\n",
       "\n",
       "    .dataframe tbody tr th {\n",
       "        vertical-align: top;\n",
       "    }\n",
       "\n",
       "    .dataframe thead th {\n",
       "        text-align: right;\n",
       "    }\n",
       "</style>\n",
       "<table border=\"1\" class=\"dataframe\">\n",
       "  <thead>\n",
       "    <tr style=\"text-align: right;\">\n",
       "      <th></th>\n",
       "      <th>title</th>\n",
       "      <th>display_title</th>\n",
       "      <th>value</th>\n",
       "      <th>value_date</th>\n",
       "      <th>last_updated</th>\n",
       "      <th>date_period</th>\n",
       "      <th>Source</th>\n",
       "      <th>Source_Link</th>\n",
       "      <th>sector</th>\n",
       "      <th>dataset_tag</th>\n",
       "      <th>region</th>\n",
       "      <th>ranking_priority</th>\n",
       "    </tr>\n",
       "  </thead>\n",
       "  <tbody>\n",
       "    <tr>\n",
       "      <th>0</th>\n",
       "      <td>Tallahassee, FL metro area Number of Sales</td>\n",
       "      <td>Number of Sales</td>\n",
       "      <td>79</td>\n",
       "      <td>2/13/2024</td>\n",
       "      <td>2/13/2024</td>\n",
       "      <td>Q4 2023</td>\n",
       "      <td>Redfin</td>\n",
       "      <td>https://www.redfin.com/news/data-center/</td>\n",
       "      <td>Residential</td>\n",
       "      <td>2024 Sales</td>\n",
       "      <td>Tallahassee, FL metro area</td>\n",
       "      <td>0.0</td>\n",
       "    </tr>\n",
       "  </tbody>\n",
       "</table>\n",
       "</div>"
      ],
      "text/plain": [
       "                                        title    display_title value  \\\n",
       "0  Tallahassee, FL metro area Number of Sales  Number of Sales    79   \n",
       "\n",
       "  value_date last_updated date_period  Source  \\\n",
       "0  2/13/2024    2/13/2024     Q4 2023  Redfin   \n",
       "\n",
       "                                Source_Link       sector dataset_tag  \\\n",
       "0  https://www.redfin.com/news/data-center/  Residential  2024 Sales   \n",
       "\n",
       "                       region  ranking_priority  \n",
       "0  Tallahassee, FL metro area               0.0  "
      ]
     },
     "execution_count": 7,
     "metadata": {},
     "output_type": "execute_result"
    }
   ],
   "source": [
    "df.head(1)"
   ]
  },
  {
   "cell_type": "code",
   "execution_count": 8,
   "id": "c1d86d81-a42a-4b65-ae5e-f69ab228ac00",
   "metadata": {},
   "outputs": [
    {
     "data": {
      "text/plain": [
       "array(['Q4 2023', 'Q1 2024', 'Q2 2024', 'Q3 2024', 'Q4 2024', 'Q1 2025'],\n",
       "      dtype=object)"
      ]
     },
     "execution_count": 8,
     "metadata": {},
     "output_type": "execute_result"
    }
   ],
   "source": [
    "df.date_period.unique()"
   ]
  },
  {
   "cell_type": "code",
   "execution_count": 12,
   "id": "a0c06f0c-fdc7-4ca0-88dd-39c2475ea283",
   "metadata": {},
   "outputs": [
    {
     "data": {
      "text/plain": [
       "array(['Tallahassee, FL metro area', 'Pickens County, GA',\n",
       "       'Minidoka County, ID', ..., 'Prairie County, MT',\n",
       "       'Hayes County, NE', 'Ca��on City, CO metro area'], dtype=object)"
      ]
     },
     "execution_count": 12,
     "metadata": {},
     "output_type": "execute_result"
    }
   ],
   "source": [
    "df.region.unique()"
   ]
  },
  {
   "cell_type": "code",
   "execution_count": 61,
   "id": "2d365a14-fdc0-434b-a17c-591f224cfa06",
   "metadata": {},
   "outputs": [],
   "source": [
    "mask = (\n",
    "    (\n",
    "        df.region.str.contains('New York', case=False, na=False)\n",
    "        |\n",
    "        df.region.str.contains('Bronx County, NY', case=False, na=False)\n",
    "        |\n",
    "        df.region.str.contains('Queens County, NY', case=False, na=False)\n",
    "        |\n",
    "        df.region.str.contains('Richmond County, NY', case=False, na=False)\n",
    "    )\n",
    "    & \n",
    "    ~df.region.str.contains('metro area', case=False, na=False)\n",
    ")\n",
    "\n",
    "filtered_df = df.loc[mask].reset_index(drop=True)\n"
   ]
  },
  {
   "cell_type": "code",
   "execution_count": 62,
   "id": "dbe593aa-2360-4a93-acf6-e4f56c5e565e",
   "metadata": {},
   "outputs": [],
   "source": [
    "filtered_df.reset_index(inplace=True,drop=True)"
   ]
  },
  {
   "cell_type": "code",
   "execution_count": 63,
   "id": "15488433-a39c-4a0e-9c14-995d379ae6ba",
   "metadata": {},
   "outputs": [
    {
     "data": {
      "text/plain": [
       "array(['Richmond County, NY', 'Bronx County, NY', 'Queens County, NY',\n",
       "       'New York County, NY', 'New York - Brooklyn',\n",
       "       'New York - Downtown', 'New York - Midtown',\n",
       "       'New York – Midtown South', 'New York - Midtown South'],\n",
       "      dtype=object)"
      ]
     },
     "execution_count": 63,
     "metadata": {},
     "output_type": "execute_result"
    }
   ],
   "source": [
    "filtered_df.region.unique()"
   ]
  },
  {
   "cell_type": "code",
   "execution_count": 65,
   "id": "ccc76641-e97d-4ca8-bb5a-8cd6a7dd2c33",
   "metadata": {},
   "outputs": [
    {
     "data": {
      "text/plain": [
       "246"
      ]
     },
     "execution_count": 65,
     "metadata": {},
     "output_type": "execute_result"
    }
   ],
   "source": [
    "len(filtered_df)"
   ]
  },
  {
   "cell_type": "code",
   "execution_count": 64,
   "id": "c8725106-12f9-4930-a521-e864cd4cfb99",
   "metadata": {},
   "outputs": [],
   "source": [
    "filtered_df.to_json(\"trddata-nyc-snapshots.json\")"
   ]
  }
 ],
 "metadata": {
  "kernelspec": {
   "display_name": "Python 3 (ipykernel)",
   "language": "python",
   "name": "python3"
  },
  "language_info": {
   "codemirror_mode": {
    "name": "ipython",
    "version": 3
   },
   "file_extension": ".py",
   "mimetype": "text/x-python",
   "name": "python",
   "nbconvert_exporter": "python",
   "pygments_lexer": "ipython3",
   "version": "3.9.12"
  }
 },
 "nbformat": 4,
 "nbformat_minor": 5
}
