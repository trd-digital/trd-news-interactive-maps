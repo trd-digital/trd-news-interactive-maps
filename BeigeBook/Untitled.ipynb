{
 "cells": [
  {
   "cell_type": "markdown",
   "id": "1550cf61",
   "metadata": {},
   "source": [
    "## Imports"
   ]
  },
  {
   "cell_type": "code",
   "execution_count": 1,
   "id": "5f61ffd4",
   "metadata": {},
   "outputs": [],
   "source": [
    "#!/usr/bin/env python3\n",
    "\"\"\"\n",
    "generate_geojson_from_docs.py\n",
    "\n",
    "Read a DataFrame of metro names and Google Doc links, export each Doc as HTML,\n",
    "geocode each metro via Google Maps API, and write out a GeoJSON of summaries.\n",
    "\"\"\"\n",
    "import os\n",
    "import re\n",
    "import pandas as pd\n",
    "import geopandas as gpd\n",
    "from shapely.geometry import Point\n",
    "from bs4 import BeautifulSoup\n",
    "from google.oauth2 import service_account\n",
    "from googleapiclient.discovery import build\n",
    "import requests\n",
    "import googlemaps\n",
    "import gspread\n",
    "from oauth2client.service_account import ServiceAccountCredentials# Define the scope of the application\n",
    "from google.oauth2.service_account import Credentials\n",
    "from googleapiclient.discovery import build\n",
    "import googleapiclient.errors"
   ]
  },
  {
   "cell_type": "markdown",
   "id": "20fb0fff",
   "metadata": {},
   "source": [
    "## CONFIGURATION"
   ]
  },
  {
   "cell_type": "code",
   "execution_count": 2,
   "id": "4aea2e45",
   "metadata": {},
   "outputs": [],
   "source": [
    "scope = ['https://spreadsheets.google.com/feeds','https://www.googleapis.com/auth/drive']\n",
    "\n",
    "# Add credentials to the account\n",
    "creds = ServiceAccountCredentials.from_json_keyfile_name('autoscraper-380600-0d0c84856d6b.json', scope)\n",
    "\n",
    "# Authorize the clientsheet \n",
    "client = gspread.authorize(creds)\n",
    "\n",
    "sheet = client.open_by_key('11UHXwJ_A9-kJZANhI3JvqKBGhIlGilmaAuX7NVL7YA4')\n",
    "\n",
    "# Drive client\n",
    "drivesvc = build(\"drive\", \"v3\", credentials=creds)\n",
    "\n",
    "range_name = 'A1:AO200'"
   ]
  },
  {
   "cell_type": "code",
   "execution_count": 3,
   "id": "538e884e",
   "metadata": {},
   "outputs": [],
   "source": [
    "def fetch_data(sheet, worksheet_name, range_name, df_name=None):\n",
    "    print('Fetching data from Google Sheets...')\n",
    "    worksheet = sheet.worksheet(worksheet_name)\n",
    "    data = worksheet.get(range_name)\n",
    "    df = pd.DataFrame(data)\n",
    "    df.columns = df.iloc[0]  # Set first row as column headers\n",
    "    df = df.drop(0).reset_index(drop=True)  # Drop the header row from the dataframe and reset index\n",
    "\n",
    "    df.drop_duplicates(inplace=True)  # Drop duplicate rows\n",
    "    print(f'Number of rows in {worksheet_name} worksheet: {len(df)}')\n",
    "    return df"
   ]
  },
  {
   "cell_type": "code",
   "execution_count": 4,
   "id": "cf64115c",
   "metadata": {},
   "outputs": [
    {
     "name": "stdout",
     "output_type": "stream",
     "text": [
      "Fetching data from Google Sheets...\n",
      "Number of rows in Sheet1 worksheet: 18\n"
     ]
    }
   ],
   "source": [
    "df = fetch_data(sheet, 'Sheet1', range_name, 'df')"
   ]
  },
  {
   "cell_type": "code",
   "execution_count": 5,
   "id": "3399e675",
   "metadata": {},
   "outputs": [],
   "source": [
    "%store -r google_maps_API_Key\n",
    "GOOGLE_MAPS_API_KEY = googlemaps.Client(key=google_maps_API_Key)"
   ]
  },
  {
   "cell_type": "code",
   "execution_count": 6,
   "id": "03422885",
   "metadata": {},
   "outputs": [],
   "source": [
    "# Define the geocode function\n",
    "def geocode(add):\n",
    "    g = GOOGLE_MAPS_API_KEY.geocode(add)\n",
    "    if g:\n",
    "        lat = g[0][\"geometry\"][\"location\"][\"lat\"]\n",
    "        lng = g[0][\"geometry\"][\"location\"][\"lng\"]\n",
    "        return (lat, lng)\n",
    "    else:\n",
    "        return None\n",
    "\n",
    "# Apply geocoding to the 'geo_address' column and store the results in 'geocoded' column\n",
    "df['geocoded'] = df['Metro'].apply(geocode)"
   ]
  },
  {
   "cell_type": "code",
   "execution_count": 7,
   "id": "eb344191",
   "metadata": {},
   "outputs": [],
   "source": [
    "# ────────────────────────────────────────────────────────────────\n",
    "#  HELPERS\n",
    "# ────────────────────────────────────────────────────────────────\n",
    "def extract_doc_id(url: str) -> str:\n",
    "    \"\"\"Extract the Doc ID from a Google Docs URL.\"\"\"\n",
    "    m = re.search(r\"/d/([a-zA-Z0-9_-]+)\", url)\n",
    "    if not m:\n",
    "        raise ValueError(f\"Unable to parse document ID from URL: {url}\")\n",
    "    return m.group(1)\n",
    "\n",
    "\n",
    "def geocode(address: str, api_key: str) -> tuple:\n",
    "    \"\"\"Return (lat, lon) for a given address using Google Maps Geocoding API.\"\"\"\n",
    "    endpoint = \"https://maps.googleapis.com/maps/api/geocode/json\"\n",
    "    resp = requests.get(endpoint, params={\"address\": address, \"key\": api_key})\n",
    "    resp.raise_for_status()\n",
    "    data = resp.json()\n",
    "    if data.get(\"status\") != \"OK\" or not data.get(\"results\"):\n",
    "        raise ValueError(f\"Geocoding failed for '{address}': {data.get('status')}\")\n",
    "    loc = data[\"results\"][0][\"geometry\"][\"location\"]\n",
    "    return loc[\"lat\"], loc[\"lng\"]"
   ]
  },
  {
   "cell_type": "code",
   "execution_count": 8,
   "id": "954bc44a",
   "metadata": {},
   "outputs": [
    {
     "name": "stdout",
     "output_type": "stream",
     "text": [
      "Processing metro: New York\n",
      "Processing metro: South Florida\n",
      "Processing metro: Los Angeles\n",
      "Processing metro: Chicago\n",
      "Processing metro: San Francisco (and San Jose/Silicon Valley)\n",
      "Processing metro: Texas (Dallas, Houston, Austin, San Antonio)\n",
      "Processing metro: Boston\n",
      "Processing metro: Washington, D.C.\n",
      "Processing metro: Philadelphia\n",
      "Processing metro: Atlanta\n",
      "Processing metro: Tampa\n",
      "Processing metro: Orlando\n",
      "Processing metro: Charlotte\n",
      "Processing metro: Nashville\n",
      "Processing metro: Phoenix\n",
      "Processing metro: Seattle\n",
      "Processing metro: Denver\n",
      "Processing metro: Las Vegas\n"
     ]
    }
   ],
   "source": [
    "# ────────────────────────────────────────────────────────────────\n",
    "#  PROCESS EACH DOC & BUILD RECORDS\n",
    "# ────────────────────────────────────────────────────────────────\n",
    "records = []\n",
    "for _, row in df.iterrows():\n",
    "    metro = row['Metro']\n",
    "    doc_url = row['Overview Draft Doc']\n",
    "    print(f\"Processing metro: {metro}\")\n",
    "\n",
    "    # 1) extract Doc ID and export as HTML\n",
    "    doc_id = extract_doc_id(doc_url)\n",
    "    html_bytes = drivesvc.files().export(\n",
    "        fileId=doc_id,\n",
    "        mimeType=\"text/html\"\n",
    "    ).execute()\n",
    "    soup = BeautifulSoup(html_bytes, 'html.parser')\n",
    "    body = soup.body\n",
    "    summary_html = ''.join(str(el) for el in body.contents).strip()\n",
    "\n",
    "    records.append({\n",
    "        'metro': metro,\n",
    "        'summary': summary_html\n",
    "    })\n",
    "\n",
    "if not records:\n",
    "    raise ValueError(\"No records processed. Check your DOC_LINKS_CSV.\")"
   ]
  },
  {
   "cell_type": "code",
   "execution_count": 9,
   "id": "3ae2e4ae",
   "metadata": {},
   "outputs": [],
   "source": [
    "df['records'] = records"
   ]
  },
  {
   "cell_type": "code",
   "execution_count": 14,
   "id": "e13d984a",
   "metadata": {},
   "outputs": [
    {
     "data": {
      "text/plain": [
       "Index(['Metro', 'Landing Page', 'Overview Draft Doc', 'Last Updated',\n",
       "       'Last Updated By', 'geocoded', 'records'],\n",
       "      dtype='object', name=0)"
      ]
     },
     "execution_count": 14,
     "metadata": {},
     "output_type": "execute_result"
    }
   ],
   "source": [
    "df.columns"
   ]
  },
  {
   "cell_type": "code",
   "execution_count": 17,
   "id": "fdc74ad0",
   "metadata": {},
   "outputs": [],
   "source": [
    "OUTPUT_GEOJSON = \"market_overviews.geojson\""
   ]
  },
  {
   "cell_type": "code",
   "execution_count": 18,
   "id": "52ffe159",
   "metadata": {},
   "outputs": [
    {
     "name": "stdout",
     "output_type": "stream",
     "text": [
      "GeoJSON with 18 features written to market_overviews.geojson\n"
     ]
    }
   ],
   "source": [
    "# ────────────────────────────────────────────────────────────────\n",
    "#  BUILD GEOJSON\n",
    "# ────────────────────────────────────────────────────────────────\n",
    "gdf = gpd.GeoDataFrame(\n",
    "    df,\n",
    "    geometry=[Point(lon, lat) for lat, lon in df['geocoded']],\n",
    "    crs=\"EPSG:4326\"\n",
    ")\n",
    "gdf.to_file(f\"{OUTPUT_GEOJSON}\", driver='GeoJSON')\n",
    "\n",
    "print(f\"GeoJSON with {len(gdf)} features written to {OUTPUT_GEOJSON}\")"
   ]
  },
  {
   "cell_type": "code",
   "execution_count": null,
   "id": "213fa299",
   "metadata": {},
   "outputs": [],
   "source": []
  }
 ],
 "metadata": {
  "kernelspec": {
   "display_name": "Python 3 (ipykernel)",
   "language": "python",
   "name": "python3"
  },
  "language_info": {
   "codemirror_mode": {
    "name": "ipython",
    "version": 3
   },
   "file_extension": ".py",
   "mimetype": "text/x-python",
   "name": "python",
   "nbconvert_exporter": "python",
   "pygments_lexer": "ipython3",
   "version": "3.9.12"
  }
 },
 "nbformat": 4,
 "nbformat_minor": 5
}
