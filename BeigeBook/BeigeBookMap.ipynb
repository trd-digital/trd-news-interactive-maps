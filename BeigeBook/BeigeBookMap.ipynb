{
 "cells": [
  {
   "cell_type": "markdown",
   "id": "6fd9316b",
   "metadata": {},
   "source": [
    "## Imports"
   ]
  },
  {
   "cell_type": "code",
   "execution_count": 2,
   "id": "2764fd8a",
   "metadata": {},
   "outputs": [],
   "source": [
    "import os\n",
    "import pandas as pd\n",
    "import geopandas as gpd\n",
    "import folium\n",
    "from folium import Popup, Html, Element\n",
    "from folium.features import DivIcon\n",
    "from folium.plugins import FloatImage\n",
    "from shapely.geometry import Point"
   ]
  },
  {
   "cell_type": "markdown",
   "id": "a3a03b57",
   "metadata": {},
   "source": [
    "## Read in data"
   ]
  },
  {
   "cell_type": "code",
   "execution_count": 2,
   "id": "42df7fb1",
   "metadata": {},
   "outputs": [],
   "source": [
    "import pandas as pd\n",
    "import geopandas as gpd\n",
    "from shapely.geometry import Point\n",
    "\n",
    "# Sample data path\n",
    "csv_path = 'TRD Data Snapshots - MapMarketOverviews2.0.csv'\n",
    "\n",
    "# Load the CSV\n",
    "df = pd.read_csv(csv_path)\n",
    "\n",
    "# Split coordinates into latitude and longitude\n",
    "df[['Latitude', 'Longitude']] = df['coordinates'].str.split(',', expand=True).astype(float)\n",
    "\n",
    "# Create geometry column\n",
    "df['geometry'] = df.apply(lambda row: Point(row['Longitude'], row['Latitude']), axis=1)"
   ]
  },
  {
   "cell_type": "code",
   "execution_count": 3,
   "id": "e9ef0700",
   "metadata": {},
   "outputs": [],
   "source": [
    "user_generated = df[df['User Generated Real Estate Summary'].notna()]\n",
    "ai_generated = df[df['User Generated Real Estate Summary'].isna()]"
   ]
  },
  {
   "cell_type": "code",
   "execution_count": 4,
   "id": "c3902e86",
   "metadata": {},
   "outputs": [
    {
     "name": "stdout",
     "output_type": "stream",
     "text": [
      "GeoJSONs saved!\n"
     ]
    }
   ],
   "source": [
    "# Convert to GeoDataFrame\n",
    "gdf = gpd.GeoDataFrame(df, geometry='geometry', crs=\"EPSG:4326\")\n",
    "gdf_user_generated = gpd.GeoDataFrame(user_generated, geometry='geometry', crs=\"EPSG:4326\")\n",
    "gdf_ai_generated = gpd.GeoDataFrame(ai_generated, geometry='geometry', crs=\"EPSG:4326\")\n",
    "\n",
    "gdf_user_generated = gdf_user_generated.drop(columns=['AI Residential Summary',\n",
    "       'AI Resi Link', 'AI Commercial Summary', 'AI Commercial Link'])\n",
    "\n",
    "gdf_ai_generated = gdf_ai_generated.drop(columns='User Generated Real Estate Summary')\n",
    "\n",
    "# Save to GeoJSON\n",
    "geojson_path = 'data.geojson'\n",
    "user_gen_geojson_path = 'user_gen_data.geojson'\n",
    "ai_gen_geojson_path = 'ai_gen_data.geojson'\n",
    "\n",
    "gdf.to_file(geojson_path, driver='GeoJSON')\n",
    "gdf_user_generated.to_file(user_gen_geojson_path, driver='GeoJSON')\n",
    "gdf_ai_generated.to_file(ai_gen_geojson_path, driver='GeoJSON')\n",
    "\n",
    "print(f\"GeoJSONs saved!\")"
   ]
  },
  {
   "cell_type": "code",
   "execution_count": 5,
   "id": "d200edab",
   "metadata": {},
   "outputs": [
    {
     "data": {
      "text/plain": [
       "Index(['City', 'User Generated Real Estate Summary', 'coordinates', 'Latitude',\n",
       "       'Longitude', 'geometry'],\n",
       "      dtype='object')"
      ]
     },
     "execution_count": 5,
     "metadata": {},
     "output_type": "execute_result"
    }
   ],
   "source": [
    "gdf_user_generated.columns"
   ]
  },
  {
   "cell_type": "code",
   "execution_count": 6,
   "id": "f93000f0",
   "metadata": {},
   "outputs": [
    {
     "data": {
      "text/plain": [
       "Index(['City', 'AI Residential Summary', 'AI Resi Link',\n",
       "       'AI Commercial Summary', 'AI Commercial Link', 'coordinates',\n",
       "       'Latitude', 'Longitude', 'geometry'],\n",
       "      dtype='object')"
      ]
     },
     "execution_count": 6,
     "metadata": {},
     "output_type": "execute_result"
    }
   ],
   "source": [
    "gdf_ai_generated.columns"
   ]
  },
  {
   "cell_type": "code",
   "execution_count": 7,
   "id": "255a0698",
   "metadata": {},
   "outputs": [],
   "source": [
    "# # Create the map centered on the USA\n",
    "# m = folium.Map(location=[39.8283, -98.5795], zoom_start=4, tiles=\"CartoDB positron\")\n",
    "\n",
    "# # Add a title\n",
    "# title_html = \"\"\"\n",
    "#     <div style=\"position: fixed; \n",
    "#                 top: 10px; left: 50%; transform: translateX(-50%);\n",
    "#                 z-index: 9999; font-size: 18px; font-family: Arial, sans-serif; \n",
    "#                 background-color: rgba(255, 255, 255, 0.8); \n",
    "#                 padding: 10px; border-radius: 5px; \n",
    "#                 box-shadow: 0 0 15px rgba(0, 0, 0, 0.2);\">\n",
    "#         <b>Market Overviews</b>\n",
    "#     </div>\n",
    "# \"\"\"\n",
    "# m.get_root().html.add_child(Element(title_html))\n",
    "\n",
    "# # Function to style popups\n",
    "# def create_popup(city, summary, link):\n",
    "#     html = f\"\"\"\n",
    "#     <div style=\"width: 300px; max-height: 200px; overflow-y: auto; font-family: Arial, sans-serif; padding-right: 10px; padding-left: 10px; padding-bottom: 10px;\">\n",
    "#         <h4 style=\"margin-bottom: 5px; font-size: 16px; font-weight: bold; text-align: center;\">\n",
    "#             {city}\n",
    "#         </h4>\n",
    "#         <p style=\"margin: 0; font-size: 12px; font-style: italic; text-align: center; color: #555;\">\n",
    "#             From Fed Beige Book, October 2024\n",
    "#         </p>\n",
    "#         <hr style=\"margin-top: 5px; margin-bottom: 10px; border: none; border-top: 1px solid #ccc;\">\n",
    "#         <p style=\"font-size: 14px; line-height: 1.4; text-align: justify; margin-top: 10px;\">\n",
    "#             {summary}\n",
    "#         </p>\n",
    "#         <a href=\"{link}\" target=\"_blank\">Source</a>\n",
    "#     </div>\n",
    "#     \"\"\"\n",
    "#     return Popup(html, max_width=350)\n",
    "\n",
    "\n",
    "# # Add pins for each city\n",
    "# for _, row in df.iterrows():\n",
    "#     folium.Marker(\n",
    "#         location=[float(coord) for coord in row['Coordinates'].split(',')],\n",
    "#         popup=create_popup(row['City'], row['Real Estate Summary'], row['Link']),\n",
    "#         icon=folium.Icon(color=\"blue\", icon=\"info-sign\"),\n",
    "#     ).add_to(m)\n",
    "\n",
    "# # Save the map\n",
    "# map_output = 'index.html'\n",
    "# m.save(map_output)\n",
    "\n",
    "# print(f\"Map saved as {map_output}\")\n",
    "\n",
    "# m"
   ]
  },
  {
   "cell_type": "markdown",
   "id": "0fd45018",
   "metadata": {},
   "source": [
    "## Map URL Snagger"
   ]
  },
  {
   "cell_type": "code",
   "execution_count": 8,
   "id": "15cc5d39",
   "metadata": {},
   "outputs": [
    {
     "name": "stdout",
     "output_type": "stream",
     "text": [
      "https://trd-digital.github.io/trd-news-interactive-maps/BeigeBook\n"
     ]
    }
   ],
   "source": [
    "\n",
    "base_name = 'https://trd-digital.github.io/trd-news-interactive-maps/'\n",
    "\n",
    "cwd = os.getcwd()\n",
    "\n",
    "cwd = cwd.split('/')\n",
    "\n",
    "final_name = base_name + cwd[-1]\n",
    "print(final_name)"
   ]
  }
 ],
 "metadata": {
  "kernelspec": {
   "display_name": "Python 3 (ipykernel)",
   "language": "python",
   "name": "python3"
  },
  "language_info": {
   "codemirror_mode": {
    "name": "ipython",
    "version": 3
   },
   "file_extension": ".py",
   "mimetype": "text/x-python",
   "name": "python",
   "nbconvert_exporter": "python",
   "pygments_lexer": "ipython3",
   "version": "3.9.12"
  }
 },
 "nbformat": 4,
 "nbformat_minor": 5
}
