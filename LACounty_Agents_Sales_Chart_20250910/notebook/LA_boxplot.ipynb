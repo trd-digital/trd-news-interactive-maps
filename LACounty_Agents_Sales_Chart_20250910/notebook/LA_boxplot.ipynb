{
 "cells": [
  {
   "cell_type": "code",
   "execution_count": 1,
   "id": "2bc2f3e6",
   "metadata": {},
   "outputs": [],
   "source": [
    "# pip install pandas matplotlib plotly numpy, dash"
   ]
  },
  {
   "cell_type": "code",
   "execution_count": 2,
   "id": "9693aed3",
   "metadata": {},
   "outputs": [],
   "source": [
    "# pip install --upgrade nbformat"
   ]
  },
  {
   "cell_type": "code",
   "execution_count": 3,
   "id": "79124a78",
   "metadata": {},
   "outputs": [
    {
     "data": {
      "application/vnd.plotly.v1+json": {
       "config": {
        "plotlyServerURL": "https://plot.ly"
       },
       "data": [
        {
         "alignmentgroup": "True",
         "hovertemplate": "total_bill=%{y}<extra></extra>",
         "legendgroup": "",
         "marker": {
          "color": "#636efa"
         },
         "name": "",
         "notched": false,
         "offsetgroup": "",
         "orientation": "v",
         "showlegend": false,
         "type": "box",
         "x0": " ",
         "xaxis": "x",
         "y": {
          "bdata": "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",
          "dtype": "f8"
         },
         "y0": " ",
         "yaxis": "y"
        }
       ],
       "layout": {
        "boxmode": "group",
        "legend": {
         "tracegroupgap": 0
        },
        "margin": {
         "t": 60
        },
        "template": {
         "data": {
          "bar": [
           {
            "error_x": {
             "color": "#2a3f5f"
            },
            "error_y": {
             "color": "#2a3f5f"
            },
            "marker": {
             "line": {
              "color": "#E5ECF6",
              "width": 0.5
             },
             "pattern": {
              "fillmode": "overlay",
              "size": 10,
              "solidity": 0.2
             }
            },
            "type": "bar"
           }
          ],
          "barpolar": [
           {
            "marker": {
             "line": {
              "color": "#E5ECF6",
              "width": 0.5
             },
             "pattern": {
              "fillmode": "overlay",
              "size": 10,
              "solidity": 0.2
             }
            },
            "type": "barpolar"
           }
          ],
          "carpet": [
           {
            "aaxis": {
             "endlinecolor": "#2a3f5f",
             "gridcolor": "white",
             "linecolor": "white",
             "minorgridcolor": "white",
             "startlinecolor": "#2a3f5f"
            },
            "baxis": {
             "endlinecolor": "#2a3f5f",
             "gridcolor": "white",
             "linecolor": "white",
             "minorgridcolor": "white",
             "startlinecolor": "#2a3f5f"
            },
            "type": "carpet"
           }
          ],
          "choropleth": [
           {
            "colorbar": {
             "outlinewidth": 0,
             "ticks": ""
            },
            "type": "choropleth"
           }
          ],
          "contour": [
           {
            "colorbar": {
             "outlinewidth": 0,
             "ticks": ""
            },
            "colorscale": [
             [
              0,
              "#0d0887"
             ],
             [
              0.1111111111111111,
              "#46039f"
             ],
             [
              0.2222222222222222,
              "#7201a8"
             ],
             [
              0.3333333333333333,
              "#9c179e"
             ],
             [
              0.4444444444444444,
              "#bd3786"
             ],
             [
              0.5555555555555556,
              "#d8576b"
             ],
             [
              0.6666666666666666,
              "#ed7953"
             ],
             [
              0.7777777777777778,
              "#fb9f3a"
             ],
             [
              0.8888888888888888,
              "#fdca26"
             ],
             [
              1,
              "#f0f921"
             ]
            ],
            "type": "contour"
           }
          ],
          "contourcarpet": [
           {
            "colorbar": {
             "outlinewidth": 0,
             "ticks": ""
            },
            "type": "contourcarpet"
           }
          ],
          "heatmap": [
           {
            "colorbar": {
             "outlinewidth": 0,
             "ticks": ""
            },
            "colorscale": [
             [
              0,
              "#0d0887"
             ],
             [
              0.1111111111111111,
              "#46039f"
             ],
             [
              0.2222222222222222,
              "#7201a8"
             ],
             [
              0.3333333333333333,
              "#9c179e"
             ],
             [
              0.4444444444444444,
              "#bd3786"
             ],
             [
              0.5555555555555556,
              "#d8576b"
             ],
             [
              0.6666666666666666,
              "#ed7953"
             ],
             [
              0.7777777777777778,
              "#fb9f3a"
             ],
             [
              0.8888888888888888,
              "#fdca26"
             ],
             [
              1,
              "#f0f921"
             ]
            ],
            "type": "heatmap"
           }
          ],
          "histogram": [
           {
            "marker": {
             "pattern": {
              "fillmode": "overlay",
              "size": 10,
              "solidity": 0.2
             }
            },
            "type": "histogram"
           }
          ],
          "histogram2d": [
           {
            "colorbar": {
             "outlinewidth": 0,
             "ticks": ""
            },
            "colorscale": [
             [
              0,
              "#0d0887"
             ],
             [
              0.1111111111111111,
              "#46039f"
             ],
             [
              0.2222222222222222,
              "#7201a8"
             ],
             [
              0.3333333333333333,
              "#9c179e"
             ],
             [
              0.4444444444444444,
              "#bd3786"
             ],
             [
              0.5555555555555556,
              "#d8576b"
             ],
             [
              0.6666666666666666,
              "#ed7953"
             ],
             [
              0.7777777777777778,
              "#fb9f3a"
             ],
             [
              0.8888888888888888,
              "#fdca26"
             ],
             [
              1,
              "#f0f921"
             ]
            ],
            "type": "histogram2d"
           }
          ],
          "histogram2dcontour": [
           {
            "colorbar": {
             "outlinewidth": 0,
             "ticks": ""
            },
            "colorscale": [
             [
              0,
              "#0d0887"
             ],
             [
              0.1111111111111111,
              "#46039f"
             ],
             [
              0.2222222222222222,
              "#7201a8"
             ],
             [
              0.3333333333333333,
              "#9c179e"
             ],
             [
              0.4444444444444444,
              "#bd3786"
             ],
             [
              0.5555555555555556,
              "#d8576b"
             ],
             [
              0.6666666666666666,
              "#ed7953"
             ],
             [
              0.7777777777777778,
              "#fb9f3a"
             ],
             [
              0.8888888888888888,
              "#fdca26"
             ],
             [
              1,
              "#f0f921"
             ]
            ],
            "type": "histogram2dcontour"
           }
          ],
          "mesh3d": [
           {
            "colorbar": {
             "outlinewidth": 0,
             "ticks": ""
            },
            "type": "mesh3d"
           }
          ],
          "parcoords": [
           {
            "line": {
             "colorbar": {
              "outlinewidth": 0,
              "ticks": ""
             }
            },
            "type": "parcoords"
           }
          ],
          "pie": [
           {
            "automargin": true,
            "type": "pie"
           }
          ],
          "scatter": [
           {
            "fillpattern": {
             "fillmode": "overlay",
             "size": 10,
             "solidity": 0.2
            },
            "type": "scatter"
           }
          ],
          "scatter3d": [
           {
            "line": {
             "colorbar": {
              "outlinewidth": 0,
              "ticks": ""
             }
            },
            "marker": {
             "colorbar": {
              "outlinewidth": 0,
              "ticks": ""
             }
            },
            "type": "scatter3d"
           }
          ],
          "scattercarpet": [
           {
            "marker": {
             "colorbar": {
              "outlinewidth": 0,
              "ticks": ""
             }
            },
            "type": "scattercarpet"
           }
          ],
          "scattergeo": [
           {
            "marker": {
             "colorbar": {
              "outlinewidth": 0,
              "ticks": ""
             }
            },
            "type": "scattergeo"
           }
          ],
          "scattergl": [
           {
            "marker": {
             "colorbar": {
              "outlinewidth": 0,
              "ticks": ""
             }
            },
            "type": "scattergl"
           }
          ],
          "scattermap": [
           {
            "marker": {
             "colorbar": {
              "outlinewidth": 0,
              "ticks": ""
             }
            },
            "type": "scattermap"
           }
          ],
          "scattermapbox": [
           {
            "marker": {
             "colorbar": {
              "outlinewidth": 0,
              "ticks": ""
             }
            },
            "type": "scattermapbox"
           }
          ],
          "scatterpolar": [
           {
            "marker": {
             "colorbar": {
              "outlinewidth": 0,
              "ticks": ""
             }
            },
            "type": "scatterpolar"
           }
          ],
          "scatterpolargl": [
           {
            "marker": {
             "colorbar": {
              "outlinewidth": 0,
              "ticks": ""
             }
            },
            "type": "scatterpolargl"
           }
          ],
          "scatterternary": [
           {
            "marker": {
             "colorbar": {
              "outlinewidth": 0,
              "ticks": ""
             }
            },
            "type": "scatterternary"
           }
          ],
          "surface": [
           {
            "colorbar": {
             "outlinewidth": 0,
             "ticks": ""
            },
            "colorscale": [
             [
              0,
              "#0d0887"
             ],
             [
              0.1111111111111111,
              "#46039f"
             ],
             [
              0.2222222222222222,
              "#7201a8"
             ],
             [
              0.3333333333333333,
              "#9c179e"
             ],
             [
              0.4444444444444444,
              "#bd3786"
             ],
             [
              0.5555555555555556,
              "#d8576b"
             ],
             [
              0.6666666666666666,
              "#ed7953"
             ],
             [
              0.7777777777777778,
              "#fb9f3a"
             ],
             [
              0.8888888888888888,
              "#fdca26"
             ],
             [
              1,
              "#f0f921"
             ]
            ],
            "type": "surface"
           }
          ],
          "table": [
           {
            "cells": {
             "fill": {
              "color": "#EBF0F8"
             },
             "line": {
              "color": "white"
             }
            },
            "header": {
             "fill": {
              "color": "#C8D4E3"
             },
             "line": {
              "color": "white"
             }
            },
            "type": "table"
           }
          ]
         },
         "layout": {
          "annotationdefaults": {
           "arrowcolor": "#2a3f5f",
           "arrowhead": 0,
           "arrowwidth": 1
          },
          "autotypenumbers": "strict",
          "coloraxis": {
           "colorbar": {
            "outlinewidth": 0,
            "ticks": ""
           }
          },
          "colorscale": {
           "diverging": [
            [
             0,
             "#8e0152"
            ],
            [
             0.1,
             "#c51b7d"
            ],
            [
             0.2,
             "#de77ae"
            ],
            [
             0.3,
             "#f1b6da"
            ],
            [
             0.4,
             "#fde0ef"
            ],
            [
             0.5,
             "#f7f7f7"
            ],
            [
             0.6,
             "#e6f5d0"
            ],
            [
             0.7,
             "#b8e186"
            ],
            [
             0.8,
             "#7fbc41"
            ],
            [
             0.9,
             "#4d9221"
            ],
            [
             1,
             "#276419"
            ]
           ],
           "sequential": [
            [
             0,
             "#0d0887"
            ],
            [
             0.1111111111111111,
             "#46039f"
            ],
            [
             0.2222222222222222,
             "#7201a8"
            ],
            [
             0.3333333333333333,
             "#9c179e"
            ],
            [
             0.4444444444444444,
             "#bd3786"
            ],
            [
             0.5555555555555556,
             "#d8576b"
            ],
            [
             0.6666666666666666,
             "#ed7953"
            ],
            [
             0.7777777777777778,
             "#fb9f3a"
            ],
            [
             0.8888888888888888,
             "#fdca26"
            ],
            [
             1,
             "#f0f921"
            ]
           ],
           "sequentialminus": [
            [
             0,
             "#0d0887"
            ],
            [
             0.1111111111111111,
             "#46039f"
            ],
            [
             0.2222222222222222,
             "#7201a8"
            ],
            [
             0.3333333333333333,
             "#9c179e"
            ],
            [
             0.4444444444444444,
             "#bd3786"
            ],
            [
             0.5555555555555556,
             "#d8576b"
            ],
            [
             0.6666666666666666,
             "#ed7953"
            ],
            [
             0.7777777777777778,
             "#fb9f3a"
            ],
            [
             0.8888888888888888,
             "#fdca26"
            ],
            [
             1,
             "#f0f921"
            ]
           ]
          },
          "colorway": [
           "#636efa",
           "#EF553B",
           "#00cc96",
           "#ab63fa",
           "#FFA15A",
           "#19d3f3",
           "#FF6692",
           "#B6E880",
           "#FF97FF",
           "#FECB52"
          ],
          "font": {
           "color": "#2a3f5f"
          },
          "geo": {
           "bgcolor": "white",
           "lakecolor": "white",
           "landcolor": "#E5ECF6",
           "showlakes": true,
           "showland": true,
           "subunitcolor": "white"
          },
          "hoverlabel": {
           "align": "left"
          },
          "hovermode": "closest",
          "mapbox": {
           "style": "light"
          },
          "paper_bgcolor": "white",
          "plot_bgcolor": "#E5ECF6",
          "polar": {
           "angularaxis": {
            "gridcolor": "white",
            "linecolor": "white",
            "ticks": ""
           },
           "bgcolor": "#E5ECF6",
           "radialaxis": {
            "gridcolor": "white",
            "linecolor": "white",
            "ticks": ""
           }
          },
          "scene": {
           "xaxis": {
            "backgroundcolor": "#E5ECF6",
            "gridcolor": "white",
            "gridwidth": 2,
            "linecolor": "white",
            "showbackground": true,
            "ticks": "",
            "zerolinecolor": "white"
           },
           "yaxis": {
            "backgroundcolor": "#E5ECF6",
            "gridcolor": "white",
            "gridwidth": 2,
            "linecolor": "white",
            "showbackground": true,
            "ticks": "",
            "zerolinecolor": "white"
           },
           "zaxis": {
            "backgroundcolor": "#E5ECF6",
            "gridcolor": "white",
            "gridwidth": 2,
            "linecolor": "white",
            "showbackground": true,
            "ticks": "",
            "zerolinecolor": "white"
           }
          },
          "shapedefaults": {
           "line": {
            "color": "#2a3f5f"
           }
          },
          "ternary": {
           "aaxis": {
            "gridcolor": "white",
            "linecolor": "white",
            "ticks": ""
           },
           "baxis": {
            "gridcolor": "white",
            "linecolor": "white",
            "ticks": ""
           },
           "bgcolor": "#E5ECF6",
           "caxis": {
            "gridcolor": "white",
            "linecolor": "white",
            "ticks": ""
           }
          },
          "title": {
           "x": 0.05
          },
          "xaxis": {
           "automargin": true,
           "gridcolor": "white",
           "linecolor": "white",
           "ticks": "",
           "title": {
            "standoff": 15
           },
           "zerolinecolor": "white",
           "zerolinewidth": 2
          },
          "yaxis": {
           "automargin": true,
           "gridcolor": "white",
           "linecolor": "white",
           "ticks": "",
           "title": {
            "standoff": 15
           },
           "zerolinecolor": "white",
           "zerolinewidth": 2
          }
         }
        },
        "xaxis": {
         "anchor": "y",
         "domain": [
          0,
          1
         ]
        },
        "yaxis": {
         "anchor": "x",
         "domain": [
          0,
          1
         ],
         "title": {
          "text": "total_bill"
         }
        }
       }
      }
     },
     "metadata": {},
     "output_type": "display_data"
    }
   ],
   "source": [
    "# test library\n",
    "import plotly.express as px\n",
    "df = px.data.tips()\n",
    "fig = px.box(df, y=\"total_bill\")\n",
    "fig.show()"
   ]
  },
  {
   "cell_type": "code",
   "execution_count": 4,
   "id": "0b0a5531",
   "metadata": {},
   "outputs": [],
   "source": [
    "# install dash libraries\n",
    "from dash import Dash, dcc, html, Input, Output"
   ]
  },
  {
   "cell_type": "code",
   "execution_count": 5,
   "id": "de838db5",
   "metadata": {},
   "outputs": [],
   "source": [
    "import pandas as pd\n",
    "from os import path"
   ]
  },
  {
   "cell_type": "code",
   "execution_count": 6,
   "id": "7126f94d",
   "metadata": {},
   "outputs": [
    {
     "name": "stdout",
     "output_type": "stream",
     "text": [
      "<class 'pandas.core.frame.DataFrame'>\n",
      "RangeIndex: 47178 entries, 0 to 47177\n",
      "Data columns (total 21 columns):\n",
      " #   Column            Non-Null Count  Dtype  \n",
      "---  ------            --------------  -----  \n",
      " 0   UniqueID          47178 non-null  object \n",
      " 1   mlsId             47178 non-null  object \n",
      " 2   address           47178 non-null  object \n",
      " 3   city              47097 non-null  object \n",
      " 4   price_amount      47178 non-null  object \n",
      " 5   Side              47178 non-null  object \n",
      " 6   Final_Agent       46777 non-null  object \n",
      " 7   url               45077 non-null  object \n",
      " 8   TRD_note          2137 non-null   object \n",
      " 9   brokerage_name_1  47012 non-null  object \n",
      " 10  brokerage_name_2  17290 non-null  object \n",
      " 11  zip               45077 non-null  float64\n",
      " 12  agent_name        45077 non-null  object \n",
      " 13  agent_no.         45077 non-null  object \n",
      " 14  beds              45064 non-null  float64\n",
      " 15  baths             45034 non-null  float64\n",
      " 16  sqft_amount       44829 non-null  object \n",
      " 17  latitude          45077 non-null  float64\n",
      " 18  longitude         45077 non-null  float64\n",
      " 19  propertyId        45077 non-null  float64\n",
      " 20  listingId         45077 non-null  float64\n",
      "dtypes: float64(7), object(14)\n",
      "memory usage: 7.6+ MB\n"
     ]
    }
   ],
   "source": [
    "DATA_DIR = '/Users/josephjungermann/Documents/the_real_deal/20250903_LAPlotlyViz/data'\n",
    "agents_df = pd.read_csv(path.join(DATA_DIR, '2025_LosAngeles_County_Agent_Data.csv'), low_memory=False)\n",
    "agents_df.info()"
   ]
  },
  {
   "cell_type": "code",
   "execution_count": 7,
   "id": "540225ee",
   "metadata": {},
   "outputs": [],
   "source": [
    "# change the price amount into an int column\n",
    "agents_df[\"price_amount\"] = (\n",
    "    agents_df[\"price_amount\"]\n",
    "    .astype(str)\n",
    "    .str.replace(r\"[\\$,]\", \"\", regex=True)\n",
    "    .astype(float)\n",
    "    .astype(int)\n",
    ")"
   ]
  },
  {
   "cell_type": "code",
   "execution_count": 8,
   "id": "f31b313e",
   "metadata": {},
   "outputs": [],
   "source": [
    "# Remove \"subscriber non\" from top 10\n",
    "agents_df = agents_df[agents_df[\"Final_Agent\"] != \"SUBSCRIBER NON\"]"
   ]
  },
  {
   "cell_type": "markdown",
   "id": "30a8dfb2",
   "metadata": {},
   "source": [
    "## Plotly Graph"
   ]
  },
  {
   "cell_type": "code",
   "execution_count": null,
   "id": "a294ff2b",
   "metadata": {},
   "outputs": [
    {
     "data": {
      "application/vnd.plotly.v1+json": {
       "config": {
        "plotlyServerURL": "https://plot.ly"
       },
       "data": [
        {
         "alignmentgroup": "True",
         "boxpoints": "all",
         "hovertemplate": "Final_Agent=%{x}<br>price_amount=%{y}<extra></extra>",
         "legendgroup": "",
         "marker": {
          "color": "#636efa"
         },
         "name": "",
         "notched": false,
         "offsetgroup": "",
         "orientation": "v",
         "showlegend": false,
         "type": "box",
         "x": [
          "THE ALTMAN BROTHERS TEAM",
          "THE ALTMAN BROTHERS TEAM",
          "AARON KIRMAN GROUP",
          "AARON KIRMAN GROUP",
          "CHRIS CORTAZZO",
          "CHRIS CORTAZZO",
          "AARON KIRMAN GROUP",
          "THE ALTMAN BROTHERS TEAM",
          "WILLIAMS & WILLIAMS ESTATE GROUP",
          "WILLIAMS & WILLIAMS ESTATE GROUP",
          "WILLIAMS & WILLIAMS ESTATE GROUP",
          "SMITH & BERG PARTNERS",
          "SALLY FORSTER JONES GROUP",
          "THE ALTMAN BROTHERS TEAM",
          "AARON KIRMAN GROUP",
          "SALLY FORSTER JONES GROUP",
          "WILLIAMS & WILLIAMS ESTATE GROUP",
          "BOND STREET PARTNERS",
          "WILLIAMS & WILLIAMS ESTATE GROUP",
          "SALLY FORSTER JONES GROUP",
          "SALLY FORSTER JONES GROUP",
          "SALLY FORSTER JONES GROUP",
          "WILLIAMS & WILLIAMS ESTATE GROUP",
          "WILLIAMS & WILLIAMS ESTATE GROUP",
          "WILLIAMS & WILLIAMS ESTATE GROUP",
          "THE STEPHANIE YOUNGER GROUP",
          "CHRIS CORTAZZO",
          "AARON KIRMAN GROUP",
          "WILLIAMS & WILLIAMS ESTATE GROUP",
          "KURT RAPPAPORT",
          "THE ALTMAN BROTHERS TEAM",
          "WILLIAMS & WILLIAMS ESTATE GROUP",
          "AARON KIRMAN GROUP",
          "THE STEPHANIE YOUNGER GROUP",
          "THE STEPHANIE YOUNGER GROUP",
          "AARON KIRMAN GROUP",
          "WILLIAMS & WILLIAMS ESTATE GROUP",
          "WILLIAMS & WILLIAMS ESTATE GROUP",
          "AARON KIRMAN GROUP",
          "WILLIAMS & WILLIAMS ESTATE GROUP",
          "THE STEPHANIE YOUNGER GROUP",
          "THE ALTMAN BROTHERS TEAM",
          "THE ALTMAN BROTHERS TEAM",
          "WILLIAMS & WILLIAMS ESTATE GROUP",
          "AARON KIRMAN GROUP",
          "AARON KIRMAN GROUP",
          "AARON KIRMAN GROUP",
          "SMITH & BERG PARTNERS",
          "THE STEPHANIE YOUNGER GROUP",
          "AARON KIRMAN GROUP",
          "CHRIS CORTAZZO",
          "KURT RAPPAPORT",
          "WILLIAMS & WILLIAMS ESTATE GROUP",
          "DREW FENTON",
          "DREW FENTON",
          "DREW FENTON",
          "WILLIAMS & WILLIAMS ESTATE GROUP",
          "THE STEPHANIE YOUNGER GROUP",
          "AARON KIRMAN GROUP",
          "CHRIS CORTAZZO",
          "THE ALTMAN BROTHERS TEAM",
          "THE STEPHANIE YOUNGER GROUP",
          "WILLIAMS & WILLIAMS ESTATE GROUP",
          "KURT RAPPAPORT",
          "WILLIAMS & WILLIAMS ESTATE GROUP",
          "WILLIAMS & WILLIAMS ESTATE GROUP",
          "SMITH & BERG PARTNERS",
          "AARON KIRMAN GROUP",
          "THE STEPHANIE YOUNGER GROUP",
          "AARON KIRMAN GROUP",
          "AARON KIRMAN GROUP",
          "WILLIAMS & WILLIAMS ESTATE GROUP",
          "SMITH & BERG PARTNERS",
          "THE ALTMAN BROTHERS TEAM",
          "AARON KIRMAN GROUP",
          "AARON KIRMAN GROUP",
          "THE STEPHANIE YOUNGER GROUP",
          "THE STEPHANIE YOUNGER GROUP",
          "THE ALTMAN BROTHERS TEAM",
          "DREW FENTON",
          "WILLIAMS & WILLIAMS ESTATE GROUP",
          "WILLIAMS & WILLIAMS ESTATE GROUP",
          "THE STEPHANIE YOUNGER GROUP",
          "AARON KIRMAN GROUP",
          "SMITH & BERG PARTNERS",
          "AARON KIRMAN GROUP",
          "THE ALTMAN BROTHERS TEAM",
          "AARON KIRMAN GROUP",
          "THE ALTMAN BROTHERS TEAM",
          "BOND STREET PARTNERS",
          "THE STEPHANIE YOUNGER GROUP",
          "SMITH & BERG PARTNERS",
          "THE STEPHANIE YOUNGER GROUP",
          "THE STEPHANIE YOUNGER GROUP",
          "WILLIAMS & WILLIAMS ESTATE GROUP",
          "THE STEPHANIE YOUNGER GROUP",
          "SALLY FORSTER JONES GROUP",
          "SMITH & BERG PARTNERS",
          "DREW FENTON",
          "THE STEPHANIE YOUNGER GROUP",
          "AARON KIRMAN GROUP",
          "WILLIAMS & WILLIAMS ESTATE GROUP",
          "SMITH & BERG PARTNERS",
          "THE ALTMAN BROTHERS TEAM",
          "AARON KIRMAN GROUP",
          "THE ALTMAN BROTHERS TEAM",
          "CHRIS CORTAZZO",
          "WILLIAMS & WILLIAMS ESTATE GROUP",
          "SMITH & BERG PARTNERS",
          "SALLY FORSTER JONES GROUP",
          "SALLY FORSTER JONES GROUP",
          "KURT RAPPAPORT",
          "WILLIAMS & WILLIAMS ESTATE GROUP",
          "AARON KIRMAN GROUP",
          "AARON KIRMAN GROUP",
          "AARON KIRMAN GROUP",
          "AARON KIRMAN GROUP",
          "AARON KIRMAN GROUP",
          "BOND STREET PARTNERS",
          "WILLIAMS & WILLIAMS ESTATE GROUP",
          "BOND STREET PARTNERS",
          "WILLIAMS & WILLIAMS ESTATE GROUP",
          "WILLIAMS & WILLIAMS ESTATE GROUP",
          "THE STEPHANIE YOUNGER GROUP",
          "WILLIAMS & WILLIAMS ESTATE GROUP",
          "WILLIAMS & WILLIAMS ESTATE GROUP",
          "SMITH & BERG PARTNERS",
          "SMITH & BERG PARTNERS",
          "WILLIAMS & WILLIAMS ESTATE GROUP",
          "WILLIAMS & WILLIAMS ESTATE GROUP",
          "AARON KIRMAN GROUP",
          "WILLIAMS & WILLIAMS ESTATE GROUP",
          "BOND STREET PARTNERS",
          "THE STEPHANIE YOUNGER GROUP",
          "SMITH & BERG PARTNERS",
          "THE STEPHANIE YOUNGER GROUP",
          "THE STEPHANIE YOUNGER GROUP",
          "THE STEPHANIE YOUNGER GROUP",
          "WILLIAMS & WILLIAMS ESTATE GROUP",
          "AARON KIRMAN GROUP",
          "THE ALTMAN BROTHERS TEAM",
          "AARON KIRMAN GROUP",
          "AARON KIRMAN GROUP",
          "THE STEPHANIE YOUNGER GROUP",
          "THE STEPHANIE YOUNGER GROUP",
          "THE STEPHANIE YOUNGER GROUP",
          "THE STEPHANIE YOUNGER GROUP",
          "AARON KIRMAN GROUP",
          "WILLIAMS & WILLIAMS ESTATE GROUP",
          "CHRIS CORTAZZO",
          "WILLIAMS & WILLIAMS ESTATE GROUP",
          "WILLIAMS & WILLIAMS ESTATE GROUP",
          "THE STEPHANIE YOUNGER GROUP",
          "AARON KIRMAN GROUP",
          "THE ALTMAN BROTHERS TEAM",
          "SMITH & BERG PARTNERS",
          "SMITH & BERG PARTNERS",
          "AARON KIRMAN GROUP",
          "AARON KIRMAN GROUP",
          "CHRIS CORTAZZO",
          "SMITH & BERG PARTNERS",
          "AARON KIRMAN GROUP",
          "THE ALTMAN BROTHERS TEAM",
          "KURT RAPPAPORT",
          "KURT RAPPAPORT",
          "THE STEPHANIE YOUNGER GROUP",
          "AARON KIRMAN GROUP",
          "BOND STREET PARTNERS",
          "SMITH & BERG PARTNERS",
          "SMITH & BERG PARTNERS",
          "AARON KIRMAN GROUP",
          "SALLY FORSTER JONES GROUP",
          "THE STEPHANIE YOUNGER GROUP",
          "AARON KIRMAN GROUP",
          "WILLIAMS & WILLIAMS ESTATE GROUP",
          "WILLIAMS & WILLIAMS ESTATE GROUP",
          "AARON KIRMAN GROUP",
          "BOND STREET PARTNERS",
          "THE ALTMAN BROTHERS TEAM",
          "WILLIAMS & WILLIAMS ESTATE GROUP",
          "AARON KIRMAN GROUP",
          "CHRIS CORTAZZO",
          "SALLY FORSTER JONES GROUP",
          "THE STEPHANIE YOUNGER GROUP",
          "AARON KIRMAN GROUP",
          "DREW FENTON",
          "AARON KIRMAN GROUP",
          "AARON KIRMAN GROUP",
          "CHRIS CORTAZZO",
          "THE STEPHANIE YOUNGER GROUP",
          "WILLIAMS & WILLIAMS ESTATE GROUP",
          "WILLIAMS & WILLIAMS ESTATE GROUP",
          "WILLIAMS & WILLIAMS ESTATE GROUP",
          "THE STEPHANIE YOUNGER GROUP",
          "AARON KIRMAN GROUP",
          "DREW FENTON",
          "WILLIAMS & WILLIAMS ESTATE GROUP",
          "THE STEPHANIE YOUNGER GROUP",
          "WILLIAMS & WILLIAMS ESTATE GROUP",
          "AARON KIRMAN GROUP",
          "WILLIAMS & WILLIAMS ESTATE GROUP",
          "WILLIAMS & WILLIAMS ESTATE GROUP",
          "AARON KIRMAN GROUP",
          "THE ALTMAN BROTHERS TEAM",
          "WILLIAMS & WILLIAMS ESTATE GROUP",
          "THE STEPHANIE YOUNGER GROUP",
          "SALLY FORSTER JONES GROUP",
          "THE STEPHANIE YOUNGER GROUP",
          "THE STEPHANIE YOUNGER GROUP",
          "THE STEPHANIE YOUNGER GROUP",
          "BOND STREET PARTNERS",
          "BOND STREET PARTNERS",
          "BOND STREET PARTNERS",
          "BOND STREET PARTNERS",
          "WILLIAMS & WILLIAMS ESTATE GROUP",
          "THE STEPHANIE YOUNGER GROUP",
          "THE STEPHANIE YOUNGER GROUP",
          "THE STEPHANIE YOUNGER GROUP",
          "WILLIAMS & WILLIAMS ESTATE GROUP",
          "WILLIAMS & WILLIAMS ESTATE GROUP",
          "WILLIAMS & WILLIAMS ESTATE GROUP",
          "DREW FENTON",
          "WILLIAMS & WILLIAMS ESTATE GROUP",
          "WILLIAMS & WILLIAMS ESTATE GROUP",
          "AARON KIRMAN GROUP",
          "SALLY FORSTER JONES GROUP",
          "SALLY FORSTER JONES GROUP",
          "SMITH & BERG PARTNERS",
          "AARON KIRMAN GROUP",
          "SALLY FORSTER JONES GROUP",
          "CHRIS CORTAZZO",
          "THE ALTMAN BROTHERS TEAM",
          "CHRIS CORTAZZO",
          "THE STEPHANIE YOUNGER GROUP",
          "THE STEPHANIE YOUNGER GROUP",
          "DREW FENTON",
          "SALLY FORSTER JONES GROUP",
          "THE STEPHANIE YOUNGER GROUP",
          "THE STEPHANIE YOUNGER GROUP",
          "THE STEPHANIE YOUNGER GROUP",
          "WILLIAMS & WILLIAMS ESTATE GROUP",
          "WILLIAMS & WILLIAMS ESTATE GROUP",
          "WILLIAMS & WILLIAMS ESTATE GROUP",
          "AARON KIRMAN GROUP",
          "DREW FENTON",
          "DREW FENTON",
          "KURT RAPPAPORT",
          "WILLIAMS & WILLIAMS ESTATE GROUP",
          "KURT RAPPAPORT",
          "WILLIAMS & WILLIAMS ESTATE GROUP",
          "WILLIAMS & WILLIAMS ESTATE GROUP",
          "THE STEPHANIE YOUNGER GROUP",
          "THE ALTMAN BROTHERS TEAM",
          "WILLIAMS & WILLIAMS ESTATE GROUP",
          "CHRIS CORTAZZO",
          "SMITH & BERG PARTNERS",
          "AARON KIRMAN GROUP",
          "THE ALTMAN BROTHERS TEAM",
          "WILLIAMS & WILLIAMS ESTATE GROUP",
          "SMITH & BERG PARTNERS",
          "SMITH & BERG PARTNERS",
          "SMITH & BERG PARTNERS",
          "SMITH & BERG PARTNERS",
          "AARON KIRMAN GROUP",
          "AARON KIRMAN GROUP",
          "SALLY FORSTER JONES GROUP",
          "THE STEPHANIE YOUNGER GROUP",
          "SMITH & BERG PARTNERS",
          "AARON KIRMAN GROUP",
          "WILLIAMS & WILLIAMS ESTATE GROUP",
          "AARON KIRMAN GROUP",
          "AARON KIRMAN GROUP",
          "AARON KIRMAN GROUP",
          "AARON KIRMAN GROUP",
          "SMITH & BERG PARTNERS",
          "SMITH & BERG PARTNERS",
          "WILLIAMS & WILLIAMS ESTATE GROUP",
          "WILLIAMS & WILLIAMS ESTATE GROUP",
          "AARON KIRMAN GROUP",
          "THE ALTMAN BROTHERS TEAM",
          "WILLIAMS & WILLIAMS ESTATE GROUP",
          "BOND STREET PARTNERS",
          "WILLIAMS & WILLIAMS ESTATE GROUP",
          "CHRIS CORTAZZO",
          "WILLIAMS & WILLIAMS ESTATE GROUP",
          "WILLIAMS & WILLIAMS ESTATE GROUP",
          "THE STEPHANIE YOUNGER GROUP",
          "DREW FENTON",
          "THE ALTMAN BROTHERS TEAM",
          "SALLY FORSTER JONES GROUP",
          "AARON KIRMAN GROUP",
          "WILLIAMS & WILLIAMS ESTATE GROUP",
          "AARON KIRMAN GROUP",
          "THE ALTMAN BROTHERS TEAM",
          "AARON KIRMAN GROUP",
          "SMITH & BERG PARTNERS",
          "THE ALTMAN BROTHERS TEAM",
          "BOND STREET PARTNERS",
          "WILLIAMS & WILLIAMS ESTATE GROUP",
          "WILLIAMS & WILLIAMS ESTATE GROUP",
          "BOND STREET PARTNERS",
          "THE STEPHANIE YOUNGER GROUP",
          "AARON KIRMAN GROUP",
          "WILLIAMS & WILLIAMS ESTATE GROUP",
          "SMITH & BERG PARTNERS",
          "THE ALTMAN BROTHERS TEAM",
          "AARON KIRMAN GROUP",
          "THE STEPHANIE YOUNGER GROUP",
          "THE STEPHANIE YOUNGER GROUP",
          "SALLY FORSTER JONES GROUP",
          "SMITH & BERG PARTNERS",
          "SALLY FORSTER JONES GROUP",
          "SMITH & BERG PARTNERS",
          "BOND STREET PARTNERS",
          "AARON KIRMAN GROUP",
          "WILLIAMS & WILLIAMS ESTATE GROUP",
          "WILLIAMS & WILLIAMS ESTATE GROUP",
          "KURT RAPPAPORT",
          "THE ALTMAN BROTHERS TEAM",
          "WILLIAMS & WILLIAMS ESTATE GROUP",
          "WILLIAMS & WILLIAMS ESTATE GROUP",
          "CHRIS CORTAZZO",
          "AARON KIRMAN GROUP",
          "AARON KIRMAN GROUP",
          "CHRIS CORTAZZO",
          "SMITH & BERG PARTNERS",
          "THE STEPHANIE YOUNGER GROUP",
          "THE STEPHANIE YOUNGER GROUP",
          "THE STEPHANIE YOUNGER GROUP",
          "THE STEPHANIE YOUNGER GROUP",
          "SALLY FORSTER JONES GROUP",
          "SALLY FORSTER JONES GROUP",
          "WILLIAMS & WILLIAMS ESTATE GROUP",
          "AARON KIRMAN GROUP",
          "THE STEPHANIE YOUNGER GROUP",
          "THE STEPHANIE YOUNGER GROUP",
          "SMITH & BERG PARTNERS",
          "WILLIAMS & WILLIAMS ESTATE GROUP",
          "SALLY FORSTER JONES GROUP",
          "THE ALTMAN BROTHERS TEAM",
          "SALLY FORSTER JONES GROUP",
          "THE STEPHANIE YOUNGER GROUP",
          "AARON KIRMAN GROUP",
          "SMITH & BERG PARTNERS",
          "WILLIAMS & WILLIAMS ESTATE GROUP",
          "AARON KIRMAN GROUP",
          "WILLIAMS & WILLIAMS ESTATE GROUP",
          "WILLIAMS & WILLIAMS ESTATE GROUP",
          "WILLIAMS & WILLIAMS ESTATE GROUP",
          "SALLY FORSTER JONES GROUP",
          "AARON KIRMAN GROUP",
          "THE STEPHANIE YOUNGER GROUP",
          "AARON KIRMAN GROUP",
          "THE STEPHANIE YOUNGER GROUP",
          "DREW FENTON",
          "WILLIAMS & WILLIAMS ESTATE GROUP",
          "THE ALTMAN BROTHERS TEAM",
          "SMITH & BERG PARTNERS",
          "WILLIAMS & WILLIAMS ESTATE GROUP",
          "AARON KIRMAN GROUP",
          "AARON KIRMAN GROUP",
          "THE ALTMAN BROTHERS TEAM",
          "AARON KIRMAN GROUP",
          "AARON KIRMAN GROUP",
          "BOND STREET PARTNERS",
          "SMITH & BERG PARTNERS",
          "AARON KIRMAN GROUP",
          "AARON KIRMAN GROUP",
          "WILLIAMS & WILLIAMS ESTATE GROUP",
          "WILLIAMS & WILLIAMS ESTATE GROUP",
          "THE STEPHANIE YOUNGER GROUP",
          "THE ALTMAN BROTHERS TEAM",
          "AARON KIRMAN GROUP",
          "AARON KIRMAN GROUP",
          "WILLIAMS & WILLIAMS ESTATE GROUP",
          "AARON KIRMAN GROUP",
          "WILLIAMS & WILLIAMS ESTATE GROUP",
          "THE STEPHANIE YOUNGER GROUP",
          "THE ALTMAN BROTHERS TEAM",
          "THE ALTMAN BROTHERS TEAM",
          "THE STEPHANIE YOUNGER GROUP",
          "DREW FENTON",
          "THE STEPHANIE YOUNGER GROUP",
          "AARON KIRMAN GROUP",
          "THE ALTMAN BROTHERS TEAM",
          "CHRIS CORTAZZO",
          "THE ALTMAN BROTHERS TEAM",
          "WILLIAMS & WILLIAMS ESTATE GROUP",
          "THE STEPHANIE YOUNGER GROUP",
          "THE STEPHANIE YOUNGER GROUP",
          "WILLIAMS & WILLIAMS ESTATE GROUP",
          "AARON KIRMAN GROUP",
          "THE ALTMAN BROTHERS TEAM",
          "AARON KIRMAN GROUP",
          "THE ALTMAN BROTHERS TEAM",
          "DREW FENTON",
          "AARON KIRMAN GROUP",
          "THE ALTMAN BROTHERS TEAM",
          "SALLY FORSTER JONES GROUP",
          "THE ALTMAN BROTHERS TEAM",
          "WILLIAMS & WILLIAMS ESTATE GROUP",
          "AARON KIRMAN GROUP",
          "THE ALTMAN BROTHERS TEAM",
          "SMITH & BERG PARTNERS",
          "WILLIAMS & WILLIAMS ESTATE GROUP",
          "SALLY FORSTER JONES GROUP",
          "SALLY FORSTER JONES GROUP",
          "CHRIS CORTAZZO",
          "WILLIAMS & WILLIAMS ESTATE GROUP",
          "THE ALTMAN BROTHERS TEAM",
          "WILLIAMS & WILLIAMS ESTATE GROUP",
          "KURT RAPPAPORT",
          "AARON KIRMAN GROUP",
          "AARON KIRMAN GROUP",
          "THE ALTMAN BROTHERS TEAM",
          "THE ALTMAN BROTHERS TEAM",
          "CHRIS CORTAZZO",
          "THE STEPHANIE YOUNGER GROUP",
          "THE ALTMAN BROTHERS TEAM",
          "THE ALTMAN BROTHERS TEAM",
          "THE STEPHANIE YOUNGER GROUP",
          "THE STEPHANIE YOUNGER GROUP",
          "THE STEPHANIE YOUNGER GROUP",
          "AARON KIRMAN GROUP",
          "AARON KIRMAN GROUP",
          "CHRIS CORTAZZO",
          "CHRIS CORTAZZO",
          "SMITH & BERG PARTNERS",
          "THE STEPHANIE YOUNGER GROUP",
          "SMITH & BERG PARTNERS",
          "THE STEPHANIE YOUNGER GROUP",
          "THE STEPHANIE YOUNGER GROUP",
          "AARON KIRMAN GROUP",
          "AARON KIRMAN GROUP",
          "SALLY FORSTER JONES GROUP",
          "WILLIAMS & WILLIAMS ESTATE GROUP",
          "THE ALTMAN BROTHERS TEAM",
          "THE ALTMAN BROTHERS TEAM",
          "THE ALTMAN BROTHERS TEAM",
          "AARON KIRMAN GROUP",
          "BOND STREET PARTNERS",
          "SMITH & BERG PARTNERS",
          "THE ALTMAN BROTHERS TEAM",
          "SMITH & BERG PARTNERS",
          "AARON KIRMAN GROUP",
          "WILLIAMS & WILLIAMS ESTATE GROUP",
          "AARON KIRMAN GROUP",
          "AARON KIRMAN GROUP",
          "SMITH & BERG PARTNERS",
          "THE STEPHANIE YOUNGER GROUP",
          "THE STEPHANIE YOUNGER GROUP",
          "THE STEPHANIE YOUNGER GROUP",
          "THE STEPHANIE YOUNGER GROUP",
          "THE STEPHANIE YOUNGER GROUP",
          "THE ALTMAN BROTHERS TEAM",
          "THE STEPHANIE YOUNGER GROUP",
          "THE ALTMAN BROTHERS TEAM",
          "WILLIAMS & WILLIAMS ESTATE GROUP",
          "AARON KIRMAN GROUP",
          "AARON KIRMAN GROUP",
          "THE STEPHANIE YOUNGER GROUP",
          "THE STEPHANIE YOUNGER GROUP",
          "SMITH & BERG PARTNERS",
          "SALLY FORSTER JONES GROUP",
          "AARON KIRMAN GROUP",
          "THE STEPHANIE YOUNGER GROUP",
          "THE STEPHANIE YOUNGER GROUP",
          "CHRIS CORTAZZO",
          "THE ALTMAN BROTHERS TEAM",
          "WILLIAMS & WILLIAMS ESTATE GROUP",
          "BOND STREET PARTNERS",
          "THE ALTMAN BROTHERS TEAM",
          "SMITH & BERG PARTNERS",
          "SMITH & BERG PARTNERS",
          "AARON KIRMAN GROUP",
          "THE STEPHANIE YOUNGER GROUP",
          "THE ALTMAN BROTHERS TEAM",
          "THE STEPHANIE YOUNGER GROUP",
          "WILLIAMS & WILLIAMS ESTATE GROUP",
          "THE STEPHANIE YOUNGER GROUP",
          "THE STEPHANIE YOUNGER GROUP",
          "SMITH & BERG PARTNERS",
          "THE STEPHANIE YOUNGER GROUP",
          "SMITH & BERG PARTNERS",
          "WILLIAMS & WILLIAMS ESTATE GROUP",
          "BOND STREET PARTNERS",
          "SMITH & BERG PARTNERS",
          "SMITH & BERG PARTNERS",
          "WILLIAMS & WILLIAMS ESTATE GROUP",
          "THE ALTMAN BROTHERS TEAM",
          "SALLY FORSTER JONES GROUP",
          "THE ALTMAN BROTHERS TEAM",
          "WILLIAMS & WILLIAMS ESTATE GROUP",
          "CHRIS CORTAZZO",
          "THE STEPHANIE YOUNGER GROUP",
          "WILLIAMS & WILLIAMS ESTATE GROUP",
          "THE STEPHANIE YOUNGER GROUP",
          "BOND STREET PARTNERS",
          "AARON KIRMAN GROUP",
          "AARON KIRMAN GROUP",
          "THE ALTMAN BROTHERS TEAM",
          "WILLIAMS & WILLIAMS ESTATE GROUP",
          "THE STEPHANIE YOUNGER GROUP",
          "DREW FENTON",
          "WILLIAMS & WILLIAMS ESTATE GROUP",
          "BOND STREET PARTNERS",
          "THE STEPHANIE YOUNGER GROUP",
          "THE STEPHANIE YOUNGER GROUP",
          "AARON KIRMAN GROUP",
          "THE STEPHANIE YOUNGER GROUP",
          "WILLIAMS & WILLIAMS ESTATE GROUP",
          "SMITH & BERG PARTNERS",
          "SALLY FORSTER JONES GROUP",
          "SALLY FORSTER JONES GROUP",
          "AARON KIRMAN GROUP",
          "SALLY FORSTER JONES GROUP",
          "SALLY FORSTER JONES GROUP",
          "WILLIAMS & WILLIAMS ESTATE GROUP",
          "THE STEPHANIE YOUNGER GROUP",
          "AARON KIRMAN GROUP",
          "AARON KIRMAN GROUP",
          "BOND STREET PARTNERS",
          "WILLIAMS & WILLIAMS ESTATE GROUP",
          "AARON KIRMAN GROUP",
          "AARON KIRMAN GROUP",
          "WILLIAMS & WILLIAMS ESTATE GROUP",
          "SALLY FORSTER JONES GROUP",
          "AARON KIRMAN GROUP",
          "AARON KIRMAN GROUP",
          "CHRIS CORTAZZO",
          "AARON KIRMAN GROUP",
          "AARON KIRMAN GROUP",
          "THE STEPHANIE YOUNGER GROUP",
          "THE STEPHANIE YOUNGER GROUP",
          "AARON KIRMAN GROUP",
          "BOND STREET PARTNERS",
          "THE STEPHANIE YOUNGER GROUP",
          "AARON KIRMAN GROUP",
          "SMITH & BERG PARTNERS",
          "KURT RAPPAPORT",
          "WILLIAMS & WILLIAMS ESTATE GROUP",
          "SMITH & BERG PARTNERS",
          "SMITH & BERG PARTNERS",
          "THE ALTMAN BROTHERS TEAM",
          "THE STEPHANIE YOUNGER GROUP",
          "THE ALTMAN BROTHERS TEAM",
          "AARON KIRMAN GROUP",
          "THE ALTMAN BROTHERS TEAM",
          "CHRIS CORTAZZO",
          "CHRIS CORTAZZO",
          "BOND STREET PARTNERS",
          "THE ALTMAN BROTHERS TEAM",
          "SMITH & BERG PARTNERS",
          "CHRIS CORTAZZO",
          "THE ALTMAN BROTHERS TEAM",
          "WILLIAMS & WILLIAMS ESTATE GROUP",
          "SMITH & BERG PARTNERS",
          "THE STEPHANIE YOUNGER GROUP",
          "SMITH & BERG PARTNERS",
          "SMITH & BERG PARTNERS",
          "AARON KIRMAN GROUP",
          "SALLY FORSTER JONES GROUP",
          "WILLIAMS & WILLIAMS ESTATE GROUP",
          "THE STEPHANIE YOUNGER GROUP",
          "BOND STREET PARTNERS",
          "SALLY FORSTER JONES GROUP",
          "WILLIAMS & WILLIAMS ESTATE GROUP",
          "KURT RAPPAPORT",
          "WILLIAMS & WILLIAMS ESTATE GROUP",
          "BOND STREET PARTNERS",
          "WILLIAMS & WILLIAMS ESTATE GROUP",
          "THE ALTMAN BROTHERS TEAM",
          "SMITH & BERG PARTNERS",
          "THE ALTMAN BROTHERS TEAM",
          "THE STEPHANIE YOUNGER GROUP",
          "THE STEPHANIE YOUNGER GROUP",
          "THE ALTMAN BROTHERS TEAM",
          "WILLIAMS & WILLIAMS ESTATE GROUP",
          "WILLIAMS & WILLIAMS ESTATE GROUP",
          "THE STEPHANIE YOUNGER GROUP",
          "THE STEPHANIE YOUNGER GROUP",
          "SMITH & BERG PARTNERS",
          "AARON KIRMAN GROUP",
          "WILLIAMS & WILLIAMS ESTATE GROUP",
          "SMITH & BERG PARTNERS",
          "SALLY FORSTER JONES GROUP",
          "SALLY FORSTER JONES GROUP",
          "CHRIS CORTAZZO",
          "THE STEPHANIE YOUNGER GROUP",
          "THE STEPHANIE YOUNGER GROUP",
          "THE STEPHANIE YOUNGER GROUP",
          "CHRIS CORTAZZO",
          "SMITH & BERG PARTNERS",
          "WILLIAMS & WILLIAMS ESTATE GROUP",
          "WILLIAMS & WILLIAMS ESTATE GROUP",
          "WILLIAMS & WILLIAMS ESTATE GROUP",
          "AARON KIRMAN GROUP",
          "WILLIAMS & WILLIAMS ESTATE GROUP",
          "AARON KIRMAN GROUP",
          "AARON KIRMAN GROUP",
          "AARON KIRMAN GROUP",
          "WILLIAMS & WILLIAMS ESTATE GROUP",
          "BOND STREET PARTNERS",
          "AARON KIRMAN GROUP",
          "BOND STREET PARTNERS",
          "AARON KIRMAN GROUP",
          "CHRIS CORTAZZO",
          "SMITH & BERG PARTNERS",
          "SMITH & BERG PARTNERS",
          "CHRIS CORTAZZO",
          "THE STEPHANIE YOUNGER GROUP",
          "WILLIAMS & WILLIAMS ESTATE GROUP",
          "AARON KIRMAN GROUP",
          "AARON KIRMAN GROUP",
          "AARON KIRMAN GROUP",
          "SMITH & BERG PARTNERS",
          "SMITH & BERG PARTNERS",
          "THE STEPHANIE YOUNGER GROUP",
          "WILLIAMS & WILLIAMS ESTATE GROUP",
          "THE ALTMAN BROTHERS TEAM",
          "AARON KIRMAN GROUP",
          "SMITH & BERG PARTNERS",
          "AARON KIRMAN GROUP",
          "SALLY FORSTER JONES GROUP",
          "WILLIAMS & WILLIAMS ESTATE GROUP",
          "WILLIAMS & WILLIAMS ESTATE GROUP",
          "THE STEPHANIE YOUNGER GROUP",
          "SALLY FORSTER JONES GROUP",
          "DREW FENTON",
          "WILLIAMS & WILLIAMS ESTATE GROUP",
          "THE STEPHANIE YOUNGER GROUP",
          "THE ALTMAN BROTHERS TEAM",
          "THE STEPHANIE YOUNGER GROUP",
          "THE STEPHANIE YOUNGER GROUP",
          "THE STEPHANIE YOUNGER GROUP",
          "THE STEPHANIE YOUNGER GROUP",
          "THE STEPHANIE YOUNGER GROUP",
          "THE STEPHANIE YOUNGER GROUP",
          "AARON KIRMAN GROUP",
          "AARON KIRMAN GROUP",
          "AARON KIRMAN GROUP",
          "WILLIAMS & WILLIAMS ESTATE GROUP",
          "THE STEPHANIE YOUNGER GROUP",
          "SALLY FORSTER JONES GROUP",
          "WILLIAMS & WILLIAMS ESTATE GROUP",
          "CHRIS CORTAZZO",
          "SALLY FORSTER JONES GROUP",
          "KURT RAPPAPORT",
          "AARON KIRMAN GROUP",
          "WILLIAMS & WILLIAMS ESTATE GROUP",
          "THE ALTMAN BROTHERS TEAM",
          "THE STEPHANIE YOUNGER GROUP",
          "WILLIAMS & WILLIAMS ESTATE GROUP",
          "WILLIAMS & WILLIAMS ESTATE GROUP",
          "THE ALTMAN BROTHERS TEAM",
          "BOND STREET PARTNERS",
          "SALLY FORSTER JONES GROUP",
          "THE STEPHANIE YOUNGER GROUP",
          "WILLIAMS & WILLIAMS ESTATE GROUP",
          "SMITH & BERG PARTNERS",
          "THE STEPHANIE YOUNGER GROUP",
          "THE STEPHANIE YOUNGER GROUP",
          "WILLIAMS & WILLIAMS ESTATE GROUP",
          "WILLIAMS & WILLIAMS ESTATE GROUP",
          "WILLIAMS & WILLIAMS ESTATE GROUP",
          "WILLIAMS & WILLIAMS ESTATE GROUP",
          "AARON KIRMAN GROUP",
          "SMITH & BERG PARTNERS",
          "THE STEPHANIE YOUNGER GROUP",
          "THE ALTMAN BROTHERS TEAM",
          "KURT RAPPAPORT",
          "WILLIAMS & WILLIAMS ESTATE GROUP",
          "AARON KIRMAN GROUP",
          "SMITH & BERG PARTNERS",
          "SALLY FORSTER JONES GROUP",
          "SALLY FORSTER JONES GROUP",
          "THE STEPHANIE YOUNGER GROUP",
          "THE ALTMAN BROTHERS TEAM",
          "AARON KIRMAN GROUP",
          "THE ALTMAN BROTHERS TEAM",
          "WILLIAMS & WILLIAMS ESTATE GROUP",
          "AARON KIRMAN GROUP",
          "DREW FENTON",
          "THE STEPHANIE YOUNGER GROUP",
          "THE ALTMAN BROTHERS TEAM",
          "WILLIAMS & WILLIAMS ESTATE GROUP",
          "THE STEPHANIE YOUNGER GROUP",
          "THE STEPHANIE YOUNGER GROUP",
          "SMITH & BERG PARTNERS",
          "THE STEPHANIE YOUNGER GROUP",
          "WILLIAMS & WILLIAMS ESTATE GROUP",
          "WILLIAMS & WILLIAMS ESTATE GROUP",
          "SALLY FORSTER JONES GROUP",
          "WILLIAMS & WILLIAMS ESTATE GROUP",
          "WILLIAMS & WILLIAMS ESTATE GROUP",
          "WILLIAMS & WILLIAMS ESTATE GROUP",
          "SMITH & BERG PARTNERS",
          "SMITH & BERG PARTNERS",
          "SALLY FORSTER JONES GROUP",
          "THE STEPHANIE YOUNGER GROUP",
          "WILLIAMS & WILLIAMS ESTATE GROUP",
          "AARON KIRMAN GROUP",
          "AARON KIRMAN GROUP",
          "BOND STREET PARTNERS",
          "KURT RAPPAPORT",
          "THE STEPHANIE YOUNGER GROUP",
          "THE STEPHANIE YOUNGER GROUP",
          "SALLY FORSTER JONES GROUP",
          "THE ALTMAN BROTHERS TEAM",
          "THE ALTMAN BROTHERS TEAM",
          "BOND STREET PARTNERS",
          "SMITH & BERG PARTNERS",
          "SALLY FORSTER JONES GROUP",
          "SALLY FORSTER JONES GROUP",
          "BOND STREET PARTNERS",
          "THE STEPHANIE YOUNGER GROUP",
          "BOND STREET PARTNERS",
          "SALLY FORSTER JONES GROUP",
          "WILLIAMS & WILLIAMS ESTATE GROUP",
          "WILLIAMS & WILLIAMS ESTATE GROUP",
          "SALLY FORSTER JONES GROUP",
          "CHRIS CORTAZZO",
          "SALLY FORSTER JONES GROUP",
          "SALLY FORSTER JONES GROUP",
          "SALLY FORSTER JONES GROUP",
          "BOND STREET PARTNERS",
          "WILLIAMS & WILLIAMS ESTATE GROUP",
          "THE STEPHANIE YOUNGER GROUP",
          "THE STEPHANIE YOUNGER GROUP",
          "THE STEPHANIE YOUNGER GROUP",
          "SALLY FORSTER JONES GROUP",
          "AARON KIRMAN GROUP",
          "THE ALTMAN BROTHERS TEAM",
          "AARON KIRMAN GROUP",
          "THE STEPHANIE YOUNGER GROUP",
          "WILLIAMS & WILLIAMS ESTATE GROUP",
          "BOND STREET PARTNERS",
          "AARON KIRMAN GROUP",
          "THE STEPHANIE YOUNGER GROUP",
          "THE STEPHANIE YOUNGER GROUP",
          "THE STEPHANIE YOUNGER GROUP",
          "DREW FENTON",
          "SALLY FORSTER JONES GROUP",
          "SMITH & BERG PARTNERS",
          "BOND STREET PARTNERS",
          "AARON KIRMAN GROUP",
          "AARON KIRMAN GROUP",
          "SMITH & BERG PARTNERS",
          "AARON KIRMAN GROUP",
          "SMITH & BERG PARTNERS",
          "AARON KIRMAN GROUP",
          "SALLY FORSTER JONES GROUP",
          "WILLIAMS & WILLIAMS ESTATE GROUP",
          "BOND STREET PARTNERS",
          "THE ALTMAN BROTHERS TEAM",
          "SMITH & BERG PARTNERS",
          "WILLIAMS & WILLIAMS ESTATE GROUP",
          "THE STEPHANIE YOUNGER GROUP",
          "THE STEPHANIE YOUNGER GROUP",
          "SALLY FORSTER JONES GROUP",
          "SALLY FORSTER JONES GROUP",
          "THE STEPHANIE YOUNGER GROUP",
          "THE STEPHANIE YOUNGER GROUP",
          "THE STEPHANIE YOUNGER GROUP",
          "THE STEPHANIE YOUNGER GROUP",
          "SALLY FORSTER JONES GROUP",
          "THE STEPHANIE YOUNGER GROUP",
          "AARON KIRMAN GROUP",
          "AARON KIRMAN GROUP",
          "THE STEPHANIE YOUNGER GROUP",
          "THE STEPHANIE YOUNGER GROUP",
          "THE STEPHANIE YOUNGER GROUP",
          "WILLIAMS & WILLIAMS ESTATE GROUP",
          "THE ALTMAN BROTHERS TEAM",
          "THE STEPHANIE YOUNGER GROUP",
          "THE STEPHANIE YOUNGER GROUP",
          "AARON KIRMAN GROUP",
          "AARON KIRMAN GROUP",
          "WILLIAMS & WILLIAMS ESTATE GROUP",
          "THE ALTMAN BROTHERS TEAM",
          "AARON KIRMAN GROUP",
          "DREW FENTON",
          "AARON KIRMAN GROUP",
          "DREW FENTON",
          "KURT RAPPAPORT",
          "KURT RAPPAPORT",
          "CHRIS CORTAZZO",
          "CHRIS CORTAZZO",
          "SALLY FORSTER JONES GROUP",
          "WILLIAMS & WILLIAMS ESTATE GROUP",
          "SMITH & BERG PARTNERS",
          "WILLIAMS & WILLIAMS ESTATE GROUP",
          "THE STEPHANIE YOUNGER GROUP",
          "THE STEPHANIE YOUNGER GROUP",
          "WILLIAMS & WILLIAMS ESTATE GROUP",
          "WILLIAMS & WILLIAMS ESTATE GROUP",
          "WILLIAMS & WILLIAMS ESTATE GROUP",
          "BOND STREET PARTNERS",
          "DREW FENTON",
          "KURT RAPPAPORT",
          "WILLIAMS & WILLIAMS ESTATE GROUP",
          "WILLIAMS & WILLIAMS ESTATE GROUP",
          "SMITH & BERG PARTNERS",
          "WILLIAMS & WILLIAMS ESTATE GROUP",
          "SALLY FORSTER JONES GROUP",
          "SALLY FORSTER JONES GROUP",
          "WILLIAMS & WILLIAMS ESTATE GROUP",
          "WILLIAMS & WILLIAMS ESTATE GROUP",
          "SMITH & BERG PARTNERS",
          "BOND STREET PARTNERS",
          "BOND STREET PARTNERS",
          "WILLIAMS & WILLIAMS ESTATE GROUP",
          "WILLIAMS & WILLIAMS ESTATE GROUP",
          "SALLY FORSTER JONES GROUP",
          "THE STEPHANIE YOUNGER GROUP",
          "AARON KIRMAN GROUP",
          "SMITH & BERG PARTNERS",
          "SALLY FORSTER JONES GROUP",
          "SALLY FORSTER JONES GROUP",
          "WILLIAMS & WILLIAMS ESTATE GROUP",
          "SALLY FORSTER JONES GROUP",
          "AARON KIRMAN GROUP",
          "WILLIAMS & WILLIAMS ESTATE GROUP",
          "AARON KIRMAN GROUP",
          "BOND STREET PARTNERS",
          "THE ALTMAN BROTHERS TEAM",
          "THE ALTMAN BROTHERS TEAM",
          "WILLIAMS & WILLIAMS ESTATE GROUP",
          "AARON KIRMAN GROUP",
          "THE STEPHANIE YOUNGER GROUP",
          "AARON KIRMAN GROUP",
          "WILLIAMS & WILLIAMS ESTATE GROUP",
          "CHRIS CORTAZZO",
          "WILLIAMS & WILLIAMS ESTATE GROUP",
          "SMITH & BERG PARTNERS",
          "SALLY FORSTER JONES GROUP",
          "AARON KIRMAN GROUP",
          "SMITH & BERG PARTNERS",
          "THE ALTMAN BROTHERS TEAM",
          "AARON KIRMAN GROUP",
          "WILLIAMS & WILLIAMS ESTATE GROUP",
          "CHRIS CORTAZZO",
          "THE STEPHANIE YOUNGER GROUP",
          "AARON KIRMAN GROUP",
          "AARON KIRMAN GROUP",
          "THE STEPHANIE YOUNGER GROUP",
          "THE STEPHANIE YOUNGER GROUP",
          "THE ALTMAN BROTHERS TEAM",
          "THE ALTMAN BROTHERS TEAM",
          "BOND STREET PARTNERS",
          "AARON KIRMAN GROUP",
          "AARON KIRMAN GROUP",
          "DREW FENTON",
          "AARON KIRMAN GROUP",
          "SALLY FORSTER JONES GROUP",
          "THE STEPHANIE YOUNGER GROUP",
          "AARON KIRMAN GROUP",
          "AARON KIRMAN GROUP",
          "THE STEPHANIE YOUNGER GROUP",
          "AARON KIRMAN GROUP",
          "THE STEPHANIE YOUNGER GROUP",
          "AARON KIRMAN GROUP",
          "AARON KIRMAN GROUP",
          "AARON KIRMAN GROUP",
          "WILLIAMS & WILLIAMS ESTATE GROUP",
          "SMITH & BERG PARTNERS",
          "WILLIAMS & WILLIAMS ESTATE GROUP",
          "SALLY FORSTER JONES GROUP",
          "THE STEPHANIE YOUNGER GROUP",
          "THE STEPHANIE YOUNGER GROUP",
          "AARON KIRMAN GROUP",
          "SMITH & BERG PARTNERS",
          "THE ALTMAN BROTHERS TEAM",
          "THE STEPHANIE YOUNGER GROUP",
          "THE STEPHANIE YOUNGER GROUP",
          "AARON KIRMAN GROUP",
          "WILLIAMS & WILLIAMS ESTATE GROUP",
          "THE STEPHANIE YOUNGER GROUP",
          "THE STEPHANIE YOUNGER GROUP",
          "THE STEPHANIE YOUNGER GROUP",
          "AARON KIRMAN GROUP",
          "AARON KIRMAN GROUP",
          "AARON KIRMAN GROUP",
          "AARON KIRMAN GROUP",
          "THE STEPHANIE YOUNGER GROUP",
          "THE STEPHANIE YOUNGER GROUP",
          "THE STEPHANIE YOUNGER GROUP",
          "THE STEPHANIE YOUNGER GROUP",
          "AARON KIRMAN GROUP",
          "THE STEPHANIE YOUNGER GROUP",
          "THE STEPHANIE YOUNGER GROUP",
          "THE STEPHANIE YOUNGER GROUP",
          "THE STEPHANIE YOUNGER GROUP",
          "THE STEPHANIE YOUNGER GROUP",
          "THE STEPHANIE YOUNGER GROUP",
          "THE STEPHANIE YOUNGER GROUP",
          "DREW FENTON",
          "THE STEPHANIE YOUNGER GROUP",
          "WILLIAMS & WILLIAMS ESTATE GROUP",
          "THE STEPHANIE YOUNGER GROUP",
          "THE STEPHANIE YOUNGER GROUP",
          "THE ALTMAN BROTHERS TEAM",
          "AARON KIRMAN GROUP",
          "BOND STREET PARTNERS",
          "WILLIAMS & WILLIAMS ESTATE GROUP",
          "AARON KIRMAN GROUP",
          "AARON KIRMAN GROUP",
          "AARON KIRMAN GROUP",
          "SALLY FORSTER JONES GROUP",
          "THE STEPHANIE YOUNGER GROUP",
          "AARON KIRMAN GROUP",
          "AARON KIRMAN GROUP",
          "SMITH & BERG PARTNERS",
          "WILLIAMS & WILLIAMS ESTATE GROUP",
          "AARON KIRMAN GROUP",
          "WILLIAMS & WILLIAMS ESTATE GROUP",
          "AARON KIRMAN GROUP",
          "AARON KIRMAN GROUP",
          "AARON KIRMAN GROUP",
          "AARON KIRMAN GROUP",
          "SMITH & BERG PARTNERS",
          "AARON KIRMAN GROUP",
          "THE STEPHANIE YOUNGER GROUP",
          "WILLIAMS & WILLIAMS ESTATE GROUP",
          "AARON KIRMAN GROUP",
          "THE ALTMAN BROTHERS TEAM",
          "AARON KIRMAN GROUP",
          "WILLIAMS & WILLIAMS ESTATE GROUP",
          "WILLIAMS & WILLIAMS ESTATE GROUP",
          "AARON KIRMAN GROUP",
          "AARON KIRMAN GROUP",
          "AARON KIRMAN GROUP",
          "AARON KIRMAN GROUP",
          "THE STEPHANIE YOUNGER GROUP",
          "AARON KIRMAN GROUP",
          "AARON KIRMAN GROUP",
          "WILLIAMS & WILLIAMS ESTATE GROUP",
          "AARON KIRMAN GROUP",
          "AARON KIRMAN GROUP",
          "AARON KIRMAN GROUP",
          "AARON KIRMAN GROUP",
          "WILLIAMS & WILLIAMS ESTATE GROUP",
          "SALLY FORSTER JONES GROUP",
          "AARON KIRMAN GROUP",
          "BOND STREET PARTNERS",
          "AARON KIRMAN GROUP",
          "AARON KIRMAN GROUP",
          "SMITH & BERG PARTNERS",
          "WILLIAMS & WILLIAMS ESTATE GROUP",
          "AARON KIRMAN GROUP",
          "SMITH & BERG PARTNERS",
          "THE STEPHANIE YOUNGER GROUP",
          "SALLY FORSTER JONES GROUP",
          "THE STEPHANIE YOUNGER GROUP",
          "WILLIAMS & WILLIAMS ESTATE GROUP",
          "WILLIAMS & WILLIAMS ESTATE GROUP",
          "WILLIAMS & WILLIAMS ESTATE GROUP",
          "WILLIAMS & WILLIAMS ESTATE GROUP",
          "WILLIAMS & WILLIAMS ESTATE GROUP",
          "WILLIAMS & WILLIAMS ESTATE GROUP",
          "WILLIAMS & WILLIAMS ESTATE GROUP",
          "WILLIAMS & WILLIAMS ESTATE GROUP",
          "WILLIAMS & WILLIAMS ESTATE GROUP",
          "AARON KIRMAN GROUP",
          "AARON KIRMAN GROUP",
          "AARON KIRMAN GROUP",
          "AARON KIRMAN GROUP",
          "AARON KIRMAN GROUP",
          "AARON KIRMAN GROUP",
          "AARON KIRMAN GROUP",
          "AARON KIRMAN GROUP",
          "AARON KIRMAN GROUP",
          "AARON KIRMAN GROUP",
          "AARON KIRMAN GROUP",
          "AARON KIRMAN GROUP",
          "AARON KIRMAN GROUP",
          "AARON KIRMAN GROUP",
          "AARON KIRMAN GROUP",
          "AARON KIRMAN GROUP",
          "KURT RAPPAPORT",
          "BOND STREET PARTNERS",
          "BOND STREET PARTNERS",
          "BOND STREET PARTNERS",
          "BOND STREET PARTNERS",
          "BOND STREET PARTNERS",
          "BOND STREET PARTNERS",
          "BOND STREET PARTNERS",
          "BOND STREET PARTNERS",
          "BOND STREET PARTNERS",
          "BOND STREET PARTNERS",
          "BOND STREET PARTNERS",
          "BOND STREET PARTNERS",
          "BOND STREET PARTNERS",
          "BOND STREET PARTNERS",
          "BOND STREET PARTNERS",
          "BOND STREET PARTNERS",
          "BOND STREET PARTNERS",
          "BOND STREET PARTNERS",
          "BOND STREET PARTNERS",
          "BOND STREET PARTNERS",
          "SMITH & BERG PARTNERS",
          "SMITH & BERG PARTNERS",
          "SALLY FORSTER JONES GROUP",
          "SALLY FORSTER JONES GROUP",
          "SALLY FORSTER JONES GROUP",
          "SALLY FORSTER JONES GROUP",
          "SALLY FORSTER JONES GROUP",
          "SALLY FORSTER JONES GROUP",
          "SALLY FORSTER JONES GROUP",
          "SALLY FORSTER JONES GROUP",
          "CHRIS CORTAZZO",
          "CHRIS CORTAZZO",
          "CHRIS CORTAZZO",
          "THE STEPHANIE YOUNGER GROUP",
          "THE STEPHANIE YOUNGER GROUP",
          "SALLY FORSTER JONES GROUP",
          "SALLY FORSTER JONES GROUP",
          "SALLY FORSTER JONES GROUP"
         ],
         "x0": " ",
         "xaxis": "x",
         "y": {
          "bdata": "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",
          "dtype": "i4"
         },
         "y0": " ",
         "yaxis": "y"
        }
       ],
       "layout": {
        "autosize": true,
        "boxmode": "group",
        "height": 700,
        "legend": {
         "tracegroupgap": 0
        },
        "showlegend": false,
        "template": {
         "data": {
          "bar": [
           {
            "error_x": {
             "color": "#2a3f5f"
            },
            "error_y": {
             "color": "#2a3f5f"
            },
            "marker": {
             "line": {
              "color": "#E5ECF6",
              "width": 0.5
             },
             "pattern": {
              "fillmode": "overlay",
              "size": 10,
              "solidity": 0.2
             }
            },
            "type": "bar"
           }
          ],
          "barpolar": [
           {
            "marker": {
             "line": {
              "color": "#E5ECF6",
              "width": 0.5
             },
             "pattern": {
              "fillmode": "overlay",
              "size": 10,
              "solidity": 0.2
             }
            },
            "type": "barpolar"
           }
          ],
          "carpet": [
           {
            "aaxis": {
             "endlinecolor": "#2a3f5f",
             "gridcolor": "white",
             "linecolor": "white",
             "minorgridcolor": "white",
             "startlinecolor": "#2a3f5f"
            },
            "baxis": {
             "endlinecolor": "#2a3f5f",
             "gridcolor": "white",
             "linecolor": "white",
             "minorgridcolor": "white",
             "startlinecolor": "#2a3f5f"
            },
            "type": "carpet"
           }
          ],
          "choropleth": [
           {
            "colorbar": {
             "outlinewidth": 0,
             "ticks": ""
            },
            "type": "choropleth"
           }
          ],
          "contour": [
           {
            "colorbar": {
             "outlinewidth": 0,
             "ticks": ""
            },
            "colorscale": [
             [
              0,
              "#0d0887"
             ],
             [
              0.1111111111111111,
              "#46039f"
             ],
             [
              0.2222222222222222,
              "#7201a8"
             ],
             [
              0.3333333333333333,
              "#9c179e"
             ],
             [
              0.4444444444444444,
              "#bd3786"
             ],
             [
              0.5555555555555556,
              "#d8576b"
             ],
             [
              0.6666666666666666,
              "#ed7953"
             ],
             [
              0.7777777777777778,
              "#fb9f3a"
             ],
             [
              0.8888888888888888,
              "#fdca26"
             ],
             [
              1,
              "#f0f921"
             ]
            ],
            "type": "contour"
           }
          ],
          "contourcarpet": [
           {
            "colorbar": {
             "outlinewidth": 0,
             "ticks": ""
            },
            "type": "contourcarpet"
           }
          ],
          "heatmap": [
           {
            "colorbar": {
             "outlinewidth": 0,
             "ticks": ""
            },
            "colorscale": [
             [
              0,
              "#0d0887"
             ],
             [
              0.1111111111111111,
              "#46039f"
             ],
             [
              0.2222222222222222,
              "#7201a8"
             ],
             [
              0.3333333333333333,
              "#9c179e"
             ],
             [
              0.4444444444444444,
              "#bd3786"
             ],
             [
              0.5555555555555556,
              "#d8576b"
             ],
             [
              0.6666666666666666,
              "#ed7953"
             ],
             [
              0.7777777777777778,
              "#fb9f3a"
             ],
             [
              0.8888888888888888,
              "#fdca26"
             ],
             [
              1,
              "#f0f921"
             ]
            ],
            "type": "heatmap"
           }
          ],
          "histogram": [
           {
            "marker": {
             "pattern": {
              "fillmode": "overlay",
              "size": 10,
              "solidity": 0.2
             }
            },
            "type": "histogram"
           }
          ],
          "histogram2d": [
           {
            "colorbar": {
             "outlinewidth": 0,
             "ticks": ""
            },
            "colorscale": [
             [
              0,
              "#0d0887"
             ],
             [
              0.1111111111111111,
              "#46039f"
             ],
             [
              0.2222222222222222,
              "#7201a8"
             ],
             [
              0.3333333333333333,
              "#9c179e"
             ],
             [
              0.4444444444444444,
              "#bd3786"
             ],
             [
              0.5555555555555556,
              "#d8576b"
             ],
             [
              0.6666666666666666,
              "#ed7953"
             ],
             [
              0.7777777777777778,
              "#fb9f3a"
             ],
             [
              0.8888888888888888,
              "#fdca26"
             ],
             [
              1,
              "#f0f921"
             ]
            ],
            "type": "histogram2d"
           }
          ],
          "histogram2dcontour": [
           {
            "colorbar": {
             "outlinewidth": 0,
             "ticks": ""
            },
            "colorscale": [
             [
              0,
              "#0d0887"
             ],
             [
              0.1111111111111111,
              "#46039f"
             ],
             [
              0.2222222222222222,
              "#7201a8"
             ],
             [
              0.3333333333333333,
              "#9c179e"
             ],
             [
              0.4444444444444444,
              "#bd3786"
             ],
             [
              0.5555555555555556,
              "#d8576b"
             ],
             [
              0.6666666666666666,
              "#ed7953"
             ],
             [
              0.7777777777777778,
              "#fb9f3a"
             ],
             [
              0.8888888888888888,
              "#fdca26"
             ],
             [
              1,
              "#f0f921"
             ]
            ],
            "type": "histogram2dcontour"
           }
          ],
          "mesh3d": [
           {
            "colorbar": {
             "outlinewidth": 0,
             "ticks": ""
            },
            "type": "mesh3d"
           }
          ],
          "parcoords": [
           {
            "line": {
             "colorbar": {
              "outlinewidth": 0,
              "ticks": ""
             }
            },
            "type": "parcoords"
           }
          ],
          "pie": [
           {
            "automargin": true,
            "type": "pie"
           }
          ],
          "scatter": [
           {
            "fillpattern": {
             "fillmode": "overlay",
             "size": 10,
             "solidity": 0.2
            },
            "type": "scatter"
           }
          ],
          "scatter3d": [
           {
            "line": {
             "colorbar": {
              "outlinewidth": 0,
              "ticks": ""
             }
            },
            "marker": {
             "colorbar": {
              "outlinewidth": 0,
              "ticks": ""
             }
            },
            "type": "scatter3d"
           }
          ],
          "scattercarpet": [
           {
            "marker": {
             "colorbar": {
              "outlinewidth": 0,
              "ticks": ""
             }
            },
            "type": "scattercarpet"
           }
          ],
          "scattergeo": [
           {
            "marker": {
             "colorbar": {
              "outlinewidth": 0,
              "ticks": ""
             }
            },
            "type": "scattergeo"
           }
          ],
          "scattergl": [
           {
            "marker": {
             "colorbar": {
              "outlinewidth": 0,
              "ticks": ""
             }
            },
            "type": "scattergl"
           }
          ],
          "scattermap": [
           {
            "marker": {
             "colorbar": {
              "outlinewidth": 0,
              "ticks": ""
             }
            },
            "type": "scattermap"
           }
          ],
          "scattermapbox": [
           {
            "marker": {
             "colorbar": {
              "outlinewidth": 0,
              "ticks": ""
             }
            },
            "type": "scattermapbox"
           }
          ],
          "scatterpolar": [
           {
            "marker": {
             "colorbar": {
              "outlinewidth": 0,
              "ticks": ""
             }
            },
            "type": "scatterpolar"
           }
          ],
          "scatterpolargl": [
           {
            "marker": {
             "colorbar": {
              "outlinewidth": 0,
              "ticks": ""
             }
            },
            "type": "scatterpolargl"
           }
          ],
          "scatterternary": [
           {
            "marker": {
             "colorbar": {
              "outlinewidth": 0,
              "ticks": ""
             }
            },
            "type": "scatterternary"
           }
          ],
          "surface": [
           {
            "colorbar": {
             "outlinewidth": 0,
             "ticks": ""
            },
            "colorscale": [
             [
              0,
              "#0d0887"
             ],
             [
              0.1111111111111111,
              "#46039f"
             ],
             [
              0.2222222222222222,
              "#7201a8"
             ],
             [
              0.3333333333333333,
              "#9c179e"
             ],
             [
              0.4444444444444444,
              "#bd3786"
             ],
             [
              0.5555555555555556,
              "#d8576b"
             ],
             [
              0.6666666666666666,
              "#ed7953"
             ],
             [
              0.7777777777777778,
              "#fb9f3a"
             ],
             [
              0.8888888888888888,
              "#fdca26"
             ],
             [
              1,
              "#f0f921"
             ]
            ],
            "type": "surface"
           }
          ],
          "table": [
           {
            "cells": {
             "fill": {
              "color": "#EBF0F8"
             },
             "line": {
              "color": "white"
             }
            },
            "header": {
             "fill": {
              "color": "#C8D4E3"
             },
             "line": {
              "color": "white"
             }
            },
            "type": "table"
           }
          ]
         },
         "layout": {
          "annotationdefaults": {
           "arrowcolor": "#2a3f5f",
           "arrowhead": 0,
           "arrowwidth": 1
          },
          "autotypenumbers": "strict",
          "coloraxis": {
           "colorbar": {
            "outlinewidth": 0,
            "ticks": ""
           }
          },
          "colorscale": {
           "diverging": [
            [
             0,
             "#8e0152"
            ],
            [
             0.1,
             "#c51b7d"
            ],
            [
             0.2,
             "#de77ae"
            ],
            [
             0.3,
             "#f1b6da"
            ],
            [
             0.4,
             "#fde0ef"
            ],
            [
             0.5,
             "#f7f7f7"
            ],
            [
             0.6,
             "#e6f5d0"
            ],
            [
             0.7,
             "#b8e186"
            ],
            [
             0.8,
             "#7fbc41"
            ],
            [
             0.9,
             "#4d9221"
            ],
            [
             1,
             "#276419"
            ]
           ],
           "sequential": [
            [
             0,
             "#0d0887"
            ],
            [
             0.1111111111111111,
             "#46039f"
            ],
            [
             0.2222222222222222,
             "#7201a8"
            ],
            [
             0.3333333333333333,
             "#9c179e"
            ],
            [
             0.4444444444444444,
             "#bd3786"
            ],
            [
             0.5555555555555556,
             "#d8576b"
            ],
            [
             0.6666666666666666,
             "#ed7953"
            ],
            [
             0.7777777777777778,
             "#fb9f3a"
            ],
            [
             0.8888888888888888,
             "#fdca26"
            ],
            [
             1,
             "#f0f921"
            ]
           ],
           "sequentialminus": [
            [
             0,
             "#0d0887"
            ],
            [
             0.1111111111111111,
             "#46039f"
            ],
            [
             0.2222222222222222,
             "#7201a8"
            ],
            [
             0.3333333333333333,
             "#9c179e"
            ],
            [
             0.4444444444444444,
             "#bd3786"
            ],
            [
             0.5555555555555556,
             "#d8576b"
            ],
            [
             0.6666666666666666,
             "#ed7953"
            ],
            [
             0.7777777777777778,
             "#fb9f3a"
            ],
            [
             0.8888888888888888,
             "#fdca26"
            ],
            [
             1,
             "#f0f921"
            ]
           ]
          },
          "colorway": [
           "#636efa",
           "#EF553B",
           "#00cc96",
           "#ab63fa",
           "#FFA15A",
           "#19d3f3",
           "#FF6692",
           "#B6E880",
           "#FF97FF",
           "#FECB52"
          ],
          "font": {
           "color": "#2a3f5f"
          },
          "geo": {
           "bgcolor": "white",
           "lakecolor": "white",
           "landcolor": "#E5ECF6",
           "showlakes": true,
           "showland": true,
           "subunitcolor": "white"
          },
          "hoverlabel": {
           "align": "left"
          },
          "hovermode": "closest",
          "mapbox": {
           "style": "light"
          },
          "paper_bgcolor": "white",
          "plot_bgcolor": "#E5ECF6",
          "polar": {
           "angularaxis": {
            "gridcolor": "white",
            "linecolor": "white",
            "ticks": ""
           },
           "bgcolor": "#E5ECF6",
           "radialaxis": {
            "gridcolor": "white",
            "linecolor": "white",
            "ticks": ""
           }
          },
          "scene": {
           "xaxis": {
            "backgroundcolor": "#E5ECF6",
            "gridcolor": "white",
            "gridwidth": 2,
            "linecolor": "white",
            "showbackground": true,
            "ticks": "",
            "zerolinecolor": "white"
           },
           "yaxis": {
            "backgroundcolor": "#E5ECF6",
            "gridcolor": "white",
            "gridwidth": 2,
            "linecolor": "white",
            "showbackground": true,
            "ticks": "",
            "zerolinecolor": "white"
           },
           "zaxis": {
            "backgroundcolor": "#E5ECF6",
            "gridcolor": "white",
            "gridwidth": 2,
            "linecolor": "white",
            "showbackground": true,
            "ticks": "",
            "zerolinecolor": "white"
           }
          },
          "shapedefaults": {
           "line": {
            "color": "#2a3f5f"
           }
          },
          "ternary": {
           "aaxis": {
            "gridcolor": "white",
            "linecolor": "white",
            "ticks": ""
           },
           "baxis": {
            "gridcolor": "white",
            "linecolor": "white",
            "ticks": ""
           },
           "bgcolor": "#E5ECF6",
           "caxis": {
            "gridcolor": "white",
            "linecolor": "white",
            "ticks": ""
           }
          },
          "title": {
           "x": 0.05
          },
          "xaxis": {
           "automargin": true,
           "gridcolor": "white",
           "linecolor": "white",
           "ticks": "",
           "title": {
            "standoff": 15
           },
           "zerolinecolor": "white",
           "zerolinewidth": 2
          },
          "yaxis": {
           "automargin": true,
           "gridcolor": "white",
           "linecolor": "white",
           "ticks": "",
           "title": {
            "standoff": 15
           },
           "zerolinecolor": "white",
           "zerolinewidth": 2
          }
         }
        },
        "title": {
         "font": {
          "color": "black",
          "family": "Arial",
          "size": 20
         },
         "text": "Distribution of LA County Resi Sales for Top 10 Agents/Teams",
         "x": 0.5,
         "xanchor": "center",
         "yanchor": "top"
        },
        "xaxis": {
         "anchor": "y",
         "domain": [
          0,
          1
         ],
         "tickangle": -45,
         "title": {
          "text": "Agent/Team"
         }
        },
        "yaxis": {
         "anchor": "x",
         "domain": [
          0,
          1
         ],
         "showgrid": true,
         "ticks": "outside",
         "ticktext": [
          "$1M",
          "$10M",
          "$100M"
         ],
         "tickvals": [
          1000000,
          10000000,
          100000000
         ],
         "title": {
          "text": "Sale Price ($)"
         },
         "type": "log"
        }
       }
      }
     },
     "metadata": {},
     "output_type": "display_data"
    }
   ],
   "source": [
    "import plotly.express as px\n",
    "\n",
    "# group top 10 agents/teams by sale volume\n",
    "agents_grouped = agents_df.groupby(\"Final_Agent\", as_index=False)[\"price_amount\"].sum()\n",
    "top10_agents = agents_grouped.sort_values(\"price_amount\", ascending=False).head(10)[\"Final_Agent\"]\n",
    "\n",
    "df_top10 = agents_df[agents_df[\"Final_Agent\"].isin(top10_agents)]\n",
    "\n",
    "fig = px.box(\n",
    "    df_top10,\n",
    "    x=\"Final_Agent\",\n",
    "    y=\"price_amount\",\n",
    "    points=\"all\", # Change to \"suspectedoutliers\" if you want to show outliers only\n",
    "    title=\"Distribution of LA County Resi Sales for Top 10 Agents/Teams\"\n",
    ")\n",
    "\n",
    "# Format the axis labels\n",
    "fig.update_layout(\n",
    "    title={\n",
    "        \"x\": 0.5, # center\n",
    "        \"xanchor\": \"center\",\n",
    "        \"yanchor\": \"top\"\n",
    "    },\n",
    "    title_font=dict(size=20, family=\"Arial\", color=\"black\"),\n",
    "    autosize=True, \n",
    "    height=700,\n",
    "    xaxis_title=\"Agent/Team\",\n",
    "    yaxis_title=\"Sale Price ($)\",\n",
    "    xaxis_tickangle=-45,\n",
    "    yaxis_type=\"log\",\n",
    "    showlegend=False\n",
    ")\n",
    "\n",
    "fig.update_yaxes(\n",
    "    tickvals=[1e6, 1e7, 1e8],               \n",
    "    ticktext=[\"$1M\", \"$10M\", \"$100M\"],      \n",
    "    showgrid=True,                         \n",
    "    ticks=\"outside\"                         \n",
    ")\n",
    "\n",
    "fig.show()\n",
    "\n",
    "# Save chart as interactive HTML\n",
    "fig.write_html(\"top10_agents.html\", full_html=True, include_plotlyjs=\"cdn\")"
   ]
  },
  {
   "cell_type": "markdown",
   "id": "f94701a6",
   "metadata": {},
   "source": [
    "## Dash App"
   ]
  },
  {
   "cell_type": "code",
   "execution_count": null,
   "id": "504147ca",
   "metadata": {},
   "outputs": [
    {
     "data": {
      "text/html": [
       "\n",
       "        <iframe\n",
       "            width=\"100%\"\n",
       "            height=\"650\"\n",
       "            src=\"http://127.0.0.1:8050/\"\n",
       "            frameborder=\"0\"\n",
       "            allowfullscreen\n",
       "            \n",
       "        ></iframe>\n",
       "        "
      ],
      "text/plain": [
       "<IPython.lib.display.IFrame at 0x1135fe4d0>"
      ]
     },
     "metadata": {},
     "output_type": "display_data"
    }
   ],
   "source": [
    "import dash\n",
    "from dash import dcc, html\n",
    "from dash.dependencies import Input, Output\n",
    "import plotly.express as px\n",
    "# import pandas as pd\n",
    "\n",
    "#------------\n",
    "# Initialize Dash App\n",
    "#------------\n",
    "app = dash.Dash(__name__)\n",
    "app.title = \"Top 10 LA Agents Sales Distribution\"\n",
    "\n",
    "#------------\n",
    "# Layout\n",
    "#------------\n",
    "app.layout = html.Div([\n",
    "    html.H1(\"Distribution of Home Sale Prices by Top 10 Agents\"),\n",
    "\n",
    "    html.Label(\"Select Agents:\"),\n",
    "    dcc.Dropdown(\n",
    "        id='agent-dropdown',\n",
    "        options=[{'label': agent, 'value': agent} for agent in sorted(df_top10[\"Final_Agent\"].unique())],\n",
    "        value=list(df_top10[\"Final_Agent\"].unique()),\n",
    "        multi=True\n",
    "    ),\n",
    "\n",
    "    dcc.Graph(id='boxplot')\n",
    "])\n",
    "\n",
    "#------------\n",
    "# Callback for the graph\n",
    "#------------\n",
    "@app.callback(\n",
    "    Output('boxplot', 'figure'),\n",
    "    Input('agent-dropdown', 'value')\n",
    ")\n",
    "\n",
    "def update_boxplot(selected_agents):\n",
    "    #Filter the dataframe\n",
    "    filtered_df = df_top10[df_top10[\"Final_Agent\"].isin(selected_agents)]\n",
    "\n",
    "    # Base boxplot style\n",
    "    fig = px.box(\n",
    "        filtered_df,\n",
    "        x=\"Final_Agent\",\n",
    "        y=\"price_amount\",\n",
    "        points=\"all\",\n",
    "        title=\"Distribution of LA County Resi Sales for Top 10 Agents/Teams\"\n",
    "    )\n",
    "\n",
    "    fig.update_layout(\n",
    "        yaxis_type=\"log\",\n",
    "        yaxis_title=\"Sale Price ($)\",\n",
    "        xaxis_title=\"Agent/Team\",\n",
    "        xaxis_tickangle=-45,\n",
    "        showlegend=False\n",
    "    )\n",
    "\n",
    "    # Format the axis labels\n",
    "    fig.update_layout(\n",
    "        width=1200, \n",
    "        height=700,\n",
    "        xaxis_title=\"Agent/Team\",\n",
    "        yaxis_title=\"Sale Price ($)\",\n",
    "        xaxis_tickangle=-45,\n",
    "        yaxis_type=\"log\",\n",
    "        showlegend=False\n",
    "    )\n",
    "\n",
    "    fig.update_yaxes(\n",
    "        tickvals=[1e6, 1e7, 1e8],               \n",
    "        ticktext=[\"$1M\", \"$10M\", \"$100M\"],      \n",
    "        showgrid=True,                         \n",
    "        ticks=\"outside\"                         \n",
    "    )\n",
    "\n",
    "    return fig\n",
    "\n",
    "#------------\n",
    "# Run the App\n",
    "#------------\n",
    "\n",
    "if __name__ == '__main__':\n",
    "    app.run(debug=True)"
   ]
  },
  {
   "cell_type": "code",
   "execution_count": 21,
   "id": "c910f1e6",
   "metadata": {},
   "outputs": [
    {
     "name": "stdout",
     "output_type": "stream",
     "text": [
      "<class 'pandas.core.frame.DataFrame'>\n",
      "Index: 1018 entries, 0 to 47177\n",
      "Data columns (total 21 columns):\n",
      " #   Column            Non-Null Count  Dtype  \n",
      "---  ------            --------------  -----  \n",
      " 0   UniqueID          1018 non-null   object \n",
      " 1   mlsId             1018 non-null   object \n",
      " 2   address           1018 non-null   object \n",
      " 3   city              1005 non-null   object \n",
      " 4   price_amount      1018 non-null   int64  \n",
      " 5   Side              1018 non-null   object \n",
      " 6   Final_Agent       1018 non-null   object \n",
      " 7   url               917 non-null    object \n",
      " 8   TRD_note          124 non-null    object \n",
      " 9   brokerage_name_1  959 non-null    object \n",
      " 10  brokerage_name_2  665 non-null    object \n",
      " 11  zip               917 non-null    float64\n",
      " 12  agent_name        917 non-null    object \n",
      " 13  agent_no.         917 non-null    object \n",
      " 14  beds              917 non-null    float64\n",
      " 15  baths             916 non-null    float64\n",
      " 16  sqft_amount       882 non-null    object \n",
      " 17  latitude          917 non-null    float64\n",
      " 18  longitude         917 non-null    float64\n",
      " 19  propertyId        917 non-null    float64\n",
      " 20  listingId         917 non-null    float64\n",
      "dtypes: float64(7), int64(1), object(13)\n",
      "memory usage: 175.0+ KB\n"
     ]
    }
   ],
   "source": [
    "# This is to download a cleaned up version of our dataset so it can be uploaded into a .py file for web application and display\n",
    "df_top10.info()"
   ]
  },
  {
   "cell_type": "code",
   "execution_count": 23,
   "id": "b760bf43",
   "metadata": {},
   "outputs": [
    {
     "name": "stdout",
     "output_type": "stream",
     "text": [
      "<class 'pandas.core.frame.DataFrame'>\n",
      "Index: 1018 entries, 0 to 47177\n",
      "Data columns (total 5 columns):\n",
      " #   Column        Non-Null Count  Dtype \n",
      "---  ------        --------------  ----- \n",
      " 0   address       1018 non-null   object\n",
      " 1   city          1005 non-null   object\n",
      " 2   price_amount  1018 non-null   int64 \n",
      " 3   Side          1018 non-null   object\n",
      " 4   Final_Agent   1018 non-null   object\n",
      "dtypes: int64(1), object(4)\n",
      "memory usage: 47.7+ KB\n"
     ]
    }
   ],
   "source": [
    "drop_columns = [\"UniqueID\", \"mlsId\", \"url\", \"TRD_note\", \"brokerage_name_1\", \"brokerage_name_2\", \"zip\", \"agent_name\",\n",
    "                \"agent_no.\", \"beds\", \"baths\", \"sqft_amount\", \"latitude\", \"longitude\", \"propertyId\", \"listingId\"]\n",
    "df_top10_cleaned = df_top10.drop(columns=drop_columns)\n",
    "df_top10_cleaned.info()"
   ]
  },
  {
   "cell_type": "code",
   "execution_count": 24,
   "id": "8d122ada",
   "metadata": {},
   "outputs": [],
   "source": [
    "df_top10_cleaned.to_csv(\"/Users/josephjungermann/Documents/the_real_deal/20250903_LAPlotlyViz/output/df_top10_cleaned.csv\", index=False)"
   ]
  },
  {
   "cell_type": "markdown",
   "id": "19b1688d",
   "metadata": {},
   "source": []
  }
 ],
 "metadata": {
  "kernelspec": {
   "display_name": ".venv",
   "language": "python",
   "name": "python3"
  },
  "language_info": {
   "codemirror_mode": {
    "name": "ipython",
    "version": 3
   },
   "file_extension": ".py",
   "mimetype": "text/x-python",
   "name": "python",
   "nbconvert_exporter": "python",
   "pygments_lexer": "ipython3",
   "version": "3.10.0"
  }
 },
 "nbformat": 4,
 "nbformat_minor": 5
}
