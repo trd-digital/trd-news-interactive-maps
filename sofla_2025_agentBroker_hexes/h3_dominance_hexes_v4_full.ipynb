{
 "cells": [
  {
   "cell_type": "markdown",
   "id": "b42568ef",
   "metadata": {},
   "source": [
    "# H3 Dominance Hexes (v4-compatible)\n",
    "Aggregate listings into **H3 hex bins** and compute dominance (market share) for **Agents** and **Brokerages**, by **count** and **price volume**. Exports **GeoJSON** layers for Mapbox.\n",
    "\n",
    "**Requires columns**: `latitude, longitude, Agent_Name, Brokerage_Firm` (and optionally `price`).\n"
   ]
  },
  {
   "cell_type": "markdown",
   "id": "c5ecc497",
   "metadata": {},
   "source": [
    "## 1) Setup"
   ]
  },
  {
   "cell_type": "code",
   "execution_count": 1,
   "id": "68f7edb2",
   "metadata": {},
   "outputs": [
    {
     "name": "stdout",
     "output_type": "stream",
     "text": [
      "h3 version: 4.3.1\n"
     ]
    }
   ],
   "source": [
    "# If needed:\n",
    "# %pip install pandas h3\n",
    "import json\n",
    "from pathlib import Path\n",
    "import pandas as pd\n",
    "try:\n",
    "    import h3\n",
    "except Exception as e:\n",
    "    raise RuntimeError(\"Please install the 'h3' package: pip install h3\")\n",
    "print(\"h3 version:\", getattr(h3, \"__version__\", \"unknown\"))"
   ]
  },
  {
   "cell_type": "markdown",
   "id": "045742d6",
   "metadata": {},
   "source": [
    "## 2) H3 compatibility wrappers"
   ]
  },
  {
   "cell_type": "code",
   "execution_count": 2,
   "id": "28227247",
   "metadata": {},
   "outputs": [],
   "source": [
    "def h3_cell(lat, lng, res):\n",
    "    if hasattr(h3, \"geo_to_h3\"):               # v3.x\n",
    "        return h3.geo_to_h3(lat, lng, res)\n",
    "    elif hasattr(h3, \"latlng_to_cell\"):        # v4.x\n",
    "        return h3.latlng_to_cell(lat, lng, res)\n",
    "    raise AttributeError(\"No H3 lat/lng→cell function found.\")\n",
    "\n",
    "def h3_boundary(cell):\n",
    "    if hasattr(h3, \"h3_to_geo_boundary\"):      # v3.x\n",
    "        try:\n",
    "            return h3.h3_to_geo_boundary(cell, geo_json=True)\n",
    "        except TypeError:\n",
    "            return h3.h3_to_geo_boundary(cell)\n",
    "    elif hasattr(h3, \"cell_to_boundary\"):      # v4.x\n",
    "        return h3.cell_to_boundary(cell)\n",
    "    raise AttributeError(\"No H3 cell→boundary function found.\")"
   ]
  },
  {
   "cell_type": "markdown",
   "id": "6184ebc8",
   "metadata": {},
   "source": [
    "## 3) Load your data"
   ]
  },
  {
   "cell_type": "code",
   "execution_count": 3,
   "id": "a1419564",
   "metadata": {},
   "outputs": [
    {
     "name": "stdout",
     "output_type": "stream",
     "text": [
      "Rows after cleaning: 26844\n"
     ]
    },
    {
     "data": {
      "text/html": [
       "<div>\n",
       "<style scoped>\n",
       "    .dataframe tbody tr th:only-of-type {\n",
       "        vertical-align: middle;\n",
       "    }\n",
       "\n",
       "    .dataframe tbody tr th {\n",
       "        vertical-align: top;\n",
       "    }\n",
       "\n",
       "    .dataframe thead th {\n",
       "        text-align: right;\n",
       "    }\n",
       "</style>\n",
       "<table border=\"1\" class=\"dataframe\">\n",
       "  <thead>\n",
       "    <tr style=\"text-align: right;\">\n",
       "      <th></th>\n",
       "      <th>Unique_ID</th>\n",
       "      <th>mlsId</th>\n",
       "      <th>Property_ID</th>\n",
       "      <th>Address</th>\n",
       "      <th>price</th>\n",
       "      <th>Side</th>\n",
       "      <th>Brokerage_Firm</th>\n",
       "      <th>zipcode</th>\n",
       "      <th>Agent_Name</th>\n",
       "      <th>TRD_note</th>\n",
       "      <th>...</th>\n",
       "      <th>longitude</th>\n",
       "      <th>Unnamed: 13</th>\n",
       "      <th>Unnamed: 14</th>\n",
       "      <th>Unnamed: 15</th>\n",
       "      <th>Unnamed: 16</th>\n",
       "      <th>Unnamed: 17</th>\n",
       "      <th>Unnamed: 18</th>\n",
       "      <th>Unnamed: 19</th>\n",
       "      <th>Unnamed: 20</th>\n",
       "      <th>Unnamed: 21</th>\n",
       "    </tr>\n",
       "  </thead>\n",
       "  <tbody>\n",
       "    <tr>\n",
       "      <th>0</th>\n",
       "      <td>A11529138-ZACHARY VICHINSKY-Buy</td>\n",
       "      <td>A11529138</td>\n",
       "      <td>42771732.0</td>\n",
       "      <td>18 La Gorce Cir</td>\n",
       "      <td>122125121</td>\n",
       "      <td>Buy</td>\n",
       "      <td>BESPOKE REAL ESTATE FLORIDA</td>\n",
       "      <td>33141.0</td>\n",
       "      <td>ZACHARY VICHINSKY</td>\n",
       "      <td>NaN</td>\n",
       "      <td>...</td>\n",
       "      <td>-80.130144</td>\n",
       "      <td>NaN</td>\n",
       "      <td>NaN</td>\n",
       "      <td>NaN</td>\n",
       "      <td>NaN</td>\n",
       "      <td>NaN</td>\n",
       "      <td>NaN</td>\n",
       "      <td>NaN</td>\n",
       "      <td>NaN</td>\n",
       "      <td>NaN</td>\n",
       "    </tr>\n",
       "    <tr>\n",
       "      <th>1</th>\n",
       "      <td>A11529138-THE JILLS ZEDER GROUP-List</td>\n",
       "      <td>A11529138</td>\n",
       "      <td>42771732.0</td>\n",
       "      <td>18 La Gorce Cir</td>\n",
       "      <td>122125121</td>\n",
       "      <td>List</td>\n",
       "      <td>COLDWELL BANKER REALTY</td>\n",
       "      <td>33141.0</td>\n",
       "      <td>THE JILLS ZEDER GROUP</td>\n",
       "      <td>NaN</td>\n",
       "      <td>...</td>\n",
       "      <td>-80.130144</td>\n",
       "      <td>NaN</td>\n",
       "      <td>NaN</td>\n",
       "      <td>NaN</td>\n",
       "      <td>NaN</td>\n",
       "      <td>NaN</td>\n",
       "      <td>NaN</td>\n",
       "      <td>NaN</td>\n",
       "      <td>NaN</td>\n",
       "      <td>NaN</td>\n",
       "    </tr>\n",
       "  </tbody>\n",
       "</table>\n",
       "<p>2 rows × 22 columns</p>\n",
       "</div>"
      ],
      "text/plain": [
       "                              Unique_ID      mlsId  Property_ID  \\\n",
       "0       A11529138-ZACHARY VICHINSKY-Buy  A11529138   42771732.0   \n",
       "1  A11529138-THE JILLS ZEDER GROUP-List  A11529138   42771732.0   \n",
       "\n",
       "           Address      price  Side               Brokerage_Firm  zipcode  \\\n",
       "0  18 La Gorce Cir  122125121   Buy  BESPOKE REAL ESTATE FLORIDA  33141.0   \n",
       "1  18 La Gorce Cir  122125121  List       COLDWELL BANKER REALTY  33141.0   \n",
       "\n",
       "              Agent_Name TRD_note  ...  longitude  Unnamed: 13  Unnamed: 14  \\\n",
       "0      ZACHARY VICHINSKY      NaN  ... -80.130144          NaN          NaN   \n",
       "1  THE JILLS ZEDER GROUP      NaN  ... -80.130144          NaN          NaN   \n",
       "\n",
       "   Unnamed: 15  Unnamed: 16  Unnamed: 17  Unnamed: 18  Unnamed: 19  \\\n",
       "0          NaN          NaN          NaN          NaN          NaN   \n",
       "1          NaN          NaN          NaN          NaN          NaN   \n",
       "\n",
       "   Unnamed: 20  Unnamed: 21  \n",
       "0          NaN          NaN  \n",
       "1          NaN          NaN  \n",
       "\n",
       "[2 rows x 22 columns]"
      ]
     },
     "execution_count": 3,
     "metadata": {},
     "output_type": "execute_result"
    }
   ],
   "source": [
    "# Option A: set csv_path (CSV must include required columns)\n",
    "csv_path = 'Adam F. - 2025 Miami Brokerage and Broker Rankings - Agents_Brokers.csv'  # e.g., 'data/sofla_listings.csv'\n",
    "if csv_path:\n",
    "    df = pd.read_csv(csv_path)\n",
    "\n",
    "# If df already exists in memory, the above is skipped.\n",
    "required = ['latitude','longitude','Agent_Name','Brokerage_Firm']\n",
    "missing = [c for c in required if c not in df.columns]\n",
    "if missing:\n",
    "    raise ValueError(f\"Missing required columns: {missing}\")\n",
    "\n",
    "df = df.dropna(subset=['latitude','longitude']).copy()\n",
    "df['latitude'] = pd.to_numeric(df['latitude'], errors='coerce')\n",
    "df['longitude'] = pd.to_numeric(df['longitude'], errors='coerce')\n",
    "df = df.dropna(subset=['latitude','longitude'])\n",
    "df = df[(df['latitude'].between(-90,90)) & (df['longitude'].between(-180,180))].copy()\n",
    "\n",
    "if 'price' not in df.columns:\n",
    "    df['price'] = None\n",
    "\n",
    "print(\"Rows after cleaning:\", len(df))\n",
    "df.head(2)"
   ]
  },
  {
   "cell_type": "markdown",
   "id": "574b92d6",
   "metadata": {},
   "source": [
    "## 4) Configuration"
   ]
  },
  {
   "cell_type": "code",
   "execution_count": 4,
   "id": "b0a6effa",
   "metadata": {},
   "outputs": [],
   "source": [
    "# H3 resolutions to export\n",
    "RES_LIST = [7, 8, 9]\n",
    "\n",
    "# Minimum sample per hex for confidence\n",
    "MIN_SAMPLE = 10\n",
    "\n",
    "# Optional: time window if you have a date column\n",
    "USE_DATE_FILTER = False\n",
    "DATE_COLUMN = 'CloseDate'\n",
    "DATE_START = '2024-01-01'  # inclusive\n",
    "DATE_END = None            # exclusive\n",
    "\n",
    "if USE_DATE_FILTER and DATE_COLUMN in df.columns:\n",
    "    d = pd.to_datetime(df[DATE_COLUMN], errors='coerce', utc=True).dt.tz_localize(None)\n",
    "    df = df.assign(_date=d)\n",
    "    if DATE_START:\n",
    "        df = df[df['_date'] >= pd.to_datetime(DATE_START)]\n",
    "    if DATE_END:\n",
    "        df = df[df['_date'] < pd.to_datetime(DATE_END)]\n",
    "    print(\"Rows after date filter:\", len(df))"
   ]
  },
  {
   "cell_type": "markdown",
   "id": "e3ae19de",
   "metadata": {},
   "source": [
    "## 5) Helper functions"
   ]
  },
  {
   "cell_type": "code",
   "execution_count": 5,
   "id": "94b1626b",
   "metadata": {},
   "outputs": [],
   "source": [
    "def _safe_json(v):\n",
    "    try:\n",
    "        return json.dumps(v, ensure_ascii=False)\n",
    "    except Exception:\n",
    "        return json.dumps([str(x) for x in v], ensure_ascii=False)\n",
    "\n",
    "def summarize_counts(series, topk=3):\n",
    "    counts = series.value_counts()\n",
    "    names = counts.head(topk).index.tolist()\n",
    "    vals  = counts.head(topk).tolist()\n",
    "    total = int(counts.sum())\n",
    "    top_name = names[0] if names else None\n",
    "    top_val  = int(vals[0]) if vals else 0\n",
    "    share = (top_val / total) if total else 0.0\n",
    "    return {\"top_name\": top_name, \"top_value\": top_val, \"top_share\": round(share,4),\n",
    "            \"topk_names\": names, \"topk_values\": [int(v) for v in vals], \"total\": total}\n",
    "\n",
    "def summarize_volume(group, field_name='Agent_Name', weight_col='price', topk=3):\n",
    "    g = group.groupby(field_name)[weight_col].sum().sort_values(ascending=False)\n",
    "    names = g.head(topk).index.tolist()\n",
    "    vals  = g.head(topk).tolist()\n",
    "    total = float(g.sum()) if len(g) else 0.0\n",
    "    top_name = names[0] if names else None\n",
    "    top_val  = float(vals[0]) if vals else 0.0\n",
    "    share = (top_val / total) if total else 0.0\n",
    "    return {\"top_name\": top_name, \"top_value\": round(top_val,2), \"top_share\": round(share,4),\n",
    "            \"topk_names\": names, \"topk_values\": [float(v) for v in vals], \"total\": round(total,2)}\n",
    "\n",
    "def hex_boundary_lonlat(h):\n",
    "    ring_latlng = h3_boundary(h)\n",
    "    return [(lng, lat) for (lat, lng) in ring_latlng]\n",
    "\n",
    "def geojson_feature_polygon(hex_id, props):\n",
    "    coords = [hex_boundary_lonlat(hex_id)]\n",
    "    if coords[0][0] != coords[0][-1]:\n",
    "        coords[0].append(coords[0][0])\n",
    "    return {\"type\": \"Feature\", \"properties\": props,\n",
    "            \"geometry\": {\"type\": \"Polygon\", \"coordinates\": [coords[0]]}}"
   ]
  },
  {
   "cell_type": "markdown",
   "id": "407d5f50",
   "metadata": {},
   "source": [
    "## 6) Aggregate & export GeoJSON"
   ]
  },
  {
   "cell_type": "code",
   "execution_count": 6,
   "id": "c74d53c2",
   "metadata": {},
   "outputs": [
    {
     "name": "stdout",
     "output_type": "stream",
     "text": [
      "Wrote hex_agent_count_res7.geojson hexes: 307\n",
      "Wrote hex_agent_volume_res7.geojson hexes: 307\n",
      "Wrote hex_broker_count_res7.geojson hexes: 307\n",
      "Wrote hex_broker_volume_res7.geojson hexes: 307\n",
      "Wrote hex_agent_count_res8.geojson hexes: 1463\n",
      "Wrote hex_agent_volume_res8.geojson hexes: 1463\n",
      "Wrote hex_broker_count_res8.geojson hexes: 1463\n",
      "Wrote hex_broker_volume_res8.geojson hexes: 1463\n",
      "Wrote hex_agent_count_res9.geojson hexes: 4954\n",
      "Wrote hex_agent_volume_res9.geojson hexes: 4954\n",
      "Wrote hex_broker_count_res9.geojson hexes: 4954\n",
      "Wrote hex_broker_volume_res9.geojson hexes: 4954\n"
     ]
    },
    {
     "data": {
      "text/plain": [
       "['hex_agent_count_res7.geojson',\n",
       " 'hex_agent_volume_res7.geojson',\n",
       " 'hex_broker_count_res7.geojson',\n",
       " 'hex_broker_volume_res7.geojson',\n",
       " 'hex_agent_count_res8.geojson',\n",
       " 'hex_agent_volume_res8.geojson',\n",
       " 'hex_broker_count_res8.geojson',\n",
       " 'hex_broker_volume_res8.geojson',\n",
       " 'hex_agent_count_res9.geojson',\n",
       " 'hex_agent_volume_res9.geojson',\n",
       " 'hex_broker_count_res9.geojson',\n",
       " 'hex_broker_volume_res9.geojson']"
      ]
     },
     "execution_count": 6,
     "metadata": {},
     "output_type": "execute_result"
    }
   ],
   "source": [
    "def compute_hex(df_in, res, field, metric='count', min_sample=MIN_SAMPLE):\n",
    "    df = df_in.copy()\n",
    "    df['h3'] = df.apply(lambda r: h3_cell(r['latitude'], r['longitude'], res), axis=1)\n",
    "\n",
    "    feats = []\n",
    "    for h, g in df.groupby('h3'):\n",
    "        sample_size = int(len(g))\n",
    "        base = {\n",
    "            \"hex_id\": h, \"h3_res\": res, \"sample_size\": sample_size,\n",
    "            \"sum_price\": float(g['price'].sum()) if 'price' in g else None,\n",
    "            \"avg_price\": float(g['price'].mean()) if 'price' in g else None,\n",
    "            \"dominance_metric\": metric, \"group_field\": field,\n",
    "            \"meets_min_sample\": bool(sample_size >= min_sample),\n",
    "        }\n",
    "        if metric == 'count':\n",
    "            s = summarize_counts(g[field])\n",
    "            props = {**base,\n",
    "                f\"top_{field}_name\": s[\"top_name\"],\n",
    "                f\"top_{field}_count\": s[\"top_value\"],\n",
    "                f\"top_{field}_share\": s[\"top_share\"],\n",
    "                f\"{field}_top3_names\": _safe_json(s[\"topk_names\"]),\n",
    "                f\"{field}_top3_counts\": _safe_json(s[\"topk_values\"]),\n",
    "            }\n",
    "        else:\n",
    "            s = summarize_volume(g, field_name=field, weight_col='price')\n",
    "            props = {**base,\n",
    "                f\"top_{field}_name\": s[\"top_name\"],\n",
    "                f\"top_{field}_volume\": s[\"top_value\"],\n",
    "                f\"top_{field}_share\": s[\"top_share\"],\n",
    "                f\"{field}_top3_names\": _safe_json(s[\"topk_names\"]),\n",
    "                f\"{field}_top3_volume\": _safe_json(s[\"topk_values\"]),\n",
    "                \"sum_price\": s[\"total\"],\n",
    "            }\n",
    "        feats.append(geojson_feature_polygon(h, props))\n",
    "    return {\"type\": \"FeatureCollection\", \"features\": feats}\n",
    "\n",
    "out_files = []\n",
    "for res in RES_LIST:\n",
    "    for field in ['Agent_Name','Brokerage_Firm']:\n",
    "        for metric in ['count','volume']:\n",
    "            fc = compute_hex(df, res=res, field=field, metric=metric, min_sample=MIN_SAMPLE)\n",
    "            name = f\"hex_{'agent' if field=='Agent_Name' else 'broker'}_{metric}_res{res}.geojson\"\n",
    "            Path(name).write_text(json.dumps(fc, ensure_ascii=False))\n",
    "            out_files.append(name)\n",
    "            print(\"Wrote\", name, \"hexes:\", len(fc[\"features\"]))\n",
    "out_files"
   ]
  },
  {
   "cell_type": "markdown",
   "id": "64f9ad2d",
   "metadata": {},
   "source": [
    "## 7) Mapbox GL example (paste into your app)"
   ]
  },
  {
   "cell_type": "code",
   "execution_count": null,
   "id": "dc7dafa7",
   "metadata": {},
   "outputs": [],
   "source": [
    "print('''map.addSource(\"hex-agent-count-res8\", { type: \"geojson\", data: \"hex_agent_count_res8.geojson\" });\n",
    "map.addLayer({\n",
    "  id: \"hex-agent-count-fill\", type: \"fill\", source: \"hex-agent-count-res8\",\n",
    "  paint: {\n",
    "    \"fill-color\": [\n",
    "      \"interpolate\", [\"linear\"], [\"get\", \"top_Agent_Name_share\"],\n",
    "      0.0, \"#f2f2f2\",\n",
    "      0.25, \"#c7d9ff\",\n",
    "      0.5, \"#7fb3ff\",\n",
    "      0.75, \"#2a7dff\",\n",
    "      0.9, \"#0047b3\"\n",
    "    ],\n",
    "    \"fill-opacity\": [\"case\", [\">=\", [\"get\",\"sample_size\"], 10], 0.65, 0.2]\n",
    "  }\n",
    "});\n",
    "map.addLayer({ id:\"hex-agent-count-outline\", type:\"line\", source:\"hex-agent-count-res8\",\n",
    "  paint: { \"line-color\":\"#fff\", \"line-width\":0.5, \"line-opacity\":0.6 }\n",
    "});''')"
   ]
  }
 ],
 "metadata": {
  "kernelspec": {
   "display_name": "Python 3 (ipykernel)",
   "language": "python",
   "name": "python3"
  },
  "language_info": {
   "codemirror_mode": {
    "name": "ipython",
    "version": 3
   },
   "file_extension": ".py",
   "mimetype": "text/x-python",
   "name": "python",
   "nbconvert_exporter": "python",
   "pygments_lexer": "ipython3",
   "version": "3.9.12"
  }
 },
 "nbformat": 4,
 "nbformat_minor": 5
}
